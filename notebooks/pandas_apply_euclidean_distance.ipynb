{
 "cells": [
  {
   "cell_type": "markdown",
   "metadata": {},
   "source": [
    "# Euclidean Distance\n",
    "\n",
    "The following equation can be used to calculate distance between two locations (e.g. shopper and store etc.)"
   ]
  },
  {
   "cell_type": "code",
   "execution_count": 1,
   "metadata": {
    "collapsed": false
   },
   "outputs": [],
   "source": [
    "import pandas as pd\n",
    "import math"
   ]
  },
  {
   "cell_type": "code",
   "execution_count": 2,
   "metadata": {
    "collapsed": true
   },
   "outputs": [],
   "source": [
    "latitude1 = 52.379128\n",
    "latitude2 = 40.752726\n",
    "longitude2 = 4.900272\n",
    "longitude1 = -73.977229"
   ]
  },
  {
   "cell_type": "code",
   "execution_count": 3,
   "metadata": {
    "collapsed": false
   },
   "outputs": [],
   "source": [
    "import pandas as pd\n",
    "import math\n",
    "\n",
    "latitude1 = 52.379128\n",
    "latitude2 = 40.752726\n",
    "longitude2 = 4.900272\n",
    "longitude1 = -73.977229\n",
    "\n",
    "df = pd.DataFrame([{\n",
    "    'latitude1': latitude1, 'longitude1': longitude1,\n",
    "    'latitude2': latitude2, 'longitude2': longitude2}])"
   ]
  },
  {
   "cell_type": "code",
   "execution_count": 4,
   "metadata": {
    "collapsed": false
   },
   "outputs": [
    {
     "data": {
      "text/html": [
       "<div>\n",
       "<table border=\"1\" class=\"dataframe\">\n",
       "  <thead>\n",
       "    <tr style=\"text-align: right;\">\n",
       "      <th></th>\n",
       "      <th>latitude1</th>\n",
       "      <th>latitude2</th>\n",
       "      <th>longitude1</th>\n",
       "      <th>longitude2</th>\n",
       "    </tr>\n",
       "  </thead>\n",
       "  <tbody>\n",
       "    <tr>\n",
       "      <th>0</th>\n",
       "      <td>52.379128</td>\n",
       "      <td>40.752726</td>\n",
       "      <td>-73.977229</td>\n",
       "      <td>4.900272</td>\n",
       "    </tr>\n",
       "  </tbody>\n",
       "</table>\n",
       "</div>"
      ],
      "text/plain": [
       "   latitude1  latitude2  longitude1  longitude2\n",
       "0  52.379128  40.752726  -73.977229    4.900272"
      ]
     },
     "execution_count": 4,
     "metadata": {},
     "output_type": "execute_result"
    }
   ],
   "source": [
    "df"
   ]
  },
  {
   "cell_type": "code",
   "execution_count": 5,
   "metadata": {
    "collapsed": true
   },
   "outputs": [],
   "source": [
    "euclidean_distance = lambda row: math.acos(\n",
    "  math.sin(row['latitude1']*math.pi/180) * math.sin(row['latitude2']*math.pi/180)\n",
    "  + math.cos(row['latitude1']*math.pi/180) * math.cos(row['latitude2']*math.pi/180)\n",
    "  * math.cos(row['longitude2']*math.pi/180 - row['longitude1']*math.pi/180) ) * 6371"
   ]
  },
  {
   "cell_type": "code",
   "execution_count": 6,
   "metadata": {
    "collapsed": false
   },
   "outputs": [],
   "source": [
    "df['distance_km'] = df.apply(euclidean_distance, axis=1)"
   ]
  },
  {
   "cell_type": "code",
   "execution_count": 7,
   "metadata": {
    "collapsed": false
   },
   "outputs": [],
   "source": [
    "df['distance_mi'] = df['distance_km'].apply(lambda x: x / 1.609344)"
   ]
  },
  {
   "cell_type": "code",
   "execution_count": 8,
   "metadata": {
    "collapsed": false
   },
   "outputs": [
    {
     "data": {
      "text/html": [
       "<div>\n",
       "<table border=\"1\" class=\"dataframe\">\n",
       "  <thead>\n",
       "    <tr style=\"text-align: right;\">\n",
       "      <th></th>\n",
       "      <th>latitude1</th>\n",
       "      <th>latitude2</th>\n",
       "      <th>longitude1</th>\n",
       "      <th>longitude2</th>\n",
       "      <th>distance_km</th>\n",
       "      <th>distance_mi</th>\n",
       "    </tr>\n",
       "  </thead>\n",
       "  <tbody>\n",
       "    <tr>\n",
       "      <th>0</th>\n",
       "      <td>52.379128</td>\n",
       "      <td>40.752726</td>\n",
       "      <td>-73.977229</td>\n",
       "      <td>4.900272</td>\n",
       "      <td>5857.771216</td>\n",
       "      <td>3639.850284</td>\n",
       "    </tr>\n",
       "  </tbody>\n",
       "</table>\n",
       "</div>"
      ],
      "text/plain": [
       "   latitude1  latitude2  longitude1  longitude2  distance_km  distance_mi\n",
       "0  52.379128  40.752726  -73.977229    4.900272  5857.771216  3639.850284"
      ]
     },
     "execution_count": 8,
     "metadata": {},
     "output_type": "execute_result"
    }
   ],
   "source": [
    "df"
   ]
  }
 ],
 "metadata": {
  "kernelspec": {
   "display_name": "Python 3",
   "language": "python",
   "name": "python3"
  },
  "language_info": {
   "codemirror_mode": {
    "name": "ipython",
    "version": 3
   },
   "file_extension": ".py",
   "mimetype": "text/x-python",
   "name": "python",
   "nbconvert_exporter": "python",
   "pygments_lexer": "ipython3",
   "version": "3.4.5"
  }
 },
 "nbformat": 4,
 "nbformat_minor": 2
}
