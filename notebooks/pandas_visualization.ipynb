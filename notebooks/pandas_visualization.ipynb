{
 "cells": [
  {
   "cell_type": "markdown",
   "metadata": {},
   "source": [
    "# Setup\n",
    "\n",
    "Since [Pandas](https://pandas.pydata.org/) is almost a one stop shop for everything data analysis in python anyway, most plotting is done using `df.plot()` syntax, however, you must import [Matplotlib](https://matplotlib.org/index.html) since this is a dependency. I would also recommend installing [Seaborn](https://seaborn.pydata.org/) for more interesting plot types and statistical features. Plus it has a nice native style."
   ]
  },
  {
   "cell_type": "markdown",
   "metadata": {},
   "source": [
    "## Dependencies"
   ]
  },
  {
   "cell_type": "code",
   "execution_count": 1,
   "metadata": {
    "collapsed": true
   },
   "outputs": [],
   "source": [
    "import pandas as pd\n",
    "import numpy as np\n",
    "import matplotlib as mpl\n",
    "import seaborn as sns"
   ]
  },
  {
   "cell_type": "markdown",
   "metadata": {},
   "source": [
    "## Display\n",
    "\n",
    "Couple options for visualizing in a Jupyter Notebook. Either present static charts `inline`, embed them as interactive elements using `notebook` setting, or open the chart in a new windows using a specified backend (e.g. `GTK3Agg` for raster graphics, `GTK3Cairo` for vector graphics). [ipython source](http://ipython.readthedocs.io/en/stable/interactive/plotting.html) (somewhat out of date), [matplotlib source](https://matplotlib.org/faq/usage_faq.html#what-is-a-backend) BTW, [here](https://matplotlib.org/faq/howto_faq.html#howto-webapp) is info on how to run matplotlib in backend of webserver. "
   ]
  },
  {
   "cell_type": "code",
   "execution_count": 7,
   "metadata": {
    "collapsed": false
   },
   "outputs": [],
   "source": [
    "%matplotlib inline\n",
    "#%matplotlib notebook\n",
    "#%matplotlib GTK3Cairo"
   ]
  },
  {
   "cell_type": "markdown",
   "metadata": {},
   "source": [
    "it is recommended to import pyplot after configuring matplotlib"
   ]
  },
  {
   "cell_type": "code",
   "execution_count": 2,
   "metadata": {
    "collapsed": true
   },
   "outputs": [],
   "source": [
    "from matplotlib import pyplot as plt"
   ]
  },
  {
   "cell_type": "markdown",
   "metadata": {},
   "source": [
    "## Style\n",
    "\n",
    "Call `plt.style.available` to show options, then set the style of choice.\n",
    "\n",
    "And customize the style sheet manually using `rcParams`\n",
    "\n",
    "See more on styling here: https://matplotlib.org/users/customizing.html"
   ]
  },
  {
   "cell_type": "code",
   "execution_count": 3,
   "metadata": {
    "collapsed": true
   },
   "outputs": [],
   "source": [
    "plt.style.use('seaborn-white')"
   ]
  },
  {
   "cell_type": "code",
   "execution_count": 4,
   "metadata": {
    "collapsed": false
   },
   "outputs": [],
   "source": [
    "mpl.rc('figure')\n",
    "mpl.rc('savefig', transparent=True, dpi=700, bbox='tight', pad_inches=.05, format='svg')"
   ]
  },
  {
   "cell_type": "markdown",
   "metadata": {},
   "source": [
    "For colors, there are endless presets in matplotlib or seaborn. But, you can always construct your own custom length arrays of hues. Below is a sample from [colorbrewer](http://colorbrewer2.org)"
   ]
  },
  {
   "cell_type": "code",
   "execution_count": 5,
   "metadata": {
    "collapsed": true
   },
   "outputs": [],
   "source": [
    "colors = [\n",
    "    '#8dd3c7',\n",
    "    '#ffffb3',\n",
    "    '#bebada',\n",
    "    '#fb8072',\n",
    "    '#80b1d3'\n",
    "]"
   ]
  },
  {
   "cell_type": "markdown",
   "metadata": {},
   "source": [
    "# Data"
   ]
  },
  {
   "cell_type": "code",
   "execution_count": 6,
   "metadata": {
    "collapsed": false
   },
   "outputs": [],
   "source": [
    "df = pd.DataFrame(data=np.random.rand(36,4),\n",
    "                  index=pd.date_range(end=pd.datetime.now(), periods=36, freq='MS'),\n",
    "                  columns=['A', 'B', 'C', 'D'])"
   ]
  },
  {
   "cell_type": "code",
   "execution_count": 8,
   "metadata": {
    "collapsed": false
   },
   "outputs": [
    {
     "name": "stdout",
     "output_type": "stream",
     "text": [
      "<class 'pandas.core.frame.DataFrame'>\n",
      "DatetimeIndex: 36 entries, 2014-10-01 20:10:04.349740 to 2017-09-01 20:10:04.349740\n",
      "Freq: MS\n",
      "Data columns (total 4 columns):\n",
      "A    36 non-null float64\n",
      "B    36 non-null float64\n",
      "C    36 non-null float64\n",
      "D    36 non-null float64\n",
      "dtypes: float64(4)\n",
      "memory usage: 1.4 KB\n"
     ]
    }
   ],
   "source": [
    "df.info()"
   ]
  },
  {
   "cell_type": "code",
   "execution_count": 9,
   "metadata": {
    "collapsed": false
   },
   "outputs": [
    {
     "data": {
      "text/html": [
       "<div>\n",
       "<table border=\"1\" class=\"dataframe\">\n",
       "  <thead>\n",
       "    <tr style=\"text-align: right;\">\n",
       "      <th></th>\n",
       "      <th>A</th>\n",
       "      <th>B</th>\n",
       "      <th>C</th>\n",
       "      <th>D</th>\n",
       "    </tr>\n",
       "  </thead>\n",
       "  <tbody>\n",
       "    <tr>\n",
       "      <th>count</th>\n",
       "      <td>36.000000</td>\n",
       "      <td>36.000000</td>\n",
       "      <td>36.000000</td>\n",
       "      <td>36.000000</td>\n",
       "    </tr>\n",
       "    <tr>\n",
       "      <th>mean</th>\n",
       "      <td>0.523945</td>\n",
       "      <td>0.515648</td>\n",
       "      <td>0.463467</td>\n",
       "      <td>0.497094</td>\n",
       "    </tr>\n",
       "    <tr>\n",
       "      <th>std</th>\n",
       "      <td>0.289522</td>\n",
       "      <td>0.303504</td>\n",
       "      <td>0.255665</td>\n",
       "      <td>0.290106</td>\n",
       "    </tr>\n",
       "    <tr>\n",
       "      <th>min</th>\n",
       "      <td>0.041229</td>\n",
       "      <td>0.029692</td>\n",
       "      <td>0.000678</td>\n",
       "      <td>0.035290</td>\n",
       "    </tr>\n",
       "    <tr>\n",
       "      <th>25%</th>\n",
       "      <td>0.334697</td>\n",
       "      <td>0.234806</td>\n",
       "      <td>0.339944</td>\n",
       "      <td>0.254544</td>\n",
       "    </tr>\n",
       "    <tr>\n",
       "      <th>50%</th>\n",
       "      <td>0.495398</td>\n",
       "      <td>0.582371</td>\n",
       "      <td>0.445156</td>\n",
       "      <td>0.457707</td>\n",
       "    </tr>\n",
       "    <tr>\n",
       "      <th>75%</th>\n",
       "      <td>0.825301</td>\n",
       "      <td>0.776121</td>\n",
       "      <td>0.598338</td>\n",
       "      <td>0.729240</td>\n",
       "    </tr>\n",
       "    <tr>\n",
       "      <th>max</th>\n",
       "      <td>0.970341</td>\n",
       "      <td>0.996389</td>\n",
       "      <td>0.993212</td>\n",
       "      <td>0.991040</td>\n",
       "    </tr>\n",
       "  </tbody>\n",
       "</table>\n",
       "</div>"
      ],
      "text/plain": [
       "               A          B          C          D\n",
       "count  36.000000  36.000000  36.000000  36.000000\n",
       "mean    0.523945   0.515648   0.463467   0.497094\n",
       "std     0.289522   0.303504   0.255665   0.290106\n",
       "min     0.041229   0.029692   0.000678   0.035290\n",
       "25%     0.334697   0.234806   0.339944   0.254544\n",
       "50%     0.495398   0.582371   0.445156   0.457707\n",
       "75%     0.825301   0.776121   0.598338   0.729240\n",
       "max     0.970341   0.996389   0.993212   0.991040"
      ]
     },
     "execution_count": 9,
     "metadata": {},
     "output_type": "execute_result"
    }
   ],
   "source": [
    "df.describe()"
   ]
  },
  {
   "cell_type": "code",
   "execution_count": 10,
   "metadata": {
    "collapsed": false
   },
   "outputs": [
    {
     "data": {
      "text/html": [
       "<div>\n",
       "<table border=\"1\" class=\"dataframe\">\n",
       "  <thead>\n",
       "    <tr style=\"text-align: right;\">\n",
       "      <th></th>\n",
       "      <th>A</th>\n",
       "      <th>B</th>\n",
       "      <th>C</th>\n",
       "      <th>D</th>\n",
       "    </tr>\n",
       "  </thead>\n",
       "  <tbody>\n",
       "    <tr>\n",
       "      <th>2014-10-01 20:10:04.349740</th>\n",
       "      <td>0.551977</td>\n",
       "      <td>0.054202</td>\n",
       "      <td>0.515052</td>\n",
       "      <td>0.718116</td>\n",
       "    </tr>\n",
       "    <tr>\n",
       "      <th>2014-11-01 20:10:04.349740</th>\n",
       "      <td>0.196603</td>\n",
       "      <td>0.131139</td>\n",
       "      <td>0.498870</td>\n",
       "      <td>0.407855</td>\n",
       "    </tr>\n",
       "    <tr>\n",
       "      <th>2014-12-01 20:10:04.349740</th>\n",
       "      <td>0.970341</td>\n",
       "      <td>0.996389</td>\n",
       "      <td>0.443949</td>\n",
       "      <td>0.546896</td>\n",
       "    </tr>\n",
       "    <tr>\n",
       "      <th>2015-01-01 20:10:04.349740</th>\n",
       "      <td>0.952596</td>\n",
       "      <td>0.821364</td>\n",
       "      <td>0.000678</td>\n",
       "      <td>0.316319</td>\n",
       "    </tr>\n",
       "    <tr>\n",
       "      <th>2015-02-01 20:10:04.349740</th>\n",
       "      <td>0.813518</td>\n",
       "      <td>0.382032</td>\n",
       "      <td>0.348560</td>\n",
       "      <td>0.443215</td>\n",
       "    </tr>\n",
       "  </tbody>\n",
       "</table>\n",
       "</div>"
      ],
      "text/plain": [
       "                                   A         B         C         D\n",
       "2014-10-01 20:10:04.349740  0.551977  0.054202  0.515052  0.718116\n",
       "2014-11-01 20:10:04.349740  0.196603  0.131139  0.498870  0.407855\n",
       "2014-12-01 20:10:04.349740  0.970341  0.996389  0.443949  0.546896\n",
       "2015-01-01 20:10:04.349740  0.952596  0.821364  0.000678  0.316319\n",
       "2015-02-01 20:10:04.349740  0.813518  0.382032  0.348560  0.443215"
      ]
     },
     "execution_count": 10,
     "metadata": {},
     "output_type": "execute_result"
    }
   ],
   "source": [
    "df.head()"
   ]
  },
  {
   "cell_type": "markdown",
   "metadata": {},
   "source": [
    "## Transform\n",
    "\n",
    "Group data over time periods. Refer to [Pandas Offset Aliases](http://pandas.pydata.org/pandas-docs/stable/timeseries.html#offset-aliases)  "
   ]
  },
  {
   "cell_type": "code",
   "execution_count": 11,
   "metadata": {
    "collapsed": true
   },
   "outputs": [],
   "source": [
    "dfA = df.groupby(pd.TimeGrouper('1A')).sum()"
   ]
  },
  {
   "cell_type": "code",
   "execution_count": 12,
   "metadata": {
    "collapsed": false
   },
   "outputs": [
    {
     "data": {
      "text/plain": [
       "(4, 4)"
      ]
     },
     "execution_count": 12,
     "metadata": {},
     "output_type": "execute_result"
    }
   ],
   "source": [
    "dfA.shape"
   ]
  },
  {
   "cell_type": "code",
   "execution_count": 13,
   "metadata": {
    "collapsed": true
   },
   "outputs": [],
   "source": [
    "dfM = df.groupby(pd.TimeGrouper('6M')).sum()"
   ]
  },
  {
   "cell_type": "code",
   "execution_count": 14,
   "metadata": {
    "collapsed": false
   },
   "outputs": [
    {
     "data": {
      "text/plain": [
       "(7, 4)"
      ]
     },
     "execution_count": 14,
     "metadata": {},
     "output_type": "execute_result"
    }
   ],
   "source": [
    "dfM.shape"
   ]
  },
  {
   "cell_type": "markdown",
   "metadata": {},
   "source": [
    "# Visualizations"
   ]
  },
  {
   "cell_type": "markdown",
   "metadata": {},
   "source": [
    "## Plot Categorical Data Over Time"
   ]
  },
  {
   "cell_type": "code",
   "execution_count": null,
   "metadata": {
    "collapsed": false
   },
   "outputs": [
    {
     "name": "stderr",
     "output_type": "stream",
     "text": [
      "C:\\Miniconda3\\lib\\site-packages\\matplotlib\\figure.py:397: UserWarning: matplotlib is currently using a non-GUI backend, so cannot show the figure\n",
      "  \"matplotlib is currently using a non-GUI backend, \"\n"
     ]
    }
   ],
   "source": [
    "fig, ax = plt.subplots(figsize=(12,8))\n",
    "\n",
    "dfM.plot(ax=ax)\n",
    "\n",
    "ax.set(ylabel='Categories', xlabel='Time', title='Category Volume Over Time')\n",
    "\n",
    "for series in dfM.columns:\n",
    "    for x,y in zip(dfM.index, dfM[series]):\n",
    "        ax.annotate(str(round(y,2)),\n",
    "                    xy=(x,y+(.01*dfM.values.max())),\n",
    "                    fontsize=10, color='grey')\n",
    "\n",
    "fig.tight_layout(pad=2)\n",
    "fig.show()\n",
    "\n",
    "fig.savefig('category_volume_over_time')"
   ]
  },
  {
   "cell_type": "markdown",
   "metadata": {},
   "source": [
    "## Plot Categorical Data Over Time Groups"
   ]
  },
  {
   "cell_type": "code",
   "execution_count": 24,
   "metadata": {
    "collapsed": false
   },
   "outputs": [
    {
     "name": "stderr",
     "output_type": "stream",
     "text": [
      "C:\\Miniconda3\\lib\\site-packages\\matplotlib\\figure.py:397: UserWarning: matplotlib is currently using a non-GUI backend, so cannot show the figure\n",
      "  \"matplotlib is currently using a non-GUI backend, \"\n"
     ]
    },
    {
     "data": {
      "image/png": "[encoded data removed]",
      "text/plain": [
       "<matplotlib.figure.Figure at 0xd2596d8>"
      ]
     },
     "metadata": {},
     "output_type": "display_data"
    }
   ],
   "source": [
    "fig, ax = plt.subplots(figsize=(12,8))\n",
    "\n",
    "dfA.plot(kind='bar', ax=ax)\n",
    "\n",
    "ax.set(ylabel='Volume', xlabel='Time', title='Category Volume per Year End')\n",
    "\n",
    "# auto format xaxis labels as date\n",
    "fig.autofmt_xdate()\n",
    "\n",
    "# custom format xaxis date labels\n",
    "# current bug in pandas doesn't allow the following (https://github.com/pandas-dev/pandas/issues/1918)\n",
    "#ax.xaxis_date()\n",
    "#ax.xaxis.set_major_locator(mpl.dates.YearLocator())\n",
    "#ax.xaxis.set_major_formatter(mpl.dates.DateFormatter('%d %b %Y'))\n",
    "# so instead we manually set xaxis labels to our custom formatted df index as series of strings\n",
    "ax.xaxis.set_major_formatter(plt.FixedFormatter(dfA.index.to_series().dt.strftime('%b %Y')))\n",
    "\n",
    "# annotate data labels onto vertical bars\n",
    "# see https://matplotlib.org/users/annotations_guide.html\n",
    "for bar,(col,ix) in zip(ax.patches, pd.MultiIndex.from_product([dfA.columns,dfA.index])):\n",
    "    label = '{:,.2f}'.format(dfA.loc[ix,col])\n",
    "    ax.text(s=label, x=bar.get_x()+(bar.get_width()/2), y=bar.get_height()-(.05*bar.get_height()), ha='center', va='top', fontdict={'fontsize':10, 'color':'white'})\n",
    "\n",
    "fig.tight_layout(pad=2)\n",
    "fig.show()\n",
    "\n",
    "fig.savefig('category_volume_per_year_end')"
   ]
  },
  {
   "cell_type": "markdown",
   "metadata": {},
   "source": [
    "## Building A Fully Customizable Plot From Scratch"
   ]
  },
  {
   "cell_type": "code",
   "execution_count": null,
   "metadata": {
    "collapsed": false
   },
   "outputs": [],
   "source": [
    "fig, ax = plt.subplots(figsize=(12,8))\n",
    "\n",
    "series = len(dfA.columns)\n",
    "groups = len(dfA.index)\n",
    "bars = series * groups\n",
    "width = .90 / series\n",
    "bar_offset = series * width / 2\n",
    "\n",
    "# bars\n",
    "for i,(col,values) in enumerate(dfA.iteritems()):\n",
    "    s = dfA.columns.get_loc(col) + 1\n",
    "    rect = ax.bar(np.arange(groups)+(s*width)-bar_offset, list(values), width=width, color=colors[i])\n",
    "\n",
    "ax.set_xticks(np.arange(groups)+width)\n",
    "ax.set_xticklabels(dfA.index.strftime('%b %Y'))\n",
    "# auto format xaxis labels as date\n",
    "fig.autofmt_xdate()\n",
    "\n",
    "ax.tick_params(axis='both', which='both', direction='out', length=6, width=2,\n",
    "               left='on', right='off', top='off', bottom='on',\n",
    "               labelsize=12)\n",
    "\n",
    "ax.set(ylabel='Volume', xlabel='Time', title='Category Volume per Year End')\n",
    "\n",
    "# labels\n",
    "for bar,(col,ix) in zip(ax.patches, pd.MultiIndex.from_product([dfA.columns,dfA.index])):\n",
    "    label = '{:,.2f}'.format(dfA.loc[ix,col])\n",
    "    ax.text(s=label, x=bar.get_x()+(bar.get_width()/2), y=bar.get_height()+(.05*dfA.values.max()), ha='center', va='bottom', fontdict={'fontsize':10})\n",
    "\n",
    "# legend\n",
    "handles, labels = ax.containers, list(dfA.columns)\n",
    "lgd = ax.legend(handles, labels, loc='upper center', bbox_to_anchor=(0.5, -0.15), ncol=4, fontsize=12, frameon=False)\n",
    "#lgd = ax.legend(handles, labels, loc='lower center', bbox_to_anchor=(0,1.02,1,0.2), ncol=4, fontsize=12, frameon=False)\n",
    "\n",
    "# remove right and left figure border\n",
    "ax.spines['right'].set_visible(False)\n",
    "ax.spines['top'].set_visible(False)\n",
    "\n",
    "fig = plt.gcf()\n",
    "fig.tight_layout()\n",
    "fig.subplots_adjust(top=.9, bottom=.2)\n",
    "fig.show()\n",
    "\n",
    "fig.savefig('category_volume_per_year_end_custom')\n",
    "\n",
    "plt.show()"
   ]
  },
  {
   "cell_type": "markdown",
   "metadata": {},
   "source": [
    "## Scatterplot Matrix"
   ]
  },
  {
   "cell_type": "code",
   "execution_count": null,
   "metadata": {
    "collapsed": false
   },
   "outputs": [],
   "source": [
    "plot = sns.pairplot(df)\n",
    "plot.savefig('scatterplot_matrix')"
   ]
  },
  {
   "cell_type": "markdown",
   "metadata": {},
   "source": [
    "## KDE Plot"
   ]
  },
  {
   "cell_type": "code",
   "execution_count": null,
   "metadata": {
    "collapsed": false
   },
   "outputs": [],
   "source": [
    "plot = sns.jointplot(x=\"B\", y=\"A\", data=df, kind='kde')\n",
    "plot.savefig('kde_plot')"
   ]
  },
  {
   "cell_type": "markdown",
   "metadata": {},
   "source": [
    "# Resources\n",
    "\n",
    "- [Matplotlib docs](https://matplotlib.org/contents.html)  \n",
    "- [Pandas Visualization docs](https://pandas.pydata.org/pandas-docs/stable/visualization.html)  \n",
    "- [Seaborn docs](https://seaborn.pydata.org/api.html) and [Seaborn Tutorials](https://seaborn.pydata.org/tutorial.html#tutorial)  \n",
    "\n",
    "Chris Moffitt at Practical Business Python has a [great tutorial and helpful infographic](http://pbpython.com/effective-matplotlib.html) on matplotlib  \n"
   ]
  }
 ],
 "metadata": {
  "kernelspec": {
   "display_name": "Python 3",
   "language": "python",
   "name": "python3"
  },
  "language_info": {
   "codemirror_mode": {
    "name": "ipython",
    "version": 3
   },
   "file_extension": ".py",
   "mimetype": "text/x-python",
   "name": "python",
   "nbconvert_exporter": "python",
   "pygments_lexer": "ipython3",
   "version": "3.4.5"
  }
 },
 "nbformat": 4,
 "nbformat_minor": 2
}
