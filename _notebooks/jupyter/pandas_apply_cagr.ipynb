{
 "cells": [
  {
   "cell_type": "markdown",
   "metadata": {},
   "source": [
    "# Compound Annual Growth Rate\n",
    "\n",
    "$$\n",
    "{CAGR={Last/First}^{1/n}-1}\n",
    "$$\n",
    "\n",
    "https://en.wikipedia.org/wiki/Compound_annual_growth_rate"
   ]
  },
  {
   "cell_type": "code",
   "execution_count": 1,
   "metadata": {},
   "outputs": [],
   "source": [
    "import pandas as pd\n",
    "import numpy as np"
   ]
  },
  {
   "cell_type": "markdown",
   "metadata": {},
   "source": [
    "## Data"
   ]
  },
  {
   "cell_type": "code",
   "execution_count": 2,
   "metadata": {},
   "outputs": [],
   "source": [
    "df = pd.DataFrame(data=np.random.rand(36,4),\n",
    "                  index=pd.date_range(end=pd.datetime.now(), periods=36, freq='MS'),\n",
    "                  columns=['A', 'B', 'C', 'D'])"
   ]
  },
  {
   "cell_type": "code",
   "execution_count": 3,
   "metadata": {},
   "outputs": [
    {
     "data": {
      "text/plain": [
       "(36, 4)"
      ]
     },
     "execution_count": 3,
     "metadata": {},
     "output_type": "execute_result"
    }
   ],
   "source": [
    "df.shape"
   ]
  },
  {
   "cell_type": "code",
   "execution_count": 4,
   "metadata": {},
   "outputs": [
    {
     "data": {
      "text/html": [
       "<div>\n",
       "<style>\n",
       "    .dataframe thead tr:only-child th {\n",
       "        text-align: right;\n",
       "    }\n",
       "\n",
       "    .dataframe thead th {\n",
       "        text-align: left;\n",
       "    }\n",
       "\n",
       "    .dataframe tbody tr th {\n",
       "        vertical-align: top;\n",
       "    }\n",
       "</style>\n",
       "<table border=\"1\" class=\"dataframe\">\n",
       "  <thead>\n",
       "    <tr style=\"text-align: right;\">\n",
       "      <th></th>\n",
       "      <th>A</th>\n",
       "      <th>B</th>\n",
       "      <th>C</th>\n",
       "      <th>D</th>\n",
       "    </tr>\n",
       "  </thead>\n",
       "  <tbody>\n",
       "    <tr>\n",
       "      <th>2014-11-01 18:43:54.318155</th>\n",
       "      <td>0.937386</td>\n",
       "      <td>0.938432</td>\n",
       "      <td>0.234072</td>\n",
       "      <td>0.996044</td>\n",
       "    </tr>\n",
       "    <tr>\n",
       "      <th>2014-12-01 18:43:54.318155</th>\n",
       "      <td>0.475899</td>\n",
       "      <td>0.763690</td>\n",
       "      <td>0.248750</td>\n",
       "      <td>0.240070</td>\n",
       "    </tr>\n",
       "    <tr>\n",
       "      <th>2015-01-01 18:43:54.318155</th>\n",
       "      <td>0.525714</td>\n",
       "      <td>0.359349</td>\n",
       "      <td>0.050970</td>\n",
       "      <td>0.754596</td>\n",
       "    </tr>\n",
       "    <tr>\n",
       "      <th>2015-02-01 18:43:54.318155</th>\n",
       "      <td>0.934056</td>\n",
       "      <td>0.799955</td>\n",
       "      <td>0.780028</td>\n",
       "      <td>0.628155</td>\n",
       "    </tr>\n",
       "    <tr>\n",
       "      <th>2015-03-01 18:43:54.318155</th>\n",
       "      <td>0.941093</td>\n",
       "      <td>0.261895</td>\n",
       "      <td>0.061466</td>\n",
       "      <td>0.723747</td>\n",
       "    </tr>\n",
       "  </tbody>\n",
       "</table>\n",
       "</div>"
      ],
      "text/plain": [
       "                                   A         B         C         D\n",
       "2014-11-01 18:43:54.318155  0.937386  0.938432  0.234072  0.996044\n",
       "2014-12-01 18:43:54.318155  0.475899  0.763690  0.248750  0.240070\n",
       "2015-01-01 18:43:54.318155  0.525714  0.359349  0.050970  0.754596\n",
       "2015-02-01 18:43:54.318155  0.934056  0.799955  0.780028  0.628155\n",
       "2015-03-01 18:43:54.318155  0.941093  0.261895  0.061466  0.723747"
      ]
     },
     "execution_count": 4,
     "metadata": {},
     "output_type": "execute_result"
    }
   ],
   "source": [
    "df.head()"
   ]
  },
  {
   "cell_type": "markdown",
   "metadata": {},
   "source": [
    "## Compute\n",
    "\n",
    "compute over total history of our data"
   ]
  },
  {
   "cell_type": "code",
   "execution_count": 5,
   "metadata": {},
   "outputs": [],
   "source": [
    "cagr = (df.iloc[-1] / df.iloc[0]) ** (1/len(df)) - 1"
   ]
  },
  {
   "cell_type": "code",
   "execution_count": 6,
   "metadata": {},
   "outputs": [],
   "source": [
    "cagr = pd.DataFrame(cagr, columns=['cagr'])"
   ]
  },
  {
   "cell_type": "code",
   "execution_count": 7,
   "metadata": {},
   "outputs": [
    {
     "data": {
      "text/html": [
       "<div>\n",
       "<style>\n",
       "    .dataframe thead tr:only-child th {\n",
       "        text-align: right;\n",
       "    }\n",
       "\n",
       "    .dataframe thead th {\n",
       "        text-align: left;\n",
       "    }\n",
       "\n",
       "    .dataframe tbody tr th {\n",
       "        vertical-align: top;\n",
       "    }\n",
       "</style>\n",
       "<table border=\"1\" class=\"dataframe\">\n",
       "  <thead>\n",
       "    <tr style=\"text-align: right;\">\n",
       "      <th></th>\n",
       "      <th>cagr</th>\n",
       "    </tr>\n",
       "  </thead>\n",
       "  <tbody>\n",
       "    <tr>\n",
       "      <th>A</th>\n",
       "      <td>-0.013782</td>\n",
       "    </tr>\n",
       "    <tr>\n",
       "      <th>B</th>\n",
       "      <td>-0.008751</td>\n",
       "    </tr>\n",
       "    <tr>\n",
       "      <th>C</th>\n",
       "      <td>-0.005014</td>\n",
       "    </tr>\n",
       "    <tr>\n",
       "      <th>D</th>\n",
       "      <td>-0.002604</td>\n",
       "    </tr>\n",
       "  </tbody>\n",
       "</table>\n",
       "</div>"
      ],
      "text/plain": [
       "       cagr\n",
       "A -0.013782\n",
       "B -0.008751\n",
       "C -0.005014\n",
       "D -0.002604"
      ]
     },
     "execution_count": 7,
     "metadata": {},
     "output_type": "execute_result"
    }
   ],
   "source": [
    "cagr"
   ]
  },
  {
   "cell_type": "markdown",
   "metadata": {},
   "source": [
    "## Compute per Group\n",
    "\n",
    "group by year and compute growth over months"
   ]
  },
  {
   "cell_type": "code",
   "execution_count": 8,
   "metadata": {},
   "outputs": [],
   "source": [
    "gb = df.groupby(pd.TimeGrouper(freq='A'))"
   ]
  },
  {
   "cell_type": "code",
   "execution_count": 9,
   "metadata": {},
   "outputs": [],
   "source": [
    "def_cagr = lambda d: (d.iloc[-1] / d.iloc[0]) ** (1/len(d)) - 1"
   ]
  },
  {
   "cell_type": "code",
   "execution_count": 10,
   "metadata": {},
   "outputs": [],
   "source": [
    "cagr = gb.apply(def_cagr)"
   ]
  },
  {
   "cell_type": "code",
   "execution_count": 11,
   "metadata": {},
   "outputs": [
    {
     "data": {
      "text/html": [
       "<div>\n",
       "<style>\n",
       "    .dataframe thead tr:only-child th {\n",
       "        text-align: right;\n",
       "    }\n",
       "\n",
       "    .dataframe thead th {\n",
       "        text-align: left;\n",
       "    }\n",
       "\n",
       "    .dataframe tbody tr th {\n",
       "        vertical-align: top;\n",
       "    }\n",
       "</style>\n",
       "<table border=\"1\" class=\"dataframe\">\n",
       "  <thead>\n",
       "    <tr style=\"text-align: right;\">\n",
       "      <th></th>\n",
       "      <th>A</th>\n",
       "      <th>B</th>\n",
       "      <th>C</th>\n",
       "      <th>D</th>\n",
       "    </tr>\n",
       "  </thead>\n",
       "  <tbody>\n",
       "    <tr>\n",
       "      <th>2014-12-31</th>\n",
       "      <td>-0.287478</td>\n",
       "      <td>-0.097895</td>\n",
       "      <td>0.030877</td>\n",
       "      <td>-0.509059</td>\n",
       "    </tr>\n",
       "    <tr>\n",
       "      <th>2015-12-31</th>\n",
       "      <td>0.009062</td>\n",
       "      <td>-0.026744</td>\n",
       "      <td>0.225305</td>\n",
       "      <td>-0.200834</td>\n",
       "    </tr>\n",
       "    <tr>\n",
       "      <th>2016-12-31</th>\n",
       "      <td>0.079198</td>\n",
       "      <td>0.220754</td>\n",
       "      <td>0.092319</td>\n",
       "      <td>-0.059635</td>\n",
       "    </tr>\n",
       "    <tr>\n",
       "      <th>2017-12-31</th>\n",
       "      <td>0.017699</td>\n",
       "      <td>0.249814</td>\n",
       "      <td>-0.015814</td>\n",
       "      <td>0.082337</td>\n",
       "    </tr>\n",
       "  </tbody>\n",
       "</table>\n",
       "</div>"
      ],
      "text/plain": [
       "                   A         B         C         D\n",
       "2014-12-31 -0.287478 -0.097895  0.030877 -0.509059\n",
       "2015-12-31  0.009062 -0.026744  0.225305 -0.200834\n",
       "2016-12-31  0.079198  0.220754  0.092319 -0.059635\n",
       "2017-12-31  0.017699  0.249814 -0.015814  0.082337"
      ]
     },
     "execution_count": 11,
     "metadata": {},
     "output_type": "execute_result"
    }
   ],
   "source": [
    "cagr"
   ]
  }
 ],
 "metadata": {
  "kernelspec": {
   "display_name": "Python 3",
   "language": "python",
   "name": "python3"
  },
  "language_info": {
   "codemirror_mode": {
    "name": "ipython",
    "version": 3
   },
   "file_extension": ".py",
   "mimetype": "text/x-python",
   "name": "python",
   "nbconvert_exporter": "python",
   "pygments_lexer": "ipython3",
   "version": "3.4.5"
  }
 },
 "nbformat": 4,
 "nbformat_minor": 2
}
