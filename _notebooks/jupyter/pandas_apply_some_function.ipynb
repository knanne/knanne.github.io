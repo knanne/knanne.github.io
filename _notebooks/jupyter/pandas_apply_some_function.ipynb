{
 "cells": [
  {
   "cell_type": "markdown",
   "metadata": {},
   "source": [
    "# Pandas Apply Some Function\n",
    "\n",
    "Below is a basic tutorial on applying some function to a Pandas DataFrame in various ways. For more advanced stuff, you should really educate yourself on the [Pandas concept of \"split-apply-combine\"](https://pandas.pydata.org/pandas-docs/stable/groupby.html)\n",
    "\n",
    "We consider two scenarios, using two different data formats. Using the Pandas definitions, we consider these as \"stacked\" and \"unstacked\". For more on this, see [Pandas docs on reshaping data](https://pandas.pydata.org/pandas-docs/stable/reshaping.html)\n",
    "\n",
    "<hr>\n",
    "\n",
    "Enter some function: **Compound Annual Growth Rate (CAGR)**\n",
    "\n",
    "$$\n",
    "{CAGR={Last/First}^{1/n}-1}\n",
    "$$\n",
    "\n",
    "https://en.wikipedia.org/wiki/Compound_annual_growth_rate"
   ]
  },
  {
   "cell_type": "markdown",
   "metadata": {},
   "source": [
    "## Table of Contents:\n",
    "\n",
    "- [Scenario 1: Unstacked](#Scenario-1:-Unstacked)\n",
    "    - [Unstacked: Compute per Category](#Unstacked:-Compute-per-Category)\n",
    "    - [Unstacked: Compute per Category and Time Period](#Unstacked:-Compute-per-Category-and-Time-Period)\n",
    "- [Scenario 2: Stacked](#Scenario-2:-Stacked)\n",
    "    - [Stacked: Compute per Category](#Stacked:-Compute-per-Category)\n",
    "    - [Stacked: Compute per Category and Time Period](#Stacked:-Compute-per-Category-and-Time-Period)"
   ]
  },
  {
   "cell_type": "code",
   "execution_count": 1,
   "metadata": {},
   "outputs": [],
   "source": [
    "import pandas as pd\n",
    "import numpy as np"
   ]
  },
  {
   "cell_type": "markdown",
   "metadata": {},
   "source": [
    "## Scenario 1: Unstacked"
   ]
  },
  {
   "cell_type": "code",
   "execution_count": 2,
   "metadata": {},
   "outputs": [],
   "source": [
    "df = pd.DataFrame(data=np.random.rand(36,4),\n",
    "                  index=pd.date_range(end=pd.datetime.now(), periods=36, freq='MS'),\n",
    "                  columns=['A', 'B', 'C', 'D'])"
   ]
  },
  {
   "cell_type": "code",
   "execution_count": 3,
   "metadata": {},
   "outputs": [
    {
     "data": {
      "text/plain": [
       "(36, 4)"
      ]
     },
     "execution_count": 3,
     "metadata": {},
     "output_type": "execute_result"
    }
   ],
   "source": [
    "df.shape"
   ]
  },
  {
   "cell_type": "code",
   "execution_count": 4,
   "metadata": {},
   "outputs": [],
   "source": [
    "df.index.names = ['year_month_start']\n",
    "df.columns.names = ['category']"
   ]
  },
  {
   "cell_type": "code",
   "execution_count": 5,
   "metadata": {},
   "outputs": [
    {
     "data": {
      "text/html": [
       "<div>\n",
       "<style>\n",
       "    .dataframe thead tr:only-child th {\n",
       "        text-align: right;\n",
       "    }\n",
       "\n",
       "    .dataframe thead th {\n",
       "        text-align: left;\n",
       "    }\n",
       "\n",
       "    .dataframe tbody tr th {\n",
       "        vertical-align: top;\n",
       "    }\n",
       "</style>\n",
       "<table border=\"1\" class=\"dataframe\">\n",
       "  <thead>\n",
       "    <tr style=\"text-align: right;\">\n",
       "      <th>category</th>\n",
       "      <th>A</th>\n",
       "      <th>B</th>\n",
       "      <th>C</th>\n",
       "      <th>D</th>\n",
       "    </tr>\n",
       "    <tr>\n",
       "      <th>year_month_start</th>\n",
       "      <th></th>\n",
       "      <th></th>\n",
       "      <th></th>\n",
       "      <th></th>\n",
       "    </tr>\n",
       "  </thead>\n",
       "  <tbody>\n",
       "    <tr>\n",
       "      <th>2014-11-01 17:59:06.080579</th>\n",
       "      <td>0.064960</td>\n",
       "      <td>0.912398</td>\n",
       "      <td>0.414499</td>\n",
       "      <td>0.703432</td>\n",
       "    </tr>\n",
       "    <tr>\n",
       "      <th>2014-12-01 17:59:06.080579</th>\n",
       "      <td>0.483200</td>\n",
       "      <td>0.903033</td>\n",
       "      <td>0.277916</td>\n",
       "      <td>0.951477</td>\n",
       "    </tr>\n",
       "    <tr>\n",
       "      <th>2015-01-01 17:59:06.080579</th>\n",
       "      <td>0.312150</td>\n",
       "      <td>0.052920</td>\n",
       "      <td>0.973052</td>\n",
       "      <td>0.227768</td>\n",
       "    </tr>\n",
       "    <tr>\n",
       "      <th>2015-02-01 17:59:06.080579</th>\n",
       "      <td>0.992858</td>\n",
       "      <td>0.858479</td>\n",
       "      <td>0.018013</td>\n",
       "      <td>0.207192</td>\n",
       "    </tr>\n",
       "    <tr>\n",
       "      <th>2015-03-01 17:59:06.080579</th>\n",
       "      <td>0.024849</td>\n",
       "      <td>0.876164</td>\n",
       "      <td>0.431758</td>\n",
       "      <td>0.621175</td>\n",
       "    </tr>\n",
       "  </tbody>\n",
       "</table>\n",
       "</div>"
      ],
      "text/plain": [
       "category                           A         B         C         D\n",
       "year_month_start                                                  \n",
       "2014-11-01 17:59:06.080579  0.064960  0.912398  0.414499  0.703432\n",
       "2014-12-01 17:59:06.080579  0.483200  0.903033  0.277916  0.951477\n",
       "2015-01-01 17:59:06.080579  0.312150  0.052920  0.973052  0.227768\n",
       "2015-02-01 17:59:06.080579  0.992858  0.858479  0.018013  0.207192\n",
       "2015-03-01 17:59:06.080579  0.024849  0.876164  0.431758  0.621175"
      ]
     },
     "execution_count": 5,
     "metadata": {},
     "output_type": "execute_result"
    }
   ],
   "source": [
    "df.head()"
   ]
  },
  {
   "cell_type": "code",
   "execution_count": 6,
   "metadata": {},
   "outputs": [
    {
     "data": {
      "text/html": [
       "<div>\n",
       "<style>\n",
       "    .dataframe thead tr:only-child th {\n",
       "        text-align: right;\n",
       "    }\n",
       "\n",
       "    .dataframe thead th {\n",
       "        text-align: left;\n",
       "    }\n",
       "\n",
       "    .dataframe tbody tr th {\n",
       "        vertical-align: top;\n",
       "    }\n",
       "</style>\n",
       "<table border=\"1\" class=\"dataframe\">\n",
       "  <thead>\n",
       "    <tr style=\"text-align: right;\">\n",
       "      <th>category</th>\n",
       "      <th>A</th>\n",
       "      <th>B</th>\n",
       "      <th>C</th>\n",
       "      <th>D</th>\n",
       "    </tr>\n",
       "    <tr>\n",
       "      <th>year_month_start</th>\n",
       "      <th></th>\n",
       "      <th></th>\n",
       "      <th></th>\n",
       "      <th></th>\n",
       "    </tr>\n",
       "  </thead>\n",
       "  <tbody>\n",
       "    <tr>\n",
       "      <th>2017-06-01 17:59:06.080579</th>\n",
       "      <td>0.939403</td>\n",
       "      <td>0.091247</td>\n",
       "      <td>0.561496</td>\n",
       "      <td>0.626564</td>\n",
       "    </tr>\n",
       "    <tr>\n",
       "      <th>2017-07-01 17:59:06.080579</th>\n",
       "      <td>0.209496</td>\n",
       "      <td>0.991615</td>\n",
       "      <td>0.318620</td>\n",
       "      <td>0.781343</td>\n",
       "    </tr>\n",
       "    <tr>\n",
       "      <th>2017-08-01 17:59:06.080579</th>\n",
       "      <td>0.564252</td>\n",
       "      <td>0.774313</td>\n",
       "      <td>0.164976</td>\n",
       "      <td>0.701979</td>\n",
       "    </tr>\n",
       "    <tr>\n",
       "      <th>2017-09-01 17:59:06.080579</th>\n",
       "      <td>0.914075</td>\n",
       "      <td>0.659888</td>\n",
       "      <td>0.714164</td>\n",
       "      <td>0.472263</td>\n",
       "    </tr>\n",
       "    <tr>\n",
       "      <th>2017-10-01 17:59:06.080579</th>\n",
       "      <td>0.270031</td>\n",
       "      <td>0.884495</td>\n",
       "      <td>0.501254</td>\n",
       "      <td>0.037834</td>\n",
       "    </tr>\n",
       "  </tbody>\n",
       "</table>\n",
       "</div>"
      ],
      "text/plain": [
       "category                           A         B         C         D\n",
       "year_month_start                                                  \n",
       "2017-06-01 17:59:06.080579  0.939403  0.091247  0.561496  0.626564\n",
       "2017-07-01 17:59:06.080579  0.209496  0.991615  0.318620  0.781343\n",
       "2017-08-01 17:59:06.080579  0.564252  0.774313  0.164976  0.701979\n",
       "2017-09-01 17:59:06.080579  0.914075  0.659888  0.714164  0.472263\n",
       "2017-10-01 17:59:06.080579  0.270031  0.884495  0.501254  0.037834"
      ]
     },
     "execution_count": 6,
     "metadata": {},
     "output_type": "execute_result"
    }
   ],
   "source": [
    "df.tail()"
   ]
  },
  {
   "cell_type": "markdown",
   "metadata": {},
   "source": [
    "### Unstacked: Compute per Category\n",
    "\n",
    "Compute over total history of our data.\n",
    "\n",
    "**In this case, make sure your data is sorted!**"
   ]
  },
  {
   "cell_type": "code",
   "execution_count": 16,
   "metadata": {},
   "outputs": [],
   "source": [
    "df = df.sort_index()"
   ]
  },
  {
   "cell_type": "code",
   "execution_count": 17,
   "metadata": {},
   "outputs": [],
   "source": [
    "cagr = (df.iloc[-1] / df.iloc[0]) ** (1/len(df)) - 1"
   ]
  },
  {
   "cell_type": "code",
   "execution_count": 18,
   "metadata": {},
   "outputs": [],
   "source": [
    "cagr = cagr.to_frame()\n",
    "cagr.columns = ['cagr']"
   ]
  },
  {
   "cell_type": "code",
   "execution_count": 19,
   "metadata": {},
   "outputs": [
    {
     "data": {
      "text/html": [
       "<div>\n",
       "<style>\n",
       "    .dataframe thead tr:only-child th {\n",
       "        text-align: right;\n",
       "    }\n",
       "\n",
       "    .dataframe thead th {\n",
       "        text-align: left;\n",
       "    }\n",
       "\n",
       "    .dataframe tbody tr th {\n",
       "        vertical-align: top;\n",
       "    }\n",
       "</style>\n",
       "<table border=\"1\" class=\"dataframe\">\n",
       "  <thead>\n",
       "    <tr style=\"text-align: right;\">\n",
       "      <th></th>\n",
       "      <th>cagr</th>\n",
       "    </tr>\n",
       "    <tr>\n",
       "      <th>category</th>\n",
       "      <th></th>\n",
       "    </tr>\n",
       "  </thead>\n",
       "  <tbody>\n",
       "    <tr>\n",
       "      <th>A</th>\n",
       "      <td>0.040371</td>\n",
       "    </tr>\n",
       "    <tr>\n",
       "      <th>B</th>\n",
       "      <td>-0.000862</td>\n",
       "    </tr>\n",
       "    <tr>\n",
       "      <th>C</th>\n",
       "      <td>0.005293</td>\n",
       "    </tr>\n",
       "    <tr>\n",
       "      <th>D</th>\n",
       "      <td>-0.077980</td>\n",
       "    </tr>\n",
       "  </tbody>\n",
       "</table>\n",
       "</div>"
      ],
      "text/plain": [
       "              cagr\n",
       "category          \n",
       "A         0.040371\n",
       "B        -0.000862\n",
       "C         0.005293\n",
       "D        -0.077980"
      ]
     },
     "execution_count": 19,
     "metadata": {},
     "output_type": "execute_result"
    }
   ],
   "source": [
    "cagr"
   ]
  },
  {
   "cell_type": "markdown",
   "metadata": {},
   "source": [
    "### Unstacked: Compute per Category and Time Period\n",
    "\n",
    "Group by year and compute growth over months."
   ]
  },
  {
   "cell_type": "code",
   "execution_count": 10,
   "metadata": {},
   "outputs": [],
   "source": [
    "gb = df.groupby(pd.TimeGrouper(freq='A'))"
   ]
  },
  {
   "cell_type": "code",
   "execution_count": 24,
   "metadata": {},
   "outputs": [],
   "source": [
    "def_cagr = lambda d: (d.iloc[-1] / d.iloc[0]) ** (1/len(d)) - 1"
   ]
  },
  {
   "cell_type": "code",
   "execution_count": 25,
   "metadata": {},
   "outputs": [],
   "source": [
    "cagr = gb.apply(def_cagr)"
   ]
  },
  {
   "cell_type": "code",
   "execution_count": 26,
   "metadata": {},
   "outputs": [],
   "source": [
    "cagr.index.names = ['year_end']"
   ]
  },
  {
   "cell_type": "code",
   "execution_count": 27,
   "metadata": {},
   "outputs": [
    {
     "data": {
      "text/html": [
       "<div>\n",
       "<style>\n",
       "    .dataframe thead tr:only-child th {\n",
       "        text-align: right;\n",
       "    }\n",
       "\n",
       "    .dataframe thead th {\n",
       "        text-align: left;\n",
       "    }\n",
       "\n",
       "    .dataframe tbody tr th {\n",
       "        vertical-align: top;\n",
       "    }\n",
       "</style>\n",
       "<table border=\"1\" class=\"dataframe\">\n",
       "  <thead>\n",
       "    <tr style=\"text-align: right;\">\n",
       "      <th>category</th>\n",
       "      <th>A</th>\n",
       "      <th>B</th>\n",
       "      <th>C</th>\n",
       "      <th>D</th>\n",
       "    </tr>\n",
       "    <tr>\n",
       "      <th>year_end</th>\n",
       "      <th></th>\n",
       "      <th></th>\n",
       "      <th></th>\n",
       "      <th></th>\n",
       "    </tr>\n",
       "  </thead>\n",
       "  <tbody>\n",
       "    <tr>\n",
       "      <th>2014-12-31</th>\n",
       "      <td>1.727354</td>\n",
       "      <td>-0.005145</td>\n",
       "      <td>-0.181168</td>\n",
       "      <td>0.163023</td>\n",
       "    </tr>\n",
       "    <tr>\n",
       "      <th>2015-12-31</th>\n",
       "      <td>0.071589</td>\n",
       "      <td>0.138647</td>\n",
       "      <td>-0.099803</td>\n",
       "      <td>0.015065</td>\n",
       "    </tr>\n",
       "    <tr>\n",
       "      <th>2016-12-31</th>\n",
       "      <td>-0.087442</td>\n",
       "      <td>-0.012366</td>\n",
       "      <td>0.013480</td>\n",
       "      <td>-0.032596</td>\n",
       "    </tr>\n",
       "    <tr>\n",
       "      <th>2017-12-31</th>\n",
       "      <td>-0.086492</td>\n",
       "      <td>0.100415</td>\n",
       "      <td>-0.060074</td>\n",
       "      <td>-0.214525</td>\n",
       "    </tr>\n",
       "  </tbody>\n",
       "</table>\n",
       "</div>"
      ],
      "text/plain": [
       "category           A         B         C         D\n",
       "year_end                                          \n",
       "2014-12-31  1.727354 -0.005145 -0.181168  0.163023\n",
       "2015-12-31  0.071589  0.138647 -0.099803  0.015065\n",
       "2016-12-31 -0.087442 -0.012366  0.013480 -0.032596\n",
       "2017-12-31 -0.086492  0.100415 -0.060074 -0.214525"
      ]
     },
     "execution_count": 27,
     "metadata": {},
     "output_type": "execute_result"
    }
   ],
   "source": [
    "cagr"
   ]
  },
  {
   "cell_type": "markdown",
   "metadata": {},
   "source": [
    "## Scenario 2: Stacked\n",
    "\n",
    "What if our data looked different? Below is the same data in a different format, where the category and date make up a multi-index."
   ]
  },
  {
   "cell_type": "code",
   "execution_count": 28,
   "metadata": {},
   "outputs": [],
   "source": [
    "df = df.stack().swaplevel().sort_index().to_frame()"
   ]
  },
  {
   "cell_type": "code",
   "execution_count": 29,
   "metadata": {},
   "outputs": [],
   "source": [
    "df.index = df.index.set_names('category', level=0)"
   ]
  },
  {
   "cell_type": "code",
   "execution_count": 30,
   "metadata": {},
   "outputs": [],
   "source": [
    "df.columns = ['data']"
   ]
  },
  {
   "cell_type": "code",
   "execution_count": 31,
   "metadata": {},
   "outputs": [
    {
     "data": {
      "text/html": [
       "<div>\n",
       "<style>\n",
       "    .dataframe thead tr:only-child th {\n",
       "        text-align: right;\n",
       "    }\n",
       "\n",
       "    .dataframe thead th {\n",
       "        text-align: left;\n",
       "    }\n",
       "\n",
       "    .dataframe tbody tr th {\n",
       "        vertical-align: top;\n",
       "    }\n",
       "</style>\n",
       "<table border=\"1\" class=\"dataframe\">\n",
       "  <thead>\n",
       "    <tr style=\"text-align: right;\">\n",
       "      <th></th>\n",
       "      <th></th>\n",
       "      <th>data</th>\n",
       "    </tr>\n",
       "    <tr>\n",
       "      <th>category</th>\n",
       "      <th>year_month_start</th>\n",
       "      <th></th>\n",
       "    </tr>\n",
       "  </thead>\n",
       "  <tbody>\n",
       "    <tr>\n",
       "      <th rowspan=\"5\" valign=\"top\">A</th>\n",
       "      <th>2014-11-01 17:59:06.080579</th>\n",
       "      <td>0.064960</td>\n",
       "    </tr>\n",
       "    <tr>\n",
       "      <th>2014-12-01 17:59:06.080579</th>\n",
       "      <td>0.483200</td>\n",
       "    </tr>\n",
       "    <tr>\n",
       "      <th>2015-01-01 17:59:06.080579</th>\n",
       "      <td>0.312150</td>\n",
       "    </tr>\n",
       "    <tr>\n",
       "      <th>2015-02-01 17:59:06.080579</th>\n",
       "      <td>0.992858</td>\n",
       "    </tr>\n",
       "    <tr>\n",
       "      <th>2015-03-01 17:59:06.080579</th>\n",
       "      <td>0.024849</td>\n",
       "    </tr>\n",
       "  </tbody>\n",
       "</table>\n",
       "</div>"
      ],
      "text/plain": [
       "                                         data\n",
       "category year_month_start                    \n",
       "A        2014-11-01 17:59:06.080579  0.064960\n",
       "         2014-12-01 17:59:06.080579  0.483200\n",
       "         2015-01-01 17:59:06.080579  0.312150\n",
       "         2015-02-01 17:59:06.080579  0.992858\n",
       "         2015-03-01 17:59:06.080579  0.024849"
      ]
     },
     "execution_count": 31,
     "metadata": {},
     "output_type": "execute_result"
    }
   ],
   "source": [
    "df.head()"
   ]
  },
  {
   "cell_type": "code",
   "execution_count": 32,
   "metadata": {},
   "outputs": [
    {
     "data": {
      "text/html": [
       "<div>\n",
       "<style>\n",
       "    .dataframe thead tr:only-child th {\n",
       "        text-align: right;\n",
       "    }\n",
       "\n",
       "    .dataframe thead th {\n",
       "        text-align: left;\n",
       "    }\n",
       "\n",
       "    .dataframe tbody tr th {\n",
       "        vertical-align: top;\n",
       "    }\n",
       "</style>\n",
       "<table border=\"1\" class=\"dataframe\">\n",
       "  <thead>\n",
       "    <tr style=\"text-align: right;\">\n",
       "      <th></th>\n",
       "      <th></th>\n",
       "      <th>data</th>\n",
       "    </tr>\n",
       "    <tr>\n",
       "      <th>category</th>\n",
       "      <th>year_month_start</th>\n",
       "      <th></th>\n",
       "    </tr>\n",
       "  </thead>\n",
       "  <tbody>\n",
       "    <tr>\n",
       "      <th rowspan=\"5\" valign=\"top\">D</th>\n",
       "      <th>2017-06-01 17:59:06.080579</th>\n",
       "      <td>0.626564</td>\n",
       "    </tr>\n",
       "    <tr>\n",
       "      <th>2017-07-01 17:59:06.080579</th>\n",
       "      <td>0.781343</td>\n",
       "    </tr>\n",
       "    <tr>\n",
       "      <th>2017-08-01 17:59:06.080579</th>\n",
       "      <td>0.701979</td>\n",
       "    </tr>\n",
       "    <tr>\n",
       "      <th>2017-09-01 17:59:06.080579</th>\n",
       "      <td>0.472263</td>\n",
       "    </tr>\n",
       "    <tr>\n",
       "      <th>2017-10-01 17:59:06.080579</th>\n",
       "      <td>0.037834</td>\n",
       "    </tr>\n",
       "  </tbody>\n",
       "</table>\n",
       "</div>"
      ],
      "text/plain": [
       "                                         data\n",
       "category year_month_start                    \n",
       "D        2017-06-01 17:59:06.080579  0.626564\n",
       "         2017-07-01 17:59:06.080579  0.781343\n",
       "         2017-08-01 17:59:06.080579  0.701979\n",
       "         2017-09-01 17:59:06.080579  0.472263\n",
       "         2017-10-01 17:59:06.080579  0.037834"
      ]
     },
     "execution_count": 32,
     "metadata": {},
     "output_type": "execute_result"
    }
   ],
   "source": [
    "df.tail()"
   ]
  },
  {
   "cell_type": "markdown",
   "metadata": {},
   "source": [
    "### Stacked: Compute per Category"
   ]
  },
  {
   "cell_type": "code",
   "execution_count": 33,
   "metadata": {},
   "outputs": [],
   "source": [
    "gb = df.reset_index().groupby('category')"
   ]
  },
  {
   "cell_type": "code",
   "execution_count": 34,
   "metadata": {},
   "outputs": [],
   "source": [
    "cagr = (gb.nth(-1).data / gb.nth(0).data) ** (1/gb.size()) - 1"
   ]
  },
  {
   "cell_type": "code",
   "execution_count": 35,
   "metadata": {},
   "outputs": [],
   "source": [
    "cagr = cagr.to_frame()\n",
    "cagr.columns = ['cagr']"
   ]
  },
  {
   "cell_type": "code",
   "execution_count": 36,
   "metadata": {},
   "outputs": [
    {
     "data": {
      "text/html": [
       "<div>\n",
       "<style>\n",
       "    .dataframe thead tr:only-child th {\n",
       "        text-align: right;\n",
       "    }\n",
       "\n",
       "    .dataframe thead th {\n",
       "        text-align: left;\n",
       "    }\n",
       "\n",
       "    .dataframe tbody tr th {\n",
       "        vertical-align: top;\n",
       "    }\n",
       "</style>\n",
       "<table border=\"1\" class=\"dataframe\">\n",
       "  <thead>\n",
       "    <tr style=\"text-align: right;\">\n",
       "      <th></th>\n",
       "      <th>cagr</th>\n",
       "    </tr>\n",
       "    <tr>\n",
       "      <th>category</th>\n",
       "      <th></th>\n",
       "    </tr>\n",
       "  </thead>\n",
       "  <tbody>\n",
       "    <tr>\n",
       "      <th>A</th>\n",
       "      <td>0.040371</td>\n",
       "    </tr>\n",
       "    <tr>\n",
       "      <th>B</th>\n",
       "      <td>-0.000862</td>\n",
       "    </tr>\n",
       "    <tr>\n",
       "      <th>C</th>\n",
       "      <td>0.005293</td>\n",
       "    </tr>\n",
       "    <tr>\n",
       "      <th>D</th>\n",
       "      <td>-0.077980</td>\n",
       "    </tr>\n",
       "  </tbody>\n",
       "</table>\n",
       "</div>"
      ],
      "text/plain": [
       "              cagr\n",
       "category          \n",
       "A         0.040371\n",
       "B        -0.000862\n",
       "C         0.005293\n",
       "D        -0.077980"
      ]
     },
     "execution_count": 36,
     "metadata": {},
     "output_type": "execute_result"
    }
   ],
   "source": [
    "cagr"
   ]
  },
  {
   "cell_type": "markdown",
   "metadata": {},
   "source": [
    "### Stacked: Compute per Category and Time Period"
   ]
  },
  {
   "cell_type": "code",
   "execution_count": 37,
   "metadata": {},
   "outputs": [],
   "source": [
    "gb = df.reset_index(level=0).groupby(['category', pd.TimeGrouper(freq='A')])"
   ]
  },
  {
   "cell_type": "code",
   "execution_count": 38,
   "metadata": {},
   "outputs": [],
   "source": [
    "cagr = (gb.nth(-1).data / gb.nth(0).data) ** (1/gb.size()) - 1"
   ]
  },
  {
   "cell_type": "code",
   "execution_count": 39,
   "metadata": {},
   "outputs": [],
   "source": [
    "cagr = cagr.to_frame()\n",
    "cagr.columns = ['cagr']\n",
    "cagr.index.names = ['category', 'year_end']"
   ]
  },
  {
   "cell_type": "code",
   "execution_count": 40,
   "metadata": {},
   "outputs": [
    {
     "data": {
      "text/html": [
       "<div>\n",
       "<style>\n",
       "    .dataframe thead tr:only-child th {\n",
       "        text-align: right;\n",
       "    }\n",
       "\n",
       "    .dataframe thead th {\n",
       "        text-align: left;\n",
       "    }\n",
       "\n",
       "    .dataframe tbody tr th {\n",
       "        vertical-align: top;\n",
       "    }\n",
       "</style>\n",
       "<table border=\"1\" class=\"dataframe\">\n",
       "  <thead>\n",
       "    <tr style=\"text-align: right;\">\n",
       "      <th></th>\n",
       "      <th></th>\n",
       "      <th>cagr</th>\n",
       "    </tr>\n",
       "    <tr>\n",
       "      <th>category</th>\n",
       "      <th>year_end</th>\n",
       "      <th></th>\n",
       "    </tr>\n",
       "  </thead>\n",
       "  <tbody>\n",
       "    <tr>\n",
       "      <th rowspan=\"4\" valign=\"top\">A</th>\n",
       "      <th>2014-12-31</th>\n",
       "      <td>1.727354</td>\n",
       "    </tr>\n",
       "    <tr>\n",
       "      <th>2015-12-31</th>\n",
       "      <td>0.071589</td>\n",
       "    </tr>\n",
       "    <tr>\n",
       "      <th>2016-12-31</th>\n",
       "      <td>-0.087442</td>\n",
       "    </tr>\n",
       "    <tr>\n",
       "      <th>2017-12-31</th>\n",
       "      <td>-0.086492</td>\n",
       "    </tr>\n",
       "    <tr>\n",
       "      <th rowspan=\"4\" valign=\"top\">B</th>\n",
       "      <th>2014-12-31</th>\n",
       "      <td>-0.005145</td>\n",
       "    </tr>\n",
       "    <tr>\n",
       "      <th>2015-12-31</th>\n",
       "      <td>0.138647</td>\n",
       "    </tr>\n",
       "    <tr>\n",
       "      <th>2016-12-31</th>\n",
       "      <td>-0.012366</td>\n",
       "    </tr>\n",
       "    <tr>\n",
       "      <th>2017-12-31</th>\n",
       "      <td>0.100415</td>\n",
       "    </tr>\n",
       "    <tr>\n",
       "      <th rowspan=\"4\" valign=\"top\">C</th>\n",
       "      <th>2014-12-31</th>\n",
       "      <td>-0.181168</td>\n",
       "    </tr>\n",
       "    <tr>\n",
       "      <th>2015-12-31</th>\n",
       "      <td>-0.099803</td>\n",
       "    </tr>\n",
       "    <tr>\n",
       "      <th>2016-12-31</th>\n",
       "      <td>0.013480</td>\n",
       "    </tr>\n",
       "    <tr>\n",
       "      <th>2017-12-31</th>\n",
       "      <td>-0.060074</td>\n",
       "    </tr>\n",
       "    <tr>\n",
       "      <th rowspan=\"4\" valign=\"top\">D</th>\n",
       "      <th>2014-12-31</th>\n",
       "      <td>0.163023</td>\n",
       "    </tr>\n",
       "    <tr>\n",
       "      <th>2015-12-31</th>\n",
       "      <td>0.015065</td>\n",
       "    </tr>\n",
       "    <tr>\n",
       "      <th>2016-12-31</th>\n",
       "      <td>-0.032596</td>\n",
       "    </tr>\n",
       "    <tr>\n",
       "      <th>2017-12-31</th>\n",
       "      <td>-0.214525</td>\n",
       "    </tr>\n",
       "  </tbody>\n",
       "</table>\n",
       "</div>"
      ],
      "text/plain": [
       "                         cagr\n",
       "category year_end            \n",
       "A        2014-12-31  1.727354\n",
       "         2015-12-31  0.071589\n",
       "         2016-12-31 -0.087442\n",
       "         2017-12-31 -0.086492\n",
       "B        2014-12-31 -0.005145\n",
       "         2015-12-31  0.138647\n",
       "         2016-12-31 -0.012366\n",
       "         2017-12-31  0.100415\n",
       "C        2014-12-31 -0.181168\n",
       "         2015-12-31 -0.099803\n",
       "         2016-12-31  0.013480\n",
       "         2017-12-31 -0.060074\n",
       "D        2014-12-31  0.163023\n",
       "         2015-12-31  0.015065\n",
       "         2016-12-31 -0.032596\n",
       "         2017-12-31 -0.214525"
      ]
     },
     "execution_count": 40,
     "metadata": {},
     "output_type": "execute_result"
    }
   ],
   "source": [
    "cagr"
   ]
  }
 ],
 "metadata": {
  "kernelspec": {
   "display_name": "Python 3",
   "language": "python",
   "name": "python3"
  },
  "language_info": {
   "codemirror_mode": {
    "name": "ipython",
    "version": 3
   },
   "file_extension": ".py",
   "mimetype": "text/x-python",
   "name": "python",
   "nbconvert_exporter": "python",
   "pygments_lexer": "ipython3",
   "version": "3.4.5"
  }
 },
 "nbformat": 4,
 "nbformat_minor": 2
}
