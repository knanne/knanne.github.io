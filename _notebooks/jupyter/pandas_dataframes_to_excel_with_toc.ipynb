{
 "cells": [
  {
   "cell_type": "markdown",
   "metadata": {},
   "source": [
    "# Multiple DataFrames to Excel with Table of Contents"
   ]
  },
  {
   "cell_type": "code",
   "execution_count": 1,
   "metadata": {},
   "outputs": [],
   "source": [
    "import pandas as pd\n",
    "import numpy as np"
   ]
  },
  {
   "cell_type": "markdown",
   "metadata": {},
   "source": [
    "## Create Sample Database of DataFrames and Titles\n",
    "\n",
    "First store the dataframes in a dictionary accessable by the DataFrame title to be used in table of contents."
   ]
  },
  {
   "cell_type": "code",
   "execution_count": 2,
   "metadata": {},
   "outputs": [],
   "source": [
    "database = {}\n",
    "for i in range(5):\n",
    "    df = pd.DataFrame(data=np.random.rand(10,5),\n",
    "                      index=pd.date_range(end=pd.datetime.now(), periods=10, freq='AS'),\n",
    "                      columns=list(range(5)))\n",
    "    df = df.sort_index(ascending=False)\n",
    "    database['DataFrame {}'.format(i)] = df"
   ]
  },
  {
   "cell_type": "markdown",
   "metadata": {},
   "source": [
    "#### preview your database is as expected"
   ]
  },
  {
   "cell_type": "code",
   "execution_count": 3,
   "metadata": {},
   "outputs": [
    {
     "data": {
      "text/plain": [
       "5"
      ]
     },
     "execution_count": 3,
     "metadata": {},
     "output_type": "execute_result"
    }
   ],
   "source": [
    "len(database)"
   ]
  },
  {
   "cell_type": "code",
   "execution_count": 4,
   "metadata": {},
   "outputs": [
    {
     "data": {
      "text/plain": [
       "dict_keys(['DataFrame 0', 'DataFrame 1', 'DataFrame 2', 'DataFrame 3', 'DataFrame 4'])"
      ]
     },
     "execution_count": 4,
     "metadata": {},
     "output_type": "execute_result"
    }
   ],
   "source": [
    "database.keys()"
   ]
  },
  {
   "cell_type": "markdown",
   "metadata": {},
   "source": [
    "#### and the first DataFrame in our database looks like:"
   ]
  },
  {
   "cell_type": "code",
   "execution_count": 5,
   "metadata": {},
   "outputs": [
    {
     "data": {
      "text/html": [
       "<div>\n",
       "<style>\n",
       "    .dataframe thead tr:only-child th {\n",
       "        text-align: right;\n",
       "    }\n",
       "\n",
       "    .dataframe thead th {\n",
       "        text-align: left;\n",
       "    }\n",
       "\n",
       "    .dataframe tbody tr th {\n",
       "        vertical-align: top;\n",
       "    }\n",
       "</style>\n",
       "<table border=\"1\" class=\"dataframe\">\n",
       "  <thead>\n",
       "    <tr style=\"text-align: right;\">\n",
       "      <th></th>\n",
       "      <th>0</th>\n",
       "      <th>1</th>\n",
       "      <th>2</th>\n",
       "      <th>3</th>\n",
       "      <th>4</th>\n",
       "    </tr>\n",
       "  </thead>\n",
       "  <tbody>\n",
       "    <tr>\n",
       "      <th>2018-01-01 15:26:49.656255</th>\n",
       "      <td>0.159358</td>\n",
       "      <td>0.092781</td>\n",
       "      <td>0.123526</td>\n",
       "      <td>0.382781</td>\n",
       "      <td>0.258993</td>\n",
       "    </tr>\n",
       "    <tr>\n",
       "      <th>2017-01-01 15:26:49.656255</th>\n",
       "      <td>0.717533</td>\n",
       "      <td>0.169581</td>\n",
       "      <td>0.956188</td>\n",
       "      <td>0.531756</td>\n",
       "      <td>0.556561</td>\n",
       "    </tr>\n",
       "    <tr>\n",
       "      <th>2016-01-01 15:26:49.656255</th>\n",
       "      <td>0.586399</td>\n",
       "      <td>0.897709</td>\n",
       "      <td>0.820273</td>\n",
       "      <td>0.997370</td>\n",
       "      <td>0.906336</td>\n",
       "    </tr>\n",
       "    <tr>\n",
       "      <th>2015-01-01 15:26:49.656255</th>\n",
       "      <td>0.458850</td>\n",
       "      <td>0.407505</td>\n",
       "      <td>0.877071</td>\n",
       "      <td>0.472491</td>\n",
       "      <td>0.974023</td>\n",
       "    </tr>\n",
       "    <tr>\n",
       "      <th>2014-01-01 15:26:49.656255</th>\n",
       "      <td>0.156699</td>\n",
       "      <td>0.322385</td>\n",
       "      <td>0.566123</td>\n",
       "      <td>0.760208</td>\n",
       "      <td>0.577940</td>\n",
       "    </tr>\n",
       "    <tr>\n",
       "      <th>2013-01-01 15:26:49.656255</th>\n",
       "      <td>0.740037</td>\n",
       "      <td>0.851457</td>\n",
       "      <td>0.243506</td>\n",
       "      <td>0.242941</td>\n",
       "      <td>0.927949</td>\n",
       "    </tr>\n",
       "    <tr>\n",
       "      <th>2012-01-01 15:26:49.656255</th>\n",
       "      <td>0.651608</td>\n",
       "      <td>0.817087</td>\n",
       "      <td>0.927313</td>\n",
       "      <td>0.783384</td>\n",
       "      <td>0.671474</td>\n",
       "    </tr>\n",
       "    <tr>\n",
       "      <th>2011-01-01 15:26:49.656255</th>\n",
       "      <td>0.970842</td>\n",
       "      <td>0.564952</td>\n",
       "      <td>0.298710</td>\n",
       "      <td>0.045744</td>\n",
       "      <td>0.342489</td>\n",
       "    </tr>\n",
       "    <tr>\n",
       "      <th>2010-01-01 15:26:49.656255</th>\n",
       "      <td>0.570517</td>\n",
       "      <td>0.930760</td>\n",
       "      <td>0.209710</td>\n",
       "      <td>0.633520</td>\n",
       "      <td>0.833400</td>\n",
       "    </tr>\n",
       "    <tr>\n",
       "      <th>2009-01-01 15:26:49.656255</th>\n",
       "      <td>0.948057</td>\n",
       "      <td>0.683936</td>\n",
       "      <td>0.945394</td>\n",
       "      <td>0.635590</td>\n",
       "      <td>0.415048</td>\n",
       "    </tr>\n",
       "  </tbody>\n",
       "</table>\n",
       "</div>"
      ],
      "text/plain": [
       "                                   0         1         2         3         4\n",
       "2018-01-01 15:26:49.656255  0.159358  0.092781  0.123526  0.382781  0.258993\n",
       "2017-01-01 15:26:49.656255  0.717533  0.169581  0.956188  0.531756  0.556561\n",
       "2016-01-01 15:26:49.656255  0.586399  0.897709  0.820273  0.997370  0.906336\n",
       "2015-01-01 15:26:49.656255  0.458850  0.407505  0.877071  0.472491  0.974023\n",
       "2014-01-01 15:26:49.656255  0.156699  0.322385  0.566123  0.760208  0.577940\n",
       "2013-01-01 15:26:49.656255  0.740037  0.851457  0.243506  0.242941  0.927949\n",
       "2012-01-01 15:26:49.656255  0.651608  0.817087  0.927313  0.783384  0.671474\n",
       "2011-01-01 15:26:49.656255  0.970842  0.564952  0.298710  0.045744  0.342489\n",
       "2010-01-01 15:26:49.656255  0.570517  0.930760  0.209710  0.633520  0.833400\n",
       "2009-01-01 15:26:49.656255  0.948057  0.683936  0.945394  0.635590  0.415048"
      ]
     },
     "execution_count": 5,
     "metadata": {},
     "output_type": "execute_result"
    }
   ],
   "source": [
    "database['DataFrame 0']"
   ]
  },
  {
   "cell_type": "markdown",
   "metadata": {},
   "source": [
    "## Example Method of Creating Links in Excel\n",
    "\n",
    "In the output excel we want to have the first sheet as a table of contents, and each subsequent sheet corresponding to our DataFrames in the database.\n",
    "\n",
    "The table of contents should be simply a list of our predefined DataFrame titles, which will link to the appropriate sheet.\n",
    "\n",
    "And finally, at the top of each Excel sheet with a DataFrame, we want to add a link back to the table of contents for convenience.\n",
    "\n",
    "**IMPORTANT:** First note that a hyperlink in an Excel Cell looks like `=HYPERLINK(\"#0!A1\",\"[TEXT]\")` where `#0!A1` corresponds to the sheet and cell being linked to, and `[TEXT]` represents the text to be displayed in the Excel cell."
   ]
  },
  {
   "cell_type": "markdown",
   "metadata": {},
   "source": [
    "#### example link to first DataFrame in TOC\n",
    "\n",
    "These links will be created for all DataFrames, saved by their sheet number when writing the DataFrame to excel, then compiled and written to the first sheet as TOC all at once."
   ]
  },
  {
   "cell_type": "code",
   "execution_count": 6,
   "metadata": {},
   "outputs": [
    {
     "name": "stdout",
     "output_type": "stream",
     "text": [
      "=HYPERLINK(\"#1!A1\",\"DataFrame 0\")\n"
     ]
    }
   ],
   "source": [
    "sheet_name = 'DataFrame 0'\n",
    "sheet_num = 1\n",
    "xls_toc_label = '=HYPERLINK(\"#{}!A1\",\"{}\")'.format(str(sheet_num),sheet_name)\n",
    "print(xls_toc_label)"
   ]
  },
  {
   "cell_type": "markdown",
   "metadata": {},
   "source": [
    "#### example link to TOC in first DataFrame\n",
    "\n",
    "*The below code may be more efficient in a different way - alternative solutions are welcomed!*"
   ]
  },
  {
   "cell_type": "code",
   "execution_count": 7,
   "metadata": {},
   "outputs": [],
   "source": [
    "df = database['DataFrame 0']"
   ]
  },
  {
   "cell_type": "code",
   "execution_count": 8,
   "metadata": {},
   "outputs": [],
   "source": [
    "# transpose dataframe\n",
    "df = df.T\n",
    "# add link as dummy column\n",
    "df['dummy'] = '=HYPERLINK(\"#0!A1\",\"Go Back To Table of Contents\")'\n",
    "# set link to index of dataframe\n",
    "df = df.set_index('dummy', append=True)\n",
    "# move link to first level of index\n",
    "df = df.reorder_levels([df.index.nlevels-1] + list(range(df.index.nlevels-1)), axis=0)\n",
    "# remove index names by setting all to None\n",
    "df.index.names = [None]*len(df.index.names)\n",
    "# transpose dataframe back to original where link becomes first level in header\n",
    "df = df.T"
   ]
  },
  {
   "cell_type": "markdown",
   "metadata": {},
   "source": [
    "#### confirm we now have a link as the first level in the DataFrame's header"
   ]
  },
  {
   "cell_type": "code",
   "execution_count": 9,
   "metadata": {},
   "outputs": [
    {
     "data": {
      "text/html": [
       "<div>\n",
       "<style>\n",
       "    .dataframe thead tr:only-child th {\n",
       "        text-align: right;\n",
       "    }\n",
       "\n",
       "    .dataframe thead th {\n",
       "        text-align: left;\n",
       "    }\n",
       "\n",
       "    .dataframe tbody tr th {\n",
       "        vertical-align: top;\n",
       "    }\n",
       "</style>\n",
       "<table border=\"1\" class=\"dataframe\">\n",
       "  <thead>\n",
       "    <tr>\n",
       "      <th></th>\n",
       "      <th colspan=\"5\" halign=\"left\">=HYPERLINK(\"#0!A1\",\"Go Back To Table of Contents\")</th>\n",
       "    </tr>\n",
       "    <tr>\n",
       "      <th></th>\n",
       "      <th>0</th>\n",
       "      <th>1</th>\n",
       "      <th>2</th>\n",
       "      <th>3</th>\n",
       "      <th>4</th>\n",
       "    </tr>\n",
       "  </thead>\n",
       "  <tbody>\n",
       "    <tr>\n",
       "      <th>2018-01-01 15:26:49.656255</th>\n",
       "      <td>0.159358</td>\n",
       "      <td>0.092781</td>\n",
       "      <td>0.123526</td>\n",
       "      <td>0.382781</td>\n",
       "      <td>0.258993</td>\n",
       "    </tr>\n",
       "    <tr>\n",
       "      <th>2017-01-01 15:26:49.656255</th>\n",
       "      <td>0.717533</td>\n",
       "      <td>0.169581</td>\n",
       "      <td>0.956188</td>\n",
       "      <td>0.531756</td>\n",
       "      <td>0.556561</td>\n",
       "    </tr>\n",
       "    <tr>\n",
       "      <th>2016-01-01 15:26:49.656255</th>\n",
       "      <td>0.586399</td>\n",
       "      <td>0.897709</td>\n",
       "      <td>0.820273</td>\n",
       "      <td>0.997370</td>\n",
       "      <td>0.906336</td>\n",
       "    </tr>\n",
       "    <tr>\n",
       "      <th>2015-01-01 15:26:49.656255</th>\n",
       "      <td>0.458850</td>\n",
       "      <td>0.407505</td>\n",
       "      <td>0.877071</td>\n",
       "      <td>0.472491</td>\n",
       "      <td>0.974023</td>\n",
       "    </tr>\n",
       "    <tr>\n",
       "      <th>2014-01-01 15:26:49.656255</th>\n",
       "      <td>0.156699</td>\n",
       "      <td>0.322385</td>\n",
       "      <td>0.566123</td>\n",
       "      <td>0.760208</td>\n",
       "      <td>0.577940</td>\n",
       "    </tr>\n",
       "    <tr>\n",
       "      <th>2013-01-01 15:26:49.656255</th>\n",
       "      <td>0.740037</td>\n",
       "      <td>0.851457</td>\n",
       "      <td>0.243506</td>\n",
       "      <td>0.242941</td>\n",
       "      <td>0.927949</td>\n",
       "    </tr>\n",
       "    <tr>\n",
       "      <th>2012-01-01 15:26:49.656255</th>\n",
       "      <td>0.651608</td>\n",
       "      <td>0.817087</td>\n",
       "      <td>0.927313</td>\n",
       "      <td>0.783384</td>\n",
       "      <td>0.671474</td>\n",
       "    </tr>\n",
       "    <tr>\n",
       "      <th>2011-01-01 15:26:49.656255</th>\n",
       "      <td>0.970842</td>\n",
       "      <td>0.564952</td>\n",
       "      <td>0.298710</td>\n",
       "      <td>0.045744</td>\n",
       "      <td>0.342489</td>\n",
       "    </tr>\n",
       "    <tr>\n",
       "      <th>2010-01-01 15:26:49.656255</th>\n",
       "      <td>0.570517</td>\n",
       "      <td>0.930760</td>\n",
       "      <td>0.209710</td>\n",
       "      <td>0.633520</td>\n",
       "      <td>0.833400</td>\n",
       "    </tr>\n",
       "    <tr>\n",
       "      <th>2009-01-01 15:26:49.656255</th>\n",
       "      <td>0.948057</td>\n",
       "      <td>0.683936</td>\n",
       "      <td>0.945394</td>\n",
       "      <td>0.635590</td>\n",
       "      <td>0.415048</td>\n",
       "    </tr>\n",
       "  </tbody>\n",
       "</table>\n",
       "</div>"
      ],
      "text/plain": [
       "                           =HYPERLINK(\"#0!A1\",\"Go Back To Table of Contents\")  \\\n",
       "                                                                            0   \n",
       "2018-01-01 15:26:49.656255                                           0.159358   \n",
       "2017-01-01 15:26:49.656255                                           0.717533   \n",
       "2016-01-01 15:26:49.656255                                           0.586399   \n",
       "2015-01-01 15:26:49.656255                                           0.458850   \n",
       "2014-01-01 15:26:49.656255                                           0.156699   \n",
       "2013-01-01 15:26:49.656255                                           0.740037   \n",
       "2012-01-01 15:26:49.656255                                           0.651608   \n",
       "2011-01-01 15:26:49.656255                                           0.970842   \n",
       "2010-01-01 15:26:49.656255                                           0.570517   \n",
       "2009-01-01 15:26:49.656255                                           0.948057   \n",
       "\n",
       "                                                                    \n",
       "                                   1         2         3         4  \n",
       "2018-01-01 15:26:49.656255  0.092781  0.123526  0.382781  0.258993  \n",
       "2017-01-01 15:26:49.656255  0.169581  0.956188  0.531756  0.556561  \n",
       "2016-01-01 15:26:49.656255  0.897709  0.820273  0.997370  0.906336  \n",
       "2015-01-01 15:26:49.656255  0.407505  0.877071  0.472491  0.974023  \n",
       "2014-01-01 15:26:49.656255  0.322385  0.566123  0.760208  0.577940  \n",
       "2013-01-01 15:26:49.656255  0.851457  0.243506  0.242941  0.927949  \n",
       "2012-01-01 15:26:49.656255  0.817087  0.927313  0.783384  0.671474  \n",
       "2011-01-01 15:26:49.656255  0.564952  0.298710  0.045744  0.342489  \n",
       "2010-01-01 15:26:49.656255  0.930760  0.209710  0.633520  0.833400  \n",
       "2009-01-01 15:26:49.656255  0.683936  0.945394  0.635590  0.415048  "
      ]
     },
     "execution_count": 9,
     "metadata": {},
     "output_type": "execute_result"
    }
   ],
   "source": [
    "df"
   ]
  },
  {
   "cell_type": "markdown",
   "metadata": {},
   "source": [
    "## Apply Method to All DataFrames - Write to Excel"
   ]
  },
  {
   "cell_type": "code",
   "execution_count": 21,
   "metadata": {},
   "outputs": [],
   "source": [
    "# instantiate an Excel writer\n",
    "xls_writer = pd.ExcelWriter('data/pandas_dataframes_to_excel_with_toc.xlsx')\n",
    "\n",
    "# save toc data as dictionary with first entry as TOC\n",
    "xls_toc = {'0': 'Table of Contents'}\n",
    "\n",
    "# create toc placeholder as first sheet in Excel\n",
    "df = pd.DataFrame()\n",
    "df.to_excel(xls_writer, '0')\n",
    "\n",
    "# iterate database, write DataFrames, and save toc data\n",
    "for i,(title,df) in enumerate(database.items()):\n",
    "    # save DataFrame title and sheet link in TOC dictionary\n",
    "    sheet_name = title\n",
    "    sheet_num = i+1\n",
    "    xls_toc[sheet_num] = '=HYPERLINK(\"#{}!A1\",\"{}\")'.format(str(sheet_num),sheet_name)\n",
    "\n",
    "    # add header level to DataFrame as link to TOC\n",
    "    df = df.T\n",
    "    df['dummy'] = '=HYPERLINK(\"#0!A1\",\"Go Back To Table of Contents\")'\n",
    "    df = df.set_index('dummy', append=True)\n",
    "    df = df.reorder_levels([df.index.nlevels-1] + list(range(df.index.nlevels-1)), axis=0)\n",
    "    df.index.names = [None]*len(df.index.names)\n",
    "    df = df.T\n",
    "    \n",
    "    # write DataFrame to Excel\n",
    "    df.to_excel(xls_writer, str(sheet_num))\n",
    "\n",
    "# compile TOC and write as first sheet\n",
    "df_toc = pd.DataFrame.from_dict(xls_toc, orient='index')\n",
    "df_toc.columns = ['Title']\n",
    "df_toc.index.naes = ['Sheet']\n",
    "df_toc.to_excel(xls_writer, '0', index=True)\n",
    "\n",
    "# save and close Excel\n",
    "xls_writer.save()\n",
    "xls_writer.close()"
   ]
  },
  {
   "cell_type": "markdown",
   "metadata": {},
   "source": [
    "## Result\n",
    "\n",
    "As you can see below, the links are correctly applied and working."
   ]
  },
  {
   "cell_type": "markdown",
   "metadata": {},
   "source": [
    "![Excel TOC](img\\excel_toc.jpg)"
   ]
  },
  {
   "cell_type": "markdown",
   "metadata": {},
   "source": [
    "![Excel DataFrame](img\\excel_dataframe.jpg)"
   ]
  }
 ],
 "metadata": {
  "kernelspec": {
   "display_name": "Python 3",
   "language": "python",
   "name": "python3"
  },
  "language_info": {
   "codemirror_mode": {
    "name": "ipython",
    "version": 3
   },
   "file_extension": ".py",
   "mimetype": "text/x-python",
   "name": "python",
   "nbconvert_exporter": "python",
   "pygments_lexer": "ipython3",
   "version": "3.6.3"
  }
 },
 "nbformat": 4,
 "nbformat_minor": 2
}
