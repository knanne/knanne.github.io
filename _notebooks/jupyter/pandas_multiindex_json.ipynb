{
 "cells": [
  {
   "cell_type": "markdown",
   "metadata": {},
   "source": [
    "# Pandas MultiIndex JSON"
   ]
  },
  {
   "cell_type": "code",
   "execution_count": 1,
   "metadata": {},
   "outputs": [],
   "source": [
    "import pandas as pd\n",
    "import numpy as np\n",
    "import json"
   ]
  },
  {
   "cell_type": "markdown",
   "metadata": {},
   "source": [
    "## DataFrame From Dictionary"
   ]
  },
  {
   "cell_type": "code",
   "execution_count": 2,
   "metadata": {},
   "outputs": [],
   "source": [
    "d = {}\n",
    "for i in range(2):\n",
    "    for j,k in enumerate(np.random.rand(2)):\n",
    "        d[(i,j)] = {'data1':k, 'data2':np.square(k), 'data3':np.sqrt(k), 'data4':np.log(k)}"
   ]
  },
  {
   "cell_type": "code",
   "execution_count": 3,
   "metadata": {},
   "outputs": [
    {
     "data": {
      "text/plain": [
       "{(0, 0): {'data1': 0.63969688287219773,\n",
       "  'data2': 0.40921210195640628,\n",
       "  'data3': 0.79981052935817099,\n",
       "  'data4': -0.44676083533423155},\n",
       " (0, 1): {'data1': 0.63735524364866158,\n",
       "  'data2': 0.4062217066064448,\n",
       "  'data3': 0.79834531604354109,\n",
       "  'data4': -0.45042809651998916},\n",
       " (1, 0): {'data1': 0.79321798000555221,\n",
       "  'data2': 0.62919476380408867,\n",
       "  'data3': 0.89062785719151649,\n",
       "  'data4': -0.23165721491116487},\n",
       " (1, 1): {'data1': 0.7730684926552801,\n",
       "  'data2': 0.5976348943363069,\n",
       "  'data3': 0.87924313625713346,\n",
       "  'data4': -0.25738762803893295}}"
      ]
     },
     "execution_count": 3,
     "metadata": {},
     "output_type": "execute_result"
    }
   ],
   "source": [
    "d"
   ]
  },
  {
   "cell_type": "code",
   "execution_count": 4,
   "metadata": {},
   "outputs": [],
   "source": [
    "df = pd.DataFrame.from_dict(d, orient='index')"
   ]
  },
  {
   "cell_type": "code",
   "execution_count": 5,
   "metadata": {},
   "outputs": [],
   "source": [
    "df.index.names = ['category1', 'category2']"
   ]
  },
  {
   "cell_type": "code",
   "execution_count": 6,
   "metadata": {},
   "outputs": [
    {
     "data": {
      "text/html": [
       "<div>\n",
       "<style>\n",
       "    .dataframe thead tr:only-child th {\n",
       "        text-align: right;\n",
       "    }\n",
       "\n",
       "    .dataframe thead th {\n",
       "        text-align: left;\n",
       "    }\n",
       "\n",
       "    .dataframe tbody tr th {\n",
       "        vertical-align: top;\n",
       "    }\n",
       "</style>\n",
       "<table border=\"1\" class=\"dataframe\">\n",
       "  <thead>\n",
       "    <tr style=\"text-align: right;\">\n",
       "      <th></th>\n",
       "      <th></th>\n",
       "      <th>data2</th>\n",
       "      <th>data1</th>\n",
       "      <th>data4</th>\n",
       "      <th>data3</th>\n",
       "    </tr>\n",
       "    <tr>\n",
       "      <th>category1</th>\n",
       "      <th>category2</th>\n",
       "      <th></th>\n",
       "      <th></th>\n",
       "      <th></th>\n",
       "      <th></th>\n",
       "    </tr>\n",
       "  </thead>\n",
       "  <tbody>\n",
       "    <tr>\n",
       "      <th rowspan=\"2\" valign=\"top\">0</th>\n",
       "      <th>0</th>\n",
       "      <td>0.409212</td>\n",
       "      <td>0.639697</td>\n",
       "      <td>-0.446761</td>\n",
       "      <td>0.799811</td>\n",
       "    </tr>\n",
       "    <tr>\n",
       "      <th>1</th>\n",
       "      <td>0.406222</td>\n",
       "      <td>0.637355</td>\n",
       "      <td>-0.450428</td>\n",
       "      <td>0.798345</td>\n",
       "    </tr>\n",
       "    <tr>\n",
       "      <th rowspan=\"2\" valign=\"top\">1</th>\n",
       "      <th>0</th>\n",
       "      <td>0.629195</td>\n",
       "      <td>0.793218</td>\n",
       "      <td>-0.231657</td>\n",
       "      <td>0.890628</td>\n",
       "    </tr>\n",
       "    <tr>\n",
       "      <th>1</th>\n",
       "      <td>0.597635</td>\n",
       "      <td>0.773068</td>\n",
       "      <td>-0.257388</td>\n",
       "      <td>0.879243</td>\n",
       "    </tr>\n",
       "  </tbody>\n",
       "</table>\n",
       "</div>"
      ],
      "text/plain": [
       "                        data2     data1     data4     data3\n",
       "category1 category2                                        \n",
       "0         0          0.409212  0.639697 -0.446761  0.799811\n",
       "          1          0.406222  0.637355 -0.450428  0.798345\n",
       "1         0          0.629195  0.793218 -0.231657  0.890628\n",
       "          1          0.597635  0.773068 -0.257388  0.879243"
      ]
     },
     "execution_count": 6,
     "metadata": {},
     "output_type": "execute_result"
    }
   ],
   "source": [
    "df"
   ]
  },
  {
   "cell_type": "markdown",
   "metadata": {},
   "source": [
    "**Alternatively, we could have done the reverse, by making columns the multindex.**"
   ]
  },
  {
   "cell_type": "code",
   "execution_count": 7,
   "metadata": {},
   "outputs": [],
   "source": [
    "df2 = pd.DataFrame.from_dict(d, orient='columns')"
   ]
  },
  {
   "cell_type": "code",
   "execution_count": 8,
   "metadata": {},
   "outputs": [],
   "source": [
    "df2.columns.names = ['category1', 'category2']"
   ]
  },
  {
   "cell_type": "code",
   "execution_count": 9,
   "metadata": {},
   "outputs": [
    {
     "data": {
      "text/html": [
       "<div>\n",
       "<style>\n",
       "    .dataframe thead tr:only-child th {\n",
       "        text-align: right;\n",
       "    }\n",
       "\n",
       "    .dataframe thead th {\n",
       "        text-align: left;\n",
       "    }\n",
       "\n",
       "    .dataframe tbody tr th {\n",
       "        vertical-align: top;\n",
       "    }\n",
       "</style>\n",
       "<table border=\"1\" class=\"dataframe\">\n",
       "  <thead>\n",
       "    <tr>\n",
       "      <th>category1</th>\n",
       "      <th colspan=\"2\" halign=\"left\">0</th>\n",
       "      <th colspan=\"2\" halign=\"left\">1</th>\n",
       "    </tr>\n",
       "    <tr>\n",
       "      <th>category2</th>\n",
       "      <th>0</th>\n",
       "      <th>1</th>\n",
       "      <th>0</th>\n",
       "      <th>1</th>\n",
       "    </tr>\n",
       "  </thead>\n",
       "  <tbody>\n",
       "    <tr>\n",
       "      <th>data1</th>\n",
       "      <td>0.639697</td>\n",
       "      <td>0.637355</td>\n",
       "      <td>0.793218</td>\n",
       "      <td>0.773068</td>\n",
       "    </tr>\n",
       "    <tr>\n",
       "      <th>data2</th>\n",
       "      <td>0.409212</td>\n",
       "      <td>0.406222</td>\n",
       "      <td>0.629195</td>\n",
       "      <td>0.597635</td>\n",
       "    </tr>\n",
       "    <tr>\n",
       "      <th>data3</th>\n",
       "      <td>0.799811</td>\n",
       "      <td>0.798345</td>\n",
       "      <td>0.890628</td>\n",
       "      <td>0.879243</td>\n",
       "    </tr>\n",
       "    <tr>\n",
       "      <th>data4</th>\n",
       "      <td>-0.446761</td>\n",
       "      <td>-0.450428</td>\n",
       "      <td>-0.231657</td>\n",
       "      <td>-0.257388</td>\n",
       "    </tr>\n",
       "  </tbody>\n",
       "</table>\n",
       "</div>"
      ],
      "text/plain": [
       "category1         0                   1          \n",
       "category2         0         1         0         1\n",
       "data1      0.639697  0.637355  0.793218  0.773068\n",
       "data2      0.409212  0.406222  0.629195  0.597635\n",
       "data3      0.799811  0.798345  0.890628  0.879243\n",
       "data4     -0.446761 -0.450428 -0.231657 -0.257388"
      ]
     },
     "execution_count": 9,
     "metadata": {},
     "output_type": "execute_result"
    }
   ],
   "source": [
    "df2"
   ]
  },
  {
   "cell_type": "markdown",
   "metadata": {},
   "source": [
    "## Dictionary From DataFrame"
   ]
  },
  {
   "cell_type": "code",
   "execution_count": 10,
   "metadata": {},
   "outputs": [],
   "source": [
    "d = df.to_dict()"
   ]
  },
  {
   "cell_type": "code",
   "execution_count": 11,
   "metadata": {},
   "outputs": [
    {
     "data": {
      "text/plain": [
       "{'data1': {(0, 0): 0.63969688287219773,\n",
       "  (0, 1): 0.63735524364866158,\n",
       "  (1, 0): 0.79321798000555221,\n",
       "  (1, 1): 0.7730684926552801},\n",
       " 'data2': {(0, 0): 0.40921210195640628,\n",
       "  (0, 1): 0.4062217066064448,\n",
       "  (1, 0): 0.62919476380408867,\n",
       "  (1, 1): 0.5976348943363069},\n",
       " 'data3': {(0, 0): 0.79981052935817099,\n",
       "  (0, 1): 0.79834531604354109,\n",
       "  (1, 0): 0.89062785719151649,\n",
       "  (1, 1): 0.87924313625713346},\n",
       " 'data4': {(0, 0): -0.44676083533423155,\n",
       "  (0, 1): -0.45042809651998916,\n",
       "  (1, 0): -0.23165721491116487,\n",
       "  (1, 1): -0.25738762803893295}}"
      ]
     },
     "execution_count": 11,
     "metadata": {},
     "output_type": "execute_result"
    }
   ],
   "source": [
    "d"
   ]
  },
  {
   "cell_type": "markdown",
   "metadata": {},
   "source": [
    "**To get back to original format we had, first transpose, then convert to dictionary.**"
   ]
  },
  {
   "cell_type": "code",
   "execution_count": 12,
   "metadata": {},
   "outputs": [],
   "source": [
    "d = df.T.to_dict()"
   ]
  },
  {
   "cell_type": "markdown",
   "metadata": {},
   "source": [
    "*Of course, since df2 is in fact the \"Transpose\" of df, doing `df2.to_dict()` would be the same as the above method.*"
   ]
  },
  {
   "cell_type": "code",
   "execution_count": 13,
   "metadata": {},
   "outputs": [
    {
     "data": {
      "text/plain": [
       "{(0, 0): {'data1': 0.63969688287219773,\n",
       "  'data2': 0.40921210195640628,\n",
       "  'data3': 0.79981052935817099,\n",
       "  'data4': -0.44676083533423155},\n",
       " (0, 1): {'data1': 0.63735524364866158,\n",
       "  'data2': 0.4062217066064448,\n",
       "  'data3': 0.79834531604354109,\n",
       "  'data4': -0.45042809651998916},\n",
       " (1, 0): {'data1': 0.79321798000555221,\n",
       "  'data2': 0.62919476380408867,\n",
       "  'data3': 0.89062785719151649,\n",
       "  'data4': -0.23165721491116487},\n",
       " (1, 1): {'data1': 0.7730684926552801,\n",
       "  'data2': 0.5976348943363069,\n",
       "  'data3': 0.87924313625713346,\n",
       "  'data4': -0.25738762803893295}}"
      ]
     },
     "execution_count": 13,
     "metadata": {},
     "output_type": "execute_result"
    }
   ],
   "source": [
    "d"
   ]
  },
  {
   "cell_type": "markdown",
   "metadata": {},
   "source": [
    "# Write JSON File\n",
    "\n",
    "JSON only support `string` `keys`, and therefore won't accept our `tuple` from Pandas `multiindex`. Converting it to a string would work, and below is a full example on how to do this, however, you should probably consider writing as a simply `csv`."
   ]
  },
  {
   "cell_type": "code",
   "execution_count": 14,
   "metadata": {},
   "outputs": [],
   "source": [
    "d = {str(k):v for k,v in d.items()}"
   ]
  },
  {
   "cell_type": "code",
   "execution_count": 15,
   "metadata": {},
   "outputs": [
    {
     "data": {
      "text/plain": [
       "{'(0, 0)': {'data1': 0.63969688287219773,\n",
       "  'data2': 0.40921210195640628,\n",
       "  'data3': 0.79981052935817099,\n",
       "  'data4': -0.44676083533423155},\n",
       " '(0, 1)': {'data1': 0.63735524364866158,\n",
       "  'data2': 0.4062217066064448,\n",
       "  'data3': 0.79834531604354109,\n",
       "  'data4': -0.45042809651998916},\n",
       " '(1, 0)': {'data1': 0.79321798000555221,\n",
       "  'data2': 0.62919476380408867,\n",
       "  'data3': 0.89062785719151649,\n",
       "  'data4': -0.23165721491116487},\n",
       " '(1, 1)': {'data1': 0.7730684926552801,\n",
       "  'data2': 0.5976348943363069,\n",
       "  'data3': 0.87924313625713346,\n",
       "  'data4': -0.25738762803893295}}"
      ]
     },
     "execution_count": 15,
     "metadata": {},
     "output_type": "execute_result"
    }
   ],
   "source": [
    "d"
   ]
  },
  {
   "cell_type": "code",
   "execution_count": 16,
   "metadata": {},
   "outputs": [],
   "source": [
    "with open('file.json', 'w') as f:\n",
    "    f.write(json.dumps(d, indent=4))"
   ]
  },
  {
   "cell_type": "markdown",
   "metadata": {},
   "source": [
    "# Read JSON File"
   ]
  },
  {
   "cell_type": "code",
   "execution_count": 17,
   "metadata": {},
   "outputs": [],
   "source": [
    "from ast import literal_eval"
   ]
  },
  {
   "cell_type": "code",
   "execution_count": 18,
   "metadata": {},
   "outputs": [],
   "source": [
    "with open('file.json') as f:\n",
    "    d = json.loads(f.read())"
   ]
  },
  {
   "cell_type": "code",
   "execution_count": 19,
   "metadata": {},
   "outputs": [],
   "source": [
    "d = {literal_eval(k):v for k,v in d.items()}"
   ]
  },
  {
   "cell_type": "code",
   "execution_count": 20,
   "metadata": {},
   "outputs": [
    {
     "data": {
      "text/plain": [
       "{(0, 0): {'data1': 0.6396968828721977,\n",
       "  'data2': 0.4092121019564063,\n",
       "  'data3': 0.799810529358171,\n",
       "  'data4': -0.44676083533423155},\n",
       " (0, 1): {'data1': 0.6373552436486616,\n",
       "  'data2': 0.4062217066064448,\n",
       "  'data3': 0.7983453160435411,\n",
       "  'data4': -0.45042809651998916},\n",
       " (1, 0): {'data1': 0.7932179800055522,\n",
       "  'data2': 0.6291947638040887,\n",
       "  'data3': 0.8906278571915165,\n",
       "  'data4': -0.23165721491116487},\n",
       " (1, 1): {'data1': 0.7730684926552801,\n",
       "  'data2': 0.5976348943363069,\n",
       "  'data3': 0.8792431362571335,\n",
       "  'data4': -0.25738762803893295}}"
      ]
     },
     "execution_count": 20,
     "metadata": {},
     "output_type": "execute_result"
    }
   ],
   "source": [
    "d"
   ]
  }
 ],
 "metadata": {
  "kernelspec": {
   "display_name": "Python 3",
   "language": "python",
   "name": "python3"
  },
  "language_info": {
   "codemirror_mode": {
    "name": "ipython",
    "version": 3
   },
   "file_extension": ".py",
   "mimetype": "text/x-python",
   "name": "python",
   "nbconvert_exporter": "python",
   "pygments_lexer": "ipython3",
   "version": "3.4.5"
  }
 },
 "nbformat": 4,
 "nbformat_minor": 2
}
