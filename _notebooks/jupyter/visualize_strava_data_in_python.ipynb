{
 "cells": [
  {
   "cell_type": "markdown",
   "metadata": {},
   "source": [
    "# Contents\n",
    "\n",
    "- [Strava API](#Strava-API)\n",
    "    - [Swagger Client](#Swagger-Client)\n",
    "    - [Getting Over the Humps](#Getting-Over-the-Humps)\n",
    "    - [Test Working](#Test-WOrking)\n",
    "- [List Activites](#List-Activities)\n",
    "- [Conversion](#Conversion)\n",
    "- [Preview](#Preview)\n",
    "- [Data Dump](#Data-Dump)\n",
    "    - [Write](#Write)\n",
    "    - [Read](#Read)\n",
    "- [Data Analysis](#Data-Analysis)\n",
    "    - [Statistics](#Statistics)\n",
    "    - [Plots](#Plots)\n",
    "- [Geographic Data](#Geographic-Data)\n",
    "    - [Matplotlib](#Matplotlib)\n",
    "    - [Altair (Vega Lite / D3)](#Altair-(Vega-Lite-%2F-D3))"
   ]
  },
  {
   "cell_type": "markdown",
   "metadata": {},
   "source": [
    "# Strava API\n",
    "\n",
    "The official Strava API docs are here https://developers.strava.com/docs/  \n",
    " \n",
    "First go and create a free application to generate your access token. Go here https://www.strava.com/settings/api  \n",
    "\n",
    "I have already done this and defined my access token as an environment variable, called `STRAVA_ACCESS_TOKEN`.  "
   ]
  },
  {
   "cell_type": "code",
   "execution_count": 1,
   "metadata": {},
   "outputs": [],
   "source": [
    "import os"
   ]
  },
  {
   "cell_type": "code",
   "execution_count": 2,
   "metadata": {},
   "outputs": [],
   "source": [
    "strava_access_token = os.environ['STRAVA_ACCESS_TOKEN']"
   ]
  },
  {
   "cell_type": "markdown",
   "metadata": {},
   "source": [
    "## Swagger Client\n",
    "\n",
    "You interface with Strava's API via [Swagger, and the OpenAPI Specification](https://swagger.io/docs/specification/about/).\n",
    "\n",
    "Using a Swagger API comes with a few prequequisites, including the [Swagger CodeGen Command Line Interface (CLI)](https://github.com/swagger-api/swagger-codegen), and the [Java Runtime Environment (JRE)](https://www.oracle.com/technetwork/java/javase/downloads).  \n",
    "\n",
    "To get the Swagger CLI on Windows, i did the following:\n",
    "- create a folder where I am running this notebook, called `swagger`  \n",
    "- from there, run the following command via `Windows PowerShell`   \n",
    "```shell\n",
    "Invoke-WebRequest -OutFile swagger-codegen-cli.jar http://central.maven.org/maven2/io/swagger/swagger-codegen-cli/2.3.1/swagger-codegen-cli-2.3.1.jar\n",
    "```\n",
    "\n",
    "After you have Swagger CodeGen and JRE installed, test everything is working with the following:  \n",
    "\n",
    "```shell\n",
    "# (Windows)\n",
    "java -jar swagger/swagger-codegen-cli.jar help\n",
    "```\n",
    "\n",
    "Now you need to generate the Strava Swagger API locally to be able to use it. From within the resources folder, run the following command:  \n",
    "\n",
    "```shell\n",
    "# (Windows)\n",
    "java -jar swagger-codegen-cli.jar generate -i https://developers.strava.com/swagger/swagger.json -l python\n",
    "```\n",
    "\n",
    "This will download the API specification as a Python library in a folder called `swagger_client`.  \n",
    "\n",
    "We will temporarily add the `swagger` to our python `PATH` for making it available during the execution of this notebook only."
   ]
  },
  {
   "cell_type": "code",
   "execution_count": 3,
   "metadata": {},
   "outputs": [],
   "source": [
    "import sys\n",
    "sys.path.append(os.path.abspath('swagger'))"
   ]
  },
  {
   "cell_type": "code",
   "execution_count": 4,
   "metadata": {},
   "outputs": [],
   "source": [
    "import swagger_client"
   ]
  },
  {
   "cell_type": "code",
   "execution_count": 5,
   "metadata": {},
   "outputs": [],
   "source": [
    "swagger_client.configuration.access_token = strava_access_token"
   ]
  },
  {
   "cell_type": "markdown",
   "metadata": {},
   "source": [
    "## Getting Over the Humps\n",
    "\n",
    "Surprisingly, this took a bit longer than I hoped to figure everything out. Here are a few issues I ran into and how to solve them.  \n",
    "\n",
    "### Issue 1\n",
    "\n",
    "The examples on Strava website assume your code is running from the same directory you generated the swagger API, where `swagger_client` can be a \"relative import\", otherwise you will need to add the `swagger_client` folder to your `Python PATH`.\n",
    "\n",
    "### Issue 2\n",
    "\n",
    "Bug in the Strava Python examples. If you are using Python 3 ignore this, but if you are using Python 2 the following code in the examples is incorrect.  \n",
    "\n",
    "```python\n",
    "from __future__ import print_statement\n",
    "```\n",
    "\n",
    "Change it to.  \n",
    "\n",
    "```python\n",
    "from __future__ import print_function\n",
    "```\n",
    "\n",
    "### Issue 3\n",
    "\n",
    "Another bug in Strava Python examples.\n",
    "\n",
    "You must define every API class before using it. And it appears that every time we instantiate a new module, it resets the access token to a empty string.  \n",
    "\n",
    "Setting the access token at the client level, then providing the authenticated client with the following, also does not seem to work.  \n",
    "```python\n",
    "swagger_client.configuration.access_token = strava_access_token\n",
    "api_instance = swagger_client.AthletesApi(api_client=swagger_client)\n",
    "```\n",
    "\n",
    "You can try and hardcode your access_token into the swagger `configuration.py`, and maybe this is what Strava assumes you do, but this is probably not a good idea.  \n",
    "\n",
    "Alternatively it may be possible to provide the access token in `config.json` when building the swagger api with the `-c` keyword argument, but I could not get this to work.  "
   ]
  },
  {
   "cell_type": "markdown",
   "metadata": {},
   "source": [
    "## Test Working\n",
    "\n",
    "Okay, we got it working."
   ]
  },
  {
   "cell_type": "code",
   "execution_count": 6,
   "metadata": {},
   "outputs": [],
   "source": [
    "from swagger_client.rest import ApiException"
   ]
  },
  {
   "cell_type": "code",
   "execution_count": 7,
   "metadata": {},
   "outputs": [],
   "source": [
    "api_instance = swagger_client.AthletesApi()"
   ]
  },
  {
   "cell_type": "code",
   "execution_count": 8,
   "metadata": {},
   "outputs": [],
   "source": [
    "api_instance.api_client.configuration.access_token = strava_access_token"
   ]
  },
  {
   "cell_type": "code",
   "execution_count": 9,
   "metadata": {},
   "outputs": [],
   "source": [
    "try: \n",
    "    r = api_instance.get_logged_in_athlete()\n",
    "except ApiException as e:\n",
    "    print(e)"
   ]
  },
  {
   "cell_type": "code",
   "execution_count": 10,
   "metadata": {},
   "outputs": [
    {
     "name": "stdout",
     "output_type": "stream",
     "text": [
      "2164216\n"
     ]
    }
   ],
   "source": [
    "athlete_id = r.id\n",
    "print(athlete_id)"
   ]
  },
  {
   "cell_type": "code",
   "execution_count": 11,
   "metadata": {},
   "outputs": [
    {
     "data": {
      "text/plain": [
       "[{'distance': 775728.0,\n",
       "  'id': 'g187719',\n",
       "  'name': 'Nike',\n",
       "  'primary': True,\n",
       "  'resource_state': 2}]"
      ]
     },
     "execution_count": 11,
     "metadata": {},
     "output_type": "execute_result"
    }
   ],
   "source": [
    "r.shoes"
   ]
  },
  {
   "cell_type": "code",
   "execution_count": 12,
   "metadata": {},
   "outputs": [
    {
     "data": {
      "text/plain": [
       "[{'distance': 746918.0,\n",
       "  'id': 'b892090',\n",
       "  'name': \"GF 29'er\",\n",
       "  'primary': True,\n",
       "  'resource_state': 2}, {'distance': 855093.0,\n",
       "  'id': 'b892097',\n",
       "  'name': 'Sweet Felt',\n",
       "  'primary': False,\n",
       "  'resource_state': 2}]"
      ]
     },
     "execution_count": 12,
     "metadata": {},
     "output_type": "execute_result"
    }
   ],
   "source": [
    "r.bikes"
   ]
  },
  {
   "cell_type": "markdown",
   "metadata": {},
   "source": [
    "# List Activities\n",
    "\n",
    "Let's get all my activities, using pagination, at 30 activites per page. **If you know you have A LOT of activities, you should probably set some limit here.**"
   ]
  },
  {
   "cell_type": "code",
   "execution_count": null,
   "metadata": {},
   "outputs": [],
   "source": [
    "api_instance = swagger_client.ActivitiesApi()\n",
    "api_instance.api_client.configuration.access_token = strava_access_token\n",
    "\n",
    "results = []\n",
    "i = 1\n",
    "while True:\n",
    "    print('page:',i)\n",
    "    activities = api_instance.get_logged_in_athlete_activities(page=i, per_page=30)\n",
    "    if activities:\n",
    "        results.append(activities)\n",
    "        i+=1\n",
    "    else:\n",
    "        break"
   ]
  },
  {
   "cell_type": "markdown",
   "metadata": {},
   "source": [
    "# Conversion"
   ]
  },
  {
   "cell_type": "code",
   "execution_count": null,
   "metadata": {},
   "outputs": [],
   "source": [
    "# flatten the list of lists\n",
    "activities = [a for r in results for a in r]"
   ]
  },
  {
   "cell_type": "code",
   "execution_count": null,
   "metadata": {},
   "outputs": [],
   "source": [
    "# convert each Strava Activity Object to Python dictionary for more general use\n",
    "records = [a.to_dict() for a in activities]"
   ]
  },
  {
   "cell_type": "code",
   "execution_count": null,
   "metadata": {},
   "outputs": [],
   "source": [
    "len(activities)"
   ]
  },
  {
   "cell_type": "code",
   "execution_count": null,
   "metadata": {},
   "outputs": [],
   "source": [
    "len(records)"
   ]
  },
  {
   "cell_type": "markdown",
   "metadata": {},
   "source": [
    "# Data Dump\n",
    "\n",
    "We should backup the data on disk, in case we want to use it later without needing to call the API again.  \n",
    "\n",
    "**NOTE:** Since the data contains properties of type `datetime`, and Python does not know what to do with these when converting a `dict` to `json` string, we define two functions to \"serialize\" and \"deserialize\" the types to ISO format during read/write.  "
   ]
  },
  {
   "cell_type": "code",
   "execution_count": 13,
   "metadata": {},
   "outputs": [],
   "source": [
    "import json"
   ]
  },
  {
   "cell_type": "markdown",
   "metadata": {},
   "source": [
    "## Write"
   ]
  },
  {
   "cell_type": "code",
   "execution_count": null,
   "metadata": {},
   "outputs": [],
   "source": [
    "from datetime import datetime\n",
    "\n",
    "class datetime2iso(json.JSONEncoder):\n",
    "    def default(self, obj):\n",
    "        if isinstance(obj, datetime):\n",
    "            return obj.isoformat()\n",
    "        else:\n",
    "            return json.JSONEncoder.default(self, obj)"
   ]
  },
  {
   "cell_type": "code",
   "execution_count": null,
   "metadata": {},
   "outputs": [],
   "source": [
    "with open('data/strava_activites.json', 'w+') as f:\n",
    "    for d in records:\n",
    "        f.write(json.dumps(d, cls=datetime2iso))\n",
    "        f.write('\\n')"
   ]
  },
  {
   "cell_type": "markdown",
   "metadata": {},
   "source": [
    "## Read"
   ]
  },
  {
   "cell_type": "code",
   "execution_count": 14,
   "metadata": {},
   "outputs": [],
   "source": [
    "import dateutil\n",
    "\n",
    "def iso2datetime(obj):\n",
    "    d = {}\n",
    "    for k,v in obj:\n",
    "        if isinstance(v, str):\n",
    "            try:\n",
    "                d[k] = dateutil.parser.parse(v)\n",
    "            except ValueError:\n",
    "                d[k] = v\n",
    "        else:\n",
    "            d[k] = v\n",
    "    return d"
   ]
  },
  {
   "cell_type": "code",
   "execution_count": 15,
   "metadata": {},
   "outputs": [],
   "source": [
    "records = []\n",
    "with open('data/strava_activites.json', 'r') as f:\n",
    "    for d in f.readlines():\n",
    "        records.append(json.loads(d, object_pairs_hook=iso2datetime))"
   ]
  },
  {
   "cell_type": "markdown",
   "metadata": {},
   "source": [
    "# Preview"
   ]
  },
  {
   "cell_type": "code",
   "execution_count": 16,
   "metadata": {},
   "outputs": [
    {
     "data": {
      "text/plain": [
       "178"
      ]
     },
     "execution_count": 16,
     "metadata": {},
     "output_type": "execute_result"
    }
   ],
   "source": [
    "len(records)"
   ]
  },
  {
   "cell_type": "code",
   "execution_count": 17,
   "metadata": {},
   "outputs": [
    {
     "data": {
      "text/plain": [
       "{'id': 1902102990,\n",
       " 'external_id': '46a39d27e70a479cdbf74fe0ab319aa7',\n",
       " 'upload_id': 2036541392,\n",
       " 'athlete': {'id': 2164216},\n",
       " 'name': 'Saturday + Sun + Bike = Brewery',\n",
       " 'distance': 30365.9,\n",
       " 'moving_time': 5383,\n",
       " 'elapsed_time': 8725,\n",
       " 'total_elevation_gain': 49.4,\n",
       " 'elev_high': 7.7,\n",
       " 'elev_low': -3.2,\n",
       " 'type': 'Ride',\n",
       " 'start_date': datetime.datetime(2018, 10, 13, 11, 59, 27, tzinfo=tzutc()),\n",
       " 'start_date_local': datetime.datetime(2018, 10, 13, 13, 59, 27, tzinfo=tzutc()),\n",
       " 'timezone': '(GMT+01:00) Europe/Amsterdam',\n",
       " 'start_latlng': [52.14, 4.48],\n",
       " 'end_latlng': [52.15, 4.48],\n",
       " 'achievement_count': 27,\n",
       " 'kudos_count': 4,\n",
       " 'comment_count': 0,\n",
       " 'athlete_count': 1,\n",
       " 'photo_count': 0,\n",
       " 'total_photo_count': 1,\n",
       " 'map': {'id': 'a1902102990',\n",
       "  'polyline': None,\n",
       "  'summary_polyline': 'qdf}HghjZ`ArD~BlAvIhb@bGlGkA|DxEtPnLhG~YxXpG}KxJ~OfFjb@nW~`@pN|IlA|FlJvJ~KpVvJd\\\\tMzPzMbGbGfGzSlo@~f@plAdk@`g@dHxLrU~OrDrFtE~Ph@pKlGb[hS`{@fMb[r\\\\po@`ElEzCtJuGlL`AfCiCbEMdSL`DlJfQkNlVuAvFdJfR}@pCjBnBiByBfAgDaJsR`FmKJkA}@BhL}MkDcJi@{G_EwCHiQfCwDiAsEtGgIiCaLeEoEcg@mbA{Mqg@oJkk@sBcBwC}UcFoQipAmmAsh@ipAiQij@iHgH_MkFkHyIeEqGsIyZyKwUgKeLuAcGcFiAeHkHiVs_@{E{`@sJsQcHjLsZsYgLmGiEqOfBgC_@qAsFyFwIka@}CsBmQoi@FeBpCiBoIhGsBfGlB~Suh@bGfAzXhAhDjB{@'},\n",
       " 'trainer': False,\n",
       " 'commute': False,\n",
       " 'manual': False,\n",
       " 'private': False,\n",
       " 'flagged': False,\n",
       " 'workout_type': 10,\n",
       " 'average_speed': 5.641,\n",
       " 'max_speed': 14.3,\n",
       " 'has_kudoed': False,\n",
       " 'gear_id': 'b892090',\n",
       " 'kilojoules': 908.8,\n",
       " 'average_watts': 168.8,\n",
       " 'device_watts': False,\n",
       " 'max_watts': None,\n",
       " 'weighted_average_watts': None}"
      ]
     },
     "execution_count": 17,
     "metadata": {},
     "output_type": "execute_result"
    }
   ],
   "source": [
    "records[0]"
   ]
  },
  {
   "cell_type": "markdown",
   "metadata": {},
   "source": [
    "# Data Analysis\n",
    "\n",
    "Let's quickly bring this into Pandas to get summarize the data.  \n",
    "\n",
    "Using the definitions provided by Strava [here on Detailed Activity Model](https://developers.strava.com/docs/reference/#api-models-DetailedActivity).  "
   ]
  },
  {
   "cell_type": "code",
   "execution_count": 18,
   "metadata": {},
   "outputs": [],
   "source": [
    "import pandas as pd"
   ]
  },
  {
   "cell_type": "code",
   "execution_count": 19,
   "metadata": {},
   "outputs": [],
   "source": [
    "df = pd.DataFrame.from_records(records)"
   ]
  },
  {
   "cell_type": "code",
   "execution_count": 20,
   "metadata": {},
   "outputs": [
    {
     "data": {
      "text/plain": [
       "(178, 39)"
      ]
     },
     "execution_count": 20,
     "metadata": {},
     "output_type": "execute_result"
    }
   ],
   "source": [
    "df.shape"
   ]
  },
  {
   "cell_type": "markdown",
   "metadata": {},
   "source": [
    "### Preview"
   ]
  },
  {
   "cell_type": "code",
   "execution_count": 21,
   "metadata": {},
   "outputs": [
    {
     "data": {
      "text/html": [
       "<div>\n",
       "<style scoped>\n",
       "    .dataframe tbody tr th:only-of-type {\n",
       "        vertical-align: middle;\n",
       "    }\n",
       "\n",
       "    .dataframe tbody tr th {\n",
       "        vertical-align: top;\n",
       "    }\n",
       "\n",
       "    .dataframe thead th {\n",
       "        text-align: right;\n",
       "    }\n",
       "</style>\n",
       "<table border=\"1\" class=\"dataframe\">\n",
       "  <thead>\n",
       "    <tr style=\"text-align: right;\">\n",
       "      <th></th>\n",
       "      <th>achievement_count</th>\n",
       "      <th>athlete</th>\n",
       "      <th>athlete_count</th>\n",
       "      <th>average_speed</th>\n",
       "      <th>average_watts</th>\n",
       "      <th>comment_count</th>\n",
       "      <th>commute</th>\n",
       "      <th>device_watts</th>\n",
       "      <th>distance</th>\n",
       "      <th>elapsed_time</th>\n",
       "      <th>...</th>\n",
       "      <th>start_date_local</th>\n",
       "      <th>start_latlng</th>\n",
       "      <th>timezone</th>\n",
       "      <th>total_elevation_gain</th>\n",
       "      <th>total_photo_count</th>\n",
       "      <th>trainer</th>\n",
       "      <th>type</th>\n",
       "      <th>upload_id</th>\n",
       "      <th>weighted_average_watts</th>\n",
       "      <th>workout_type</th>\n",
       "    </tr>\n",
       "  </thead>\n",
       "  <tbody>\n",
       "    <tr>\n",
       "      <th>0</th>\n",
       "      <td>27</td>\n",
       "      <td>{'id': 2164216}</td>\n",
       "      <td>1</td>\n",
       "      <td>5.641</td>\n",
       "      <td>168.8</td>\n",
       "      <td>0</td>\n",
       "      <td>False</td>\n",
       "      <td>False</td>\n",
       "      <td>30365.9</td>\n",
       "      <td>8725</td>\n",
       "      <td>...</td>\n",
       "      <td>2018-10-13 13:59:27+00:00</td>\n",
       "      <td>[52.14, 4.48]</td>\n",
       "      <td>(GMT+01:00) Europe/Amsterdam</td>\n",
       "      <td>49.4</td>\n",
       "      <td>1</td>\n",
       "      <td>False</td>\n",
       "      <td>Ride</td>\n",
       "      <td>2.036541e+09</td>\n",
       "      <td>None</td>\n",
       "      <td>10.0</td>\n",
       "    </tr>\n",
       "    <tr>\n",
       "      <th>1</th>\n",
       "      <td>9</td>\n",
       "      <td>{'id': 2164216}</td>\n",
       "      <td>1</td>\n",
       "      <td>3.012</td>\n",
       "      <td>NaN</td>\n",
       "      <td>0</td>\n",
       "      <td>False</td>\n",
       "      <td>None</td>\n",
       "      <td>10653.3</td>\n",
       "      <td>3744</td>\n",
       "      <td>...</td>\n",
       "      <td>2018-09-29 15:03:25+00:00</td>\n",
       "      <td>[52.15, 4.49]</td>\n",
       "      <td>(GMT+01:00) Europe/Amsterdam</td>\n",
       "      <td>52.9</td>\n",
       "      <td>0</td>\n",
       "      <td>False</td>\n",
       "      <td>Run</td>\n",
       "      <td>2.006422e+09</td>\n",
       "      <td>None</td>\n",
       "      <td>3.0</td>\n",
       "    </tr>\n",
       "  </tbody>\n",
       "</table>\n",
       "<p>2 rows × 39 columns</p>\n",
       "</div>"
      ],
      "text/plain": [
       "   achievement_count          athlete  athlete_count  average_speed  \\\n",
       "0                 27  {'id': 2164216}              1          5.641   \n",
       "1                  9  {'id': 2164216}              1          3.012   \n",
       "\n",
       "   average_watts  comment_count  commute device_watts  distance  elapsed_time  \\\n",
       "0          168.8              0    False        False   30365.9          8725   \n",
       "1            NaN              0    False         None   10653.3          3744   \n",
       "\n",
       "       ...               start_date_local   start_latlng  \\\n",
       "0      ...      2018-10-13 13:59:27+00:00  [52.14, 4.48]   \n",
       "1      ...      2018-09-29 15:03:25+00:00  [52.15, 4.49]   \n",
       "\n",
       "                       timezone total_elevation_gain  total_photo_count  \\\n",
       "0  (GMT+01:00) Europe/Amsterdam                 49.4                  1   \n",
       "1  (GMT+01:00) Europe/Amsterdam                 52.9                  0   \n",
       "\n",
       "  trainer  type     upload_id  weighted_average_watts  workout_type  \n",
       "0   False  Ride  2.036541e+09                    None          10.0  \n",
       "1   False   Run  2.006422e+09                    None           3.0  \n",
       "\n",
       "[2 rows x 39 columns]"
      ]
     },
     "execution_count": 21,
     "metadata": {},
     "output_type": "execute_result"
    }
   ],
   "source": [
    "df.head(2)"
   ]
  },
  {
   "cell_type": "markdown",
   "metadata": {},
   "source": [
    "### Conversions"
   ]
  },
  {
   "cell_type": "code",
   "execution_count": 22,
   "metadata": {},
   "outputs": [],
   "source": [
    "# convert distance in meters to kilometers\n",
    "df.loc[:,'distance'] = df.distance / 1000\n",
    "\n",
    "# convert moving in seconds time to minutes\n",
    "df.loc[:,'moving_time'] = df.moving_time / 60\n",
    "\n",
    "# convert average speed in meters per second to minutes per kilometer\n",
    "df.loc[:,'average_speed_mpk'] = 16.666 / df.average_speed\n",
    "\n",
    "# create new column average speed in kilometers per hour\n",
    "df.loc[:,'average_speed_kph'] = 60 / df.average_speed_mpk"
   ]
  },
  {
   "cell_type": "markdown",
   "metadata": {},
   "source": [
    "### Formatting"
   ]
  },
  {
   "cell_type": "code",
   "execution_count": 23,
   "metadata": {},
   "outputs": [],
   "source": [
    "# format date to be used in plot labels\n",
    "df.loc[:,'start_date_formatted'] = df.start_date.dt.strftime('%b %Y')"
   ]
  },
  {
   "cell_type": "markdown",
   "metadata": {},
   "source": [
    "## Statistics"
   ]
  },
  {
   "cell_type": "code",
   "execution_count": 24,
   "metadata": {},
   "outputs": [
    {
     "data": {
      "text/plain": [
       "Run          137\n",
       "Ride          38\n",
       "Hike           2\n",
       "AlpineSki      1\n",
       "Name: type, dtype: int64"
      ]
     },
     "execution_count": 24,
     "metadata": {},
     "output_type": "execute_result"
    }
   ],
   "source": [
    "df.type.value_counts()"
   ]
  },
  {
   "cell_type": "code",
   "execution_count": 25,
   "metadata": {},
   "outputs": [
    {
     "data": {
      "text/html": [
       "<div>\n",
       "<style scoped>\n",
       "    .dataframe tbody tr th:only-of-type {\n",
       "        vertical-align: middle;\n",
       "    }\n",
       "\n",
       "    .dataframe tbody tr th {\n",
       "        vertical-align: top;\n",
       "    }\n",
       "\n",
       "    .dataframe thead th {\n",
       "        text-align: right;\n",
       "    }\n",
       "</style>\n",
       "<table border=\"1\" class=\"dataframe\">\n",
       "  <thead>\n",
       "    <tr style=\"text-align: right;\">\n",
       "      <th></th>\n",
       "      <th>type</th>\n",
       "      <th>AlpineSki</th>\n",
       "      <th>Hike</th>\n",
       "      <th>Ride</th>\n",
       "      <th>Run</th>\n",
       "    </tr>\n",
       "  </thead>\n",
       "  <tbody>\n",
       "    <tr>\n",
       "      <th rowspan=\"2\" valign=\"top\">average_speed_mpk</th>\n",
       "      <th>mean</th>\n",
       "      <td>2.662300</td>\n",
       "      <td>11.130909</td>\n",
       "      <td>2.971785</td>\n",
       "      <td>5.640177</td>\n",
       "    </tr>\n",
       "    <tr>\n",
       "      <th>max</th>\n",
       "      <td>2.662300</td>\n",
       "      <td>14.159728</td>\n",
       "      <td>6.864086</td>\n",
       "      <td>7.271379</td>\n",
       "    </tr>\n",
       "    <tr>\n",
       "      <th rowspan=\"2\" valign=\"top\">average_speed_kph</th>\n",
       "      <th>mean</th>\n",
       "      <td>22.536901</td>\n",
       "      <td>5.821433</td>\n",
       "      <td>21.360981</td>\n",
       "      <td>10.727615</td>\n",
       "    </tr>\n",
       "    <tr>\n",
       "      <th>max</th>\n",
       "      <td>22.536901</td>\n",
       "      <td>7.405496</td>\n",
       "      <td>27.739110</td>\n",
       "      <td>13.500540</td>\n",
       "    </tr>\n",
       "    <tr>\n",
       "      <th rowspan=\"2\" valign=\"top\">distance</th>\n",
       "      <th>mean</th>\n",
       "      <td>6.348000</td>\n",
       "      <td>7.263100</td>\n",
       "      <td>51.447458</td>\n",
       "      <td>5.953531</td>\n",
       "    </tr>\n",
       "    <tr>\n",
       "      <th>max</th>\n",
       "      <td>6.348000</td>\n",
       "      <td>9.464000</td>\n",
       "      <td>121.092000</td>\n",
       "      <td>12.309700</td>\n",
       "    </tr>\n",
       "    <tr>\n",
       "      <th rowspan=\"2\" valign=\"top\">moving_time</th>\n",
       "      <th>mean</th>\n",
       "      <td>16.900000</td>\n",
       "      <td>74.175000</td>\n",
       "      <td>143.996491</td>\n",
       "      <td>33.660827</td>\n",
       "    </tr>\n",
       "    <tr>\n",
       "      <th>max</th>\n",
       "      <td>16.900000</td>\n",
       "      <td>76.666667</td>\n",
       "      <td>341.583333</td>\n",
       "      <td>85.733333</td>\n",
       "    </tr>\n",
       "    <tr>\n",
       "      <th rowspan=\"2\" valign=\"top\">total_elevation_gain</th>\n",
       "      <th>mean</th>\n",
       "      <td>3.600000</td>\n",
       "      <td>209.700000</td>\n",
       "      <td>273.378947</td>\n",
       "      <td>25.176642</td>\n",
       "    </tr>\n",
       "    <tr>\n",
       "      <th>max</th>\n",
       "      <td>3.600000</td>\n",
       "      <td>405.100000</td>\n",
       "      <td>1370.300000</td>\n",
       "      <td>393.000000</td>\n",
       "    </tr>\n",
       "    <tr>\n",
       "      <th rowspan=\"2\" valign=\"top\">achievement_count</th>\n",
       "      <th>mean</th>\n",
       "      <td>0.000000</td>\n",
       "      <td>0.000000</td>\n",
       "      <td>7.473684</td>\n",
       "      <td>1.401460</td>\n",
       "    </tr>\n",
       "    <tr>\n",
       "      <th>max</th>\n",
       "      <td>0.000000</td>\n",
       "      <td>0.000000</td>\n",
       "      <td>40.000000</td>\n",
       "      <td>9.000000</td>\n",
       "    </tr>\n",
       "  </tbody>\n",
       "</table>\n",
       "</div>"
      ],
      "text/plain": [
       "type                       AlpineSki        Hike         Ride         Run\n",
       "average_speed_mpk    mean   2.662300   11.130909     2.971785    5.640177\n",
       "                     max    2.662300   14.159728     6.864086    7.271379\n",
       "average_speed_kph    mean  22.536901    5.821433    21.360981   10.727615\n",
       "                     max   22.536901    7.405496    27.739110   13.500540\n",
       "distance             mean   6.348000    7.263100    51.447458    5.953531\n",
       "                     max    6.348000    9.464000   121.092000   12.309700\n",
       "moving_time          mean  16.900000   74.175000   143.996491   33.660827\n",
       "                     max   16.900000   76.666667   341.583333   85.733333\n",
       "total_elevation_gain mean   3.600000  209.700000   273.378947   25.176642\n",
       "                     max    3.600000  405.100000  1370.300000  393.000000\n",
       "achievement_count    mean   0.000000    0.000000     7.473684    1.401460\n",
       "                     max    0.000000    0.000000    40.000000    9.000000"
      ]
     },
     "execution_count": 25,
     "metadata": {},
     "output_type": "execute_result"
    }
   ],
   "source": [
    "df.groupby('type')\\\n",
    "    [['average_speed_mpk',\n",
    "      'average_speed_kph',\n",
    "      'distance','moving_time',\n",
    "      'total_elevation_gain',\n",
    "      'achievement_count']]\\\n",
    "    .agg(['mean','max'])\\\n",
    "    .T"
   ]
  },
  {
   "cell_type": "code",
   "execution_count": 26,
   "metadata": {},
   "outputs": [
    {
     "data": {
      "text/html": [
       "<div>\n",
       "<style scoped>\n",
       "    .dataframe tbody tr th:only-of-type {\n",
       "        vertical-align: middle;\n",
       "    }\n",
       "\n",
       "    .dataframe tbody tr th {\n",
       "        vertical-align: top;\n",
       "    }\n",
       "\n",
       "    .dataframe thead th {\n",
       "        text-align: right;\n",
       "    }\n",
       "</style>\n",
       "<table border=\"1\" class=\"dataframe\">\n",
       "  <thead>\n",
       "    <tr style=\"text-align: right;\">\n",
       "      <th></th>\n",
       "      <th></th>\n",
       "      <th>type</th>\n",
       "    </tr>\n",
       "    <tr>\n",
       "      <th>timezone</th>\n",
       "      <th>type</th>\n",
       "      <th></th>\n",
       "    </tr>\n",
       "  </thead>\n",
       "  <tbody>\n",
       "    <tr>\n",
       "      <th rowspan=\"3\" valign=\"top\">(GMT+01:00) Europe/Amsterdam</th>\n",
       "      <th>Run</th>\n",
       "      <td>80</td>\n",
       "    </tr>\n",
       "    <tr>\n",
       "      <th>Ride</th>\n",
       "      <td>8</td>\n",
       "    </tr>\n",
       "    <tr>\n",
       "      <th>Hike</th>\n",
       "      <td>1</td>\n",
       "    </tr>\n",
       "    <tr>\n",
       "      <th>(GMT+01:00) Europe/Vienna</th>\n",
       "      <th>AlpineSki</th>\n",
       "      <td>1</td>\n",
       "    </tr>\n",
       "    <tr>\n",
       "      <th rowspan=\"2\" valign=\"top\">(GMT+08:00) Asia/Kuala_Lumpur</th>\n",
       "      <th>Hike</th>\n",
       "      <td>1</td>\n",
       "    </tr>\n",
       "    <tr>\n",
       "      <th>Run</th>\n",
       "      <td>1</td>\n",
       "    </tr>\n",
       "    <tr>\n",
       "      <th rowspan=\"2\" valign=\"top\">(GMT+08:00) Asia/Singapore</th>\n",
       "      <th>Ride</th>\n",
       "      <td>9</td>\n",
       "    </tr>\n",
       "    <tr>\n",
       "      <th>Run</th>\n",
       "      <td>1</td>\n",
       "    </tr>\n",
       "    <tr>\n",
       "      <th rowspan=\"2\" valign=\"top\">(GMT-06:00) America/Chicago</th>\n",
       "      <th>Run</th>\n",
       "      <td>55</td>\n",
       "    </tr>\n",
       "    <tr>\n",
       "      <th>Ride</th>\n",
       "      <td>21</td>\n",
       "    </tr>\n",
       "  </tbody>\n",
       "</table>\n",
       "</div>"
      ],
      "text/plain": [
       "                                         type\n",
       "timezone                      type           \n",
       "(GMT+01:00) Europe/Amsterdam  Run          80\n",
       "                              Ride          8\n",
       "                              Hike          1\n",
       "(GMT+01:00) Europe/Vienna     AlpineSki     1\n",
       "(GMT+08:00) Asia/Kuala_Lumpur Hike          1\n",
       "                              Run           1\n",
       "(GMT+08:00) Asia/Singapore    Ride          9\n",
       "                              Run           1\n",
       "(GMT-06:00) America/Chicago   Run          55\n",
       "                              Ride         21"
      ]
     },
     "execution_count": 26,
     "metadata": {},
     "output_type": "execute_result"
    }
   ],
   "source": [
    "df.groupby('timezone').type.value_counts().to_frame()"
   ]
  },
  {
   "cell_type": "markdown",
   "metadata": {},
   "source": [
    "## Plots\n",
    "\n",
    "For visualizations in this notebook i am using a library called Altair. For more on that see https://altair-viz.github.io/"
   ]
  },
  {
   "cell_type": "code",
   "execution_count": 27,
   "metadata": {},
   "outputs": [],
   "source": [
    "import altair as alt"
   ]
  },
  {
   "cell_type": "code",
   "execution_count": 28,
   "metadata": {},
   "outputs": [
    {
     "data": {
      "application/vnd.vegalite.v2+json": {
       "$schema": "https://vega.github.io/schema/vega-lite/v2.6.0.json",
       "config": {
        "view": {
         "height": 300,
         "width": 400
        }
       },
       "datasets": {
        "data-f27d8acc1e05da7973280ba1fab2592a": [
         {
          "average_speed_mpk": 5.5,
          "id": 1873051986,
          "start_date_formatted": "Sep 2018"
         },
         {
          "average_speed_mpk": 5.1,
          "id": 1869415210,
          "start_date_formatted": "Sep 2018"
         },
         {
          "average_speed_mpk": 5,
          "id": 1848183751,
          "start_date_formatted": "Sep 2018"
         },
         {
          "average_speed_mpk": 4.9,
          "id": 1832664190,
          "start_date_formatted": "Sep 2018"
         },
         {
          "average_speed_mpk": 5.2,
          "id": 1819405951,
          "start_date_formatted": "Sep 2018"
         },
         {
          "average_speed_mpk": 5.2,
          "id": 1812167178,
          "start_date_formatted": "Sep 2018"
         },
         {
          "average_speed_mpk": 5,
          "id": 1769961402,
          "start_date_formatted": "Aug 2018"
         },
         {
          "average_speed_mpk": 5.4,
          "id": 1768039547,
          "start_date_formatted": "Aug 2018"
         },
         {
          "average_speed_mpk": 5,
          "id": 1758937255,
          "start_date_formatted": "Aug 2018"
         },
         {
          "average_speed_mpk": 5.3,
          "id": 1754313991,
          "start_date_formatted": "Aug 2018"
         },
         {
          "average_speed_mpk": 5.7,
          "id": 1722778792,
          "start_date_formatted": "Jul 2018"
         },
         {
          "average_speed_mpk": 5.5,
          "id": 1718082089,
          "start_date_formatted": "Jul 2018"
         },
         {
          "average_speed_mpk": 5.2,
          "id": 1702448290,
          "start_date_formatted": "Jul 2018"
         },
         {
          "average_speed_mpk": 5.2,
          "id": 1678605231,
          "start_date_formatted": "Jul 2018"
         },
         {
          "average_speed_mpk": 5.6,
          "id": 1656109943,
          "start_date_formatted": "Jun 2018"
         },
         {
          "average_speed_mpk": 5.1,
          "id": 1615106319,
          "start_date_formatted": "Jun 2018"
         },
         {
          "average_speed_mpk": 5.2,
          "id": 1608680116,
          "start_date_formatted": "May 2018"
         },
         {
          "average_speed_mpk": 5.2,
          "id": 1602018981,
          "start_date_formatted": "May 2018"
         },
         {
          "average_speed_mpk": 5.3,
          "id": 1600086877,
          "start_date_formatted": "May 2018"
         },
         {
          "average_speed_mpk": 5.3,
          "id": 1595253579,
          "start_date_formatted": "May 2018"
         },
         {
          "average_speed_mpk": 5.8,
          "id": 1573271998,
          "start_date_formatted": "May 2018"
         },
         {
          "average_speed_mpk": 5.3,
          "id": 1518378517,
          "start_date_formatted": "Apr 2018"
         },
         {
          "average_speed_mpk": 5.2,
          "id": 1510885071,
          "start_date_formatted": "Apr 2018"
         },
         {
          "average_speed_mpk": 5.2,
          "id": 1485983415,
          "start_date_formatted": "Apr 2018"
         },
         {
          "average_speed_mpk": 5.8,
          "id": 1481527978,
          "start_date_formatted": "Mar 2018"
         },
         {
          "average_speed_mpk": 5.1,
          "id": 1478637305,
          "start_date_formatted": "Mar 2018"
         },
         {
          "average_speed_mpk": 5.3,
          "id": 1470467201,
          "start_date_formatted": "Mar 2018"
         },
         {
          "average_speed_mpk": 5.6,
          "id": 1459406814,
          "start_date_formatted": "Mar 2018"
         },
         {
          "average_speed_mpk": 6.8,
          "id": 1447706570,
          "start_date_formatted": "Mar 2018"
         },
         {
          "average_speed_mpk": 5.1,
          "id": 1243691739,
          "start_date_formatted": "Oct 2017"
         },
         {
          "average_speed_mpk": 5.1,
          "id": 1236411824,
          "start_date_formatted": "Oct 2017"
         },
         {
          "average_speed_mpk": 5.1,
          "id": 1231742829,
          "start_date_formatted": "Oct 2017"
         },
         {
          "average_speed_mpk": 6.5,
          "id": 1220350726,
          "start_date_formatted": "Oct 2017"
         },
         {
          "average_speed_mpk": 5.4,
          "id": 1180785806,
          "start_date_formatted": "Sep 2017"
         },
         {
          "average_speed_mpk": 5.3,
          "id": 1168340670,
          "start_date_formatted": "Sep 2017"
         },
         {
          "average_speed_mpk": 5.4,
          "id": 1166527379,
          "start_date_formatted": "Sep 2017"
         },
         {
          "average_speed_mpk": 5.4,
          "id": 1161701515,
          "start_date_formatted": "Aug 2017"
         },
         {
          "average_speed_mpk": 5.2,
          "id": 1158568544,
          "start_date_formatted": "Aug 2017"
         },
         {
          "average_speed_mpk": 5.1,
          "id": 1155346588,
          "start_date_formatted": "Aug 2017"
         },
         {
          "average_speed_mpk": 6,
          "id": 1151711545,
          "start_date_formatted": "Aug 2017"
         },
         {
          "average_speed_mpk": 5.1,
          "id": 1148457766,
          "start_date_formatted": "Aug 2017"
         },
         {
          "average_speed_mpk": 5.7,
          "id": 1141382702,
          "start_date_formatted": "Aug 2017"
         },
         {
          "average_speed_mpk": 5.6,
          "id": 1125291234,
          "start_date_formatted": "Aug 2017"
         },
         {
          "average_speed_mpk": 5.1,
          "id": 1122020885,
          "start_date_formatted": "Aug 2017"
         },
         {
          "average_speed_mpk": 5.1,
          "id": 1097956892,
          "start_date_formatted": "Jul 2017"
         },
         {
          "average_speed_mpk": 5.7,
          "id": 1094471366,
          "start_date_formatted": "Jul 2017"
         },
         {
          "average_speed_mpk": 5.8,
          "id": 1047510194,
          "start_date_formatted": "Jun 2017"
         },
         {
          "average_speed_mpk": 4.4,
          "id": 1042731925,
          "start_date_formatted": "Jun 2017"
         },
         {
          "average_speed_mpk": 5.2,
          "id": 1042698985,
          "start_date_formatted": "Jun 2017"
         },
         {
          "average_speed_mpk": 5.3,
          "id": 1041055453,
          "start_date_formatted": "Jun 2017"
         },
         {
          "average_speed_mpk": 5.3,
          "id": 1031510189,
          "start_date_formatted": "Jun 2017"
         },
         {
          "average_speed_mpk": 5.8,
          "id": 1029928575,
          "start_date_formatted": "Jun 2017"
         },
         {
          "average_speed_mpk": 5.4,
          "id": 1022228974,
          "start_date_formatted": "Jun 2017"
         },
         {
          "average_speed_mpk": 5.6,
          "id": 984934815,
          "start_date_formatted": "May 2017"
         },
         {
          "average_speed_mpk": 5.3,
          "id": 944898454,
          "start_date_formatted": "Apr 2017"
         },
         {
          "average_speed_mpk": 5.7,
          "id": 920925917,
          "start_date_formatted": "Mar 2017"
         },
         {
          "average_speed_mpk": 6,
          "id": 817262248,
          "start_date_formatted": "Dec 2016"
         },
         {
          "average_speed_mpk": 6.1,
          "id": 815054880,
          "start_date_formatted": "Dec 2016"
         },
         {
          "average_speed_mpk": 6,
          "id": 747705664,
          "start_date_formatted": "Oct 2016"
         },
         {
          "average_speed_mpk": 6.7,
          "id": 727921866,
          "start_date_formatted": "Sep 2016"
         },
         {
          "average_speed_mpk": 5.5,
          "id": 720027140,
          "start_date_formatted": "Sep 2016"
         },
         {
          "average_speed_mpk": 5.7,
          "id": 672812022,
          "start_date_formatted": "Aug 2016"
         },
         {
          "average_speed_mpk": 5.8,
          "id": 670638874,
          "start_date_formatted": "Aug 2016"
         },
         {
          "average_speed_mpk": 5.6,
          "id": 665821624,
          "start_date_formatted": "Aug 2016"
         },
         {
          "average_speed_mpk": 6.3,
          "id": 663726297,
          "start_date_formatted": "Aug 2016"
         },
         {
          "average_speed_mpk": 5.9,
          "id": 637997865,
          "start_date_formatted": "Jul 2016"
         },
         {
          "average_speed_mpk": 5.8,
          "id": 633701175,
          "start_date_formatted": "Jul 2016"
         },
         {
          "average_speed_mpk": 5.3,
          "id": 625136477,
          "start_date_formatted": "Jun 2016"
         },
         {
          "average_speed_mpk": 5.6,
          "id": 616459061,
          "start_date_formatted": "Jun 2016"
         },
         {
          "average_speed_mpk": 5.8,
          "id": 610199424,
          "start_date_formatted": "Jun 2016"
         },
         {
          "average_speed_mpk": 6.3,
          "id": 606689778,
          "start_date_formatted": "Jun 2016"
         },
         {
          "average_speed_mpk": 6.3,
          "id": 605010697,
          "start_date_formatted": "Jun 2016"
         },
         {
          "average_speed_mpk": 6.1,
          "id": 603913915,
          "start_date_formatted": "Jun 2016"
         },
         {
          "average_speed_mpk": 5.8,
          "id": 601744832,
          "start_date_formatted": "Jun 2016"
         },
         {
          "average_speed_mpk": 6.1,
          "id": 600638542,
          "start_date_formatted": "Jun 2016"
         },
         {
          "average_speed_mpk": 6.2,
          "id": 594236121,
          "start_date_formatted": "May 2016"
         },
         {
          "average_speed_mpk": 5.9,
          "id": 592035069,
          "start_date_formatted": "May 2016"
         },
         {
          "average_speed_mpk": 6.3,
          "id": 589943603,
          "start_date_formatted": "May 2016"
         },
         {
          "average_speed_mpk": 5.9,
          "id": 588726729,
          "start_date_formatted": "May 2016"
         },
         {
          "average_speed_mpk": 7.3,
          "id": 580302351,
          "start_date_formatted": "May 2016"
         },
         {
          "average_speed_mpk": 6.4,
          "id": 572773992,
          "start_date_formatted": "May 2016"
         },
         {
          "average_speed_mpk": 5.2,
          "id": 571602110,
          "start_date_formatted": "May 2016"
         },
         {
          "average_speed_mpk": 7,
          "id": 573447998,
          "start_date_formatted": "May 2016"
         },
         {
          "average_speed_mpk": 7.1,
          "id": 564863202,
          "start_date_formatted": "May 2016"
         },
         {
          "average_speed_mpk": 5.4,
          "id": 551367765,
          "start_date_formatted": "Apr 2016"
         },
         {
          "average_speed_mpk": 5.3,
          "id": 542264278,
          "start_date_formatted": "Apr 2016"
         },
         {
          "average_speed_mpk": 6.2,
          "id": 540227487,
          "start_date_formatted": "Apr 2016"
         },
         {
          "average_speed_mpk": 6.3,
          "id": 535705837,
          "start_date_formatted": "Apr 2016"
         },
         {
          "average_speed_mpk": 6.2,
          "id": 487959112,
          "start_date_formatted": "Feb 2016"
         },
         {
          "average_speed_mpk": 6,
          "id": 483575529,
          "start_date_formatted": "Feb 2016"
         },
         {
          "average_speed_mpk": 6.3,
          "id": 480500008,
          "start_date_formatted": "Jan 2016"
         },
         {
          "average_speed_mpk": 6.5,
          "id": 478209755,
          "start_date_formatted": "Jan 2016"
         },
         {
          "average_speed_mpk": 6,
          "id": 466584163,
          "start_date_formatted": "Jan 2016"
         },
         {
          "average_speed_mpk": 5.5,
          "id": 342029032,
          "start_date_formatted": "Jul 2015"
         },
         {
          "average_speed_mpk": 5.9,
          "id": 337260755,
          "start_date_formatted": "Jul 2015"
         },
         {
          "average_speed_mpk": 6.3,
          "id": 336549318,
          "start_date_formatted": "Jun 2015"
         },
         {
          "average_speed_mpk": 5.8,
          "id": 332385555,
          "start_date_formatted": "Jun 2015"
         },
         {
          "average_speed_mpk": 5.4,
          "id": 330395117,
          "start_date_formatted": "Jun 2015"
         },
         {
          "average_speed_mpk": 7.2,
          "id": 337030804,
          "start_date_formatted": "Jun 2015"
         },
         {
          "average_speed_mpk": 6.3,
          "id": 330427930,
          "start_date_formatted": "Jun 2015"
         },
         {
          "average_speed_mpk": 6,
          "id": 326290110,
          "start_date_formatted": "Jun 2015"
         },
         {
          "average_speed_mpk": 5.8,
          "id": 325710652,
          "start_date_formatted": "Jun 2015"
         },
         {
          "average_speed_mpk": 5.6,
          "id": 325737250,
          "start_date_formatted": "Jun 2015"
         },
         {
          "average_speed_mpk": 5.7,
          "id": 319860155,
          "start_date_formatted": "Jun 2015"
         },
         {
          "average_speed_mpk": 5.3,
          "id": 317069693,
          "start_date_formatted": "Jun 2015"
         },
         {
          "average_speed_mpk": 6.3,
          "id": 313886835,
          "start_date_formatted": "May 2015"
         },
         {
          "average_speed_mpk": 5.6,
          "id": 309158613,
          "start_date_formatted": "May 2015"
         },
         {
          "average_speed_mpk": 6.6,
          "id": 306812528,
          "start_date_formatted": "May 2015"
         },
         {
          "average_speed_mpk": 6.6,
          "id": 304079340,
          "start_date_formatted": "May 2015"
         },
         {
          "average_speed_mpk": 5.4,
          "id": 299555682,
          "start_date_formatted": "May 2015"
         },
         {
          "average_speed_mpk": 5.4,
          "id": 298327429,
          "start_date_formatted": "May 2015"
         },
         {
          "average_speed_mpk": 5.6,
          "id": 296571535,
          "start_date_formatted": "May 2015"
         },
         {
          "average_speed_mpk": 5.3,
          "id": 294515000,
          "start_date_formatted": "Apr 2015"
         },
         {
          "average_speed_mpk": 4.9,
          "id": 291409727,
          "start_date_formatted": "Apr 2015"
         },
         {
          "average_speed_mpk": 5.4,
          "id": 288669491,
          "start_date_formatted": "Apr 2015"
         },
         {
          "average_speed_mpk": 5.3,
          "id": 276170382,
          "start_date_formatted": "Mar 2015"
         },
         {
          "average_speed_mpk": 5.5,
          "id": 272577441,
          "start_date_formatted": "Mar 2015"
         },
         {
          "average_speed_mpk": 5.3,
          "id": 242976359,
          "start_date_formatted": "Jan 2015"
         },
         {
          "average_speed_mpk": 4.9,
          "id": 233931335,
          "start_date_formatted": "Dec 2014"
         },
         {
          "average_speed_mpk": 5.1,
          "id": 231114331,
          "start_date_formatted": "Dec 2014"
         },
         {
          "average_speed_mpk": 6.8,
          "id": 221967362,
          "start_date_formatted": "Nov 2014"
         },
         {
          "average_speed_mpk": 6.5,
          "id": 220009577,
          "start_date_formatted": "Nov 2014"
         },
         {
          "average_speed_mpk": 5.4,
          "id": 217550724,
          "start_date_formatted": "Nov 2014"
         },
         {
          "average_speed_mpk": 5.3,
          "id": 214387348,
          "start_date_formatted": "Nov 2014"
         },
         {
          "average_speed_mpk": 5.3,
          "id": 212426253,
          "start_date_formatted": "Oct 2014"
         },
         {
          "average_speed_mpk": 5.4,
          "id": 211580974,
          "start_date_formatted": "Oct 2014"
         },
         {
          "average_speed_mpk": 5.9,
          "id": 158212137,
          "start_date_formatted": "Jun 2014"
         },
         {
          "average_speed_mpk": 5.6,
          "id": 154879009,
          "start_date_formatted": "Jun 2014"
         },
         {
          "average_speed_mpk": 5.3,
          "id": 152050291,
          "start_date_formatted": "Jun 2014"
         },
         {
          "average_speed_mpk": 5,
          "id": 142366419,
          "start_date_formatted": "May 2014"
         },
         {
          "average_speed_mpk": 5.1,
          "id": 119230806,
          "start_date_formatted": "Mar 2014"
         },
         {
          "average_speed_mpk": 5.3,
          "id": 63662932,
          "start_date_formatted": "Jun 2013"
         },
         {
          "average_speed_mpk": 5.2,
          "id": 62655429,
          "start_date_formatted": "Jun 2013"
         },
         {
          "average_speed_mpk": 5.6,
          "id": 62196957,
          "start_date_formatted": "Jun 2013"
         },
         {
          "average_speed_mpk": 5.2,
          "id": 61312377,
          "start_date_formatted": "Jun 2013"
         },
         {
          "average_speed_mpk": 5.2,
          "id": 60169031,
          "start_date_formatted": "Jun 2013"
         },
         {
          "average_speed_mpk": 5.3,
          "id": 508961092,
          "start_date_formatted": "Mar 2013"
         }
        ]
       },
       "layer": [
        {
         "data": {
          "name": "data-f27d8acc1e05da7973280ba1fab2592a"
         },
         "encoding": {
          "tooltip": [
           {
            "field": "average_speed_mpk",
            "type": "quantitative"
           },
           {
            "aggregate": "count",
            "type": "quantitative"
           }
          ],
          "x": {
           "bin": {
            "step": 0.25
           },
           "field": "average_speed_mpk",
           "type": "quantitative"
          },
          "y": {
           "aggregate": "count",
           "type": "quantitative"
          }
         },
         "mark": "bar",
         "title": "Average Speed (min. per km.) by Count of Runs"
        },
        {
         "data": {
          "name": "data-f27d8acc1e05da7973280ba1fab2592a"
         },
         "encoding": {
          "size": {
           "value": 2
          },
          "x": {
           "aggregate": "mean",
           "field": "average_speed_mpk",
           "type": "quantitative"
          }
         },
         "mark": {
          "color": "orange",
          "type": "rule"
         }
        }
       ]
      },
      "image/png": "[encoded data removed]",
      "text/plain": [
       "<VegaLite 2 object>\n",
       "\n",
       "If you see this message, it means the renderer has not been properly enabled\n",
       "for the frontend that you are using. For more information, see\n",
       "https://altair-viz.github.io/user_guide/troubleshooting.html\n"
      ]
     },
     "execution_count": 28,
     "metadata": {},
     "output_type": "execute_result"
    }
   ],
   "source": [
    "data = df.loc[df.type=='Run',:][['id','start_date_formatted','average_speed_mpk']]\n",
    "data.loc[:,'average_speed_mpk'] = data.average_speed_mpk.apply(lambda d: round(d,1))\n",
    "\n",
    "bar = alt.Chart(data).mark_bar().encode(\n",
    "    alt.X('average_speed_mpk:Q', bin=alt.Bin(step=.25)),\n",
    "    alt.Y('count()'),\n",
    "    tooltip=['average_speed_mpk:Q','count()']\n",
    ")\n",
    "\n",
    "bar.title = 'Average Speed (min. per km.) by Count of Runs'\n",
    "\n",
    "rule = alt.Chart(data).mark_rule(color='orange').encode(\n",
    "    x='mean(average_speed_mpk):Q',\n",
    "    size=alt.value(2)\n",
    ")\n",
    "\n",
    "bar + rule"
   ]
  },
  {
   "cell_type": "code",
   "execution_count": 29,
   "metadata": {},
   "outputs": [
    {
     "data": {
      "application/vnd.vegalite.v2+json": {
       "$schema": "https://vega.github.io/schema/vega-lite/v2.6.0.json",
       "config": {
        "view": {
         "height": 300,
         "width": 400
        }
       },
       "datasets": {
        "data-6d5f44bddf6cf4a02c6fdda8b98211b7": [
         {
          "distance": 11,
          "id": 1873051986,
          "start_date_formatted": "Sep 2018"
         },
         {
          "distance": 5,
          "id": 1869415210,
          "start_date_formatted": "Sep 2018"
         },
         {
          "distance": 5,
          "id": 1848183751,
          "start_date_formatted": "Sep 2018"
         },
         {
          "distance": 7,
          "id": 1832664190,
          "start_date_formatted": "Sep 2018"
         },
         {
          "distance": 7,
          "id": 1819405951,
          "start_date_formatted": "Sep 2018"
         },
         {
          "distance": 6,
          "id": 1812167178,
          "start_date_formatted": "Sep 2018"
         },
         {
          "distance": 6,
          "id": 1769961402,
          "start_date_formatted": "Aug 2018"
         },
         {
          "distance": 3,
          "id": 1768039547,
          "start_date_formatted": "Aug 2018"
         },
         {
          "distance": 8,
          "id": 1758937255,
          "start_date_formatted": "Aug 2018"
         },
         {
          "distance": 6,
          "id": 1754313991,
          "start_date_formatted": "Aug 2018"
         },
         {
          "distance": 4,
          "id": 1722778792,
          "start_date_formatted": "Jul 2018"
         },
         {
          "distance": 8,
          "id": 1718082089,
          "start_date_formatted": "Jul 2018"
         },
         {
          "distance": 8,
          "id": 1702448290,
          "start_date_formatted": "Jul 2018"
         },
         {
          "distance": 6,
          "id": 1678605231,
          "start_date_formatted": "Jul 2018"
         },
         {
          "distance": 4,
          "id": 1656109943,
          "start_date_formatted": "Jun 2018"
         },
         {
          "distance": 6,
          "id": 1615106319,
          "start_date_formatted": "Jun 2018"
         },
         {
          "distance": 6,
          "id": 1608680116,
          "start_date_formatted": "May 2018"
         },
         {
          "distance": 4,
          "id": 1602018981,
          "start_date_formatted": "May 2018"
         },
         {
          "distance": 5,
          "id": 1600086877,
          "start_date_formatted": "May 2018"
         },
         {
          "distance": 6,
          "id": 1595253579,
          "start_date_formatted": "May 2018"
         },
         {
          "distance": 8,
          "id": 1573271998,
          "start_date_formatted": "May 2018"
         },
         {
          "distance": 5,
          "id": 1518378517,
          "start_date_formatted": "Apr 2018"
         },
         {
          "distance": 5,
          "id": 1510885071,
          "start_date_formatted": "Apr 2018"
         },
         {
          "distance": 6,
          "id": 1485983415,
          "start_date_formatted": "Apr 2018"
         },
         {
          "distance": 6,
          "id": 1481527978,
          "start_date_formatted": "Mar 2018"
         },
         {
          "distance": 4,
          "id": 1478637305,
          "start_date_formatted": "Mar 2018"
         },
         {
          "distance": 5,
          "id": 1470467201,
          "start_date_formatted": "Mar 2018"
         },
         {
          "distance": 7,
          "id": 1459406814,
          "start_date_formatted": "Mar 2018"
         },
         {
          "distance": 6,
          "id": 1447706570,
          "start_date_formatted": "Mar 2018"
         },
         {
          "distance": 6,
          "id": 1243691739,
          "start_date_formatted": "Oct 2017"
         },
         {
          "distance": 5,
          "id": 1236411824,
          "start_date_formatted": "Oct 2017"
         },
         {
          "distance": 6,
          "id": 1231742829,
          "start_date_formatted": "Oct 2017"
         },
         {
          "distance": 9,
          "id": 1220350726,
          "start_date_formatted": "Oct 2017"
         },
         {
          "distance": 5,
          "id": 1180785806,
          "start_date_formatted": "Sep 2017"
         },
         {
          "distance": 6,
          "id": 1168340670,
          "start_date_formatted": "Sep 2017"
         },
         {
          "distance": 8,
          "id": 1166527379,
          "start_date_formatted": "Sep 2017"
         },
         {
          "distance": 7,
          "id": 1161701515,
          "start_date_formatted": "Aug 2017"
         },
         {
          "distance": 8,
          "id": 1158568544,
          "start_date_formatted": "Aug 2017"
         },
         {
          "distance": 6,
          "id": 1155346588,
          "start_date_formatted": "Aug 2017"
         },
         {
          "distance": 6,
          "id": 1151711545,
          "start_date_formatted": "Aug 2017"
         },
         {
          "distance": 6,
          "id": 1148457766,
          "start_date_formatted": "Aug 2017"
         },
         {
          "distance": 6,
          "id": 1141382702,
          "start_date_formatted": "Aug 2017"
         },
         {
          "distance": 6,
          "id": 1125291234,
          "start_date_formatted": "Aug 2017"
         },
         {
          "distance": 6,
          "id": 1122020885,
          "start_date_formatted": "Aug 2017"
         },
         {
          "distance": 8,
          "id": 1097956892,
          "start_date_formatted": "Jul 2017"
         },
         {
          "distance": 8,
          "id": 1094471366,
          "start_date_formatted": "Jul 2017"
         },
         {
          "distance": 6,
          "id": 1047510194,
          "start_date_formatted": "Jun 2017"
         },
         {
          "distance": 1,
          "id": 1042731925,
          "start_date_formatted": "Jun 2017"
         },
         {
          "distance": 7,
          "id": 1042698985,
          "start_date_formatted": "Jun 2017"
         },
         {
          "distance": 6,
          "id": 1041055453,
          "start_date_formatted": "Jun 2017"
         },
         {
          "distance": 6,
          "id": 1031510189,
          "start_date_formatted": "Jun 2017"
         },
         {
          "distance": 7,
          "id": 1029928575,
          "start_date_formatted": "Jun 2017"
         },
         {
          "distance": 4,
          "id": 1022228974,
          "start_date_formatted": "Jun 2017"
         },
         {
          "distance": 4,
          "id": 984934815,
          "start_date_formatted": "May 2017"
         },
         {
          "distance": 6,
          "id": 944898454,
          "start_date_formatted": "Apr 2017"
         },
         {
          "distance": 3,
          "id": 920925917,
          "start_date_formatted": "Mar 2017"
         },
         {
          "distance": 4,
          "id": 817262248,
          "start_date_formatted": "Dec 2016"
         },
         {
          "distance": 7,
          "id": 815054880,
          "start_date_formatted": "Dec 2016"
         },
         {
          "distance": 4,
          "id": 747705664,
          "start_date_formatted": "Oct 2016"
         },
         {
          "distance": 5,
          "id": 727921866,
          "start_date_formatted": "Sep 2016"
         },
         {
          "distance": 5,
          "id": 720027140,
          "start_date_formatted": "Sep 2016"
         },
         {
          "distance": 4,
          "id": 672812022,
          "start_date_formatted": "Aug 2016"
         },
         {
          "distance": 5,
          "id": 670638874,
          "start_date_formatted": "Aug 2016"
         },
         {
          "distance": 4,
          "id": 665821624,
          "start_date_formatted": "Aug 2016"
         },
         {
          "distance": 4,
          "id": 663726297,
          "start_date_formatted": "Aug 2016"
         },
         {
          "distance": 4,
          "id": 637997865,
          "start_date_formatted": "Jul 2016"
         },
         {
          "distance": 6,
          "id": 633701175,
          "start_date_formatted": "Jul 2016"
         },
         {
          "distance": 4,
          "id": 625136477,
          "start_date_formatted": "Jun 2016"
         },
         {
          "distance": 5,
          "id": 616459061,
          "start_date_formatted": "Jun 2016"
         },
         {
          "distance": 5,
          "id": 610199424,
          "start_date_formatted": "Jun 2016"
         },
         {
          "distance": 5,
          "id": 606689778,
          "start_date_formatted": "Jun 2016"
         },
         {
          "distance": 5,
          "id": 605010697,
          "start_date_formatted": "Jun 2016"
         },
         {
          "distance": 6,
          "id": 603913915,
          "start_date_formatted": "Jun 2016"
         },
         {
          "distance": 5,
          "id": 601744832,
          "start_date_formatted": "Jun 2016"
         },
         {
          "distance": 8,
          "id": 600638542,
          "start_date_formatted": "Jun 2016"
         },
         {
          "distance": 8,
          "id": 594236121,
          "start_date_formatted": "May 2016"
         },
         {
          "distance": 5,
          "id": 592035069,
          "start_date_formatted": "May 2016"
         },
         {
          "distance": 5,
          "id": 589943603,
          "start_date_formatted": "May 2016"
         },
         {
          "distance": 5,
          "id": 588726729,
          "start_date_formatted": "May 2016"
         },
         {
          "distance": 4,
          "id": 580302351,
          "start_date_formatted": "May 2016"
         },
         {
          "distance": 7,
          "id": 572773992,
          "start_date_formatted": "May 2016"
         },
         {
          "distance": 5,
          "id": 571602110,
          "start_date_formatted": "May 2016"
         },
         {
          "distance": 12,
          "id": 573447998,
          "start_date_formatted": "May 2016"
         },
         {
          "distance": 4,
          "id": 564863202,
          "start_date_formatted": "May 2016"
         },
         {
          "distance": 5,
          "id": 551367765,
          "start_date_formatted": "Apr 2016"
         },
         {
          "distance": 5,
          "id": 542264278,
          "start_date_formatted": "Apr 2016"
         },
         {
          "distance": 5,
          "id": 540227487,
          "start_date_formatted": "Apr 2016"
         },
         {
          "distance": 5,
          "id": 535705837,
          "start_date_formatted": "Apr 2016"
         },
         {
          "distance": 5,
          "id": 487959112,
          "start_date_formatted": "Feb 2016"
         },
         {
          "distance": 2,
          "id": 483575529,
          "start_date_formatted": "Feb 2016"
         },
         {
          "distance": 4,
          "id": 480500008,
          "start_date_formatted": "Jan 2016"
         },
         {
          "distance": 3,
          "id": 478209755,
          "start_date_formatted": "Jan 2016"
         },
         {
          "distance": 4,
          "id": 466584163,
          "start_date_formatted": "Jan 2016"
         },
         {
          "distance": 8,
          "id": 342029032,
          "start_date_formatted": "Jul 2015"
         },
         {
          "distance": 8,
          "id": 337260755,
          "start_date_formatted": "Jul 2015"
         },
         {
          "distance": 5,
          "id": 336549318,
          "start_date_formatted": "Jun 2015"
         },
         {
          "distance": 4,
          "id": 332385555,
          "start_date_formatted": "Jun 2015"
         },
         {
          "distance": 6,
          "id": 330395117,
          "start_date_formatted": "Jun 2015"
         },
         {
          "distance": 5,
          "id": 337030804,
          "start_date_formatted": "Jun 2015"
         },
         {
          "distance": 6,
          "id": 330427930,
          "start_date_formatted": "Jun 2015"
         },
         {
          "distance": 6,
          "id": 326290110,
          "start_date_formatted": "Jun 2015"
         },
         {
          "distance": 6,
          "id": 325710652,
          "start_date_formatted": "Jun 2015"
         },
         {
          "distance": 5,
          "id": 325737250,
          "start_date_formatted": "Jun 2015"
         },
         {
          "distance": 7,
          "id": 319860155,
          "start_date_formatted": "Jun 2015"
         },
         {
          "distance": 6,
          "id": 317069693,
          "start_date_formatted": "Jun 2015"
         },
         {
          "distance": 10,
          "id": 313886835,
          "start_date_formatted": "May 2015"
         },
         {
          "distance": 5,
          "id": 309158613,
          "start_date_formatted": "May 2015"
         },
         {
          "distance": 10,
          "id": 306812528,
          "start_date_formatted": "May 2015"
         },
         {
          "distance": 7,
          "id": 304079340,
          "start_date_formatted": "May 2015"
         },
         {
          "distance": 7,
          "id": 299555682,
          "start_date_formatted": "May 2015"
         },
         {
          "distance": 6,
          "id": 298327429,
          "start_date_formatted": "May 2015"
         },
         {
          "distance": 9,
          "id": 296571535,
          "start_date_formatted": "May 2015"
         },
         {
          "distance": 5,
          "id": 294515000,
          "start_date_formatted": "Apr 2015"
         },
         {
          "distance": 5,
          "id": 291409727,
          "start_date_formatted": "Apr 2015"
         },
         {
          "distance": 6,
          "id": 288669491,
          "start_date_formatted": "Apr 2015"
         },
         {
          "distance": 6,
          "id": 276170382,
          "start_date_formatted": "Mar 2015"
         },
         {
          "distance": 6,
          "id": 272577441,
          "start_date_formatted": "Mar 2015"
         },
         {
          "distance": 4,
          "id": 242976359,
          "start_date_formatted": "Jan 2015"
         },
         {
          "distance": 4,
          "id": 233931335,
          "start_date_formatted": "Dec 2014"
         },
         {
          "distance": 4,
          "id": 231114331,
          "start_date_formatted": "Dec 2014"
         },
         {
          "distance": 11,
          "id": 221967362,
          "start_date_formatted": "Nov 2014"
         },
         {
          "distance": 7,
          "id": 220009577,
          "start_date_formatted": "Nov 2014"
         },
         {
          "distance": 9,
          "id": 217550724,
          "start_date_formatted": "Nov 2014"
         },
         {
          "distance": 5,
          "id": 214387348,
          "start_date_formatted": "Nov 2014"
         },
         {
          "distance": 6,
          "id": 212426253,
          "start_date_formatted": "Oct 2014"
         },
         {
          "distance": 6,
          "id": 211580974,
          "start_date_formatted": "Oct 2014"
         },
         {
          "distance": 7,
          "id": 158212137,
          "start_date_formatted": "Jun 2014"
         },
         {
          "distance": 4,
          "id": 154879009,
          "start_date_formatted": "Jun 2014"
         },
         {
          "distance": 6,
          "id": 152050291,
          "start_date_formatted": "Jun 2014"
         },
         {
          "distance": 5,
          "id": 142366419,
          "start_date_formatted": "May 2014"
         },
         {
          "distance": 6,
          "id": 119230806,
          "start_date_formatted": "Mar 2014"
         },
         {
          "distance": 11,
          "id": 63662932,
          "start_date_formatted": "Jun 2013"
         },
         {
          "distance": 9,
          "id": 62655429,
          "start_date_formatted": "Jun 2013"
         },
         {
          "distance": 10,
          "id": 62196957,
          "start_date_formatted": "Jun 2013"
         },
         {
          "distance": 8,
          "id": 61312377,
          "start_date_formatted": "Jun 2013"
         },
         {
          "distance": 7,
          "id": 60169031,
          "start_date_formatted": "Jun 2013"
         },
         {
          "distance": 8,
          "id": 508961092,
          "start_date_formatted": "Mar 2013"
         }
        ]
       },
       "layer": [
        {
         "data": {
          "name": "data-6d5f44bddf6cf4a02c6fdda8b98211b7"
         },
         "encoding": {
          "tooltip": [
           {
            "field": "distance",
            "type": "quantitative"
           },
           {
            "aggregate": "count",
            "type": "quantitative"
           }
          ],
          "x": {
           "bin": {
            "step": 1
           },
           "field": "distance",
           "type": "quantitative"
          },
          "y": {
           "aggregate": "count",
           "type": "quantitative"
          }
         },
         "mark": "bar",
         "title": "Distance (km.) by Count of Runs"
        },
        {
         "data": {
          "name": "data-6d5f44bddf6cf4a02c6fdda8b98211b7"
         },
         "encoding": {
          "size": {
           "value": 2
          },
          "x": {
           "aggregate": "mean",
           "field": "distance",
           "type": "quantitative"
          }
         },
         "mark": {
          "color": "orange",
          "type": "rule"
         }
        }
       ]
      },
      "image/png": "[encoded data removed]",
      "text/plain": [
       "<VegaLite 2 object>\n",
       "\n",
       "If you see this message, it means the renderer has not been properly enabled\n",
       "for the frontend that you are using. For more information, see\n",
       "https://altair-viz.github.io/user_guide/troubleshooting.html\n"
      ]
     },
     "execution_count": 29,
     "metadata": {},
     "output_type": "execute_result"
    }
   ],
   "source": [
    "data = df.loc[df.type=='Run',:][['id','start_date_formatted','distance']]\n",
    "data.loc[:,'distance'] = data.distance.apply(lambda d: round(d))\n",
    "\n",
    "bar = alt.Chart(data).mark_bar().encode(\n",
    "    alt.X('distance:Q', bin=alt.Bin(step=1)),\n",
    "    alt.Y('count()'),\n",
    "    tooltip=['distance:Q','count()']\n",
    ")\n",
    "\n",
    "bar.title = 'Distance (km.) by Count of Runs'\n",
    "\n",
    "rule = alt.Chart(data).mark_rule(color='orange').encode(\n",
    "    x='mean(distance):Q',\n",
    "    size=alt.value(2)\n",
    ")\n",
    "\n",
    "bar + rule"
   ]
  },
  {
   "cell_type": "code",
   "execution_count": 30,
   "metadata": {},
   "outputs": [
    {
     "data": {
      "application/vnd.vegalite.v2+json": {
       "$schema": "https://vega.github.io/schema/vega-lite/v2.6.0.json",
       "config": {
        "view": {
         "height": 300,
         "width": 400
        }
       },
       "data": {
        "name": "data-acc096967e37a96b2d6024073f826833"
       },
       "datasets": {
        "data-acc096967e37a96b2d6024073f826833": [
         {
          "achievement_count": 27,
          "distance": 30.3659,
          "id": 1902102990,
          "start_date_formatted": "Oct 2018",
          "type": "Ride"
         },
         {
          "achievement_count": 9,
          "distance": 10.6533,
          "id": 1873051986,
          "start_date_formatted": "Sep 2018",
          "type": "Run"
         },
         {
          "achievement_count": 0,
          "distance": 5.3327,
          "id": 1869415210,
          "start_date_formatted": "Sep 2018",
          "type": "Run"
         },
         {
          "achievement_count": 3,
          "distance": 5.3609,
          "id": 1848183751,
          "start_date_formatted": "Sep 2018",
          "type": "Run"
         },
         {
          "achievement_count": 6,
          "distance": 6.5485,
          "id": 1832664190,
          "start_date_formatted": "Sep 2018",
          "type": "Run"
         },
         {
          "achievement_count": 2,
          "distance": 7.1803,
          "id": 1819405951,
          "start_date_formatted": "Sep 2018",
          "type": "Run"
         },
         {
          "achievement_count": 7,
          "distance": 5.595,
          "id": 1812167178,
          "start_date_formatted": "Sep 2018",
          "type": "Run"
         },
         {
          "achievement_count": 8,
          "distance": 6.2947,
          "id": 1769961402,
          "start_date_formatted": "Aug 2018",
          "type": "Run"
         },
         {
          "achievement_count": 0,
          "distance": 2.5019,
          "id": 1768039547,
          "start_date_formatted": "Aug 2018",
          "type": "Run"
         },
         {
          "achievement_count": 4,
          "distance": 36.037699999999994,
          "id": 1765463698,
          "start_date_formatted": "Aug 2018",
          "type": "Ride"
         },
         {
          "achievement_count": 9,
          "distance": 7.917,
          "id": 1758937255,
          "start_date_formatted": "Aug 2018",
          "type": "Run"
         },
         {
          "achievement_count": 7,
          "distance": 6.4848,
          "id": 1754313991,
          "start_date_formatted": "Aug 2018",
          "type": "Run"
         },
         {
          "achievement_count": 1,
          "distance": 4.2233,
          "id": 1722778792,
          "start_date_formatted": "Jul 2018",
          "type": "Run"
         },
         {
          "achievement_count": 2,
          "distance": 8.158199999999999,
          "id": 1718082089,
          "start_date_formatted": "Jul 2018",
          "type": "Run"
         },
         {
          "achievement_count": 1,
          "distance": 7.833699999999999,
          "id": 1702448290,
          "start_date_formatted": "Jul 2018",
          "type": "Run"
         },
         {
          "achievement_count": 2,
          "distance": 6.0011,
          "id": 1678605231,
          "start_date_formatted": "Jul 2018",
          "type": "Run"
         },
         {
          "achievement_count": 1,
          "distance": 4.2786,
          "id": 1656109943,
          "start_date_formatted": "Jun 2018",
          "type": "Run"
         },
         {
          "achievement_count": 4,
          "distance": 5.565,
          "id": 1615106319,
          "start_date_formatted": "Jun 2018",
          "type": "Run"
         },
         {
          "achievement_count": 0,
          "distance": 5.6789,
          "id": 1608680116,
          "start_date_formatted": "May 2018",
          "type": "Run"
         },
         {
          "achievement_count": 1,
          "distance": 4.165,
          "id": 1602018981,
          "start_date_formatted": "May 2018",
          "type": "Run"
         },
         {
          "achievement_count": 1,
          "distance": 5.1145,
          "id": 1600086877,
          "start_date_formatted": "May 2018",
          "type": "Run"
         },
         {
          "achievement_count": 0,
          "distance": 6,
          "id": 1595253579,
          "start_date_formatted": "May 2018",
          "type": "Run"
         },
         {
          "achievement_count": 6,
          "distance": 8.1867,
          "id": 1573271998,
          "start_date_formatted": "May 2018",
          "type": "Run"
         },
         {
          "achievement_count": 2,
          "distance": 4.5854,
          "id": 1518378517,
          "start_date_formatted": "Apr 2018",
          "type": "Run"
         },
         {
          "achievement_count": 2,
          "distance": 4.5342,
          "id": 1510885071,
          "start_date_formatted": "Apr 2018",
          "type": "Run"
         },
         {
          "achievement_count": 0,
          "distance": 40.0125,
          "id": 1507489235,
          "start_date_formatted": "Apr 2018",
          "type": "Ride"
         },
         {
          "achievement_count": 1,
          "distance": 26.143900000000002,
          "id": 1494936767,
          "start_date_formatted": "Apr 2018",
          "type": "Ride"
         },
         {
          "achievement_count": 1,
          "distance": 5.557300000000001,
          "id": 1485983415,
          "start_date_formatted": "Apr 2018",
          "type": "Run"
         },
         {
          "achievement_count": 0,
          "distance": 5.9717,
          "id": 1481527978,
          "start_date_formatted": "Mar 2018",
          "type": "Run"
         },
         {
          "achievement_count": 4,
          "distance": 4.0501,
          "id": 1478637305,
          "start_date_formatted": "Mar 2018",
          "type": "Run"
         },
         {
          "achievement_count": 6,
          "distance": 5.109,
          "id": 1470467201,
          "start_date_formatted": "Mar 2018",
          "type": "Run"
         },
         {
          "achievement_count": 5,
          "distance": 7.0409,
          "id": 1459406814,
          "start_date_formatted": "Mar 2018",
          "type": "Run"
         },
         {
          "achievement_count": 7,
          "distance": 6.3735,
          "id": 1447706570,
          "start_date_formatted": "Mar 2018",
          "type": "Run"
         },
         {
          "achievement_count": 1,
          "distance": 6.1541999999999994,
          "id": 1243691739,
          "start_date_formatted": "Oct 2017",
          "type": "Run"
         },
         {
          "achievement_count": 4,
          "distance": 5.4138,
          "id": 1236411824,
          "start_date_formatted": "Oct 2017",
          "type": "Run"
         },
         {
          "achievement_count": 2,
          "distance": 5.986800000000001,
          "id": 1231742829,
          "start_date_formatted": "Oct 2017",
          "type": "Run"
         },
         {
          "achievement_count": 2,
          "distance": 8.797,
          "id": 1220350726,
          "start_date_formatted": "Oct 2017",
          "type": "Run"
         },
         {
          "achievement_count": 1,
          "distance": 4.6016,
          "id": 1180785806,
          "start_date_formatted": "Sep 2017",
          "type": "Run"
         },
         {
          "achievement_count": 2,
          "distance": 5.9577,
          "id": 1168340670,
          "start_date_formatted": "Sep 2017",
          "type": "Run"
         },
         {
          "achievement_count": 5,
          "distance": 7.817399999999999,
          "id": 1166527379,
          "start_date_formatted": "Sep 2017",
          "type": "Run"
         },
         {
          "achievement_count": 0,
          "distance": 7.1926000000000005,
          "id": 1161701515,
          "start_date_formatted": "Aug 2017",
          "type": "Run"
         },
         {
          "achievement_count": 2,
          "distance": 7.9233,
          "id": 1158568544,
          "start_date_formatted": "Aug 2017",
          "type": "Run"
         },
         {
          "achievement_count": 1,
          "distance": 6.2067,
          "id": 1155346588,
          "start_date_formatted": "Aug 2017",
          "type": "Run"
         },
         {
          "achievement_count": 0,
          "distance": 6.0473,
          "id": 1151711545,
          "start_date_formatted": "Aug 2017",
          "type": "Run"
         },
         {
          "achievement_count": 3,
          "distance": 5.7546,
          "id": 1148457766,
          "start_date_formatted": "Aug 2017",
          "type": "Run"
         },
         {
          "achievement_count": 2,
          "distance": 5.7173,
          "id": 1141382702,
          "start_date_formatted": "Aug 2017",
          "type": "Run"
         },
         {
          "achievement_count": 1,
          "distance": 6.0717,
          "id": 1125291234,
          "start_date_formatted": "Aug 2017",
          "type": "Run"
         },
         {
          "achievement_count": 1,
          "distance": 6.220899999999999,
          "id": 1122020885,
          "start_date_formatted": "Aug 2017",
          "type": "Run"
         },
         {
          "achievement_count": 3,
          "distance": 7.8012,
          "id": 1097956892,
          "start_date_formatted": "Jul 2017",
          "type": "Run"
         },
         {
          "achievement_count": 1,
          "distance": 8.4419,
          "id": 1094471366,
          "start_date_formatted": "Jul 2017",
          "type": "Run"
         },
         {
          "achievement_count": 0,
          "distance": 43.8861,
          "id": 1073325448,
          "start_date_formatted": "Jul 2017",
          "type": "Ride"
         },
         {
          "achievement_count": 1,
          "distance": 6.1832,
          "id": 1047510194,
          "start_date_formatted": "Jun 2017",
          "type": "Run"
         },
         {
          "achievement_count": 0,
          "distance": 1.0575,
          "id": 1042731925,
          "start_date_formatted": "Jun 2017",
          "type": "Run"
         },
         {
          "achievement_count": 2,
          "distance": 6.841600000000001,
          "id": 1042698985,
          "start_date_formatted": "Jun 2017",
          "type": "Run"
         },
         {
          "achievement_count": 2,
          "distance": 6.2395,
          "id": 1041055453,
          "start_date_formatted": "Jun 2017",
          "type": "Run"
         },
         {
          "achievement_count": 0,
          "distance": 6.373600000000001,
          "id": 1031510189,
          "start_date_formatted": "Jun 2017",
          "type": "Run"
         },
         {
          "achievement_count": 2,
          "distance": 7.2009,
          "id": 1029928575,
          "start_date_formatted": "Jun 2017",
          "type": "Run"
         },
         {
          "achievement_count": 0,
          "distance": 4.327100000000001,
          "id": 1022228974,
          "start_date_formatted": "Jun 2017",
          "type": "Run"
         },
         {
          "achievement_count": 0,
          "distance": 4.1453999999999995,
          "id": 984934815,
          "start_date_formatted": "May 2017",
          "type": "Run"
         },
         {
          "achievement_count": 3,
          "distance": 5.9243999999999994,
          "id": 944898454,
          "start_date_formatted": "Apr 2017",
          "type": "Run"
         },
         {
          "achievement_count": 0,
          "distance": 3.1517,
          "id": 920925917,
          "start_date_formatted": "Mar 2017",
          "type": "Run"
         },
         {
          "achievement_count": 0,
          "distance": 4.1197,
          "id": 817262248,
          "start_date_formatted": "Dec 2016",
          "type": "Run"
         },
         {
          "achievement_count": 0,
          "distance": 7.0056,
          "id": 815054880,
          "start_date_formatted": "Dec 2016",
          "type": "Run"
         },
         {
          "achievement_count": 0,
          "distance": 3.6607,
          "id": 747705664,
          "start_date_formatted": "Oct 2016",
          "type": "Run"
         },
         {
          "achievement_count": 2,
          "distance": 4.9672,
          "id": 727921866,
          "start_date_formatted": "Sep 2016",
          "type": "Run"
         },
         {
          "achievement_count": 0,
          "distance": 5.0047,
          "id": 720027140,
          "start_date_formatted": "Sep 2016",
          "type": "Run"
         },
         {
          "achievement_count": 0,
          "distance": 3.7466,
          "id": 672812022,
          "start_date_formatted": "Aug 2016",
          "type": "Run"
         },
         {
          "achievement_count": 1,
          "distance": 4.815,
          "id": 670638874,
          "start_date_formatted": "Aug 2016",
          "type": "Run"
         },
         {
          "achievement_count": 9,
          "distance": 50.714800000000004,
          "id": 667134427,
          "start_date_formatted": "Aug 2016",
          "type": "Ride"
         },
         {
          "achievement_count": 0,
          "distance": 4.1044,
          "id": 665821624,
          "start_date_formatted": "Aug 2016",
          "type": "Run"
         },
         {
          "achievement_count": 0,
          "distance": 4.2125,
          "id": 663726297,
          "start_date_formatted": "Aug 2016",
          "type": "Run"
         },
         {
          "achievement_count": 0,
          "distance": 115.539,
          "id": 657891093,
          "start_date_formatted": "Jul 2016",
          "type": "Ride"
         },
         {
          "achievement_count": 0,
          "distance": 64.5434,
          "id": 656956785,
          "start_date_formatted": "Jul 2016",
          "type": "Ride"
         },
         {
          "achievement_count": 0,
          "distance": 97.1977,
          "id": 655830005,
          "start_date_formatted": "Jul 2016",
          "type": "Ride"
         },
         {
          "achievement_count": 0,
          "distance": 101.664,
          "id": 654796874,
          "start_date_formatted": "Jul 2016",
          "type": "Ride"
         },
         {
          "achievement_count": 0,
          "distance": 121.092,
          "id": 654026878,
          "start_date_formatted": "Jul 2016",
          "type": "Ride"
         },
         {
          "achievement_count": 0,
          "distance": 80.68010000000001,
          "id": 652494928,
          "start_date_formatted": "Jul 2016",
          "type": "Ride"
         },
         {
          "achievement_count": 17,
          "distance": 37.0168,
          "id": 645216024,
          "start_date_formatted": "Jul 2016",
          "type": "Ride"
         },
         {
          "achievement_count": 12,
          "distance": 62.528800000000004,
          "id": 644164143,
          "start_date_formatted": "Jul 2016",
          "type": "Ride"
         },
         {
          "achievement_count": 0,
          "distance": 4.2115,
          "id": 637997865,
          "start_date_formatted": "Jul 2016",
          "type": "Run"
         },
         {
          "achievement_count": 0,
          "distance": 5.6878,
          "id": 633701175,
          "start_date_formatted": "Jul 2016",
          "type": "Run"
         },
         {
          "achievement_count": 0,
          "distance": 4.1068,
          "id": 625136477,
          "start_date_formatted": "Jun 2016",
          "type": "Run"
         },
         {
          "achievement_count": 0,
          "distance": 5.3239,
          "id": 616459061,
          "start_date_formatted": "Jun 2016",
          "type": "Run"
         },
         {
          "achievement_count": 0,
          "distance": 5.2493,
          "id": 610199424,
          "start_date_formatted": "Jun 2016",
          "type": "Run"
         },
         {
          "achievement_count": 0,
          "distance": 4.9531,
          "id": 606689778,
          "start_date_formatted": "Jun 2016",
          "type": "Run"
         },
         {
          "achievement_count": 0,
          "distance": 5.225899999999999,
          "id": 605010697,
          "start_date_formatted": "Jun 2016",
          "type": "Run"
         },
         {
          "achievement_count": 0,
          "distance": 6.1427,
          "id": 603913915,
          "start_date_formatted": "Jun 2016",
          "type": "Run"
         },
         {
          "achievement_count": 0,
          "distance": 5.1362,
          "id": 601744832,
          "start_date_formatted": "Jun 2016",
          "type": "Run"
         },
         {
          "achievement_count": 1,
          "distance": 8.448799999999999,
          "id": 600638542,
          "start_date_formatted": "Jun 2016",
          "type": "Run"
         },
         {
          "achievement_count": 1,
          "distance": 8.4285,
          "id": 594236121,
          "start_date_formatted": "May 2016",
          "type": "Run"
         },
         {
          "achievement_count": 1,
          "distance": 5.1952,
          "id": 592035069,
          "start_date_formatted": "May 2016",
          "type": "Run"
         },
         {
          "achievement_count": 0,
          "distance": 5.3718,
          "id": 589943603,
          "start_date_formatted": "May 2016",
          "type": "Run"
         },
         {
          "achievement_count": 1,
          "distance": 5.2078,
          "id": 588726729,
          "start_date_formatted": "May 2016",
          "type": "Run"
         },
         {
          "achievement_count": 1,
          "distance": 4.3303,
          "id": 580302351,
          "start_date_formatted": "May 2016",
          "type": "Run"
         },
         {
          "achievement_count": 0,
          "distance": 6.949199999999999,
          "id": 572773992,
          "start_date_formatted": "May 2016",
          "type": "Run"
         },
         {
          "achievement_count": 0,
          "distance": 5,
          "id": 571602110,
          "start_date_formatted": "May 2016",
          "type": "Run"
         },
         {
          "achievement_count": 0,
          "distance": 12.309700000000001,
          "id": 573447998,
          "start_date_formatted": "May 2016",
          "type": "Run"
         },
         {
          "achievement_count": 0,
          "distance": 4.387,
          "id": 564863202,
          "start_date_formatted": "May 2016",
          "type": "Run"
         },
         {
          "achievement_count": 2,
          "distance": 4.607399999999999,
          "id": 551367765,
          "start_date_formatted": "Apr 2016",
          "type": "Run"
         },
         {
          "achievement_count": 0,
          "distance": 5.3826,
          "id": 542264278,
          "start_date_formatted": "Apr 2016",
          "type": "Run"
         },
         {
          "achievement_count": 0,
          "distance": 5.054600000000001,
          "id": 540227487,
          "start_date_formatted": "Apr 2016",
          "type": "Run"
         },
         {
          "achievement_count": 0,
          "distance": 5.26,
          "id": 535705837,
          "start_date_formatted": "Apr 2016",
          "type": "Run"
         },
         {
          "achievement_count": 3,
          "distance": 16.9343,
          "id": 528753214,
          "start_date_formatted": "Mar 2016",
          "type": "Ride"
         },
         {
          "achievement_count": 0,
          "distance": 22.5325,
          "id": 509901190,
          "start_date_formatted": "Mar 2016",
          "type": "Ride"
         },
         {
          "achievement_count": 0,
          "distance": 5.1175,
          "id": 487959112,
          "start_date_formatted": "Feb 2016",
          "type": "Run"
         },
         {
          "achievement_count": 0,
          "distance": 2.3418,
          "id": 483575529,
          "start_date_formatted": "Feb 2016",
          "type": "Run"
         },
         {
          "achievement_count": 0,
          "distance": 3.7666,
          "id": 480500008,
          "start_date_formatted": "Jan 2016",
          "type": "Run"
         },
         {
          "achievement_count": 0,
          "distance": 2.8388,
          "id": 478209755,
          "start_date_formatted": "Jan 2016",
          "type": "Run"
         },
         {
          "achievement_count": 0,
          "distance": 4.0390999999999995,
          "id": 466584163,
          "start_date_formatted": "Jan 2016",
          "type": "Run"
         },
         {
          "achievement_count": 0,
          "distance": 23.6478,
          "id": 379208657,
          "start_date_formatted": "Aug 2015",
          "type": "Ride"
         },
         {
          "achievement_count": 0,
          "distance": 7.837899999999999,
          "id": 342029032,
          "start_date_formatted": "Jul 2015",
          "type": "Run"
         },
         {
          "achievement_count": 0,
          "distance": 7.7927,
          "id": 337260755,
          "start_date_formatted": "Jul 2015",
          "type": "Run"
         },
         {
          "achievement_count": 0,
          "distance": 4.788399999999999,
          "id": 336549318,
          "start_date_formatted": "Jun 2015",
          "type": "Run"
         },
         {
          "achievement_count": 0,
          "distance": 3.7946,
          "id": 332385555,
          "start_date_formatted": "Jun 2015",
          "type": "Run"
         },
         {
          "achievement_count": 1,
          "distance": 5.513,
          "id": 330395117,
          "start_date_formatted": "Jun 2015",
          "type": "Run"
         },
         {
          "achievement_count": 0,
          "distance": 5.0796,
          "id": 337030804,
          "start_date_formatted": "Jun 2015",
          "type": "Run"
         },
         {
          "achievement_count": 2,
          "distance": 6.178100000000001,
          "id": 330427930,
          "start_date_formatted": "Jun 2015",
          "type": "Run"
         },
         {
          "achievement_count": 0,
          "distance": 6.083699999999999,
          "id": 326290110,
          "start_date_formatted": "Jun 2015",
          "type": "Run"
         },
         {
          "achievement_count": 0,
          "distance": 5.5671,
          "id": 325710652,
          "start_date_formatted": "Jun 2015",
          "type": "Run"
         },
         {
          "achievement_count": 0,
          "distance": 4.8355,
          "id": 325737250,
          "start_date_formatted": "Jun 2015",
          "type": "Run"
         },
         {
          "achievement_count": 1,
          "distance": 6.8258,
          "id": 319860155,
          "start_date_formatted": "Jun 2015",
          "type": "Run"
         },
         {
          "achievement_count": 2,
          "distance": 6.1389,
          "id": 317069693,
          "start_date_formatted": "Jun 2015",
          "type": "Run"
         },
         {
          "achievement_count": 0,
          "distance": 18.0748,
          "id": 315627067,
          "start_date_formatted": "May 2015",
          "type": "Ride"
         },
         {
          "achievement_count": 1,
          "distance": 10.2172,
          "id": 313886835,
          "start_date_formatted": "May 2015",
          "type": "Run"
         },
         {
          "achievement_count": 13,
          "distance": 19.9844,
          "id": 310121541,
          "start_date_formatted": "May 2015",
          "type": "Ride"
         },
         {
          "achievement_count": 0,
          "distance": 5.01,
          "id": 309158613,
          "start_date_formatted": "May 2015",
          "type": "Run"
         },
         {
          "achievement_count": 0,
          "distance": 9.619399999999999,
          "id": 306812528,
          "start_date_formatted": "May 2015",
          "type": "Run"
         },
         {
          "achievement_count": 0,
          "distance": 6.6388,
          "id": 304079340,
          "start_date_formatted": "May 2015",
          "type": "Run"
         },
         {
          "achievement_count": 3,
          "distance": 18.223200000000002,
          "id": 301274333,
          "start_date_formatted": "May 2015",
          "type": "Ride"
         },
         {
          "achievement_count": 4,
          "distance": 16.6992,
          "id": 301111462,
          "start_date_formatted": "May 2015",
          "type": "Ride"
         },
         {
          "achievement_count": 0,
          "distance": 7.0637,
          "id": 299555682,
          "start_date_formatted": "May 2015",
          "type": "Run"
         },
         {
          "achievement_count": 0,
          "distance": 5.9479,
          "id": 298327429,
          "start_date_formatted": "May 2015",
          "type": "Run"
         },
         {
          "achievement_count": 4,
          "distance": 15.0481,
          "id": 297676571,
          "start_date_formatted": "May 2015",
          "type": "Ride"
         },
         {
          "achievement_count": 0,
          "distance": 8.8698,
          "id": 296571535,
          "start_date_formatted": "May 2015",
          "type": "Run"
         },
         {
          "achievement_count": 1,
          "distance": 4.871899999999999,
          "id": 294515000,
          "start_date_formatted": "Apr 2015",
          "type": "Run"
         },
         {
          "achievement_count": 17,
          "distance": 35.1293,
          "id": 293238627,
          "start_date_formatted": "Apr 2015",
          "type": "Ride"
         },
         {
          "achievement_count": 1,
          "distance": 5.497,
          "id": 291409727,
          "start_date_formatted": "Apr 2015",
          "type": "Run"
         },
         {
          "achievement_count": 0,
          "distance": 6.1944,
          "id": 288669491,
          "start_date_formatted": "Apr 2015",
          "type": "Run"
         },
         {
          "achievement_count": 1,
          "distance": 5.8785,
          "id": 276170382,
          "start_date_formatted": "Mar 2015",
          "type": "Run"
         },
         {
          "achievement_count": 1,
          "distance": 5.7158999999999995,
          "id": 272577441,
          "start_date_formatted": "Mar 2015",
          "type": "Run"
         },
         {
          "achievement_count": 0,
          "distance": 3.84,
          "id": 242976359,
          "start_date_formatted": "Jan 2015",
          "type": "Run"
         },
         {
          "achievement_count": 1,
          "distance": 4.0248,
          "id": 233931335,
          "start_date_formatted": "Dec 2014",
          "type": "Run"
         },
         {
          "achievement_count": 1,
          "distance": 3.9454000000000002,
          "id": 231114331,
          "start_date_formatted": "Dec 2014",
          "type": "Run"
         },
         {
          "achievement_count": 1,
          "distance": 10.9236,
          "id": 221967362,
          "start_date_formatted": "Nov 2014",
          "type": "Run"
         },
         {
          "achievement_count": 0,
          "distance": 6.5333000000000006,
          "id": 220009577,
          "start_date_formatted": "Nov 2014",
          "type": "Run"
         },
         {
          "achievement_count": 2,
          "distance": 8.7202,
          "id": 217550724,
          "start_date_formatted": "Nov 2014",
          "type": "Run"
         },
         {
          "achievement_count": 0,
          "distance": 5.3953999999999995,
          "id": 214387348,
          "start_date_formatted": "Nov 2014",
          "type": "Run"
         },
         {
          "achievement_count": 0,
          "distance": 5.6373,
          "id": 212426253,
          "start_date_formatted": "Oct 2014",
          "type": "Run"
         },
         {
          "achievement_count": 0,
          "distance": 6.0808,
          "id": 211580974,
          "start_date_formatted": "Oct 2014",
          "type": "Run"
         },
         {
          "achievement_count": 2,
          "distance": 7.1241,
          "id": 158212137,
          "start_date_formatted": "Jun 2014",
          "type": "Run"
         },
         {
          "achievement_count": 2,
          "distance": 4.1494,
          "id": 154879009,
          "start_date_formatted": "Jun 2014",
          "type": "Run"
         },
         {
          "achievement_count": 12,
          "distance": 52.303599999999996,
          "id": 153477386,
          "start_date_formatted": "Jun 2014",
          "type": "Ride"
         },
         {
          "achievement_count": 1,
          "distance": 5.5605,
          "id": 152050291,
          "start_date_formatted": "Jun 2014",
          "type": "Run"
         },
         {
          "achievement_count": 0,
          "distance": 4.5693,
          "id": 142366419,
          "start_date_formatted": "May 2014",
          "type": "Run"
         },
         {
          "achievement_count": 1,
          "distance": 6.1624,
          "id": 119230806,
          "start_date_formatted": "Mar 2014",
          "type": "Run"
         },
         {
          "achievement_count": 9,
          "distance": 49.3257,
          "id": 75889415,
          "start_date_formatted": "Aug 2013",
          "type": "Ride"
         },
         {
          "achievement_count": 17,
          "distance": 67.1394,
          "id": 75316763,
          "start_date_formatted": "Aug 2013",
          "type": "Ride"
         },
         {
          "achievement_count": 24,
          "distance": 59.5575,
          "id": 75090829,
          "start_date_formatted": "Aug 2013",
          "type": "Ride"
         },
         {
          "achievement_count": 14,
          "distance": 50.9542,
          "id": 74626892,
          "start_date_formatted": "Aug 2013",
          "type": "Ride"
         },
         {
          "achievement_count": 40,
          "distance": 108.548,
          "id": 73478411,
          "start_date_formatted": "Aug 2013",
          "type": "Ride"
         },
         {
          "achievement_count": 24,
          "distance": 61.1785,
          "id": 72857400,
          "start_date_formatted": "Aug 2013",
          "type": "Ride"
         },
         {
          "achievement_count": 22,
          "distance": 59.3085,
          "id": 72579431,
          "start_date_formatted": "Aug 2013",
          "type": "Ride"
         },
         {
          "achievement_count": 5,
          "distance": 104.096,
          "id": 72018730,
          "start_date_formatted": "Aug 2013",
          "type": "Ride"
         },
         {
          "achievement_count": 0,
          "distance": 55.532599999999995,
          "id": 71833963,
          "start_date_formatted": "Aug 2013",
          "type": "Ride"
         },
         {
          "achievement_count": 4,
          "distance": 11.02,
          "id": 63662932,
          "start_date_formatted": "Jun 2013",
          "type": "Run"
         },
         {
          "achievement_count": 0,
          "distance": 18.8258,
          "id": 63313297,
          "start_date_formatted": "Jun 2013",
          "type": "Ride"
         },
         {
          "achievement_count": 0,
          "distance": 74.3828,
          "id": 63312774,
          "start_date_formatted": "Jun 2013",
          "type": "Ride"
         },
         {
          "achievement_count": 5,
          "distance": 8.7426,
          "id": 62655429,
          "start_date_formatted": "Jun 2013",
          "type": "Run"
         },
         {
          "achievement_count": 7,
          "distance": 10.495899999999999,
          "id": 62196957,
          "start_date_formatted": "Jun 2013",
          "type": "Run"
         },
         {
          "achievement_count": 0,
          "distance": 30.1029,
          "id": 61979583,
          "start_date_formatted": "Jun 2013",
          "type": "Ride"
         },
         {
          "achievement_count": 6,
          "distance": 7.6546,
          "id": 61312377,
          "start_date_formatted": "Jun 2013",
          "type": "Run"
         },
         {
          "achievement_count": 0,
          "distance": 31.765,
          "id": 61040219,
          "start_date_formatted": "Jun 2013",
          "type": "Ride"
         },
         {
          "achievement_count": 0,
          "distance": 7.065300000000001,
          "id": 60169031,
          "start_date_formatted": "Jun 2013",
          "type": "Run"
         },
         {
          "achievement_count": 3,
          "distance": 38.2866,
          "id": 56499507,
          "start_date_formatted": "May 2013",
          "type": "Ride"
         },
         {
          "achievement_count": 0,
          "distance": 8.4716,
          "id": 508961092,
          "start_date_formatted": "Mar 2013",
          "type": "Run"
         }
        ]
       },
       "facet": {
        "column": {
         "field": "type",
         "type": "nominal"
        }
       },
       "resolve": {
        "scale": {
         "color": "shared",
         "x": "independent",
         "y": "independent"
        }
       },
       "spec": {
        "encoding": {
         "color": {
          "field": "type",
          "type": "nominal"
         },
         "href": {
          "field": "url",
          "type": "nominal"
         },
         "tooltip": [
          {
           "field": "start_date_formatted",
           "type": "nominal"
          },
          {
           "field": "distance",
           "type": "quantitative"
          },
          {
           "field": "achievement_count",
           "type": "quantitative"
          },
          {
           "field": "url",
           "type": "nominal"
          }
         ],
         "x": {
          "field": "distance",
          "type": "quantitative"
         },
         "y": {
          "field": "achievement_count",
          "type": "quantitative"
         }
        },
        "mark": "circle",
        "transform": [
         {
          "as": "url",
          "calculate": "('https://www.strava.com/activities/' + datum.id)"
         }
        ]
       },
       "title": "Activities by Acheivement Count and Distance"
      },
      "image/png": "[encoded data removed]",
      "text/plain": [
       "<VegaLite 2 object>\n",
       "\n",
       "If you see this message, it means the renderer has not been properly enabled\n",
       "for the frontend that you are using. For more information, see\n",
       "https://altair-viz.github.io/user_guide/troubleshooting.html\n"
      ]
     },
     "execution_count": 30,
     "metadata": {},
     "output_type": "execute_result"
    }
   ],
   "source": [
    "data = df.loc[df['type'].isin(['Run','Ride']),:]\n",
    "data = data[['id','start_date_formatted','type','distance','achievement_count']]\n",
    "\n",
    "chart = alt.Chart(data).transform_calculate(\n",
    "    url='https://www.strava.com/activities/' + alt.datum.id\n",
    ").mark_circle().encode(\n",
    "    x='distance',\n",
    "    y='achievement_count',\n",
    "    color='type',\n",
    "    href='url:N',\n",
    "    tooltip=['start_date_formatted','distance','achievement_count','url:N']\n",
    ").facet(\n",
    "    column='type'\n",
    ").resolve_scale(\n",
    "    x='independent',\n",
    "    y='independent'\n",
    ")\n",
    "\n",
    "chart.title = 'Activities by Acheivement Count and Distance'\n",
    "\n",
    "chart"
   ]
  },
  {
   "cell_type": "code",
   "execution_count": 31,
   "metadata": {},
   "outputs": [
    {
     "data": {
      "application/vnd.vegalite.v2+json": {
       "$schema": "https://vega.github.io/schema/vega-lite/v2.6.0.json",
       "config": {
        "view": {
         "height": 300,
         "width": 400
        }
       },
       "datasets": {
        "data-47a86dc60021946e002ac45138c709f0": [
         {
          "average_speed_kph": 20.308412336493458,
          "distance": 30.3659,
          "id": 1902102990,
          "start_date_formatted": "Oct 2018",
          "type": "Ride"
         },
         {
          "average_speed_kph": 20.909636385455418,
          "distance": 36.037699999999994,
          "id": 1765463698,
          "start_date_formatted": "Aug 2018",
          "type": "Ride"
         },
         {
          "average_speed_kph": 22.972518900756032,
          "distance": 40.0125,
          "id": 1507489235,
          "start_date_formatted": "Apr 2018",
          "type": "Ride"
         },
         {
          "average_speed_kph": 19.22836913476539,
          "distance": 26.143900000000002,
          "id": 1494936767,
          "start_date_formatted": "Apr 2018",
          "type": "Ride"
         },
         {
          "average_speed_kph": 16.675867034681385,
          "distance": 43.8861,
          "id": 1073325448,
          "start_date_formatted": "Jul 2017",
          "type": "Ride"
         },
         {
          "average_speed_kph": 16.816272650906036,
          "distance": 50.714800000000004,
          "id": 667134427,
          "start_date_formatted": "Aug 2016",
          "type": "Ride"
         },
         {
          "average_speed_kph": 23.343333733349336,
          "distance": 115.539,
          "id": 657891093,
          "start_date_formatted": "Jul 2016",
          "type": "Ride"
         },
         {
          "average_speed_kph": 21.442457698307933,
          "distance": 64.5434,
          "id": 656956785,
          "start_date_formatted": "Jul 2016",
          "type": "Ride"
         },
         {
          "average_speed_kph": 22.166086643465736,
          "distance": 97.1977,
          "id": 655830005,
          "start_date_formatted": "Jul 2016",
          "type": "Ride"
         },
         {
          "average_speed_kph": 21.291251650066002,
          "distance": 101.664,
          "id": 654796874,
          "start_date_formatted": "Jul 2016",
          "type": "Ride"
         },
         {
          "average_speed_kph": 21.269650786031445,
          "distance": 121.092,
          "id": 654026878,
          "start_date_formatted": "Jul 2016",
          "type": "Ride"
         },
         {
          "average_speed_kph": 17.34549381975279,
          "distance": 80.68010000000001,
          "id": 652494928,
          "start_date_formatted": "Jul 2016",
          "type": "Ride"
         },
         {
          "average_speed_kph": 20.340813632545302,
          "distance": 37.0168,
          "id": 645216024,
          "start_date_formatted": "Jul 2016",
          "type": "Ride"
         },
         {
          "average_speed_kph": 17.4894995799832,
          "distance": 62.528800000000004,
          "id": 644164143,
          "start_date_formatted": "Jul 2016",
          "type": "Ride"
         },
         {
          "average_speed_kph": 11.07764310572423,
          "distance": 16.9343,
          "id": 528753214,
          "start_date_formatted": "Mar 2016",
          "type": "Ride"
         },
         {
          "average_speed_kph": 15.426617064682588,
          "distance": 22.5325,
          "id": 509901190,
          "start_date_formatted": "Mar 2016",
          "type": "Ride"
         },
         {
          "average_speed_kph": 8.741149645985839,
          "distance": 23.6478,
          "id": 379208657,
          "start_date_formatted": "Aug 2015",
          "type": "Ride"
         },
         {
          "average_speed_kph": 15.937837513500538,
          "distance": 18.0748,
          "id": 315627067,
          "start_date_formatted": "May 2015",
          "type": "Ride"
         },
         {
          "average_speed_kph": 22.673706948277932,
          "distance": 19.9844,
          "id": 310121541,
          "start_date_formatted": "May 2015",
          "type": "Ride"
         },
         {
          "average_speed_kph": 19.933997359894395,
          "distance": 18.223200000000002,
          "id": 301274333,
          "start_date_formatted": "May 2015",
          "type": "Ride"
         },
         {
          "average_speed_kph": 20.6036241449658,
          "distance": 16.6992,
          "id": 301111462,
          "start_date_formatted": "May 2015",
          "type": "Ride"
         },
         {
          "average_speed_kph": 17.705508220328813,
          "distance": 15.0481,
          "id": 297676571,
          "start_date_formatted": "May 2015",
          "type": "Ride"
         },
         {
          "average_speed_kph": 23.656546261850472,
          "distance": 35.1293,
          "id": 293238627,
          "start_date_formatted": "Apr 2015",
          "type": "Ride"
         },
         {
          "average_speed_kph": 22.756510260410415,
          "distance": 52.303599999999996,
          "id": 153477386,
          "start_date_formatted": "Jun 2014",
          "type": "Ride"
         },
         {
          "average_speed_kph": 26.061442457698305,
          "distance": 49.3257,
          "id": 75889415,
          "start_date_formatted": "Aug 2013",
          "type": "Ride"
         },
         {
          "average_speed_kph": 25.90303612144486,
          "distance": 67.1394,
          "id": 75316763,
          "start_date_formatted": "Aug 2013",
          "type": "Ride"
         },
         {
          "average_speed_kph": 27.739109564382577,
          "distance": 59.5575,
          "id": 75090829,
          "start_date_formatted": "Aug 2013",
          "type": "Ride"
         },
         {
          "average_speed_kph": 24.606984279371172,
          "distance": 50.9542,
          "id": 74626892,
          "start_date_formatted": "Aug 2013",
          "type": "Ride"
         },
         {
          "average_speed_kph": 24.16056642265691,
          "distance": 108.548,
          "id": 73478411,
          "start_date_formatted": "Aug 2013",
          "type": "Ride"
         },
         {
          "average_speed_kph": 26.781471258850356,
          "distance": 61.1785,
          "id": 72857400,
          "start_date_formatted": "Aug 2013",
          "type": "Ride"
         },
         {
          "average_speed_kph": 26.464658586343454,
          "distance": 59.3085,
          "id": 72579431,
          "start_date_formatted": "Aug 2013",
          "type": "Ride"
         },
         {
          "average_speed_kph": 24.297371894875795,
          "distance": 104.096,
          "id": 72018730,
          "start_date_formatted": "Aug 2013",
          "type": "Ride"
         },
         {
          "average_speed_kph": 26.39265570622825,
          "distance": 55.532599999999995,
          "id": 71833963,
          "start_date_formatted": "Aug 2013",
          "type": "Ride"
         },
         {
          "average_speed_kph": 25.02820112804512,
          "distance": 18.8258,
          "id": 63313297,
          "start_date_formatted": "Jun 2013",
          "type": "Ride"
         },
         {
          "average_speed_kph": 23.847353894155766,
          "distance": 74.3828,
          "id": 63312774,
          "start_date_formatted": "Jun 2013",
          "type": "Ride"
         },
         {
          "average_speed_kph": 23.14532581303252,
          "distance": 30.1029,
          "id": 61979583,
          "start_date_formatted": "Jun 2013",
          "type": "Ride"
         },
         {
          "average_speed_kph": 25.697827913116527,
          "distance": 31.765,
          "id": 61040219,
          "start_date_formatted": "Jun 2013",
          "type": "Ride"
         },
         {
          "average_speed_kph": 21.478459138365537,
          "distance": 38.2866,
          "id": 56499507,
          "start_date_formatted": "May 2013",
          "type": "Ride"
         }
        ],
        "data-548c461350e0d4aefdeff29452f8c8dc": [
         {
          "average_speed_mpk": 5.533200531208499,
          "distance": 10.6533,
          "id": 1873051986,
          "start_date_formatted": "Sep 2018",
          "type": "Run"
         },
         {
          "average_speed_mpk": 5.118550368550369,
          "distance": 5.3327,
          "id": 1869415210,
          "start_date_formatted": "Sep 2018",
          "type": "Run"
         },
         {
          "average_speed_mpk": 5.030485964382734,
          "distance": 5.3609,
          "id": 1848183751,
          "start_date_formatted": "Sep 2018",
          "type": "Run"
         },
         {
          "average_speed_mpk": 4.924940898345154,
          "distance": 6.5485,
          "id": 1832664190,
          "start_date_formatted": "Sep 2018",
          "type": "Run"
         },
         {
          "average_speed_mpk": 5.153370439084725,
          "distance": 7.1803,
          "id": 1819405951,
          "start_date_formatted": "Sep 2018",
          "type": "Run"
         },
         {
          "average_speed_mpk": 5.159752321981424,
          "distance": 5.595,
          "id": 1812167178,
          "start_date_formatted": "Sep 2018",
          "type": "Run"
         },
         {
          "average_speed_mpk": 4.991314764899671,
          "distance": 6.2947,
          "id": 1769961402,
          "start_date_formatted": "Aug 2018",
          "type": "Run"
         },
         {
          "average_speed_mpk": 5.369201030927835,
          "distance": 2.5019,
          "id": 1768039547,
          "start_date_formatted": "Aug 2018",
          "type": "Run"
         },
         {
          "average_speed_mpk": 5.027450980392157,
          "distance": 7.917,
          "id": 1758937255,
          "start_date_formatted": "Aug 2018",
          "type": "Run"
         },
         {
          "average_speed_mpk": 5.250787649653434,
          "distance": 6.4848,
          "id": 1754313991,
          "start_date_formatted": "Aug 2018",
          "type": "Run"
         },
         {
          "average_speed_mpk": 5.666780006800408,
          "distance": 4.2233,
          "id": 1722778792,
          "start_date_formatted": "Jul 2018",
          "type": "Run"
         },
         {
          "average_speed_mpk": 5.460681520314548,
          "distance": 8.158199999999999,
          "id": 1718082089,
          "start_date_formatted": "Jul 2018",
          "type": "Run"
         },
         {
          "average_speed_mpk": 5.196757093857188,
          "distance": 7.833699999999999,
          "id": 1702448290,
          "start_date_formatted": "Jul 2018",
          "type": "Run"
         },
         {
          "average_speed_mpk": 5.190283400809717,
          "distance": 6.0011,
          "id": 1678605231,
          "start_date_formatted": "Jul 2018",
          "type": "Run"
         },
         {
          "average_speed_mpk": 5.59261744966443,
          "distance": 4.2786,
          "id": 1656109943,
          "start_date_formatted": "Jun 2018",
          "type": "Run"
         },
         {
          "average_speed_mpk": 5.1028781383955915,
          "distance": 5.565,
          "id": 1615106319,
          "start_date_formatted": "Jun 2018",
          "type": "Run"
         },
         {
          "average_speed_mpk": 5.2244514106583075,
          "distance": 5.6789,
          "id": 1608680116,
          "start_date_formatted": "May 2018",
          "type": "Run"
         },
         {
          "average_speed_mpk": 5.221177944862156,
          "distance": 4.165,
          "id": 1602018981,
          "start_date_formatted": "May 2018",
          "type": "Run"
         },
         {
          "average_speed_mpk": 5.262393432270287,
          "distance": 5.1145,
          "id": 1600086877,
          "start_date_formatted": "May 2018",
          "type": "Run"
         },
         {
          "average_speed_mpk": 5.328005115089514,
          "distance": 6,
          "id": 1595253579,
          "start_date_formatted": "May 2018",
          "type": "Run"
         },
         {
          "average_speed_mpk": 5.770775623268698,
          "distance": 8.1867,
          "id": 1573271998,
          "start_date_formatted": "May 2018",
          "type": "Run"
         },
         {
          "average_speed_mpk": 5.302577155583838,
          "distance": 4.5854,
          "id": 1518378517,
          "start_date_formatted": "Apr 2018",
          "type": "Run"
         },
         {
          "average_speed_mpk": 5.178993163455563,
          "distance": 4.5342,
          "id": 1510885071,
          "start_date_formatted": "Apr 2018",
          "type": "Run"
         },
         {
          "average_speed_mpk": 5.175776397515528,
          "distance": 5.557300000000001,
          "id": 1485983415,
          "start_date_formatted": "Apr 2018",
          "type": "Run"
         },
         {
          "average_speed_mpk": 5.770775623268698,
          "distance": 5.9717,
          "id": 1481527978,
          "start_date_formatted": "Mar 2018",
          "type": "Run"
         },
         {
          "average_speed_mpk": 5.057966616084977,
          "distance": 4.0501,
          "id": 1478637305,
          "start_date_formatted": "Mar 2018",
          "type": "Run"
         },
         {
          "average_speed_mpk": 5.29415501905972,
          "distance": 5.109,
          "id": 1470467201,
          "start_date_formatted": "Mar 2018",
          "type": "Run"
         },
         {
          "average_speed_mpk": 5.628503883823033,
          "distance": 7.0409,
          "id": 1459406814,
          "start_date_formatted": "Mar 2018",
          "type": "Run"
         },
         {
          "average_speed_mpk": 6.799673602611179,
          "distance": 6.3735,
          "id": 1447706570,
          "start_date_formatted": "Mar 2018",
          "type": "Run"
         },
         {
          "average_speed_mpk": 5.099755201958385,
          "distance": 6.1541999999999994,
          "id": 1243691739,
          "start_date_formatted": "Oct 2017",
          "type": "Run"
         },
         {
          "average_speed_mpk": 5.124846248462485,
          "distance": 5.4138,
          "id": 1236411824,
          "start_date_formatted": "Oct 2017",
          "type": "Run"
         },
         {
          "average_speed_mpk": 5.050303030303031,
          "distance": 5.986800000000001,
          "id": 1231742829,
          "start_date_formatted": "Oct 2017",
          "type": "Run"
         },
         {
          "average_speed_mpk": 6.525450274079875,
          "distance": 8.797,
          "id": 1220350726,
          "start_date_formatted": "Oct 2017",
          "type": "Run"
         },
         {
          "average_speed_mpk": 5.40402075226978,
          "distance": 4.6016,
          "id": 1180785806,
          "start_date_formatted": "Sep 2017",
          "type": "Run"
         },
         {
          "average_speed_mpk": 5.30426479949077,
          "distance": 5.9577,
          "id": 1168340670,
          "start_date_formatted": "Sep 2017",
          "type": "Run"
         },
         {
          "average_speed_mpk": 5.419837398373984,
          "distance": 7.817399999999999,
          "id": 1166527379,
          "start_date_formatted": "Sep 2017",
          "type": "Run"
         },
         {
          "average_speed_mpk": 5.419837398373984,
          "distance": 7.1926000000000005,
          "id": 1161701515,
          "start_date_formatted": "Aug 2017",
          "type": "Run"
         },
         {
          "average_speed_mpk": 5.221177944862156,
          "distance": 7.9233,
          "id": 1158568544,
          "start_date_formatted": "Aug 2017",
          "type": "Run"
         },
         {
          "average_speed_mpk": 5.139068763490595,
          "distance": 6.2067,
          "id": 1155346588,
          "start_date_formatted": "Aug 2017",
          "type": "Run"
         },
         {
          "average_speed_mpk": 5.97133643855249,
          "distance": 6.0473,
          "id": 1151711545,
          "start_date_formatted": "Aug 2017",
          "type": "Run"
         },
         {
          "average_speed_mpk": 5.056432038834952,
          "distance": 5.7546,
          "id": 1148457766,
          "start_date_formatted": "Aug 2017",
          "type": "Run"
         },
         {
          "average_speed_mpk": 5.738980716253444,
          "distance": 5.7173,
          "id": 1141382702,
          "start_date_formatted": "Aug 2017",
          "type": "Run"
         },
         {
          "average_speed_mpk": 5.602016806722689,
          "distance": 6.0717,
          "id": 1125291234,
          "start_date_formatted": "Aug 2017",
          "type": "Run"
         },
         {
          "average_speed_mpk": 5.095077957811068,
          "distance": 6.220899999999999,
          "id": 1122020885,
          "start_date_formatted": "Aug 2017",
          "type": "Run"
         },
         {
          "average_speed_mpk": 5.059502125075896,
          "distance": 7.8012,
          "id": 1097956892,
          "start_date_formatted": "Jul 2017",
          "type": "Run"
         },
         {
          "average_speed_mpk": 5.723214285714286,
          "distance": 8.4419,
          "id": 1094471366,
          "start_date_formatted": "Jul 2017",
          "type": "Run"
         },
         {
          "average_speed_mpk": 5.796869565217391,
          "distance": 6.1832,
          "id": 1047510194,
          "start_date_formatted": "Jun 2017",
          "type": "Run"
         },
         {
          "average_speed_mpk": 4.444266666666667,
          "distance": 1.0575,
          "id": 1042731925,
          "start_date_formatted": "Jun 2017",
          "type": "Run"
         },
         {
          "average_speed_mpk": 5.222814164838609,
          "distance": 6.841600000000001,
          "id": 1042698985,
          "start_date_formatted": "Jun 2017",
          "type": "Run"
         },
         {
          "average_speed_mpk": 5.328005115089514,
          "distance": 6.2395,
          "id": 1041055453,
          "start_date_formatted": "Jun 2017",
          "type": "Run"
         },
         {
          "average_speed_mpk": 5.346807828039782,
          "distance": 6.373600000000001,
          "id": 1031510189,
          "start_date_formatted": "Jun 2017",
          "type": "Run"
         },
         {
          "average_speed_mpk": 5.766782006920415,
          "distance": 7.2009,
          "id": 1029928575,
          "start_date_formatted": "Jun 2017",
          "type": "Run"
         },
         {
          "average_speed_mpk": 5.430433365917237,
          "distance": 4.327100000000001,
          "id": 1022228974,
          "start_date_formatted": "Jun 2017",
          "type": "Run"
         },
         {
          "average_speed_mpk": 5.607671601615074,
          "distance": 4.1453999999999995,
          "id": 984934815,
          "start_date_formatted": "May 2017",
          "type": "Run"
         },
         {
          "average_speed_mpk": 5.328005115089514,
          "distance": 5.9243999999999994,
          "id": 944898454,
          "start_date_formatted": "Apr 2017",
          "type": "Run"
         },
         {
          "average_speed_mpk": 5.711446196024674,
          "distance": 3.1517,
          "id": 920925917,
          "start_date_formatted": "Mar 2017",
          "type": "Run"
         },
         {
          "average_speed_mpk": 6.007930785868782,
          "distance": 4.1197,
          "id": 817262248,
          "start_date_formatted": "Dec 2016",
          "type": "Run"
         },
         {
          "average_speed_mpk": 6.062568206620589,
          "distance": 7.0056,
          "id": 815054880,
          "start_date_formatted": "Dec 2016",
          "type": "Run"
         },
         {
          "average_speed_mpk": 6.02748643761302,
          "distance": 3.6607,
          "id": 747705664,
          "start_date_formatted": "Oct 2016",
          "type": "Run"
         },
         {
          "average_speed_mpk": 6.677083333333334,
          "distance": 4.9672,
          "id": 727921866,
          "start_date_formatted": "Sep 2016",
          "type": "Run"
         },
         {
          "average_speed_mpk": 5.478632478632479,
          "distance": 5.0047,
          "id": 720027140,
          "start_date_formatted": "Sep 2016",
          "type": "Run"
         },
         {
          "average_speed_mpk": 5.711446196024674,
          "distance": 3.7466,
          "id": 672812022,
          "start_date_formatted": "Aug 2016",
          "type": "Run"
         },
         {
          "average_speed_mpk": 5.762793914246196,
          "distance": 4.815,
          "id": 670638874,
          "start_date_formatted": "Aug 2016",
          "type": "Run"
         },
         {
          "average_speed_mpk": 5.632308212233863,
          "distance": 4.1044,
          "id": 665821624,
          "start_date_formatted": "Aug 2016",
          "type": "Run"
         },
         {
          "average_speed_mpk": 6.327258921791952,
          "distance": 4.2125,
          "id": 663726297,
          "start_date_formatted": "Aug 2016",
          "type": "Run"
         },
         {
          "average_speed_mpk": 5.903648600779313,
          "distance": 4.2115,
          "id": 637997865,
          "start_date_formatted": "Jul 2016",
          "type": "Run"
         },
         {
          "average_speed_mpk": 5.833391669583479,
          "distance": 5.6878,
          "id": 633701175,
          "start_date_formatted": "Jul 2016",
          "type": "Run"
         },
         {
          "average_speed_mpk": 5.299205087440382,
          "distance": 4.1068,
          "id": 625136477,
          "start_date_formatted": "Jun 2016",
          "type": "Run"
         },
         {
          "average_speed_mpk": 5.600134408602151,
          "distance": 5.3239,
          "id": 616459061,
          "start_date_formatted": "Jun 2016",
          "type": "Run"
         },
         {
          "average_speed_mpk": 5.794853963838666,
          "distance": 5.2493,
          "id": 610199424,
          "start_date_formatted": "Jun 2016",
          "type": "Run"
         },
         {
          "average_speed_mpk": 6.3128787878787875,
          "distance": 4.9531,
          "id": 606689778,
          "start_date_formatted": "Jun 2016",
          "type": "Run"
         },
         {
          "average_speed_mpk": 6.291430728576821,
          "distance": 5.225899999999999,
          "id": 605010697,
          "start_date_formatted": "Jun 2016",
          "type": "Run"
         },
         {
          "average_speed_mpk": 6.143015112421673,
          "distance": 6.1427,
          "id": 603913915,
          "start_date_formatted": "Jun 2016",
          "type": "Run"
         },
         {
          "average_speed_mpk": 5.817102966841186,
          "distance": 5.1362,
          "id": 601744832,
          "start_date_formatted": "Jun 2016",
          "type": "Run"
         },
         {
          "average_speed_mpk": 6.129459360058846,
          "distance": 8.448799999999999,
          "id": 600638542,
          "start_date_formatted": "Jun 2016",
          "type": "Run"
         },
         {
          "average_speed_mpk": 6.2326103216155575,
          "distance": 8.4285,
          "id": 594236121,
          "start_date_formatted": "May 2016",
          "type": "Run"
         },
         {
          "average_speed_mpk": 5.8703768932722795,
          "distance": 5.1952,
          "id": 592035069,
          "start_date_formatted": "May 2016",
          "type": "Run"
         },
         {
          "average_speed_mpk": 6.346534653465347,
          "distance": 5.3718,
          "id": 589943603,
          "start_date_formatted": "May 2016",
          "type": "Run"
         },
         {
          "average_speed_mpk": 5.930960854092526,
          "distance": 5.2078,
          "id": 588726729,
          "start_date_formatted": "May 2016",
          "type": "Run"
         },
         {
          "average_speed_mpk": 7.2713787085514845,
          "distance": 4.3303,
          "id": 580302351,
          "start_date_formatted": "May 2016",
          "type": "Run"
         },
         {
          "average_speed_mpk": 6.382995021064726,
          "distance": 6.949199999999999,
          "id": 572773992,
          "start_date_formatted": "May 2016",
          "type": "Run"
         },
         {
          "average_speed_mpk": 5.2,
          "distance": 5,
          "id": 571602110,
          "start_date_formatted": "May 2016",
          "type": "Run"
         },
         {
          "average_speed_mpk": 6.964479732553281,
          "distance": 12.309700000000001,
          "id": 573447998,
          "start_date_formatted": "May 2016",
          "type": "Run"
         },
         {
          "average_speed_mpk": 7.107036247334754,
          "distance": 4.387,
          "id": 564863202,
          "start_date_formatted": "May 2016",
          "type": "Run"
         },
         {
          "average_speed_mpk": 5.3935275080906155,
          "distance": 4.607399999999999,
          "id": 551367765,
          "start_date_formatted": "Apr 2016",
          "type": "Run"
         },
         {
          "average_speed_mpk": 5.28911456680419,
          "distance": 5.3826,
          "id": 542264278,
          "start_date_formatted": "Apr 2016",
          "type": "Run"
         },
         {
          "average_speed_mpk": 6.174879585031493,
          "distance": 5.054600000000001,
          "id": 540227487,
          "start_date_formatted": "Apr 2016",
          "type": "Run"
         },
         {
          "average_speed_mpk": 6.339292506656523,
          "distance": 5.26,
          "id": 535705837,
          "start_date_formatted": "Apr 2016",
          "type": "Run"
         },
         {
          "average_speed_mpk": 6.168023686158401,
          "distance": 5.1175,
          "id": 487959112,
          "start_date_formatted": "Feb 2016",
          "type": "Run"
         },
         {
          "average_speed_mpk": 6.020953757225434,
          "distance": 2.3418,
          "id": 483575529,
          "start_date_formatted": "Feb 2016",
          "type": "Run"
         },
         {
          "average_speed_mpk": 6.327258921791952,
          "distance": 3.7666,
          "id": 480500008,
          "start_date_formatted": "Jan 2016",
          "type": "Run"
         },
         {
          "average_speed_mpk": 6.492403583950136,
          "distance": 2.8388,
          "id": 478209755,
          "start_date_formatted": "Jan 2016",
          "type": "Run"
         },
         {
          "average_speed_mpk": 6.020953757225434,
          "distance": 4.0390999999999995,
          "id": 466584163,
          "start_date_formatted": "Jan 2016",
          "type": "Run"
         },
         {
          "average_speed_mpk": 5.546089850249585,
          "distance": 7.837899999999999,
          "id": 342029032,
          "start_date_formatted": "Jul 2015",
          "type": "Run"
         },
         {
          "average_speed_mpk": 5.893210749646394,
          "distance": 7.7927,
          "id": 337260755,
          "start_date_formatted": "Jul 2015",
          "type": "Run"
         },
         {
          "average_speed_mpk": 6.265413533834586,
          "distance": 4.788399999999999,
          "id": 336549318,
          "start_date_formatted": "Jun 2015",
          "type": "Run"
         },
         {
          "average_speed_mpk": 5.833391669583479,
          "distance": 3.7946,
          "id": 332385555,
          "start_date_formatted": "Jun 2015",
          "type": "Run"
         },
         {
          "average_speed_mpk": 5.398769031422092,
          "distance": 5.513,
          "id": 330395117,
          "start_date_formatted": "Jun 2015",
          "type": "Run"
         },
         {
          "average_speed_mpk": 7.199136069114471,
          "distance": 5.0796,
          "id": 337030804,
          "start_date_formatted": "Jun 2015",
          "type": "Run"
         },
         {
          "average_speed_mpk": 6.274849397590361,
          "distance": 6.178100000000001,
          "id": 330427930,
          "start_date_formatted": "Jun 2015",
          "type": "Run"
         },
         {
          "average_speed_mpk": 6.031849439015563,
          "distance": 6.083699999999999,
          "id": 326290110,
          "start_date_formatted": "Jun 2015",
          "type": "Run"
         },
         {
          "average_speed_mpk": 5.798886569241475,
          "distance": 5.5671,
          "id": 325710652,
          "start_date_formatted": "Jun 2015",
          "type": "Run"
         },
         {
          "average_speed_mpk": 5.607671601615074,
          "distance": 4.8355,
          "id": 325737250,
          "start_date_formatted": "Jun 2015",
          "type": "Run"
         },
         {
          "average_speed_mpk": 5.740957630037892,
          "distance": 6.8258,
          "id": 319860155,
          "start_date_formatted": "Jun 2015",
          "type": "Run"
         },
         {
          "average_speed_mpk": 5.334827144686299,
          "distance": 6.1389,
          "id": 317069693,
          "start_date_formatted": "Jun 2015",
          "type": "Run"
         },
         {
          "average_speed_mpk": 6.346534653465347,
          "distance": 10.2172,
          "id": 313886835,
          "start_date_formatted": "May 2015",
          "type": "Run"
         },
         {
          "average_speed_mpk": 5.638024357239513,
          "distance": 5.01,
          "id": 309158613,
          "start_date_formatted": "May 2015",
          "type": "Run"
         },
         {
          "average_speed_mpk": 6.610868702895677,
          "distance": 9.619399999999999,
          "id": 306812528,
          "start_date_formatted": "May 2015",
          "type": "Run"
         },
         {
          "average_speed_mpk": 6.637196336121067,
          "distance": 6.6388,
          "id": 304079340,
          "start_date_formatted": "May 2015",
          "type": "Run"
         },
         {
          "average_speed_mpk": 5.358842443729904,
          "distance": 7.0637,
          "id": 299555682,
          "start_date_formatted": "May 2015",
          "type": "Run"
         },
         {
          "average_speed_mpk": 5.426896776294367,
          "distance": 5.9479,
          "id": 298327429,
          "start_date_formatted": "May 2015",
          "type": "Run"
         },
         {
          "average_speed_mpk": 5.585120643431636,
          "distance": 8.8698,
          "id": 296571535,
          "start_date_formatted": "May 2015",
          "type": "Run"
         },
         {
          "average_speed_mpk": 5.299205087440382,
          "distance": 4.871899999999999,
          "id": 294515000,
          "start_date_formatted": "Apr 2015",
          "type": "Run"
         },
         {
          "average_speed_mpk": 4.8845252051582655,
          "distance": 5.497,
          "id": 291409727,
          "start_date_formatted": "Apr 2015",
          "type": "Run"
         },
         {
          "average_speed_mpk": 5.388296152602651,
          "distance": 6.1944,
          "id": 288669491,
          "start_date_formatted": "Apr 2015",
          "type": "Run"
         },
         {
          "average_speed_mpk": 5.309334182860784,
          "distance": 5.8785,
          "id": 276170382,
          "start_date_formatted": "Mar 2015",
          "type": "Run"
         },
         {
          "average_speed_mpk": 5.47503285151117,
          "distance": 5.7158999999999995,
          "id": 272577441,
          "start_date_formatted": "Mar 2015",
          "type": "Run"
         },
         {
          "average_speed_mpk": 5.264055590650663,
          "distance": 3.84,
          "id": 242976359,
          "start_date_formatted": "Jan 2015",
          "type": "Run"
         },
         {
          "average_speed_mpk": 4.857475954532206,
          "distance": 4.0248,
          "id": 233931335,
          "start_date_formatted": "Dec 2014",
          "type": "Run"
         },
         {
          "average_speed_mpk": 5.098195166717651,
          "distance": 3.9454000000000002,
          "id": 231114331,
          "start_date_formatted": "Dec 2014",
          "type": "Run"
         },
         {
          "average_speed_mpk": 6.8415435139573075,
          "distance": 10.9236,
          "id": 221967362,
          "start_date_formatted": "Nov 2014",
          "type": "Run"
         },
         {
          "average_speed_mpk": 6.484824902723736,
          "distance": 6.5333000000000006,
          "id": 220009577,
          "start_date_formatted": "Nov 2014",
          "type": "Run"
         },
         {
          "average_speed_mpk": 5.428664495114007,
          "distance": 8.7202,
          "id": 217550724,
          "start_date_formatted": "Nov 2014",
          "type": "Run"
         },
         {
          "average_speed_mpk": 5.322900031938678,
          "distance": 5.3953999999999995,
          "id": 214387348,
          "start_date_formatted": "Nov 2014",
          "type": "Run"
         },
         {
          "average_speed_mpk": 5.265718799368089,
          "distance": 5.6373,
          "id": 212426253,
          "start_date_formatted": "Oct 2014",
          "type": "Run"
         },
         {
          "average_speed_mpk": 5.437520391517129,
          "distance": 6.0808,
          "id": 211580974,
          "start_date_formatted": "Oct 2014",
          "type": "Run"
         },
         {
          "average_speed_mpk": 5.928850942725009,
          "distance": 7.1241,
          "id": 158212137,
          "start_date_formatted": "Jun 2014",
          "type": "Run"
         },
         {
          "average_speed_mpk": 5.62280701754386,
          "distance": 4.1494,
          "id": 154879009,
          "start_date_formatted": "Jun 2014",
          "type": "Run"
         },
         {
          "average_speed_mpk": 5.30426479949077,
          "distance": 5.5605,
          "id": 152050291,
          "start_date_formatted": "Jun 2014",
          "type": "Run"
         },
         {
          "average_speed_mpk": 5.0078125,
          "distance": 4.5693,
          "id": 142366419,
          "start_date_formatted": "May 2014",
          "type": "Run"
         },
         {
          "average_speed_mpk": 5.090409285277947,
          "distance": 6.1624,
          "id": 119230806,
          "start_date_formatted": "Mar 2014",
          "type": "Run"
         },
         {
          "average_speed_mpk": 5.334827144686299,
          "distance": 11.02,
          "id": 63662932,
          "start_date_formatted": "Jun 2013",
          "type": "Run"
         },
         {
          "average_speed_mpk": 5.156559405940594,
          "distance": 8.7426,
          "id": 62655429,
          "start_date_formatted": "Jun 2013",
          "type": "Run"
         },
         {
          "average_speed_mpk": 5.57764390896921,
          "distance": 10.495899999999999,
          "id": 62196957,
          "start_date_formatted": "Jun 2013",
          "type": "Run"
         },
         {
          "average_speed_mpk": 5.169354838709677,
          "distance": 7.6546,
          "id": 61312377,
          "start_date_formatted": "Jun 2013",
          "type": "Run"
         },
         {
          "average_speed_mpk": 5.2146433041301625,
          "distance": 7.065300000000001,
          "id": 60169031,
          "start_date_formatted": "Jun 2013",
          "type": "Run"
         },
         {
          "average_speed_mpk": 5.3433792882334075,
          "distance": 8.4716,
          "id": 508961092,
          "start_date_formatted": "Mar 2013",
          "type": "Run"
         }
        ]
       },
       "hconcat": [
        {
         "data": {
          "name": "data-548c461350e0d4aefdeff29452f8c8dc"
         },
         "encoding": {
          "color": {
           "field": "type",
           "type": "nominal"
          },
          "href": {
           "field": "url",
           "type": "nominal"
          },
          "tooltip": [
           {
            "field": "start_date_formatted",
            "type": "nominal"
           },
           {
            "field": "distance",
            "type": "quantitative"
           },
           {
            "field": "average_speed_mpk",
            "type": "quantitative"
           },
           {
            "field": "url",
            "type": "nominal"
           }
          ],
          "x": {
           "field": "distance",
           "type": "quantitative"
          },
          "y": {
           "field": "average_speed_mpk",
           "type": "quantitative"
          }
         },
         "mark": "circle",
         "selection": {
          "selector001": {
           "bind": "scales",
           "encodings": [
            "x",
            "y"
           ],
           "mark": {
            "fill": "#333",
            "fillOpacity": 0.125,
            "stroke": "white"
           },
           "on": "[mousedown, window:mouseup] > window:mousemove!",
           "resolve": "global",
           "translate": "[mousedown, window:mouseup] > window:mousemove!",
           "type": "interval",
           "zoom": "wheel!"
          }
         },
         "title": "Runs",
         "transform": [
          {
           "as": "url",
           "calculate": "('https://www.strava.com/activities/' + datum.id)"
          }
         ]
        },
        {
         "data": {
          "name": "data-47a86dc60021946e002ac45138c709f0"
         },
         "encoding": {
          "color": {
           "field": "type",
           "type": "nominal"
          },
          "href": {
           "field": "url",
           "type": "nominal"
          },
          "tooltip": [
           {
            "field": "start_date_formatted",
            "type": "nominal"
           },
           {
            "field": "distance",
            "type": "quantitative"
           },
           {
            "field": "average_speed_kph",
            "type": "quantitative"
           },
           {
            "field": "url",
            "type": "nominal"
           }
          ],
          "x": {
           "field": "distance",
           "type": "quantitative"
          },
          "y": {
           "field": "average_speed_kph",
           "type": "quantitative"
          }
         },
         "mark": "circle",
         "selection": {
          "selector002": {
           "bind": "scales",
           "encodings": [
            "x",
            "y"
           ],
           "mark": {
            "fill": "#333",
            "fillOpacity": 0.125,
            "stroke": "white"
           },
           "on": "[mousedown, window:mouseup] > window:mousemove!",
           "resolve": "global",
           "translate": "[mousedown, window:mouseup] > window:mousemove!",
           "type": "interval",
           "zoom": "wheel!"
          }
         },
         "title": "Rides",
         "transform": [
          {
           "as": "url",
           "calculate": "('https://www.strava.com/activities/' + datum.id)"
          }
         ]
        }
       ],
       "title": "Activity Type by Average Speed and Distance"
      },
      "image/png": "[encoded data removed]",
      "text/plain": [
       "<VegaLite 2 object>\n",
       "\n",
       "If you see this message, it means the renderer has not been properly enabled\n",
       "for the frontend that you are using. For more information, see\n",
       "https://altair-viz.github.io/user_guide/troubleshooting.html\n"
      ]
     },
     "execution_count": 31,
     "metadata": {},
     "output_type": "execute_result"
    }
   ],
   "source": [
    "data_run = df.loc[df['type'] == 'Run',:]\n",
    "data_run = data_run[['id','start_date_formatted','type','distance','average_speed_mpk']]\n",
    "\n",
    "chart_run = alt.Chart(data_run).transform_calculate(\n",
    "    url='https://www.strava.com/activities/' + alt.datum.id\n",
    ").mark_circle().encode(\n",
    "    x='distance',\n",
    "    y='average_speed_mpk',\n",
    "    color='type',\n",
    "    href='url:N',\n",
    "    tooltip=['start_date_formatted','distance','average_speed_mpk','url:N']\n",
    ").interactive()\n",
    "\n",
    "chart_run.title = 'Runs'\n",
    "\n",
    "data_ride = df.loc[df['type'] == 'Ride',:]\n",
    "data_ride = data_ride[['id','start_date_formatted','type','distance','average_speed_kph']]\n",
    "\n",
    "chart_ride = alt.Chart(data_ride).transform_calculate(\n",
    "    url='https://www.strava.com/activities/' + alt.datum.id\n",
    ").mark_circle().encode(\n",
    "    x='distance',\n",
    "    y='average_speed_kph',\n",
    "    color='type',\n",
    "    href='url:N',\n",
    "    tooltip=['start_date_formatted','distance','average_speed_kph','url:N']\n",
    ").interactive()\n",
    "\n",
    "chart_ride.title = 'Rides'\n",
    "\n",
    "chart = alt.hconcat(chart_run, chart_ride)\n",
    "\n",
    "chart.title = 'Activity Type by Average Speed and Distance'\n",
    "\n",
    "chart"
   ]
  },
  {
   "cell_type": "markdown",
   "metadata": {},
   "source": [
    "# Geographic Data\n",
    "\n",
    "Strava provides here a summarized version of each activity. As well the route map is summarized as a simple list of latitue and longitude coordinates, and encoded using [Google's Polyline Algorithm](https://developers.google.com/maps/documentation/utilities/polylinealgorithm).\n",
    "\n",
    "Handy enough, there is a [polyline library in Python](https://github.com/hicsail/polyline) which we can use to decode this. Get it with `pip install polyline`"
   ]
  },
  {
   "cell_type": "code",
   "execution_count": 32,
   "metadata": {},
   "outputs": [],
   "source": [
    "import polyline"
   ]
  },
  {
   "cell_type": "code",
   "execution_count": 33,
   "metadata": {},
   "outputs": [],
   "source": [
    "coo = polyline.decode(records[0]['map']['summary_polyline'])"
   ]
  },
  {
   "cell_type": "code",
   "execution_count": 34,
   "metadata": {},
   "outputs": [
    {
     "data": {
      "text/plain": [
       "[(52.13785, 4.48148),\n",
       " (52.13752, 4.48058),\n",
       " (52.13688, 4.48019),\n",
       " (52.13516, 4.47454),\n",
       " (52.13386, 4.47319),\n",
       " (52.13424, 4.47224),\n",
       " (52.13315, 4.46941),\n",
       " (52.13099, 4.46808),\n",
       " (52.12667, 4.46395),\n",
       " (52.1253, 4.46602)]"
      ]
     },
     "execution_count": 34,
     "metadata": {},
     "output_type": "execute_result"
    }
   ],
   "source": [
    "coo[:10]"
   ]
  },
  {
   "cell_type": "markdown",
   "metadata": {},
   "source": [
    "Now we can apply basic plotting techniques to represent the coordinates geographically, to get something that looks similar to https://www.strava.com/heatmap. **Just an FYI, viewing personal heatmaps in Strava is a paid feature(!)**  \n",
    "\n",
    "A simple way to do this in Python is start with a basic Matplotlib canvas.  \n",
    "\n",
    "Since the activies are so far unfiliterd, and I know I have recorded activies in various parts of the world, let's apply some basic filtering to get valid activity coordinates from general geographic locations of interest (using rounding of coordincates).\n",
    "\n",
    "I'm not going to show too many details here, and adding backgrounds to maps is complicated. However, this can be personally very interesting to see which neighborhoods or routes you favor over others by just glancing this over."
   ]
  },
  {
   "cell_type": "markdown",
   "metadata": {},
   "source": [
    "## Matplotlib"
   ]
  },
  {
   "cell_type": "code",
   "execution_count": 35,
   "metadata": {},
   "outputs": [],
   "source": [
    "import matplotlib.pyplot as plt\n",
    "import seaborn as sns\n",
    "%matplotlib inline"
   ]
  },
  {
   "cell_type": "markdown",
   "metadata": {},
   "source": [
    "### Des Moines, IA USA"
   ]
  },
  {
   "cell_type": "code",
   "execution_count": 36,
   "metadata": {},
   "outputs": [],
   "source": [
    "coo_list = [polyline.decode(x['map']['summary_polyline']) for x in records\n",
    "            if x['timezone'] == '(GMT-06:00) America/Chicago'\n",
    "            and x['start_latlng'] is not None\n",
    "            and x['start_latlng'][0] <= 41.6 and round(x['start_latlng'][0],1) >= 41.2 and round(x['start_latlng'][1]) == -94]"
   ]
  },
  {
   "cell_type": "code",
   "execution_count": 37,
   "metadata": {},
   "outputs": [
    {
     "name": "stdout",
     "output_type": "stream",
     "text": [
      "Activities: 55\n"
     ]
    }
   ],
   "source": [
    "print('Activities:', len(coo_list))"
   ]
  },
  {
   "cell_type": "code",
   "execution_count": 38,
   "metadata": {},
   "outputs": [
    {
     "data": {
      "text/plain": [
       "[(41.55954, -93.76942),\n",
       " (41.55934, -93.76753),\n",
       " (41.55973, -93.76617),\n",
       " (41.56677, -93.75993),\n",
       " (41.56749, -93.75882),\n",
       " (41.56727, -93.75842),\n",
       " (41.56757, -93.7567),\n",
       " (41.56511, -93.75665),\n",
       " (41.56194, -93.75227),\n",
       " (41.55948, -93.75203),\n",
       " (41.55934, -93.76408),\n",
       " (41.56013, -93.76569),\n",
       " (41.55942, -93.7675),\n",
       " (41.55942, -93.76943)]"
      ]
     },
     "execution_count": 38,
     "metadata": {},
     "output_type": "execute_result"
    }
   ],
   "source": [
    "coo_list[0]"
   ]
  },
  {
   "cell_type": "code",
   "execution_count": 39,
   "metadata": {},
   "outputs": [
    {
     "data": {
      "image/png": "[encoded data removed]",
      "text/plain": [
       "<matplotlib.figure.Figure at 0x1ae7c8642b0>"
      ]
     },
     "metadata": {
      "needs_background": "light"
     },
     "output_type": "display_data"
    }
   ],
   "source": [
    "fig = plt.figure(figsize=(12,12))\n",
    "fig.suptitle('Strava Activity in Des Moines, Iowa')\n",
    "ax = plt.Axes(fig, [0., 0., 1., 1.], )\n",
    "ax.set_aspect('equal')\n",
    "ax.set_axis_off()\n",
    "fig.add_axes(ax)\n",
    "\n",
    "for coo in coo_list:\n",
    "    lat,lon = map(list, zip(*coo))\n",
    "    plt.plot(lon, lat, color='darkorange', lw=0.5, alpha=.9)"
   ]
  },
  {
   "cell_type": "markdown",
   "metadata": {},
   "source": [
    "## Altair (Vega Lite / D3)\n",
    "\n",
    "To do the same thing in Altair, we need to get the data into a format required by d3, preferably the compressed geo file format `topojson`.  \n",
    "\n",
    "The steps taken are then the following:\n",
    "1. Transform data in Python using\n",
    "    - decode the polylines into list of longitute latitude\n",
    "    - convert list of longitute latitude to list of `Shapely` Points\n",
    "    - convert list of points into `Shapely` LineStrings\n",
    "    - convert `Pandas` DataFrame with LineStrings and metadata to `GeoPandas` DataFrame\n",
    "2. Export as `GeoJson`\n",
    "3. Convert `GeoJSON` to `TopoJSON` using `geo2topo`\n",
    "```shell\n",
    "geo2topo -q 1e6 line=geojson.json > topojson.json\n",
    "```\n",
    "4. Import topojson into `Altair` and plot\n",
    "\n",
    "Requirements:\n",
    "- GeoPandas and dependencies http://geopandas.org/install.html\n",
    "- TopoJSON Server https://github.com/topojson/topojson-server#installing\n",
    "\n",
    "Caveats:\n",
    "- at time of writing we cannot add hover tooltips in Altair because Vega Lite does not yet support interactive geoshapes (follow the issue here https://github.com/altair-viz/altair/issues/679)\n",
    "\n",
    "Background Reading:\n",
    "- for more on how D3 uses TopoJSON read Mike Bostock's [Command Line Cartography](https://medium.com/@mbostock/command-line-cartography-part-1-897aa8f8ca2c) (formerly [Let's Make a Map](https://bost.ocks.org/mike/map/))"
   ]
  },
  {
   "cell_type": "code",
   "execution_count": 40,
   "metadata": {},
   "outputs": [],
   "source": [
    "from geopandas import GeoDataFrame\n",
    "from shapely.geometry import Point, LineString\n",
    "\n",
    "def decode_map(x):\n",
    "    if not x['summary_polyline'] == None:\n",
    "        return polyline.decode(x['summary_polyline'])"
   ]
  },
  {
   "cell_type": "markdown",
   "metadata": {},
   "source": [
    "### Des Moines, IA USA"
   ]
  },
  {
   "cell_type": "code",
   "execution_count": 41,
   "metadata": {},
   "outputs": [],
   "source": [
    "df_tmp = df.loc[df.timezone == '(GMT-06:00) America/Chicago',:]\n",
    "df_tmp = df_tmp.loc[df.start_latlng.apply(lambda x: round(x[0],1) <= 41.6  and round(x[0],1) >= 41.2 and round(x[1]) == -94 if not x == None else False),:]"
   ]
  },
  {
   "cell_type": "code",
   "execution_count": 44,
   "metadata": {},
   "outputs": [],
   "source": [
    "df_tmp.loc[:,'map_decoded'] = df_tmp.loc[:,'map'].apply(decode_map)\n",
    "\n",
    "df_tmp.loc[:,'geometry_list'] = df_tmp.loc[:,'map_decoded'].apply(lambda d: [Point(y,x) for x,y in d] if not d == None else pd.np.nan)\n",
    "\n",
    "df_map = df_tmp.loc[df_tmp.geometry_list.isnull() == False,:]\n",
    "\n",
    "df_map.loc[:,'geo_line'] = df_map.loc[:,'geometry_list'].apply(LineString)\n",
    "\n",
    "gdf = GeoDataFrame(df_map[['id','start_date_formatted','type','geo_line']], geometry='geo_line')"
   ]
  },
  {
   "cell_type": "code",
   "execution_count": 45,
   "metadata": {},
   "outputs": [
    {
     "data": {
      "text/html": [
       "<div>\n",
       "<style scoped>\n",
       "    .dataframe tbody tr th:only-of-type {\n",
       "        vertical-align: middle;\n",
       "    }\n",
       "\n",
       "    .dataframe tbody tr th {\n",
       "        vertical-align: top;\n",
       "    }\n",
       "\n",
       "    .dataframe thead th {\n",
       "        text-align: right;\n",
       "    }\n",
       "</style>\n",
       "<table border=\"1\" class=\"dataframe\">\n",
       "  <thead>\n",
       "    <tr style=\"text-align: right;\">\n",
       "      <th></th>\n",
       "      <th>id</th>\n",
       "      <th>start_date_formatted</th>\n",
       "      <th>type</th>\n",
       "      <th>geo_line</th>\n",
       "    </tr>\n",
       "  </thead>\n",
       "  <tbody>\n",
       "    <tr>\n",
       "      <th>60</th>\n",
       "      <td>984934815</td>\n",
       "      <td>May 2017</td>\n",
       "      <td>Run</td>\n",
       "      <td>LINESTRING (-93.76942 41.55954, -93.7675299999...</td>\n",
       "    </tr>\n",
       "    <tr>\n",
       "      <th>63</th>\n",
       "      <td>817262248</td>\n",
       "      <td>Dec 2016</td>\n",
       "      <td>Run</td>\n",
       "      <td>LINESTRING (-93.76782 41.55941, -93.7664099999...</td>\n",
       "    </tr>\n",
       "    <tr>\n",
       "      <th>64</th>\n",
       "      <td>815054880</td>\n",
       "      <td>Dec 2016</td>\n",
       "      <td>Run</td>\n",
       "      <td>LINESTRING (-93.77070000000001 41.56226, -93.7...</td>\n",
       "    </tr>\n",
       "    <tr>\n",
       "      <th>68</th>\n",
       "      <td>672812022</td>\n",
       "      <td>Aug 2016</td>\n",
       "      <td>Run</td>\n",
       "      <td>LINESTRING (-93.76779000000001 41.5594, -93.76...</td>\n",
       "    </tr>\n",
       "    <tr>\n",
       "      <th>69</th>\n",
       "      <td>670638874</td>\n",
       "      <td>Aug 2016</td>\n",
       "      <td>Run</td>\n",
       "      <td>LINESTRING (-93.76975 41.5596, -93.76763 41.55...</td>\n",
       "    </tr>\n",
       "  </tbody>\n",
       "</table>\n",
       "</div>"
      ],
      "text/plain": [
       "           id start_date_formatted type  \\\n",
       "60  984934815             May 2017  Run   \n",
       "63  817262248             Dec 2016  Run   \n",
       "64  815054880             Dec 2016  Run   \n",
       "68  672812022             Aug 2016  Run   \n",
       "69  670638874             Aug 2016  Run   \n",
       "\n",
       "                                             geo_line  \n",
       "60  LINESTRING (-93.76942 41.55954, -93.7675299999...  \n",
       "63  LINESTRING (-93.76782 41.55941, -93.7664099999...  \n",
       "64  LINESTRING (-93.77070000000001 41.56226, -93.7...  \n",
       "68  LINESTRING (-93.76779000000001 41.5594, -93.76...  \n",
       "69  LINESTRING (-93.76975 41.5596, -93.76763 41.55...  "
      ]
     },
     "execution_count": 45,
     "metadata": {},
     "output_type": "execute_result"
    }
   ],
   "source": [
    "gdf.head()"
   ]
  },
  {
   "cell_type": "code",
   "execution_count": null,
   "metadata": {},
   "outputs": [],
   "source": [
    "gdf.to_file('data/geojson.json', driver=\"GeoJSON\")"
   ]
  },
  {
   "cell_type": "markdown",
   "metadata": {},
   "source": [
    "#### now run below command to generate topojson file\n",
    "\n",
    "```shell\n",
    "geo2topo -q 1e6 line=geojson.json > topojson.json\n",
    "```"
   ]
  },
  {
   "cell_type": "code",
   "execution_count": 57,
   "metadata": {},
   "outputs": [],
   "source": [
    "data = alt.topo_feature('public_data/topojson.json', 'line')"
   ]
  },
  {
   "cell_type": "code",
   "execution_count": 58,
   "metadata": {},
   "outputs": [
    {
     "data": {
      "text/plain": [
       "UrlData({\n",
       "  format: TopoDataFormat({\n",
       "    feature: 'line',\n",
       "    type: 'topojson'\n",
       "  }),\n",
       "  url: 'public_data/topojson.json'\n",
       "})"
      ]
     },
     "execution_count": 58,
     "metadata": {},
     "output_type": "execute_result"
    }
   ],
   "source": [
    "data"
   ]
  },
  {
   "cell_type": "code",
   "execution_count": 59,
   "metadata": {},
   "outputs": [
    {
     "data": {
      "application/vnd.vegalite.v2+json": {
       "$schema": "https://vega.github.io/schema/vega-lite/v2.6.0.json",
       "config": {
        "view": {
         "height": 300,
         "width": 400
        }
       },
       "data": {
        "format": {
         "feature": "line",
         "type": "topojson"
        },
        "url": "public_data/topojson.json"
       },
       "encoding": {
        "tooltip": []
       },
       "height": 700,
       "mark": {
        "filled": false,
        "opacity": 0.9,
        "stroke": "darkorange",
        "strokeWidth": 0.5,
        "type": "geoshape"
       },
       "title": "Strava Activity in Des Moines, Iowa",
       "width": 900
      },
      "image/png": "[encoded data removed]",
      "text/plain": [
       "<VegaLite 2 object>\n",
       "\n",
       "If you see this message, it means the renderer has not been properly enabled\n",
       "for the frontend that you are using. For more information, see\n",
       "https://altair-viz.github.io/user_guide/troubleshooting.html\n"
      ]
     },
     "execution_count": 59,
     "metadata": {},
     "output_type": "execute_result"
    }
   ],
   "source": [
    "chart = alt.Chart(data).mark_geoshape(\n",
    "    stroke='darkorange',\n",
    "    strokeWidth=.5,\n",
    "    opacity=.9,\n",
    "    filled=False\n",
    ").encode(\n",
    "    tooltip=[]\n",
    ").properties(\n",
    "    title='Strava Activity in Des Moines, Iowa',\n",
    "    width=900,\n",
    "    height=700\n",
    ")\n",
    "\n",
    "chart"
   ]
  }
 ],
 "metadata": {
  "kernelspec": {
   "display_name": "Python 3",
   "language": "python",
   "name": "python3"
  },
  "language_info": {
   "codemirror_mode": {
    "name": "ipython",
    "version": 3
   },
   "file_extension": ".py",
   "mimetype": "text/x-python",
   "name": "python",
   "nbconvert_exporter": "python",
   "pygments_lexer": "ipython3",
   "version": "3.6.3"
  }
 },
 "nbformat": 4,
 "nbformat_minor": 2
}
