{
 "cells": [
  {
   "cell_type": "markdown",
   "metadata": {},
   "source": [
    "# Contents\n",
    "\n",
    "- [Strava API](#Strava-API)\n",
    "    - [Swagger Client](#Swagger-Client)\n",
    "    - [Getting Over the Humps](#Getting-Over-the-Humps)\n",
    "    - [Test Working](#Test-WOrking)\n",
    "- [List Activites](#List-Activities)\n",
    "- [Conversion](#Conversion)\n",
    "- [Preview](#Preview)\n",
    "- [Data Dump](#Data-Dump)\n",
    "    - [Write](#Write)\n",
    "    - [Read](#Read)\n",
    "- [Data Analysis](#Data-Analysis)\n",
    "    - [Statistics](#Statistics)\n",
    "    - [Plots](#Plots)\n",
    "- [Geographic Data](#Geographic-Data)\n",
    "    - [Matplotlib](#Matplotlib)\n",
    "    - [Altair](#Altair)"
   ]
  },
  {
   "cell_type": "markdown",
   "metadata": {},
   "source": [
    "# Strava API\n",
    "\n",
    "The official Strava API docs are here https://developers.strava.com/docs/  \n",
    " \n",
    "First go and create a free application to generate your access token. Go here https://www.strava.com/settings/api  \n",
    "\n",
    "I have already done this and defined my access token as an environment variable, called `STRAVA_ACCESS_TOKEN`.  "
   ]
  },
  {
   "cell_type": "code",
   "execution_count": 2,
   "metadata": {},
   "outputs": [],
   "source": [
    "import os"
   ]
  },
  {
   "cell_type": "code",
   "execution_count": 3,
   "metadata": {},
   "outputs": [],
   "source": [
    "strava_access_token = os.environ['STRAVA_ACCESS_TOKEN']"
   ]
  },
  {
   "cell_type": "markdown",
   "metadata": {},
   "source": [
    "## Swagger Client\n",
    "\n",
    "You interface with Strava's API via [Swagger, and the OpenAPI Specification](https://swagger.io/docs/specification/about/).\n",
    "\n",
    "Using a Swagger API comes with a few prequequisites, including the [Swagger CodeGen Command Line Interface (CLI)](https://github.com/swagger-api/swagger-codegen), and the [Java Runtime Environment (JRE)](https://www.oracle.com/technetwork/java/javase/downloads).  \n",
    "\n",
    "To get the Swagger CLI on Windows, i did the following:\n",
    "- create a folder where I am running this notebook, called `swagger`  \n",
    "- from there, run the following command via `Windows PowerShell`   \n",
    "```shell\n",
    "Invoke-WebRequest -OutFile swagger-codegen-cli.jar http://central.maven.org/maven2/io/swagger/swagger-codegen-cli/2.3.1/swagger-codegen-cli-2.3.1.jar\n",
    "```\n",
    "\n",
    "After you have Swagger CodeGen and JRE installed, test everything is working with the following:  \n",
    "\n",
    "```shell\n",
    "# (Windows)\n",
    "java -jar swagger/swagger-codegen-cli.jar help\n",
    "```\n",
    "\n",
    "Now you need to generate the Strava Swagger API locally to be able to use it. From within the resources folder, run the following command:  \n",
    "\n",
    "```shell\n",
    "# (Windows)\n",
    "java -jar swagger-codegen-cli.jar generate -i https://developers.strava.com/swagger/swagger.json -l python\n",
    "```\n",
    "\n",
    "This will download the API specification as a Python library in a folder called `swagger_client`.  \n",
    "\n",
    "We will temporarily add the `swagger` to our python `PATH` for making it available during the execution of this notebook only."
   ]
  },
  {
   "cell_type": "code",
   "execution_count": 4,
   "metadata": {},
   "outputs": [],
   "source": [
    "import sys\n",
    "sys.path.append(os.path.abspath('swagger'))"
   ]
  },
  {
   "cell_type": "code",
   "execution_count": 5,
   "metadata": {},
   "outputs": [],
   "source": [
    "import swagger_client"
   ]
  },
  {
   "cell_type": "code",
   "execution_count": 6,
   "metadata": {},
   "outputs": [],
   "source": [
    "swagger_client.configuration.access_token = strava_access_token"
   ]
  },
  {
   "cell_type": "markdown",
   "metadata": {},
   "source": [
    "## Getting Over the Humps\n",
    "\n",
    "Surprisingly, this took a bit longer than I hoped to figure everything out. Here are a few issues I ran into and how to solve them.  \n",
    "\n",
    "### Issue 1\n",
    "\n",
    "The examples on Strava website assume your code is running from the same directory you generated the swagger API, where `swagger_client` can be a \"relative import\", otherwise you will need to add the `swagger_client` folder to your `Python PATH`.\n",
    "\n",
    "### Issue 2\n",
    "\n",
    "Bug in the Strava Python examples. If you are using Python 3 ignore this, but if you are using Python 2 the following code in the examples is incorrect.  \n",
    "\n",
    "```python\n",
    "from __future__ import print_statement\n",
    "```\n",
    "\n",
    "Change it to.  \n",
    "\n",
    "```python\n",
    "from __future__ import print_function\n",
    "```\n",
    "\n",
    "### Issue 3\n",
    "\n",
    "Another bug in Strava Python examples.\n",
    "\n",
    "You must define every API class before using it. And it appears that every time we instantiate a new module, it resets the access token to a empty string.  \n",
    "\n",
    "Setting the access token at the client level, then providing the authenticated client with the following, also does not seem to work.  \n",
    "```python\n",
    "swagger_client.configuration.access_token = strava_access_token\n",
    "api_instance = swagger_client.AthletesApi(api_client=swagger_client)\n",
    "```\n",
    "\n",
    "You can try and hardcode your access_token into the swagger `configuration.py`, and maybe this is what Strava assumes you do, but this is probably not a good idea.  \n",
    "\n",
    "Alternatively it may be possible to provide the access token in `config.json` when building the swagger api with the `-c` keyword argument, but I could not get this to work.  "
   ]
  },
  {
   "cell_type": "markdown",
   "metadata": {},
   "source": [
    "## Test Working\n",
    "\n",
    "Okay, we got it working."
   ]
  },
  {
   "cell_type": "code",
   "execution_count": 7,
   "metadata": {},
   "outputs": [],
   "source": [
    "from swagger_client.rest import ApiException"
   ]
  },
  {
   "cell_type": "code",
   "execution_count": 8,
   "metadata": {},
   "outputs": [],
   "source": [
    "api_instance = swagger_client.AthletesApi()"
   ]
  },
  {
   "cell_type": "code",
   "execution_count": 9,
   "metadata": {},
   "outputs": [],
   "source": [
    "api_instance.api_client.configuration.access_token = strava_access_token"
   ]
  },
  {
   "cell_type": "code",
   "execution_count": 10,
   "metadata": {},
   "outputs": [],
   "source": [
    "try: \n",
    "    r = api_instance.get_logged_in_athlete()\n",
    "except ApiException as e:\n",
    "    print(e)"
   ]
  },
  {
   "cell_type": "code",
   "execution_count": 11,
   "metadata": {},
   "outputs": [
    {
     "name": "stdout",
     "output_type": "stream",
     "text": [
      "2164216\n"
     ]
    }
   ],
   "source": [
    "athlete_id = r.id\n",
    "print(athlete_id)"
   ]
  },
  {
   "cell_type": "code",
   "execution_count": 12,
   "metadata": {},
   "outputs": [
    {
     "name": "stdout",
     "output_type": "stream",
     "text": [
      "40\n",
      "58\n",
      "0.69\n"
     ]
    }
   ],
   "source": [
    "print(r.follower_count)\n",
    "print(r.friend_count)\n",
    "print(round(r.follower_count / r.friend_count,2))"
   ]
  },
  {
   "cell_type": "code",
   "execution_count": 13,
   "metadata": {},
   "outputs": [
    {
     "data": {
      "text/plain": [
       "[('Monkeys On Bikes', 'United States'), ('Ride for Nokor Tep', 'Singapore')]"
      ]
     },
     "execution_count": 13,
     "metadata": {},
     "output_type": "execute_result"
    }
   ],
   "source": [
    "[(x.name, x.country) for x in r.clubs]"
   ]
  },
  {
   "cell_type": "code",
   "execution_count": 14,
   "metadata": {},
   "outputs": [
    {
     "data": {
      "text/plain": [
       "[{'distance': 820969.0,\n",
       "  'id': 'g187719',\n",
       "  'name': 'Nike',\n",
       "  'primary': True,\n",
       "  'resource_state': 2}]"
      ]
     },
     "execution_count": 14,
     "metadata": {},
     "output_type": "execute_result"
    }
   ],
   "source": [
    "r.shoes"
   ]
  },
  {
   "cell_type": "code",
   "execution_count": 15,
   "metadata": {},
   "outputs": [
    {
     "data": {
      "text/plain": [
       "[{'distance': 787999.0,\n",
       "  'id': 'b892090',\n",
       "  'name': \"GF 29'er\",\n",
       "  'primary': True,\n",
       "  'resource_state': 2}, {'distance': 855093.0,\n",
       "  'id': 'b892097',\n",
       "  'name': 'Sweet Felt',\n",
       "  'primary': False,\n",
       "  'resource_state': 2}]"
      ]
     },
     "execution_count": 15,
     "metadata": {},
     "output_type": "execute_result"
    }
   ],
   "source": [
    "r.bikes"
   ]
  },
  {
   "cell_type": "markdown",
   "metadata": {},
   "source": [
    "# List Activities\n",
    "\n",
    "Let's get all my activities, using pagination, at 30 activites per page. **If you know you have A LOT of activities, you should probably set some limit here.**"
   ]
  },
  {
   "cell_type": "code",
   "execution_count": 15,
   "metadata": {},
   "outputs": [
    {
     "name": "stdout",
     "output_type": "stream",
     "text": [
      "page: 1\n",
      "page: 2\n",
      "page: 3\n",
      "page: 4\n",
      "page: 5\n",
      "page: 6\n",
      "page: 7\n",
      "page: 8\n"
     ]
    }
   ],
   "source": [
    "api_instance = swagger_client.ActivitiesApi()\n",
    "api_instance.api_client.configuration.access_token = strava_access_token\n",
    "\n",
    "results = []\n",
    "i = 1\n",
    "while True:\n",
    "    print('page:',i)\n",
    "    activities = api_instance.get_logged_in_athlete_activities(page=i, per_page=30)\n",
    "    if activities:\n",
    "        results.append(activities)\n",
    "        i+=1\n",
    "    else:\n",
    "        break"
   ]
  },
  {
   "cell_type": "markdown",
   "metadata": {},
   "source": [
    "# Conversion"
   ]
  },
  {
   "cell_type": "code",
   "execution_count": 16,
   "metadata": {},
   "outputs": [],
   "source": [
    "# flatten the list of lists\n",
    "activities = [a for r in results for a in r]"
   ]
  },
  {
   "cell_type": "code",
   "execution_count": 17,
   "metadata": {},
   "outputs": [],
   "source": [
    "# convert each Strava Activity Object to Python dictionary for more general use\n",
    "records = [a.to_dict() for a in activities]"
   ]
  },
  {
   "cell_type": "code",
   "execution_count": 18,
   "metadata": {},
   "outputs": [
    {
     "data": {
      "text/plain": [
       "185"
      ]
     },
     "execution_count": 18,
     "metadata": {},
     "output_type": "execute_result"
    }
   ],
   "source": [
    "len(activities)"
   ]
  },
  {
   "cell_type": "code",
   "execution_count": 19,
   "metadata": {},
   "outputs": [
    {
     "data": {
      "text/plain": [
       "185"
      ]
     },
     "execution_count": 19,
     "metadata": {},
     "output_type": "execute_result"
    }
   ],
   "source": [
    "len(records)"
   ]
  },
  {
   "cell_type": "markdown",
   "metadata": {},
   "source": [
    "# Data Dump\n",
    "\n",
    "We should backup the data on disk, in case we want to use it later without needing to call the API again.  \n",
    "\n",
    "**NOTE:** Since the data contains properties of type `datetime`, and Python does not know what to do with these when converting a `dict` to `json` string, we define two functions to \"serialize\" and \"deserialize\" the types to ISO format during read/write.  "
   ]
  },
  {
   "cell_type": "markdown",
   "metadata": {},
   "source": [
    "## Write"
   ]
  },
  {
   "cell_type": "code",
   "execution_count": 21,
   "metadata": {},
   "outputs": [],
   "source": [
    "import json\n",
    "from datetime import datetime\n",
    "\n",
    "class datetime2iso(json.JSONEncoder):\n",
    "    def default(self, obj):\n",
    "        if isinstance(obj, datetime):\n",
    "            return obj.isoformat()\n",
    "        else:\n",
    "            return json.JSONEncoder.default(self, obj)"
   ]
  },
  {
   "cell_type": "code",
   "execution_count": 22,
   "metadata": {},
   "outputs": [],
   "source": [
    "with open('data/strava_activites.json', 'w+') as f:\n",
    "    for d in records:\n",
    "        f.write(json.dumps(d, cls=datetime2iso))\n",
    "        f.write('\\n')"
   ]
  },
  {
   "cell_type": "markdown",
   "metadata": {},
   "source": [
    "## Read"
   ]
  },
  {
   "cell_type": "code",
   "execution_count": 16,
   "metadata": {},
   "outputs": [],
   "source": [
    "import json\n",
    "import dateutil\n",
    "\n",
    "def iso2datetime(obj):\n",
    "    d = {}\n",
    "    for k,v in obj:\n",
    "        if isinstance(v, str):\n",
    "            try:\n",
    "                d[k] = dateutil.parser.parse(v)\n",
    "            except ValueError:\n",
    "                d[k] = v\n",
    "        else:\n",
    "            d[k] = v\n",
    "    return d"
   ]
  },
  {
   "cell_type": "code",
   "execution_count": 18,
   "metadata": {},
   "outputs": [],
   "source": [
    "records = []\n",
    "with open('data/strava_activites.json', 'r') as f:\n",
    "    for d in f.readlines():\n",
    "        records.append(json.loads(d, object_pairs_hook=iso2datetime))"
   ]
  },
  {
   "cell_type": "markdown",
   "metadata": {},
   "source": [
    "# Preview"
   ]
  },
  {
   "cell_type": "code",
   "execution_count": 19,
   "metadata": {},
   "outputs": [
    {
     "data": {
      "text/plain": [
       "185"
      ]
     },
     "execution_count": 19,
     "metadata": {},
     "output_type": "execute_result"
    }
   ],
   "source": [
    "len(records)"
   ]
  },
  {
   "cell_type": "code",
   "execution_count": 20,
   "metadata": {},
   "outputs": [
    {
     "data": {
      "text/plain": [
       "{'id': 2199821385,\n",
       " 'external_id': '905e78fcaec8828d8fa0e7e645caeeef',\n",
       " 'upload_id': 2343841696,\n",
       " 'athlete': {'id': 2164216},\n",
       " 'name': 'Soccer Practice (10v10 full field, right mid)',\n",
       " 'distance': 6659.7,\n",
       " 'moving_time': 3051,\n",
       " 'elapsed_time': 4532,\n",
       " 'total_elevation_gain': 0.0,\n",
       " 'elev_high': 5.5,\n",
       " 'elev_low': 4.4,\n",
       " 'type': 'Run',\n",
       " 'start_date': datetime.datetime(2019, 3, 8, 18, 27, 19, tzinfo=tzutc()),\n",
       " 'start_date_local': datetime.datetime(2019, 3, 8, 19, 27, 19, tzinfo=tzutc()),\n",
       " 'timezone': '(GMT+01:00) Europe/Amsterdam',\n",
       " 'start_latlng': [52.17, 4.46],\n",
       " 'end_latlng': [52.17, 4.46],\n",
       " 'achievement_count': 0,\n",
       " 'kudos_count': 2,\n",
       " 'comment_count': 0,\n",
       " 'athlete_count': 1,\n",
       " 'photo_count': 0,\n",
       " 'total_photo_count': 0,\n",
       " 'map': {'id': 'a2199821385',\n",
       "  'polyline': None,\n",
       "  'summary_polyline': 'i{k}HysfZ@}BaAzBf@aBPtDUmDQdBx@ROcBc@dAVcC[tDVeDf@~A{@l@?oCl@Ao@nD?_CIbBz@mAu@MGzBFaCv@vAm@LNgDJ~Bq@At@Zg@sCLdEb@iAy@xBx@oH\\\\pCy@zA]_DtA\\\\m@z@@{BgAzC~@?SaB^lCe@eF@hE~@WQ_Bk@~BRoB\\\\xAQ}DWvFb@sDJfC[}DWlEj@m@o@gCz@d@C{AgCvG'},\n",
       " 'trainer': False,\n",
       " 'commute': False,\n",
       " 'manual': False,\n",
       " 'private': False,\n",
       " 'flagged': False,\n",
       " 'workout_type': 3,\n",
       " 'average_speed': 2.183,\n",
       " 'max_speed': 6.3,\n",
       " 'has_kudoed': False,\n",
       " 'gear_id': 'g187719',\n",
       " 'kilojoules': None,\n",
       " 'average_watts': None,\n",
       " 'device_watts': None,\n",
       " 'max_watts': None,\n",
       " 'weighted_average_watts': None}"
      ]
     },
     "execution_count": 20,
     "metadata": {},
     "output_type": "execute_result"
    }
   ],
   "source": [
    "records[1]"
   ]
  },
  {
   "cell_type": "markdown",
   "metadata": {},
   "source": [
    "# Data Analysis\n",
    "\n",
    "Let's quickly bring this into Pandas to get summarize the data.  \n",
    "\n",
    "Using the definitions provided by Strava [here on Detailed Activity Model](https://developers.strava.com/docs/reference/#api-models-DetailedActivity).  "
   ]
  },
  {
   "cell_type": "code",
   "execution_count": 21,
   "metadata": {},
   "outputs": [],
   "source": [
    "import pandas as pd"
   ]
  },
  {
   "cell_type": "code",
   "execution_count": 22,
   "metadata": {},
   "outputs": [],
   "source": [
    "df = pd.DataFrame.from_records(records)"
   ]
  },
  {
   "cell_type": "code",
   "execution_count": 23,
   "metadata": {},
   "outputs": [
    {
     "data": {
      "text/plain": [
       "(185, 39)"
      ]
     },
     "execution_count": 23,
     "metadata": {},
     "output_type": "execute_result"
    }
   ],
   "source": [
    "df.shape"
   ]
  },
  {
   "cell_type": "markdown",
   "metadata": {},
   "source": [
    "### Preview"
   ]
  },
  {
   "cell_type": "code",
   "execution_count": 24,
   "metadata": {},
   "outputs": [
    {
     "data": {
      "text/html": [
       "<div>\n",
       "<style scoped>\n",
       "    .dataframe tbody tr th:only-of-type {\n",
       "        vertical-align: middle;\n",
       "    }\n",
       "\n",
       "    .dataframe tbody tr th {\n",
       "        vertical-align: top;\n",
       "    }\n",
       "\n",
       "    .dataframe thead th {\n",
       "        text-align: right;\n",
       "    }\n",
       "</style>\n",
       "<table border=\"1\" class=\"dataframe\">\n",
       "  <thead>\n",
       "    <tr style=\"text-align: right;\">\n",
       "      <th></th>\n",
       "      <th>achievement_count</th>\n",
       "      <th>athlete</th>\n",
       "      <th>athlete_count</th>\n",
       "      <th>average_speed</th>\n",
       "      <th>average_watts</th>\n",
       "      <th>comment_count</th>\n",
       "      <th>commute</th>\n",
       "      <th>device_watts</th>\n",
       "      <th>distance</th>\n",
       "      <th>elapsed_time</th>\n",
       "      <th>...</th>\n",
       "      <th>start_date_local</th>\n",
       "      <th>start_latlng</th>\n",
       "      <th>timezone</th>\n",
       "      <th>total_elevation_gain</th>\n",
       "      <th>total_photo_count</th>\n",
       "      <th>trainer</th>\n",
       "      <th>type</th>\n",
       "      <th>upload_id</th>\n",
       "      <th>weighted_average_watts</th>\n",
       "      <th>workout_type</th>\n",
       "    </tr>\n",
       "  </thead>\n",
       "  <tbody>\n",
       "    <tr>\n",
       "      <th>0</th>\n",
       "      <td>0</td>\n",
       "      <td>{'id': 2164216}</td>\n",
       "      <td>1</td>\n",
       "      <td>3.333</td>\n",
       "      <td>NaN</td>\n",
       "      <td>0</td>\n",
       "      <td>False</td>\n",
       "      <td>None</td>\n",
       "      <td>6200.0</td>\n",
       "      <td>1860</td>\n",
       "      <td>...</td>\n",
       "      <td>2019-03-09 10:30:06+00:00</td>\n",
       "      <td>None</td>\n",
       "      <td>(GMT-06:00) America/Chicago</td>\n",
       "      <td>0.0</td>\n",
       "      <td>1</td>\n",
       "      <td>False</td>\n",
       "      <td>Run</td>\n",
       "      <td>NaN</td>\n",
       "      <td>None</td>\n",
       "      <td>3.0</td>\n",
       "    </tr>\n",
       "    <tr>\n",
       "      <th>1</th>\n",
       "      <td>0</td>\n",
       "      <td>{'id': 2164216}</td>\n",
       "      <td>1</td>\n",
       "      <td>2.183</td>\n",
       "      <td>NaN</td>\n",
       "      <td>0</td>\n",
       "      <td>False</td>\n",
       "      <td>None</td>\n",
       "      <td>6659.7</td>\n",
       "      <td>4532</td>\n",
       "      <td>...</td>\n",
       "      <td>2019-03-08 19:27:19+00:00</td>\n",
       "      <td>[52.17, 4.46]</td>\n",
       "      <td>(GMT+01:00) Europe/Amsterdam</td>\n",
       "      <td>0.0</td>\n",
       "      <td>0</td>\n",
       "      <td>False</td>\n",
       "      <td>Run</td>\n",
       "      <td>2.343842e+09</td>\n",
       "      <td>None</td>\n",
       "      <td>3.0</td>\n",
       "    </tr>\n",
       "  </tbody>\n",
       "</table>\n",
       "<p>2 rows × 39 columns</p>\n",
       "</div>"
      ],
      "text/plain": [
       "   achievement_count          athlete  athlete_count  average_speed  \\\n",
       "0                  0  {'id': 2164216}              1          3.333   \n",
       "1                  0  {'id': 2164216}              1          2.183   \n",
       "\n",
       "   average_watts  comment_count  commute device_watts  distance  elapsed_time  \\\n",
       "0            NaN              0    False         None    6200.0          1860   \n",
       "1            NaN              0    False         None    6659.7          4532   \n",
       "\n",
       "   ...          start_date_local   start_latlng                      timezone  \\\n",
       "0  ... 2019-03-09 10:30:06+00:00           None   (GMT-06:00) America/Chicago   \n",
       "1  ... 2019-03-08 19:27:19+00:00  [52.17, 4.46]  (GMT+01:00) Europe/Amsterdam   \n",
       "\n",
       "  total_elevation_gain  total_photo_count trainer  type     upload_id  \\\n",
       "0                  0.0                  1   False   Run           NaN   \n",
       "1                  0.0                  0   False   Run  2.343842e+09   \n",
       "\n",
       "   weighted_average_watts  workout_type  \n",
       "0                    None           3.0  \n",
       "1                    None           3.0  \n",
       "\n",
       "[2 rows x 39 columns]"
      ]
     },
     "execution_count": 24,
     "metadata": {},
     "output_type": "execute_result"
    }
   ],
   "source": [
    "df.head(2)"
   ]
  },
  {
   "cell_type": "markdown",
   "metadata": {},
   "source": [
    "### Conversions"
   ]
  },
  {
   "cell_type": "code",
   "execution_count": 25,
   "metadata": {},
   "outputs": [],
   "source": [
    "# convert distance in meters to kilometers\n",
    "df.loc[:,'distance'] = df.distance / 1000\n",
    "\n",
    "# convert moving in seconds time to minutes\n",
    "df.loc[:,'moving_time'] = df.moving_time / 60\n",
    "\n",
    "# convert average speed in meters per second to minutes per kilometer\n",
    "df.loc[:,'average_speed_mpk'] = 16.666 / df.average_speed\n",
    "\n",
    "# create new column average speed in kilometers per hour\n",
    "df.loc[:,'average_speed_kph'] = 60 / df.average_speed_mpk"
   ]
  },
  {
   "cell_type": "markdown",
   "metadata": {},
   "source": [
    "### Formatting"
   ]
  },
  {
   "cell_type": "code",
   "execution_count": 26,
   "metadata": {},
   "outputs": [],
   "source": [
    "# format date to be used in plot labels\n",
    "df.loc[:,'start_date_formatted'] = df.start_date.dt.strftime('%b %Y')\n",
    "df.loc[:,'start_date_year'] = df.start_date.dt.year\n",
    "df.loc[:,'start_date_month'] = df.start_date.dt.month\n",
    "df.loc[:,'start_date_weekday'] = df.start_date.dt.weekday"
   ]
  },
  {
   "cell_type": "markdown",
   "metadata": {},
   "source": [
    "## Statistics"
   ]
  },
  {
   "cell_type": "code",
   "execution_count": 27,
   "metadata": {},
   "outputs": [
    {
     "data": {
      "text/plain": [
       "Run          143\n",
       "Ride          39\n",
       "Hike           2\n",
       "AlpineSki      1\n",
       "Name: type, dtype: int64"
      ]
     },
     "execution_count": 27,
     "metadata": {},
     "output_type": "execute_result"
    }
   ],
   "source": [
    "df.type.value_counts()"
   ]
  },
  {
   "cell_type": "code",
   "execution_count": 28,
   "metadata": {},
   "outputs": [
    {
     "data": {
      "text/html": [
       "<div>\n",
       "<style scoped>\n",
       "    .dataframe tbody tr th:only-of-type {\n",
       "        vertical-align: middle;\n",
       "    }\n",
       "\n",
       "    .dataframe tbody tr th {\n",
       "        vertical-align: top;\n",
       "    }\n",
       "\n",
       "    .dataframe thead th {\n",
       "        text-align: right;\n",
       "    }\n",
       "</style>\n",
       "<table border=\"1\" class=\"dataframe\">\n",
       "  <thead>\n",
       "    <tr style=\"text-align: right;\">\n",
       "      <th></th>\n",
       "      <th>type</th>\n",
       "      <th>AlpineSki</th>\n",
       "      <th>Hike</th>\n",
       "      <th>Ride</th>\n",
       "      <th>Run</th>\n",
       "    </tr>\n",
       "  </thead>\n",
       "  <tbody>\n",
       "    <tr>\n",
       "      <th rowspan=\"2\" valign=\"top\">average_speed_mpk</th>\n",
       "      <th>mean</th>\n",
       "      <td>2.662300</td>\n",
       "      <td>11.130909</td>\n",
       "      <td>2.971732</td>\n",
       "      <td>5.683848</td>\n",
       "    </tr>\n",
       "    <tr>\n",
       "      <th>max</th>\n",
       "      <td>2.662300</td>\n",
       "      <td>14.159728</td>\n",
       "      <td>6.864086</td>\n",
       "      <td>7.861321</td>\n",
       "    </tr>\n",
       "    <tr>\n",
       "      <th rowspan=\"2\" valign=\"top\">average_speed_kph</th>\n",
       "      <th>mean</th>\n",
       "      <td>22.536901</td>\n",
       "      <td>5.821433</td>\n",
       "      <td>21.331315</td>\n",
       "      <td>10.670046</td>\n",
       "    </tr>\n",
       "    <tr>\n",
       "      <th>max</th>\n",
       "      <td>22.536901</td>\n",
       "      <td>7.405496</td>\n",
       "      <td>27.739110</td>\n",
       "      <td>13.500540</td>\n",
       "    </tr>\n",
       "    <tr>\n",
       "      <th rowspan=\"2\" valign=\"top\">distance</th>\n",
       "      <th>mean</th>\n",
       "      <td>6.348000</td>\n",
       "      <td>7.263100</td>\n",
       "      <td>51.181644</td>\n",
       "      <td>5.953995</td>\n",
       "    </tr>\n",
       "    <tr>\n",
       "      <th>max</th>\n",
       "      <td>6.348000</td>\n",
       "      <td>9.464000</td>\n",
       "      <td>121.092000</td>\n",
       "      <td>12.309700</td>\n",
       "    </tr>\n",
       "    <tr>\n",
       "      <th rowspan=\"2\" valign=\"top\">moving_time</th>\n",
       "      <th>mean</th>\n",
       "      <td>16.900000</td>\n",
       "      <td>74.175000</td>\n",
       "      <td>143.432479</td>\n",
       "      <td>33.897319</td>\n",
       "    </tr>\n",
       "    <tr>\n",
       "      <th>max</th>\n",
       "      <td>16.900000</td>\n",
       "      <td>76.666667</td>\n",
       "      <td>341.583333</td>\n",
       "      <td>85.733333</td>\n",
       "    </tr>\n",
       "    <tr>\n",
       "      <th rowspan=\"2\" valign=\"top\">total_elevation_gain</th>\n",
       "      <th>mean</th>\n",
       "      <td>3.600000</td>\n",
       "      <td>209.700000</td>\n",
       "      <td>268.182051</td>\n",
       "      <td>24.373427</td>\n",
       "    </tr>\n",
       "    <tr>\n",
       "      <th>max</th>\n",
       "      <td>3.600000</td>\n",
       "      <td>405.100000</td>\n",
       "      <td>1370.300000</td>\n",
       "      <td>393.000000</td>\n",
       "    </tr>\n",
       "    <tr>\n",
       "      <th rowspan=\"2\" valign=\"top\">achievement_count</th>\n",
       "      <th>mean</th>\n",
       "      <td>0.000000</td>\n",
       "      <td>0.000000</td>\n",
       "      <td>7.974359</td>\n",
       "      <td>1.342657</td>\n",
       "    </tr>\n",
       "    <tr>\n",
       "      <th>max</th>\n",
       "      <td>0.000000</td>\n",
       "      <td>0.000000</td>\n",
       "      <td>40.000000</td>\n",
       "      <td>9.000000</td>\n",
       "    </tr>\n",
       "  </tbody>\n",
       "</table>\n",
       "</div>"
      ],
      "text/plain": [
       "type                       AlpineSki        Hike         Ride         Run\n",
       "average_speed_mpk    mean   2.662300   11.130909     2.971732    5.683848\n",
       "                     max    2.662300   14.159728     6.864086    7.861321\n",
       "average_speed_kph    mean  22.536901    5.821433    21.331315   10.670046\n",
       "                     max   22.536901    7.405496    27.739110   13.500540\n",
       "distance             mean   6.348000    7.263100    51.181644    5.953995\n",
       "                     max    6.348000    9.464000   121.092000   12.309700\n",
       "moving_time          mean  16.900000   74.175000   143.432479   33.897319\n",
       "                     max   16.900000   76.666667   341.583333   85.733333\n",
       "total_elevation_gain mean   3.600000  209.700000   268.182051   24.373427\n",
       "                     max    3.600000  405.100000  1370.300000  393.000000\n",
       "achievement_count    mean   0.000000    0.000000     7.974359    1.342657\n",
       "                     max    0.000000    0.000000    40.000000    9.000000"
      ]
     },
     "execution_count": 28,
     "metadata": {},
     "output_type": "execute_result"
    }
   ],
   "source": [
    "df.groupby('type')\\\n",
    "    [['average_speed_mpk',\n",
    "      'average_speed_kph',\n",
    "      'distance','moving_time',\n",
    "      'total_elevation_gain',\n",
    "      'achievement_count']]\\\n",
    "    .agg(['mean','max'])\\\n",
    "    .T"
   ]
  },
  {
   "cell_type": "code",
   "execution_count": 29,
   "metadata": {},
   "outputs": [
    {
     "data": {
      "text/html": [
       "<div>\n",
       "<style scoped>\n",
       "    .dataframe tbody tr th:only-of-type {\n",
       "        vertical-align: middle;\n",
       "    }\n",
       "\n",
       "    .dataframe tbody tr th {\n",
       "        vertical-align: top;\n",
       "    }\n",
       "\n",
       "    .dataframe thead th {\n",
       "        text-align: right;\n",
       "    }\n",
       "</style>\n",
       "<table border=\"1\" class=\"dataframe\">\n",
       "  <thead>\n",
       "    <tr style=\"text-align: right;\">\n",
       "      <th></th>\n",
       "      <th></th>\n",
       "      <th>type</th>\n",
       "    </tr>\n",
       "    <tr>\n",
       "      <th>timezone</th>\n",
       "      <th>type</th>\n",
       "      <th></th>\n",
       "    </tr>\n",
       "  </thead>\n",
       "  <tbody>\n",
       "    <tr>\n",
       "      <th rowspan=\"3\" valign=\"top\">(GMT+01:00) Europe/Amsterdam</th>\n",
       "      <th>Run</th>\n",
       "      <td>83</td>\n",
       "    </tr>\n",
       "    <tr>\n",
       "      <th>Ride</th>\n",
       "      <td>9</td>\n",
       "    </tr>\n",
       "    <tr>\n",
       "      <th>Hike</th>\n",
       "      <td>1</td>\n",
       "    </tr>\n",
       "    <tr>\n",
       "      <th>(GMT+01:00) Europe/Vienna</th>\n",
       "      <th>AlpineSki</th>\n",
       "      <td>1</td>\n",
       "    </tr>\n",
       "    <tr>\n",
       "      <th rowspan=\"2\" valign=\"top\">(GMT+08:00) Asia/Kuala_Lumpur</th>\n",
       "      <th>Hike</th>\n",
       "      <td>1</td>\n",
       "    </tr>\n",
       "    <tr>\n",
       "      <th>Run</th>\n",
       "      <td>1</td>\n",
       "    </tr>\n",
       "    <tr>\n",
       "      <th rowspan=\"2\" valign=\"top\">(GMT+08:00) Asia/Singapore</th>\n",
       "      <th>Ride</th>\n",
       "      <td>9</td>\n",
       "    </tr>\n",
       "    <tr>\n",
       "      <th>Run</th>\n",
       "      <td>1</td>\n",
       "    </tr>\n",
       "    <tr>\n",
       "      <th rowspan=\"2\" valign=\"top\">(GMT-06:00) America/Chicago</th>\n",
       "      <th>Run</th>\n",
       "      <td>58</td>\n",
       "    </tr>\n",
       "    <tr>\n",
       "      <th>Ride</th>\n",
       "      <td>21</td>\n",
       "    </tr>\n",
       "  </tbody>\n",
       "</table>\n",
       "</div>"
      ],
      "text/plain": [
       "                                         type\n",
       "timezone                      type           \n",
       "(GMT+01:00) Europe/Amsterdam  Run          83\n",
       "                              Ride          9\n",
       "                              Hike          1\n",
       "(GMT+01:00) Europe/Vienna     AlpineSki     1\n",
       "(GMT+08:00) Asia/Kuala_Lumpur Hike          1\n",
       "                              Run           1\n",
       "(GMT+08:00) Asia/Singapore    Ride          9\n",
       "                              Run           1\n",
       "(GMT-06:00) America/Chicago   Run          58\n",
       "                              Ride         21"
      ]
     },
     "execution_count": 29,
     "metadata": {},
     "output_type": "execute_result"
    }
   ],
   "source": [
    "df.groupby('timezone').type.value_counts().to_frame()"
   ]
  },
  {
   "cell_type": "markdown",
   "metadata": {},
   "source": [
    "## Plots\n",
    "\n",
    "For visualizations in this notebook i am using a library called Altair. For more on that see https://altair-viz.github.io/"
   ]
  },
  {
   "cell_type": "code",
   "execution_count": 1,
   "metadata": {},
   "outputs": [
    {
     "name": "stdout",
     "output_type": "stream",
     "text": [
      "2.2.2\n",
      "default\n"
     ]
    }
   ],
   "source": [
    "import altair as alt\n",
    "print(alt.__version__)\n",
    "alt.renderers.enable('default')\n",
    "print(alt.renderers.active)"
   ]
  },
  {
   "cell_type": "code",
   "execution_count": 31,
   "metadata": {},
   "outputs": [
    {
     "data": {
      "application/vnd.vegalite.v2+json": {
       "$schema": "https://vega.github.io/schema/vega-lite/v2.6.0.json",
       "config": {
        "view": {
         "height": 300,
         "width": 400
        }
       },
       "datasets": {
        "data-56b2d483c67dd6abd26a24c77f002fa8": [
         {
          "average_speed_mpk": 5,
          "id": 2202041286,
          "start_date_formatted": "Mar 2019"
         },
         {
          "average_speed_mpk": 7.6,
          "id": 2199821385,
          "start_date_formatted": "Mar 2019"
         },
         {
          "average_speed_mpk": 7.4,
          "id": 2189067328,
          "start_date_formatted": "Mar 2019"
         },
         {
          "average_speed_mpk": 7.9,
          "id": 2172868994,
          "start_date_formatted": "Feb 2019"
         },
         {
          "average_speed_mpk": 4.9,
          "id": 2075494711,
          "start_date_formatted": "Jan 2019"
         },
         {
          "average_speed_mpk": 7.4,
          "id": 2060397406,
          "start_date_formatted": "Jan 2019"
         },
         {
          "average_speed_mpk": 5.5,
          "id": 1873051986,
          "start_date_formatted": "Sep 2018"
         },
         {
          "average_speed_mpk": 5.1,
          "id": 1869415210,
          "start_date_formatted": "Sep 2018"
         },
         {
          "average_speed_mpk": 5,
          "id": 1848183751,
          "start_date_formatted": "Sep 2018"
         },
         {
          "average_speed_mpk": 4.9,
          "id": 1832664190,
          "start_date_formatted": "Sep 2018"
         },
         {
          "average_speed_mpk": 5.2,
          "id": 1819405951,
          "start_date_formatted": "Sep 2018"
         },
         {
          "average_speed_mpk": 5.2,
          "id": 1812167178,
          "start_date_formatted": "Sep 2018"
         },
         {
          "average_speed_mpk": 5,
          "id": 1769961402,
          "start_date_formatted": "Aug 2018"
         },
         {
          "average_speed_mpk": 5.4,
          "id": 1768039547,
          "start_date_formatted": "Aug 2018"
         },
         {
          "average_speed_mpk": 5,
          "id": 1758937255,
          "start_date_formatted": "Aug 2018"
         },
         {
          "average_speed_mpk": 5.3,
          "id": 1754313991,
          "start_date_formatted": "Aug 2018"
         },
         {
          "average_speed_mpk": 5.7,
          "id": 1722778792,
          "start_date_formatted": "Jul 2018"
         },
         {
          "average_speed_mpk": 5.5,
          "id": 1718082089,
          "start_date_formatted": "Jul 2018"
         },
         {
          "average_speed_mpk": 5.2,
          "id": 1702448290,
          "start_date_formatted": "Jul 2018"
         },
         {
          "average_speed_mpk": 5.2,
          "id": 1678605231,
          "start_date_formatted": "Jul 2018"
         },
         {
          "average_speed_mpk": 5.6,
          "id": 1656109943,
          "start_date_formatted": "Jun 2018"
         },
         {
          "average_speed_mpk": 5.1,
          "id": 1615106319,
          "start_date_formatted": "Jun 2018"
         },
         {
          "average_speed_mpk": 5.2,
          "id": 1608680116,
          "start_date_formatted": "May 2018"
         },
         {
          "average_speed_mpk": 5.2,
          "id": 1602018981,
          "start_date_formatted": "May 2018"
         },
         {
          "average_speed_mpk": 5.3,
          "id": 1600086877,
          "start_date_formatted": "May 2018"
         },
         {
          "average_speed_mpk": 5.3,
          "id": 1595253579,
          "start_date_formatted": "May 2018"
         },
         {
          "average_speed_mpk": 5.8,
          "id": 1573271998,
          "start_date_formatted": "May 2018"
         },
         {
          "average_speed_mpk": 5.3,
          "id": 1518378517,
          "start_date_formatted": "Apr 2018"
         },
         {
          "average_speed_mpk": 5.2,
          "id": 1510885071,
          "start_date_formatted": "Apr 2018"
         },
         {
          "average_speed_mpk": 5.2,
          "id": 1485983415,
          "start_date_formatted": "Apr 2018"
         },
         {
          "average_speed_mpk": 5.8,
          "id": 1481527978,
          "start_date_formatted": "Mar 2018"
         },
         {
          "average_speed_mpk": 5.1,
          "id": 1478637305,
          "start_date_formatted": "Mar 2018"
         },
         {
          "average_speed_mpk": 5.3,
          "id": 1470467201,
          "start_date_formatted": "Mar 2018"
         },
         {
          "average_speed_mpk": 5.6,
          "id": 1459406814,
          "start_date_formatted": "Mar 2018"
         },
         {
          "average_speed_mpk": 6.8,
          "id": 1447706570,
          "start_date_formatted": "Mar 2018"
         },
         {
          "average_speed_mpk": 5.1,
          "id": 1243691739,
          "start_date_formatted": "Oct 2017"
         },
         {
          "average_speed_mpk": 5.1,
          "id": 1236411824,
          "start_date_formatted": "Oct 2017"
         },
         {
          "average_speed_mpk": 5.1,
          "id": 1231742829,
          "start_date_formatted": "Oct 2017"
         },
         {
          "average_speed_mpk": 6.5,
          "id": 1220350726,
          "start_date_formatted": "Oct 2017"
         },
         {
          "average_speed_mpk": 5.4,
          "id": 1180785806,
          "start_date_formatted": "Sep 2017"
         },
         {
          "average_speed_mpk": 5.3,
          "id": 1168340670,
          "start_date_formatted": "Sep 2017"
         },
         {
          "average_speed_mpk": 5.4,
          "id": 1166527379,
          "start_date_formatted": "Sep 2017"
         },
         {
          "average_speed_mpk": 5.4,
          "id": 1161701515,
          "start_date_formatted": "Aug 2017"
         },
         {
          "average_speed_mpk": 5.2,
          "id": 1158568544,
          "start_date_formatted": "Aug 2017"
         },
         {
          "average_speed_mpk": 5.1,
          "id": 1155346588,
          "start_date_formatted": "Aug 2017"
         },
         {
          "average_speed_mpk": 6,
          "id": 1151711545,
          "start_date_formatted": "Aug 2017"
         },
         {
          "average_speed_mpk": 5.1,
          "id": 1148457766,
          "start_date_formatted": "Aug 2017"
         },
         {
          "average_speed_mpk": 5.7,
          "id": 1141382702,
          "start_date_formatted": "Aug 2017"
         },
         {
          "average_speed_mpk": 5.6,
          "id": 1125291234,
          "start_date_formatted": "Aug 2017"
         },
         {
          "average_speed_mpk": 5.1,
          "id": 1122020885,
          "start_date_formatted": "Aug 2017"
         },
         {
          "average_speed_mpk": 5.1,
          "id": 1097956892,
          "start_date_formatted": "Jul 2017"
         },
         {
          "average_speed_mpk": 5.7,
          "id": 1094471366,
          "start_date_formatted": "Jul 2017"
         },
         {
          "average_speed_mpk": 5.8,
          "id": 1047510194,
          "start_date_formatted": "Jun 2017"
         },
         {
          "average_speed_mpk": 4.4,
          "id": 1042731925,
          "start_date_formatted": "Jun 2017"
         },
         {
          "average_speed_mpk": 5.2,
          "id": 1042698985,
          "start_date_formatted": "Jun 2017"
         },
         {
          "average_speed_mpk": 5.3,
          "id": 1041055453,
          "start_date_formatted": "Jun 2017"
         },
         {
          "average_speed_mpk": 5.3,
          "id": 1031510189,
          "start_date_formatted": "Jun 2017"
         },
         {
          "average_speed_mpk": 5.8,
          "id": 1029928575,
          "start_date_formatted": "Jun 2017"
         },
         {
          "average_speed_mpk": 5.4,
          "id": 1022228974,
          "start_date_formatted": "Jun 2017"
         },
         {
          "average_speed_mpk": 5.6,
          "id": 984934815,
          "start_date_formatted": "May 2017"
         },
         {
          "average_speed_mpk": 5.3,
          "id": 944898454,
          "start_date_formatted": "Apr 2017"
         },
         {
          "average_speed_mpk": 5.7,
          "id": 920925917,
          "start_date_formatted": "Mar 2017"
         },
         {
          "average_speed_mpk": 6,
          "id": 817262248,
          "start_date_formatted": "Dec 2016"
         },
         {
          "average_speed_mpk": 6.1,
          "id": 815054880,
          "start_date_formatted": "Dec 2016"
         },
         {
          "average_speed_mpk": 6,
          "id": 747705664,
          "start_date_formatted": "Oct 2016"
         },
         {
          "average_speed_mpk": 6.7,
          "id": 727921866,
          "start_date_formatted": "Sep 2016"
         },
         {
          "average_speed_mpk": 5.5,
          "id": 720027140,
          "start_date_formatted": "Sep 2016"
         },
         {
          "average_speed_mpk": 5.7,
          "id": 672812022,
          "start_date_formatted": "Aug 2016"
         },
         {
          "average_speed_mpk": 5.8,
          "id": 670638874,
          "start_date_formatted": "Aug 2016"
         },
         {
          "average_speed_mpk": 5.6,
          "id": 665821624,
          "start_date_formatted": "Aug 2016"
         },
         {
          "average_speed_mpk": 6.3,
          "id": 663726297,
          "start_date_formatted": "Aug 2016"
         },
         {
          "average_speed_mpk": 5.9,
          "id": 637997865,
          "start_date_formatted": "Jul 2016"
         },
         {
          "average_speed_mpk": 5.8,
          "id": 633701175,
          "start_date_formatted": "Jul 2016"
         },
         {
          "average_speed_mpk": 5.3,
          "id": 625136477,
          "start_date_formatted": "Jun 2016"
         },
         {
          "average_speed_mpk": 5.6,
          "id": 616459061,
          "start_date_formatted": "Jun 2016"
         },
         {
          "average_speed_mpk": 5.8,
          "id": 610199424,
          "start_date_formatted": "Jun 2016"
         },
         {
          "average_speed_mpk": 6.3,
          "id": 606689778,
          "start_date_formatted": "Jun 2016"
         },
         {
          "average_speed_mpk": 6.3,
          "id": 605010697,
          "start_date_formatted": "Jun 2016"
         },
         {
          "average_speed_mpk": 6.1,
          "id": 603913915,
          "start_date_formatted": "Jun 2016"
         },
         {
          "average_speed_mpk": 5.8,
          "id": 601744832,
          "start_date_formatted": "Jun 2016"
         },
         {
          "average_speed_mpk": 6.1,
          "id": 600638542,
          "start_date_formatted": "Jun 2016"
         },
         {
          "average_speed_mpk": 6.2,
          "id": 594236121,
          "start_date_formatted": "May 2016"
         },
         {
          "average_speed_mpk": 5.9,
          "id": 592035069,
          "start_date_formatted": "May 2016"
         },
         {
          "average_speed_mpk": 6.3,
          "id": 589943603,
          "start_date_formatted": "May 2016"
         },
         {
          "average_speed_mpk": 5.9,
          "id": 588726729,
          "start_date_formatted": "May 2016"
         },
         {
          "average_speed_mpk": 7.3,
          "id": 580302351,
          "start_date_formatted": "May 2016"
         },
         {
          "average_speed_mpk": 6.4,
          "id": 572773992,
          "start_date_formatted": "May 2016"
         },
         {
          "average_speed_mpk": 5.2,
          "id": 571602110,
          "start_date_formatted": "May 2016"
         },
         {
          "average_speed_mpk": 7,
          "id": 573447998,
          "start_date_formatted": "May 2016"
         },
         {
          "average_speed_mpk": 7.1,
          "id": 564863202,
          "start_date_formatted": "May 2016"
         },
         {
          "average_speed_mpk": 5.4,
          "id": 551367765,
          "start_date_formatted": "Apr 2016"
         },
         {
          "average_speed_mpk": 5.3,
          "id": 542264278,
          "start_date_formatted": "Apr 2016"
         },
         {
          "average_speed_mpk": 6.2,
          "id": 540227487,
          "start_date_formatted": "Apr 2016"
         },
         {
          "average_speed_mpk": 6.3,
          "id": 535705837,
          "start_date_formatted": "Apr 2016"
         },
         {
          "average_speed_mpk": 6.2,
          "id": 487959112,
          "start_date_formatted": "Feb 2016"
         },
         {
          "average_speed_mpk": 6,
          "id": 483575529,
          "start_date_formatted": "Feb 2016"
         },
         {
          "average_speed_mpk": 6.3,
          "id": 480500008,
          "start_date_formatted": "Jan 2016"
         },
         {
          "average_speed_mpk": 6.5,
          "id": 478209755,
          "start_date_formatted": "Jan 2016"
         },
         {
          "average_speed_mpk": 6,
          "id": 466584163,
          "start_date_formatted": "Jan 2016"
         },
         {
          "average_speed_mpk": 5.5,
          "id": 342029032,
          "start_date_formatted": "Jul 2015"
         },
         {
          "average_speed_mpk": 5.9,
          "id": 337260755,
          "start_date_formatted": "Jul 2015"
         },
         {
          "average_speed_mpk": 6.3,
          "id": 336549318,
          "start_date_formatted": "Jun 2015"
         },
         {
          "average_speed_mpk": 5.8,
          "id": 332385555,
          "start_date_formatted": "Jun 2015"
         },
         {
          "average_speed_mpk": 5.4,
          "id": 330395117,
          "start_date_formatted": "Jun 2015"
         },
         {
          "average_speed_mpk": 7.2,
          "id": 337030804,
          "start_date_formatted": "Jun 2015"
         },
         {
          "average_speed_mpk": 6.3,
          "id": 330427930,
          "start_date_formatted": "Jun 2015"
         },
         {
          "average_speed_mpk": 6,
          "id": 326290110,
          "start_date_formatted": "Jun 2015"
         },
         {
          "average_speed_mpk": 5.8,
          "id": 325710652,
          "start_date_formatted": "Jun 2015"
         },
         {
          "average_speed_mpk": 5.6,
          "id": 325737250,
          "start_date_formatted": "Jun 2015"
         },
         {
          "average_speed_mpk": 5.7,
          "id": 319860155,
          "start_date_formatted": "Jun 2015"
         },
         {
          "average_speed_mpk": 5.3,
          "id": 317069693,
          "start_date_formatted": "Jun 2015"
         },
         {
          "average_speed_mpk": 6.3,
          "id": 313886835,
          "start_date_formatted": "May 2015"
         },
         {
          "average_speed_mpk": 5.6,
          "id": 309158613,
          "start_date_formatted": "May 2015"
         },
         {
          "average_speed_mpk": 6.6,
          "id": 306812528,
          "start_date_formatted": "May 2015"
         },
         {
          "average_speed_mpk": 6.6,
          "id": 304079340,
          "start_date_formatted": "May 2015"
         },
         {
          "average_speed_mpk": 5.4,
          "id": 299555682,
          "start_date_formatted": "May 2015"
         },
         {
          "average_speed_mpk": 5.4,
          "id": 298327429,
          "start_date_formatted": "May 2015"
         },
         {
          "average_speed_mpk": 5.6,
          "id": 296571535,
          "start_date_formatted": "May 2015"
         },
         {
          "average_speed_mpk": 5.3,
          "id": 294515000,
          "start_date_formatted": "Apr 2015"
         },
         {
          "average_speed_mpk": 4.9,
          "id": 291409727,
          "start_date_formatted": "Apr 2015"
         },
         {
          "average_speed_mpk": 5.4,
          "id": 288669491,
          "start_date_formatted": "Apr 2015"
         },
         {
          "average_speed_mpk": 5.3,
          "id": 276170382,
          "start_date_formatted": "Mar 2015"
         },
         {
          "average_speed_mpk": 5.5,
          "id": 272577441,
          "start_date_formatted": "Mar 2015"
         },
         {
          "average_speed_mpk": 5.3,
          "id": 242976359,
          "start_date_formatted": "Jan 2015"
         },
         {
          "average_speed_mpk": 4.9,
          "id": 233931335,
          "start_date_formatted": "Dec 2014"
         },
         {
          "average_speed_mpk": 5.1,
          "id": 231114331,
          "start_date_formatted": "Dec 2014"
         },
         {
          "average_speed_mpk": 6.8,
          "id": 221967362,
          "start_date_formatted": "Nov 2014"
         },
         {
          "average_speed_mpk": 6.5,
          "id": 220009577,
          "start_date_formatted": "Nov 2014"
         },
         {
          "average_speed_mpk": 5.4,
          "id": 217550724,
          "start_date_formatted": "Nov 2014"
         },
         {
          "average_speed_mpk": 5.3,
          "id": 214387348,
          "start_date_formatted": "Nov 2014"
         },
         {
          "average_speed_mpk": 5.3,
          "id": 212426253,
          "start_date_formatted": "Oct 2014"
         },
         {
          "average_speed_mpk": 5.4,
          "id": 211580974,
          "start_date_formatted": "Oct 2014"
         },
         {
          "average_speed_mpk": 5.9,
          "id": 158212137,
          "start_date_formatted": "Jun 2014"
         },
         {
          "average_speed_mpk": 5.6,
          "id": 154879009,
          "start_date_formatted": "Jun 2014"
         },
         {
          "average_speed_mpk": 5.3,
          "id": 152050291,
          "start_date_formatted": "Jun 2014"
         },
         {
          "average_speed_mpk": 5,
          "id": 142366419,
          "start_date_formatted": "May 2014"
         },
         {
          "average_speed_mpk": 5.1,
          "id": 119230806,
          "start_date_formatted": "Mar 2014"
         },
         {
          "average_speed_mpk": 5.3,
          "id": 63662932,
          "start_date_formatted": "Jun 2013"
         },
         {
          "average_speed_mpk": 5.2,
          "id": 62655429,
          "start_date_formatted": "Jun 2013"
         },
         {
          "average_speed_mpk": 5.6,
          "id": 62196957,
          "start_date_formatted": "Jun 2013"
         },
         {
          "average_speed_mpk": 5.2,
          "id": 61312377,
          "start_date_formatted": "Jun 2013"
         },
         {
          "average_speed_mpk": 5.2,
          "id": 60169031,
          "start_date_formatted": "Jun 2013"
         },
         {
          "average_speed_mpk": 5.3,
          "id": 508961092,
          "start_date_formatted": "Mar 2013"
         }
        ]
       },
       "layer": [
        {
         "data": {
          "name": "data-56b2d483c67dd6abd26a24c77f002fa8"
         },
         "encoding": {
          "tooltip": [
           {
            "field": "average_speed_mpk",
            "type": "quantitative"
           },
           {
            "aggregate": "count",
            "type": "quantitative"
           }
          ],
          "x": {
           "bin": {
            "step": 0.25
           },
           "field": "average_speed_mpk",
           "type": "quantitative"
          },
          "y": {
           "aggregate": "count",
           "type": "quantitative"
          }
         },
         "mark": "bar",
         "selection": {
          "selector001": {
           "bind": "scales",
           "encodings": [
            "x",
            "y"
           ],
           "mark": {
            "fill": "#333",
            "fillOpacity": 0.125,
            "stroke": "white"
           },
           "on": "[mousedown, window:mouseup] > window:mousemove!",
           "resolve": "global",
           "translate": "[mousedown, window:mouseup] > window:mousemove!",
           "type": "interval",
           "zoom": "wheel!"
          }
         },
         "title": "Average Speed (min. per km.) by Count of Runs"
        },
        {
         "data": {
          "name": "data-56b2d483c67dd6abd26a24c77f002fa8"
         },
         "encoding": {
          "size": {
           "value": 2
          },
          "x": {
           "aggregate": "mean",
           "field": "average_speed_mpk",
           "type": "quantitative"
          }
         },
         "mark": {
          "color": "orange",
          "type": "rule"
         }
        }
       ]
      },
      "image/png": "[encoded data removed]",
      "text/plain": [
       "<VegaLite 2 object>\n",
       "\n",
       "If you see this message, it means the renderer has not been properly enabled\n",
       "for the frontend that you are using. For more information, see\n",
       "https://altair-viz.github.io/user_guide/troubleshooting.html\n"
      ]
     },
     "execution_count": 31,
     "metadata": {},
     "output_type": "execute_result"
    }
   ],
   "source": [
    "data = df.loc[df.type=='Run',:][['id','start_date_formatted','average_speed_mpk']]\n",
    "data.loc[:,'average_speed_mpk'] = data.average_speed_mpk.apply(lambda d: round(d,1))\n",
    "\n",
    "bar = alt.Chart(data).mark_bar().encode(\n",
    "    alt.X('average_speed_mpk:Q', bin=alt.Bin(step=.25)),\n",
    "    alt.Y('count()'),\n",
    "    tooltip=['average_speed_mpk:Q','count()']\n",
    ")\n",
    "\n",
    "bar.title = 'Average Speed (min. per km.) by Count of Runs'\n",
    "\n",
    "rule = alt.Chart(data).mark_rule(color='orange').encode(\n",
    "    x='mean(average_speed_mpk):Q',\n",
    "    size=alt.value(2)\n",
    ")\n",
    "\n",
    "alt.layer(\n",
    "    bar,\n",
    "    rule\n",
    ").interactive()"
   ]
  },
  {
   "cell_type": "code",
   "execution_count": 32,
   "metadata": {},
   "outputs": [
    {
     "data": {
      "application/vnd.vegalite.v2+json": {
       "$schema": "https://vega.github.io/schema/vega-lite/v2.6.0.json",
       "config": {
        "view": {
         "height": 300,
         "width": 400
        }
       },
       "datasets": {
        "data-432c88231efc07328d911b70f02093ab": [
         {
          "distance": 6,
          "id": 2202041286,
          "start_date_formatted": "Mar 2019"
         },
         {
          "distance": 7,
          "id": 2199821385,
          "start_date_formatted": "Mar 2019"
         },
         {
          "distance": 5,
          "id": 2189067328,
          "start_date_formatted": "Mar 2019"
         },
         {
          "distance": 5,
          "id": 2172868994,
          "start_date_formatted": "Feb 2019"
         },
         {
          "distance": 7,
          "id": 2075494711,
          "start_date_formatted": "Jan 2019"
         },
         {
          "distance": 6,
          "id": 2060397406,
          "start_date_formatted": "Jan 2019"
         },
         {
          "distance": 11,
          "id": 1873051986,
          "start_date_formatted": "Sep 2018"
         },
         {
          "distance": 5,
          "id": 1869415210,
          "start_date_formatted": "Sep 2018"
         },
         {
          "distance": 5,
          "id": 1848183751,
          "start_date_formatted": "Sep 2018"
         },
         {
          "distance": 7,
          "id": 1832664190,
          "start_date_formatted": "Sep 2018"
         },
         {
          "distance": 7,
          "id": 1819405951,
          "start_date_formatted": "Sep 2018"
         },
         {
          "distance": 6,
          "id": 1812167178,
          "start_date_formatted": "Sep 2018"
         },
         {
          "distance": 6,
          "id": 1769961402,
          "start_date_formatted": "Aug 2018"
         },
         {
          "distance": 3,
          "id": 1768039547,
          "start_date_formatted": "Aug 2018"
         },
         {
          "distance": 8,
          "id": 1758937255,
          "start_date_formatted": "Aug 2018"
         },
         {
          "distance": 6,
          "id": 1754313991,
          "start_date_formatted": "Aug 2018"
         },
         {
          "distance": 4,
          "id": 1722778792,
          "start_date_formatted": "Jul 2018"
         },
         {
          "distance": 8,
          "id": 1718082089,
          "start_date_formatted": "Jul 2018"
         },
         {
          "distance": 8,
          "id": 1702448290,
          "start_date_formatted": "Jul 2018"
         },
         {
          "distance": 6,
          "id": 1678605231,
          "start_date_formatted": "Jul 2018"
         },
         {
          "distance": 4,
          "id": 1656109943,
          "start_date_formatted": "Jun 2018"
         },
         {
          "distance": 6,
          "id": 1615106319,
          "start_date_formatted": "Jun 2018"
         },
         {
          "distance": 6,
          "id": 1608680116,
          "start_date_formatted": "May 2018"
         },
         {
          "distance": 4,
          "id": 1602018981,
          "start_date_formatted": "May 2018"
         },
         {
          "distance": 5,
          "id": 1600086877,
          "start_date_formatted": "May 2018"
         },
         {
          "distance": 6,
          "id": 1595253579,
          "start_date_formatted": "May 2018"
         },
         {
          "distance": 8,
          "id": 1573271998,
          "start_date_formatted": "May 2018"
         },
         {
          "distance": 5,
          "id": 1518378517,
          "start_date_formatted": "Apr 2018"
         },
         {
          "distance": 5,
          "id": 1510885071,
          "start_date_formatted": "Apr 2018"
         },
         {
          "distance": 6,
          "id": 1485983415,
          "start_date_formatted": "Apr 2018"
         },
         {
          "distance": 6,
          "id": 1481527978,
          "start_date_formatted": "Mar 2018"
         },
         {
          "distance": 4,
          "id": 1478637305,
          "start_date_formatted": "Mar 2018"
         },
         {
          "distance": 5,
          "id": 1470467201,
          "start_date_formatted": "Mar 2018"
         },
         {
          "distance": 7,
          "id": 1459406814,
          "start_date_formatted": "Mar 2018"
         },
         {
          "distance": 6,
          "id": 1447706570,
          "start_date_formatted": "Mar 2018"
         },
         {
          "distance": 6,
          "id": 1243691739,
          "start_date_formatted": "Oct 2017"
         },
         {
          "distance": 5,
          "id": 1236411824,
          "start_date_formatted": "Oct 2017"
         },
         {
          "distance": 6,
          "id": 1231742829,
          "start_date_formatted": "Oct 2017"
         },
         {
          "distance": 9,
          "id": 1220350726,
          "start_date_formatted": "Oct 2017"
         },
         {
          "distance": 5,
          "id": 1180785806,
          "start_date_formatted": "Sep 2017"
         },
         {
          "distance": 6,
          "id": 1168340670,
          "start_date_formatted": "Sep 2017"
         },
         {
          "distance": 8,
          "id": 1166527379,
          "start_date_formatted": "Sep 2017"
         },
         {
          "distance": 7,
          "id": 1161701515,
          "start_date_formatted": "Aug 2017"
         },
         {
          "distance": 8,
          "id": 1158568544,
          "start_date_formatted": "Aug 2017"
         },
         {
          "distance": 6,
          "id": 1155346588,
          "start_date_formatted": "Aug 2017"
         },
         {
          "distance": 6,
          "id": 1151711545,
          "start_date_formatted": "Aug 2017"
         },
         {
          "distance": 6,
          "id": 1148457766,
          "start_date_formatted": "Aug 2017"
         },
         {
          "distance": 6,
          "id": 1141382702,
          "start_date_formatted": "Aug 2017"
         },
         {
          "distance": 6,
          "id": 1125291234,
          "start_date_formatted": "Aug 2017"
         },
         {
          "distance": 6,
          "id": 1122020885,
          "start_date_formatted": "Aug 2017"
         },
         {
          "distance": 8,
          "id": 1097956892,
          "start_date_formatted": "Jul 2017"
         },
         {
          "distance": 8,
          "id": 1094471366,
          "start_date_formatted": "Jul 2017"
         },
         {
          "distance": 6,
          "id": 1047510194,
          "start_date_formatted": "Jun 2017"
         },
         {
          "distance": 1,
          "id": 1042731925,
          "start_date_formatted": "Jun 2017"
         },
         {
          "distance": 7,
          "id": 1042698985,
          "start_date_formatted": "Jun 2017"
         },
         {
          "distance": 6,
          "id": 1041055453,
          "start_date_formatted": "Jun 2017"
         },
         {
          "distance": 6,
          "id": 1031510189,
          "start_date_formatted": "Jun 2017"
         },
         {
          "distance": 7,
          "id": 1029928575,
          "start_date_formatted": "Jun 2017"
         },
         {
          "distance": 4,
          "id": 1022228974,
          "start_date_formatted": "Jun 2017"
         },
         {
          "distance": 4,
          "id": 984934815,
          "start_date_formatted": "May 2017"
         },
         {
          "distance": 6,
          "id": 944898454,
          "start_date_formatted": "Apr 2017"
         },
         {
          "distance": 3,
          "id": 920925917,
          "start_date_formatted": "Mar 2017"
         },
         {
          "distance": 4,
          "id": 817262248,
          "start_date_formatted": "Dec 2016"
         },
         {
          "distance": 7,
          "id": 815054880,
          "start_date_formatted": "Dec 2016"
         },
         {
          "distance": 4,
          "id": 747705664,
          "start_date_formatted": "Oct 2016"
         },
         {
          "distance": 5,
          "id": 727921866,
          "start_date_formatted": "Sep 2016"
         },
         {
          "distance": 5,
          "id": 720027140,
          "start_date_formatted": "Sep 2016"
         },
         {
          "distance": 4,
          "id": 672812022,
          "start_date_formatted": "Aug 2016"
         },
         {
          "distance": 5,
          "id": 670638874,
          "start_date_formatted": "Aug 2016"
         },
         {
          "distance": 4,
          "id": 665821624,
          "start_date_formatted": "Aug 2016"
         },
         {
          "distance": 4,
          "id": 663726297,
          "start_date_formatted": "Aug 2016"
         },
         {
          "distance": 4,
          "id": 637997865,
          "start_date_formatted": "Jul 2016"
         },
         {
          "distance": 6,
          "id": 633701175,
          "start_date_formatted": "Jul 2016"
         },
         {
          "distance": 4,
          "id": 625136477,
          "start_date_formatted": "Jun 2016"
         },
         {
          "distance": 5,
          "id": 616459061,
          "start_date_formatted": "Jun 2016"
         },
         {
          "distance": 5,
          "id": 610199424,
          "start_date_formatted": "Jun 2016"
         },
         {
          "distance": 5,
          "id": 606689778,
          "start_date_formatted": "Jun 2016"
         },
         {
          "distance": 5,
          "id": 605010697,
          "start_date_formatted": "Jun 2016"
         },
         {
          "distance": 6,
          "id": 603913915,
          "start_date_formatted": "Jun 2016"
         },
         {
          "distance": 5,
          "id": 601744832,
          "start_date_formatted": "Jun 2016"
         },
         {
          "distance": 8,
          "id": 600638542,
          "start_date_formatted": "Jun 2016"
         },
         {
          "distance": 8,
          "id": 594236121,
          "start_date_formatted": "May 2016"
         },
         {
          "distance": 5,
          "id": 592035069,
          "start_date_formatted": "May 2016"
         },
         {
          "distance": 5,
          "id": 589943603,
          "start_date_formatted": "May 2016"
         },
         {
          "distance": 5,
          "id": 588726729,
          "start_date_formatted": "May 2016"
         },
         {
          "distance": 4,
          "id": 580302351,
          "start_date_formatted": "May 2016"
         },
         {
          "distance": 7,
          "id": 572773992,
          "start_date_formatted": "May 2016"
         },
         {
          "distance": 5,
          "id": 571602110,
          "start_date_formatted": "May 2016"
         },
         {
          "distance": 12,
          "id": 573447998,
          "start_date_formatted": "May 2016"
         },
         {
          "distance": 4,
          "id": 564863202,
          "start_date_formatted": "May 2016"
         },
         {
          "distance": 5,
          "id": 551367765,
          "start_date_formatted": "Apr 2016"
         },
         {
          "distance": 5,
          "id": 542264278,
          "start_date_formatted": "Apr 2016"
         },
         {
          "distance": 5,
          "id": 540227487,
          "start_date_formatted": "Apr 2016"
         },
         {
          "distance": 5,
          "id": 535705837,
          "start_date_formatted": "Apr 2016"
         },
         {
          "distance": 5,
          "id": 487959112,
          "start_date_formatted": "Feb 2016"
         },
         {
          "distance": 2,
          "id": 483575529,
          "start_date_formatted": "Feb 2016"
         },
         {
          "distance": 4,
          "id": 480500008,
          "start_date_formatted": "Jan 2016"
         },
         {
          "distance": 3,
          "id": 478209755,
          "start_date_formatted": "Jan 2016"
         },
         {
          "distance": 4,
          "id": 466584163,
          "start_date_formatted": "Jan 2016"
         },
         {
          "distance": 8,
          "id": 342029032,
          "start_date_formatted": "Jul 2015"
         },
         {
          "distance": 8,
          "id": 337260755,
          "start_date_formatted": "Jul 2015"
         },
         {
          "distance": 5,
          "id": 336549318,
          "start_date_formatted": "Jun 2015"
         },
         {
          "distance": 4,
          "id": 332385555,
          "start_date_formatted": "Jun 2015"
         },
         {
          "distance": 6,
          "id": 330395117,
          "start_date_formatted": "Jun 2015"
         },
         {
          "distance": 5,
          "id": 337030804,
          "start_date_formatted": "Jun 2015"
         },
         {
          "distance": 6,
          "id": 330427930,
          "start_date_formatted": "Jun 2015"
         },
         {
          "distance": 6,
          "id": 326290110,
          "start_date_formatted": "Jun 2015"
         },
         {
          "distance": 6,
          "id": 325710652,
          "start_date_formatted": "Jun 2015"
         },
         {
          "distance": 5,
          "id": 325737250,
          "start_date_formatted": "Jun 2015"
         },
         {
          "distance": 7,
          "id": 319860155,
          "start_date_formatted": "Jun 2015"
         },
         {
          "distance": 6,
          "id": 317069693,
          "start_date_formatted": "Jun 2015"
         },
         {
          "distance": 10,
          "id": 313886835,
          "start_date_formatted": "May 2015"
         },
         {
          "distance": 5,
          "id": 309158613,
          "start_date_formatted": "May 2015"
         },
         {
          "distance": 10,
          "id": 306812528,
          "start_date_formatted": "May 2015"
         },
         {
          "distance": 7,
          "id": 304079340,
          "start_date_formatted": "May 2015"
         },
         {
          "distance": 7,
          "id": 299555682,
          "start_date_formatted": "May 2015"
         },
         {
          "distance": 6,
          "id": 298327429,
          "start_date_formatted": "May 2015"
         },
         {
          "distance": 9,
          "id": 296571535,
          "start_date_formatted": "May 2015"
         },
         {
          "distance": 5,
          "id": 294515000,
          "start_date_formatted": "Apr 2015"
         },
         {
          "distance": 5,
          "id": 291409727,
          "start_date_formatted": "Apr 2015"
         },
         {
          "distance": 6,
          "id": 288669491,
          "start_date_formatted": "Apr 2015"
         },
         {
          "distance": 6,
          "id": 276170382,
          "start_date_formatted": "Mar 2015"
         },
         {
          "distance": 6,
          "id": 272577441,
          "start_date_formatted": "Mar 2015"
         },
         {
          "distance": 4,
          "id": 242976359,
          "start_date_formatted": "Jan 2015"
         },
         {
          "distance": 4,
          "id": 233931335,
          "start_date_formatted": "Dec 2014"
         },
         {
          "distance": 4,
          "id": 231114331,
          "start_date_formatted": "Dec 2014"
         },
         {
          "distance": 11,
          "id": 221967362,
          "start_date_formatted": "Nov 2014"
         },
         {
          "distance": 7,
          "id": 220009577,
          "start_date_formatted": "Nov 2014"
         },
         {
          "distance": 9,
          "id": 217550724,
          "start_date_formatted": "Nov 2014"
         },
         {
          "distance": 5,
          "id": 214387348,
          "start_date_formatted": "Nov 2014"
         },
         {
          "distance": 6,
          "id": 212426253,
          "start_date_formatted": "Oct 2014"
         },
         {
          "distance": 6,
          "id": 211580974,
          "start_date_formatted": "Oct 2014"
         },
         {
          "distance": 7,
          "id": 158212137,
          "start_date_formatted": "Jun 2014"
         },
         {
          "distance": 4,
          "id": 154879009,
          "start_date_formatted": "Jun 2014"
         },
         {
          "distance": 6,
          "id": 152050291,
          "start_date_formatted": "Jun 2014"
         },
         {
          "distance": 5,
          "id": 142366419,
          "start_date_formatted": "May 2014"
         },
         {
          "distance": 6,
          "id": 119230806,
          "start_date_formatted": "Mar 2014"
         },
         {
          "distance": 11,
          "id": 63662932,
          "start_date_formatted": "Jun 2013"
         },
         {
          "distance": 9,
          "id": 62655429,
          "start_date_formatted": "Jun 2013"
         },
         {
          "distance": 10,
          "id": 62196957,
          "start_date_formatted": "Jun 2013"
         },
         {
          "distance": 8,
          "id": 61312377,
          "start_date_formatted": "Jun 2013"
         },
         {
          "distance": 7,
          "id": 60169031,
          "start_date_formatted": "Jun 2013"
         },
         {
          "distance": 8,
          "id": 508961092,
          "start_date_formatted": "Mar 2013"
         }
        ]
       },
       "layer": [
        {
         "data": {
          "name": "data-432c88231efc07328d911b70f02093ab"
         },
         "encoding": {
          "tooltip": [
           {
            "field": "distance",
            "type": "quantitative"
           },
           {
            "aggregate": "count",
            "type": "quantitative"
           }
          ],
          "x": {
           "bin": {
            "step": 1
           },
           "field": "distance",
           "type": "quantitative"
          },
          "y": {
           "aggregate": "count",
           "type": "quantitative"
          }
         },
         "mark": "bar",
         "selection": {
          "selector002": {
           "bind": "scales",
           "encodings": [
            "x",
            "y"
           ],
           "mark": {
            "fill": "#333",
            "fillOpacity": 0.125,
            "stroke": "white"
           },
           "on": "[mousedown, window:mouseup] > window:mousemove!",
           "resolve": "global",
           "translate": "[mousedown, window:mouseup] > window:mousemove!",
           "type": "interval",
           "zoom": "wheel!"
          }
         },
         "title": "Distance (km.) by Count of Runs"
        },
        {
         "data": {
          "name": "data-432c88231efc07328d911b70f02093ab"
         },
         "encoding": {
          "size": {
           "value": 2
          },
          "x": {
           "aggregate": "mean",
           "field": "distance",
           "type": "quantitative"
          }
         },
         "mark": {
          "color": "orange",
          "type": "rule"
         }
        }
       ]
      },
      "image/png": "[encoded data removed]",
      "text/plain": [
       "<VegaLite 2 object>\n",
       "\n",
       "If you see this message, it means the renderer has not been properly enabled\n",
       "for the frontend that you are using. For more information, see\n",
       "https://altair-viz.github.io/user_guide/troubleshooting.html\n"
      ]
     },
     "execution_count": 32,
     "metadata": {},
     "output_type": "execute_result"
    }
   ],
   "source": [
    "data = df.loc[df.type=='Run',:][['id','start_date_formatted','distance']]\n",
    "data.loc[:,'distance'] = data.distance.apply(lambda d: round(d))\n",
    "\n",
    "bar = alt.Chart(data).mark_bar().encode(\n",
    "    alt.X('distance:Q', bin=alt.Bin(step=1)),\n",
    "    alt.Y('count()'),\n",
    "    tooltip=['distance:Q','count()']\n",
    ")\n",
    "\n",
    "bar.title = 'Distance (km.) by Count of Runs'\n",
    "\n",
    "rule = alt.Chart(data).mark_rule(color='orange').encode(\n",
    "    x='mean(distance):Q',\n",
    "    size=alt.value(2)\n",
    ")\n",
    "\n",
    "alt.layer(\n",
    "    bar,\n",
    "    rule\n",
    ").interactive()"
   ]
  },
  {
   "cell_type": "code",
   "execution_count": 33,
   "metadata": {},
   "outputs": [
    {
     "name": "stderr",
     "output_type": "stream",
     "text": [
      "C:\\Users\\Kain\\Anaconda3\\lib\\site-packages\\altair\\utils\\core.py:284: FutureWarning: A future version of pandas will default to `skipna=True`. To silence this warning, pass `skipna=True|False` explicitly.\n",
      "  attrs['type'] = infer_vegalite_type(data[attrs['field']])\n"
     ]
    },
    {
     "data": {
      "application/vnd.vegalite.v2+json": {
       "$schema": "https://vega.github.io/schema/vega-lite/v2.6.0.json",
       "config": {
        "view": {
         "height": 300,
         "width": 400
        }
       },
       "data": {
        "name": "data-686e7f76589ebf7071e8c5df91b3ec96"
       },
       "datasets": {
        "data-686e7f76589ebf7071e8c5df91b3ec96": [
         {
          "achievement_count": 0,
          "distance": 6.2,
          "id": 2202041286,
          "start_date_formatted": "Mar 2019",
          "type": "Run"
         },
         {
          "achievement_count": 0,
          "distance": 6.6597,
          "id": 2199821385,
          "start_date_formatted": "Mar 2019",
          "type": "Run"
         },
         {
          "achievement_count": 0,
          "distance": 5.151,
          "id": 2189067328,
          "start_date_formatted": "Mar 2019",
          "type": "Run"
         },
         {
          "achievement_count": 0,
          "distance": 5.257,
          "id": 2172868994,
          "start_date_formatted": "Feb 2019",
          "type": "Run"
         },
         {
          "achievement_count": 27,
          "distance": 41.0807,
          "id": 2169790470,
          "start_date_formatted": "Feb 2019",
          "type": "Ride"
         },
         {
          "achievement_count": 0,
          "distance": 7,
          "id": 2075494711,
          "start_date_formatted": "Jan 2019",
          "type": "Run"
         },
         {
          "achievement_count": 0,
          "distance": 5.5199,
          "id": 2060397406,
          "start_date_formatted": "Jan 2019",
          "type": "Run"
         },
         {
          "achievement_count": 27,
          "distance": 30.3659,
          "id": 1902102990,
          "start_date_formatted": "Oct 2018",
          "type": "Ride"
         },
         {
          "achievement_count": 9,
          "distance": 10.6533,
          "id": 1873051986,
          "start_date_formatted": "Sep 2018",
          "type": "Run"
         },
         {
          "achievement_count": 0,
          "distance": 5.3327,
          "id": 1869415210,
          "start_date_formatted": "Sep 2018",
          "type": "Run"
         },
         {
          "achievement_count": 3,
          "distance": 5.3609,
          "id": 1848183751,
          "start_date_formatted": "Sep 2018",
          "type": "Run"
         },
         {
          "achievement_count": 6,
          "distance": 6.5485,
          "id": 1832664190,
          "start_date_formatted": "Sep 2018",
          "type": "Run"
         },
         {
          "achievement_count": 2,
          "distance": 7.1803,
          "id": 1819405951,
          "start_date_formatted": "Sep 2018",
          "type": "Run"
         },
         {
          "achievement_count": 7,
          "distance": 5.595,
          "id": 1812167178,
          "start_date_formatted": "Sep 2018",
          "type": "Run"
         },
         {
          "achievement_count": 8,
          "distance": 6.2947,
          "id": 1769961402,
          "start_date_formatted": "Aug 2018",
          "type": "Run"
         },
         {
          "achievement_count": 0,
          "distance": 2.5019,
          "id": 1768039547,
          "start_date_formatted": "Aug 2018",
          "type": "Run"
         },
         {
          "achievement_count": 4,
          "distance": 36.037699999999994,
          "id": 1765463698,
          "start_date_formatted": "Aug 2018",
          "type": "Ride"
         },
         {
          "achievement_count": 9,
          "distance": 7.917,
          "id": 1758937255,
          "start_date_formatted": "Aug 2018",
          "type": "Run"
         },
         {
          "achievement_count": 7,
          "distance": 6.4848,
          "id": 1754313991,
          "start_date_formatted": "Aug 2018",
          "type": "Run"
         },
         {
          "achievement_count": 1,
          "distance": 4.2233,
          "id": 1722778792,
          "start_date_formatted": "Jul 2018",
          "type": "Run"
         },
         {
          "achievement_count": 2,
          "distance": 8.158199999999999,
          "id": 1718082089,
          "start_date_formatted": "Jul 2018",
          "type": "Run"
         },
         {
          "achievement_count": 1,
          "distance": 7.833699999999999,
          "id": 1702448290,
          "start_date_formatted": "Jul 2018",
          "type": "Run"
         },
         {
          "achievement_count": 2,
          "distance": 6.0011,
          "id": 1678605231,
          "start_date_formatted": "Jul 2018",
          "type": "Run"
         },
         {
          "achievement_count": 1,
          "distance": 4.2786,
          "id": 1656109943,
          "start_date_formatted": "Jun 2018",
          "type": "Run"
         },
         {
          "achievement_count": 4,
          "distance": 5.565,
          "id": 1615106319,
          "start_date_formatted": "Jun 2018",
          "type": "Run"
         },
         {
          "achievement_count": 0,
          "distance": 5.6789,
          "id": 1608680116,
          "start_date_formatted": "May 2018",
          "type": "Run"
         },
         {
          "achievement_count": 1,
          "distance": 4.165,
          "id": 1602018981,
          "start_date_formatted": "May 2018",
          "type": "Run"
         },
         {
          "achievement_count": 1,
          "distance": 5.1145,
          "id": 1600086877,
          "start_date_formatted": "May 2018",
          "type": "Run"
         },
         {
          "achievement_count": 0,
          "distance": 6,
          "id": 1595253579,
          "start_date_formatted": "May 2018",
          "type": "Run"
         },
         {
          "achievement_count": 6,
          "distance": 8.1867,
          "id": 1573271998,
          "start_date_formatted": "May 2018",
          "type": "Run"
         },
         {
          "achievement_count": 2,
          "distance": 4.5854,
          "id": 1518378517,
          "start_date_formatted": "Apr 2018",
          "type": "Run"
         },
         {
          "achievement_count": 2,
          "distance": 4.5342,
          "id": 1510885071,
          "start_date_formatted": "Apr 2018",
          "type": "Run"
         },
         {
          "achievement_count": 0,
          "distance": 40.0125,
          "id": 1507489235,
          "start_date_formatted": "Apr 2018",
          "type": "Ride"
         },
         {
          "achievement_count": 1,
          "distance": 26.143900000000002,
          "id": 1494936767,
          "start_date_formatted": "Apr 2018",
          "type": "Ride"
         },
         {
          "achievement_count": 1,
          "distance": 5.557300000000001,
          "id": 1485983415,
          "start_date_formatted": "Apr 2018",
          "type": "Run"
         },
         {
          "achievement_count": 0,
          "distance": 5.9717,
          "id": 1481527978,
          "start_date_formatted": "Mar 2018",
          "type": "Run"
         },
         {
          "achievement_count": 4,
          "distance": 4.0501,
          "id": 1478637305,
          "start_date_formatted": "Mar 2018",
          "type": "Run"
         },
         {
          "achievement_count": 6,
          "distance": 5.109,
          "id": 1470467201,
          "start_date_formatted": "Mar 2018",
          "type": "Run"
         },
         {
          "achievement_count": 5,
          "distance": 7.0409,
          "id": 1459406814,
          "start_date_formatted": "Mar 2018",
          "type": "Run"
         },
         {
          "achievement_count": 7,
          "distance": 6.3735,
          "id": 1447706570,
          "start_date_formatted": "Mar 2018",
          "type": "Run"
         },
         {
          "achievement_count": 1,
          "distance": 6.1541999999999994,
          "id": 1243691739,
          "start_date_formatted": "Oct 2017",
          "type": "Run"
         },
         {
          "achievement_count": 4,
          "distance": 5.4138,
          "id": 1236411824,
          "start_date_formatted": "Oct 2017",
          "type": "Run"
         },
         {
          "achievement_count": 2,
          "distance": 5.986800000000001,
          "id": 1231742829,
          "start_date_formatted": "Oct 2017",
          "type": "Run"
         },
         {
          "achievement_count": 2,
          "distance": 8.797,
          "id": 1220350726,
          "start_date_formatted": "Oct 2017",
          "type": "Run"
         },
         {
          "achievement_count": 1,
          "distance": 4.6016,
          "id": 1180785806,
          "start_date_formatted": "Sep 2017",
          "type": "Run"
         },
         {
          "achievement_count": 2,
          "distance": 5.9577,
          "id": 1168340670,
          "start_date_formatted": "Sep 2017",
          "type": "Run"
         },
         {
          "achievement_count": 5,
          "distance": 7.817399999999999,
          "id": 1166527379,
          "start_date_formatted": "Sep 2017",
          "type": "Run"
         },
         {
          "achievement_count": 0,
          "distance": 7.1926000000000005,
          "id": 1161701515,
          "start_date_formatted": "Aug 2017",
          "type": "Run"
         },
         {
          "achievement_count": 2,
          "distance": 7.9233,
          "id": 1158568544,
          "start_date_formatted": "Aug 2017",
          "type": "Run"
         },
         {
          "achievement_count": 1,
          "distance": 6.2067,
          "id": 1155346588,
          "start_date_formatted": "Aug 2017",
          "type": "Run"
         },
         {
          "achievement_count": 0,
          "distance": 6.0473,
          "id": 1151711545,
          "start_date_formatted": "Aug 2017",
          "type": "Run"
         },
         {
          "achievement_count": 3,
          "distance": 5.7546,
          "id": 1148457766,
          "start_date_formatted": "Aug 2017",
          "type": "Run"
         },
         {
          "achievement_count": 2,
          "distance": 5.7173,
          "id": 1141382702,
          "start_date_formatted": "Aug 2017",
          "type": "Run"
         },
         {
          "achievement_count": 1,
          "distance": 6.0717,
          "id": 1125291234,
          "start_date_formatted": "Aug 2017",
          "type": "Run"
         },
         {
          "achievement_count": 1,
          "distance": 6.220899999999999,
          "id": 1122020885,
          "start_date_formatted": "Aug 2017",
          "type": "Run"
         },
         {
          "achievement_count": 3,
          "distance": 7.8012,
          "id": 1097956892,
          "start_date_formatted": "Jul 2017",
          "type": "Run"
         },
         {
          "achievement_count": 1,
          "distance": 8.4419,
          "id": 1094471366,
          "start_date_formatted": "Jul 2017",
          "type": "Run"
         },
         {
          "achievement_count": 0,
          "distance": 43.8861,
          "id": 1073325448,
          "start_date_formatted": "Jul 2017",
          "type": "Ride"
         },
         {
          "achievement_count": 1,
          "distance": 6.1832,
          "id": 1047510194,
          "start_date_formatted": "Jun 2017",
          "type": "Run"
         },
         {
          "achievement_count": 0,
          "distance": 1.0575,
          "id": 1042731925,
          "start_date_formatted": "Jun 2017",
          "type": "Run"
         },
         {
          "achievement_count": 2,
          "distance": 6.841600000000001,
          "id": 1042698985,
          "start_date_formatted": "Jun 2017",
          "type": "Run"
         },
         {
          "achievement_count": 2,
          "distance": 6.2395,
          "id": 1041055453,
          "start_date_formatted": "Jun 2017",
          "type": "Run"
         },
         {
          "achievement_count": 0,
          "distance": 6.373600000000001,
          "id": 1031510189,
          "start_date_formatted": "Jun 2017",
          "type": "Run"
         },
         {
          "achievement_count": 2,
          "distance": 7.2009,
          "id": 1029928575,
          "start_date_formatted": "Jun 2017",
          "type": "Run"
         },
         {
          "achievement_count": 0,
          "distance": 4.327100000000001,
          "id": 1022228974,
          "start_date_formatted": "Jun 2017",
          "type": "Run"
         },
         {
          "achievement_count": 0,
          "distance": 4.1453999999999995,
          "id": 984934815,
          "start_date_formatted": "May 2017",
          "type": "Run"
         },
         {
          "achievement_count": 3,
          "distance": 5.9243999999999994,
          "id": 944898454,
          "start_date_formatted": "Apr 2017",
          "type": "Run"
         },
         {
          "achievement_count": 0,
          "distance": 3.1517,
          "id": 920925917,
          "start_date_formatted": "Mar 2017",
          "type": "Run"
         },
         {
          "achievement_count": 0,
          "distance": 4.1197,
          "id": 817262248,
          "start_date_formatted": "Dec 2016",
          "type": "Run"
         },
         {
          "achievement_count": 0,
          "distance": 7.0056,
          "id": 815054880,
          "start_date_formatted": "Dec 2016",
          "type": "Run"
         },
         {
          "achievement_count": 0,
          "distance": 3.6607,
          "id": 747705664,
          "start_date_formatted": "Oct 2016",
          "type": "Run"
         },
         {
          "achievement_count": 2,
          "distance": 4.9672,
          "id": 727921866,
          "start_date_formatted": "Sep 2016",
          "type": "Run"
         },
         {
          "achievement_count": 0,
          "distance": 5.0047,
          "id": 720027140,
          "start_date_formatted": "Sep 2016",
          "type": "Run"
         },
         {
          "achievement_count": 0,
          "distance": 3.7466,
          "id": 672812022,
          "start_date_formatted": "Aug 2016",
          "type": "Run"
         },
         {
          "achievement_count": 1,
          "distance": 4.815,
          "id": 670638874,
          "start_date_formatted": "Aug 2016",
          "type": "Run"
         },
         {
          "achievement_count": 9,
          "distance": 50.714800000000004,
          "id": 667134427,
          "start_date_formatted": "Aug 2016",
          "type": "Ride"
         },
         {
          "achievement_count": 0,
          "distance": 4.1044,
          "id": 665821624,
          "start_date_formatted": "Aug 2016",
          "type": "Run"
         },
         {
          "achievement_count": 0,
          "distance": 4.2125,
          "id": 663726297,
          "start_date_formatted": "Aug 2016",
          "type": "Run"
         },
         {
          "achievement_count": 0,
          "distance": 115.539,
          "id": 657891093,
          "start_date_formatted": "Jul 2016",
          "type": "Ride"
         },
         {
          "achievement_count": 0,
          "distance": 64.5434,
          "id": 656956785,
          "start_date_formatted": "Jul 2016",
          "type": "Ride"
         },
         {
          "achievement_count": 0,
          "distance": 97.1977,
          "id": 655830005,
          "start_date_formatted": "Jul 2016",
          "type": "Ride"
         },
         {
          "achievement_count": 0,
          "distance": 101.664,
          "id": 654796874,
          "start_date_formatted": "Jul 2016",
          "type": "Ride"
         },
         {
          "achievement_count": 0,
          "distance": 121.092,
          "id": 654026878,
          "start_date_formatted": "Jul 2016",
          "type": "Ride"
         },
         {
          "achievement_count": 0,
          "distance": 80.68010000000001,
          "id": 652494928,
          "start_date_formatted": "Jul 2016",
          "type": "Ride"
         },
         {
          "achievement_count": 17,
          "distance": 37.0168,
          "id": 645216024,
          "start_date_formatted": "Jul 2016",
          "type": "Ride"
         },
         {
          "achievement_count": 12,
          "distance": 62.528800000000004,
          "id": 644164143,
          "start_date_formatted": "Jul 2016",
          "type": "Ride"
         },
         {
          "achievement_count": 0,
          "distance": 4.2115,
          "id": 637997865,
          "start_date_formatted": "Jul 2016",
          "type": "Run"
         },
         {
          "achievement_count": 0,
          "distance": 5.6878,
          "id": 633701175,
          "start_date_formatted": "Jul 2016",
          "type": "Run"
         },
         {
          "achievement_count": 0,
          "distance": 4.1068,
          "id": 625136477,
          "start_date_formatted": "Jun 2016",
          "type": "Run"
         },
         {
          "achievement_count": 0,
          "distance": 5.3239,
          "id": 616459061,
          "start_date_formatted": "Jun 2016",
          "type": "Run"
         },
         {
          "achievement_count": 0,
          "distance": 5.2493,
          "id": 610199424,
          "start_date_formatted": "Jun 2016",
          "type": "Run"
         },
         {
          "achievement_count": 0,
          "distance": 4.9531,
          "id": 606689778,
          "start_date_formatted": "Jun 2016",
          "type": "Run"
         },
         {
          "achievement_count": 0,
          "distance": 5.225899999999999,
          "id": 605010697,
          "start_date_formatted": "Jun 2016",
          "type": "Run"
         },
         {
          "achievement_count": 0,
          "distance": 6.1427,
          "id": 603913915,
          "start_date_formatted": "Jun 2016",
          "type": "Run"
         },
         {
          "achievement_count": 0,
          "distance": 5.1362,
          "id": 601744832,
          "start_date_formatted": "Jun 2016",
          "type": "Run"
         },
         {
          "achievement_count": 1,
          "distance": 8.448799999999999,
          "id": 600638542,
          "start_date_formatted": "Jun 2016",
          "type": "Run"
         },
         {
          "achievement_count": 1,
          "distance": 8.4285,
          "id": 594236121,
          "start_date_formatted": "May 2016",
          "type": "Run"
         },
         {
          "achievement_count": 1,
          "distance": 5.1952,
          "id": 592035069,
          "start_date_formatted": "May 2016",
          "type": "Run"
         },
         {
          "achievement_count": 0,
          "distance": 5.3718,
          "id": 589943603,
          "start_date_formatted": "May 2016",
          "type": "Run"
         },
         {
          "achievement_count": 1,
          "distance": 5.2078,
          "id": 588726729,
          "start_date_formatted": "May 2016",
          "type": "Run"
         },
         {
          "achievement_count": 1,
          "distance": 4.3303,
          "id": 580302351,
          "start_date_formatted": "May 2016",
          "type": "Run"
         },
         {
          "achievement_count": 0,
          "distance": 6.949199999999999,
          "id": 572773992,
          "start_date_formatted": "May 2016",
          "type": "Run"
         },
         {
          "achievement_count": 0,
          "distance": 5,
          "id": 571602110,
          "start_date_formatted": "May 2016",
          "type": "Run"
         },
         {
          "achievement_count": 0,
          "distance": 12.309700000000001,
          "id": 573447998,
          "start_date_formatted": "May 2016",
          "type": "Run"
         },
         {
          "achievement_count": 0,
          "distance": 4.387,
          "id": 564863202,
          "start_date_formatted": "May 2016",
          "type": "Run"
         },
         {
          "achievement_count": 2,
          "distance": 4.607399999999999,
          "id": 551367765,
          "start_date_formatted": "Apr 2016",
          "type": "Run"
         },
         {
          "achievement_count": 0,
          "distance": 5.3826,
          "id": 542264278,
          "start_date_formatted": "Apr 2016",
          "type": "Run"
         },
         {
          "achievement_count": 0,
          "distance": 5.054600000000001,
          "id": 540227487,
          "start_date_formatted": "Apr 2016",
          "type": "Run"
         },
         {
          "achievement_count": 0,
          "distance": 5.26,
          "id": 535705837,
          "start_date_formatted": "Apr 2016",
          "type": "Run"
         },
         {
          "achievement_count": 3,
          "distance": 16.9343,
          "id": 528753214,
          "start_date_formatted": "Mar 2016",
          "type": "Ride"
         },
         {
          "achievement_count": 0,
          "distance": 22.5325,
          "id": 509901190,
          "start_date_formatted": "Mar 2016",
          "type": "Ride"
         },
         {
          "achievement_count": 0,
          "distance": 5.1175,
          "id": 487959112,
          "start_date_formatted": "Feb 2016",
          "type": "Run"
         },
         {
          "achievement_count": 0,
          "distance": 2.3418,
          "id": 483575529,
          "start_date_formatted": "Feb 2016",
          "type": "Run"
         },
         {
          "achievement_count": 0,
          "distance": 3.7666,
          "id": 480500008,
          "start_date_formatted": "Jan 2016",
          "type": "Run"
         },
         {
          "achievement_count": 0,
          "distance": 2.8388,
          "id": 478209755,
          "start_date_formatted": "Jan 2016",
          "type": "Run"
         },
         {
          "achievement_count": 0,
          "distance": 4.0390999999999995,
          "id": 466584163,
          "start_date_formatted": "Jan 2016",
          "type": "Run"
         },
         {
          "achievement_count": 0,
          "distance": 23.6478,
          "id": 379208657,
          "start_date_formatted": "Aug 2015",
          "type": "Ride"
         },
         {
          "achievement_count": 0,
          "distance": 7.837899999999999,
          "id": 342029032,
          "start_date_formatted": "Jul 2015",
          "type": "Run"
         },
         {
          "achievement_count": 0,
          "distance": 7.7927,
          "id": 337260755,
          "start_date_formatted": "Jul 2015",
          "type": "Run"
         },
         {
          "achievement_count": 0,
          "distance": 4.788399999999999,
          "id": 336549318,
          "start_date_formatted": "Jun 2015",
          "type": "Run"
         },
         {
          "achievement_count": 0,
          "distance": 3.7946,
          "id": 332385555,
          "start_date_formatted": "Jun 2015",
          "type": "Run"
         },
         {
          "achievement_count": 1,
          "distance": 5.513,
          "id": 330395117,
          "start_date_formatted": "Jun 2015",
          "type": "Run"
         },
         {
          "achievement_count": 0,
          "distance": 5.0796,
          "id": 337030804,
          "start_date_formatted": "Jun 2015",
          "type": "Run"
         },
         {
          "achievement_count": 2,
          "distance": 6.178100000000001,
          "id": 330427930,
          "start_date_formatted": "Jun 2015",
          "type": "Run"
         },
         {
          "achievement_count": 0,
          "distance": 6.083699999999999,
          "id": 326290110,
          "start_date_formatted": "Jun 2015",
          "type": "Run"
         },
         {
          "achievement_count": 0,
          "distance": 5.5671,
          "id": 325710652,
          "start_date_formatted": "Jun 2015",
          "type": "Run"
         },
         {
          "achievement_count": 0,
          "distance": 4.8355,
          "id": 325737250,
          "start_date_formatted": "Jun 2015",
          "type": "Run"
         },
         {
          "achievement_count": 1,
          "distance": 6.8258,
          "id": 319860155,
          "start_date_formatted": "Jun 2015",
          "type": "Run"
         },
         {
          "achievement_count": 2,
          "distance": 6.1389,
          "id": 317069693,
          "start_date_formatted": "Jun 2015",
          "type": "Run"
         },
         {
          "achievement_count": 0,
          "distance": 18.0748,
          "id": 315627067,
          "start_date_formatted": "May 2015",
          "type": "Ride"
         },
         {
          "achievement_count": 1,
          "distance": 10.2172,
          "id": 313886835,
          "start_date_formatted": "May 2015",
          "type": "Run"
         },
         {
          "achievement_count": 13,
          "distance": 19.9844,
          "id": 310121541,
          "start_date_formatted": "May 2015",
          "type": "Ride"
         },
         {
          "achievement_count": 0,
          "distance": 5.01,
          "id": 309158613,
          "start_date_formatted": "May 2015",
          "type": "Run"
         },
         {
          "achievement_count": 0,
          "distance": 9.619399999999999,
          "id": 306812528,
          "start_date_formatted": "May 2015",
          "type": "Run"
         },
         {
          "achievement_count": 0,
          "distance": 6.6388,
          "id": 304079340,
          "start_date_formatted": "May 2015",
          "type": "Run"
         },
         {
          "achievement_count": 3,
          "distance": 18.223200000000002,
          "id": 301274333,
          "start_date_formatted": "May 2015",
          "type": "Ride"
         },
         {
          "achievement_count": 4,
          "distance": 16.6992,
          "id": 301111462,
          "start_date_formatted": "May 2015",
          "type": "Ride"
         },
         {
          "achievement_count": 0,
          "distance": 7.0637,
          "id": 299555682,
          "start_date_formatted": "May 2015",
          "type": "Run"
         },
         {
          "achievement_count": 0,
          "distance": 5.9479,
          "id": 298327429,
          "start_date_formatted": "May 2015",
          "type": "Run"
         },
         {
          "achievement_count": 4,
          "distance": 15.0481,
          "id": 297676571,
          "start_date_formatted": "May 2015",
          "type": "Ride"
         },
         {
          "achievement_count": 0,
          "distance": 8.8698,
          "id": 296571535,
          "start_date_formatted": "May 2015",
          "type": "Run"
         },
         {
          "achievement_count": 1,
          "distance": 4.871899999999999,
          "id": 294515000,
          "start_date_formatted": "Apr 2015",
          "type": "Run"
         },
         {
          "achievement_count": 17,
          "distance": 35.1293,
          "id": 293238627,
          "start_date_formatted": "Apr 2015",
          "type": "Ride"
         },
         {
          "achievement_count": 1,
          "distance": 5.497,
          "id": 291409727,
          "start_date_formatted": "Apr 2015",
          "type": "Run"
         },
         {
          "achievement_count": 0,
          "distance": 6.1944,
          "id": 288669491,
          "start_date_formatted": "Apr 2015",
          "type": "Run"
         },
         {
          "achievement_count": 1,
          "distance": 5.8785,
          "id": 276170382,
          "start_date_formatted": "Mar 2015",
          "type": "Run"
         },
         {
          "achievement_count": 1,
          "distance": 5.7158999999999995,
          "id": 272577441,
          "start_date_formatted": "Mar 2015",
          "type": "Run"
         },
         {
          "achievement_count": 0,
          "distance": 3.84,
          "id": 242976359,
          "start_date_formatted": "Jan 2015",
          "type": "Run"
         },
         {
          "achievement_count": 1,
          "distance": 4.0248,
          "id": 233931335,
          "start_date_formatted": "Dec 2014",
          "type": "Run"
         },
         {
          "achievement_count": 1,
          "distance": 3.9454000000000002,
          "id": 231114331,
          "start_date_formatted": "Dec 2014",
          "type": "Run"
         },
         {
          "achievement_count": 1,
          "distance": 10.9236,
          "id": 221967362,
          "start_date_formatted": "Nov 2014",
          "type": "Run"
         },
         {
          "achievement_count": 0,
          "distance": 6.5333000000000006,
          "id": 220009577,
          "start_date_formatted": "Nov 2014",
          "type": "Run"
         },
         {
          "achievement_count": 2,
          "distance": 8.7202,
          "id": 217550724,
          "start_date_formatted": "Nov 2014",
          "type": "Run"
         },
         {
          "achievement_count": 0,
          "distance": 5.3953999999999995,
          "id": 214387348,
          "start_date_formatted": "Nov 2014",
          "type": "Run"
         },
         {
          "achievement_count": 0,
          "distance": 5.6373,
          "id": 212426253,
          "start_date_formatted": "Oct 2014",
          "type": "Run"
         },
         {
          "achievement_count": 0,
          "distance": 6.0808,
          "id": 211580974,
          "start_date_formatted": "Oct 2014",
          "type": "Run"
         },
         {
          "achievement_count": 2,
          "distance": 7.1241,
          "id": 158212137,
          "start_date_formatted": "Jun 2014",
          "type": "Run"
         },
         {
          "achievement_count": 2,
          "distance": 4.1494,
          "id": 154879009,
          "start_date_formatted": "Jun 2014",
          "type": "Run"
         },
         {
          "achievement_count": 12,
          "distance": 52.303599999999996,
          "id": 153477386,
          "start_date_formatted": "Jun 2014",
          "type": "Ride"
         },
         {
          "achievement_count": 1,
          "distance": 5.5605,
          "id": 152050291,
          "start_date_formatted": "Jun 2014",
          "type": "Run"
         },
         {
          "achievement_count": 0,
          "distance": 4.5693,
          "id": 142366419,
          "start_date_formatted": "May 2014",
          "type": "Run"
         },
         {
          "achievement_count": 1,
          "distance": 6.1624,
          "id": 119230806,
          "start_date_formatted": "Mar 2014",
          "type": "Run"
         },
         {
          "achievement_count": 9,
          "distance": 49.3257,
          "id": 75889415,
          "start_date_formatted": "Aug 2013",
          "type": "Ride"
         },
         {
          "achievement_count": 17,
          "distance": 67.1394,
          "id": 75316763,
          "start_date_formatted": "Aug 2013",
          "type": "Ride"
         },
         {
          "achievement_count": 24,
          "distance": 59.5575,
          "id": 75090829,
          "start_date_formatted": "Aug 2013",
          "type": "Ride"
         },
         {
          "achievement_count": 14,
          "distance": 50.9542,
          "id": 74626892,
          "start_date_formatted": "Aug 2013",
          "type": "Ride"
         },
         {
          "achievement_count": 40,
          "distance": 108.548,
          "id": 73478411,
          "start_date_formatted": "Aug 2013",
          "type": "Ride"
         },
         {
          "achievement_count": 24,
          "distance": 61.1785,
          "id": 72857400,
          "start_date_formatted": "Aug 2013",
          "type": "Ride"
         },
         {
          "achievement_count": 22,
          "distance": 59.3085,
          "id": 72579431,
          "start_date_formatted": "Aug 2013",
          "type": "Ride"
         },
         {
          "achievement_count": 5,
          "distance": 104.096,
          "id": 72018730,
          "start_date_formatted": "Aug 2013",
          "type": "Ride"
         },
         {
          "achievement_count": 0,
          "distance": 55.532599999999995,
          "id": 71833963,
          "start_date_formatted": "Aug 2013",
          "type": "Ride"
         },
         {
          "achievement_count": 4,
          "distance": 11.02,
          "id": 63662932,
          "start_date_formatted": "Jun 2013",
          "type": "Run"
         },
         {
          "achievement_count": 0,
          "distance": 18.8258,
          "id": 63313297,
          "start_date_formatted": "Jun 2013",
          "type": "Ride"
         },
         {
          "achievement_count": 0,
          "distance": 74.3828,
          "id": 63312774,
          "start_date_formatted": "Jun 2013",
          "type": "Ride"
         },
         {
          "achievement_count": 5,
          "distance": 8.7426,
          "id": 62655429,
          "start_date_formatted": "Jun 2013",
          "type": "Run"
         },
         {
          "achievement_count": 7,
          "distance": 10.495899999999999,
          "id": 62196957,
          "start_date_formatted": "Jun 2013",
          "type": "Run"
         },
         {
          "achievement_count": 0,
          "distance": 30.1029,
          "id": 61979583,
          "start_date_formatted": "Jun 2013",
          "type": "Ride"
         },
         {
          "achievement_count": 6,
          "distance": 7.6546,
          "id": 61312377,
          "start_date_formatted": "Jun 2013",
          "type": "Run"
         },
         {
          "achievement_count": 0,
          "distance": 31.765,
          "id": 61040219,
          "start_date_formatted": "Jun 2013",
          "type": "Ride"
         },
         {
          "achievement_count": 0,
          "distance": 7.065300000000001,
          "id": 60169031,
          "start_date_formatted": "Jun 2013",
          "type": "Run"
         },
         {
          "achievement_count": 3,
          "distance": 38.2866,
          "id": 56499507,
          "start_date_formatted": "May 2013",
          "type": "Ride"
         },
         {
          "achievement_count": 0,
          "distance": 8.4716,
          "id": 508961092,
          "start_date_formatted": "Mar 2013",
          "type": "Run"
         }
        ]
       },
       "facet": {
        "column": {
         "field": "type",
         "type": "nominal"
        }
       },
       "resolve": {
        "scale": {
         "color": "shared",
         "x": "independent",
         "y": "independent"
        }
       },
       "spec": {
        "encoding": {
         "color": {
          "field": "type",
          "type": "nominal"
         },
         "href": {
          "field": "url",
          "type": "nominal"
         },
         "tooltip": [
          {
           "field": "start_date_formatted",
           "type": "nominal"
          },
          {
           "field": "distance",
           "type": "quantitative"
          },
          {
           "field": "achievement_count",
           "type": "quantitative"
          },
          {
           "field": "url",
           "type": "nominal"
          }
         ],
         "x": {
          "field": "distance",
          "type": "quantitative"
         },
         "y": {
          "field": "achievement_count",
          "type": "quantitative"
         }
        },
        "mark": "circle",
        "transform": [
         {
          "as": "url",
          "calculate": "('https://www.strava.com/activities/' + datum.id)"
         }
        ]
       },
       "title": "Activities by Acheivement Count and Distance (click circle to go to activity)"
      },
      "image/png": "[encoded data removed]",
      "text/plain": [
       "<VegaLite 2 object>\n",
       "\n",
       "If you see this message, it means the renderer has not been properly enabled\n",
       "for the frontend that you are using. For more information, see\n",
       "https://altair-viz.github.io/user_guide/troubleshooting.html\n"
      ]
     },
     "execution_count": 33,
     "metadata": {},
     "output_type": "execute_result"
    }
   ],
   "source": [
    "data = df.loc[df['type'].isin(['Run','Ride']),:]\n",
    "data = data[['id','start_date_formatted','type','distance','achievement_count']]\n",
    "\n",
    "chart = alt.Chart(data).transform_calculate(\n",
    "    url='https://www.strava.com/activities/' + alt.datum.id\n",
    ").mark_circle().encode(\n",
    "    x='distance',\n",
    "    y='achievement_count',\n",
    "    color='type',\n",
    "    href='url:N',\n",
    "    tooltip=['start_date_formatted','distance','achievement_count','url:N']\n",
    ").facet(\n",
    "    column='type'\n",
    ").resolve_scale(\n",
    "    x='independent',\n",
    "    y='independent'\n",
    ")\n",
    "\n",
    "chart.title = 'Activities by Acheivement Count and Distance (click circle to go to activity)'\n",
    "\n",
    "chart"
   ]
  },
  {
   "cell_type": "code",
   "execution_count": 34,
   "metadata": {},
   "outputs": [
    {
     "name": "stderr",
     "output_type": "stream",
     "text": [
      "C:\\Users\\Kain\\Anaconda3\\lib\\site-packages\\altair\\utils\\core.py:284: FutureWarning: A future version of pandas will default to `skipna=True`. To silence this warning, pass `skipna=True|False` explicitly.\n",
      "  attrs['type'] = infer_vegalite_type(data[attrs['field']])\n"
     ]
    },
    {
     "data": {
      "application/vnd.vegalite.v2+json": {
       "$schema": "https://vega.github.io/schema/vega-lite/v2.6.0.json",
       "config": {
        "view": {
         "height": 300,
         "width": 400
        }
       },
       "datasets": {
        "data-4ff22e083be02ec4ce99d76fb8562acd": [
         {
          "average_speed_kph": 20.20400816032641,
          "distance": 41.0807,
          "id": 2169790470,
          "start_date_formatted": "Feb 2019",
          "type": "Ride"
         },
         {
          "average_speed_kph": 20.308412336493458,
          "distance": 30.3659,
          "id": 1902102990,
          "start_date_formatted": "Oct 2018",
          "type": "Ride"
         },
         {
          "average_speed_kph": 20.909636385455418,
          "distance": 36.037699999999994,
          "id": 1765463698,
          "start_date_formatted": "Aug 2018",
          "type": "Ride"
         },
         {
          "average_speed_kph": 22.972518900756032,
          "distance": 40.0125,
          "id": 1507489235,
          "start_date_formatted": "Apr 2018",
          "type": "Ride"
         },
         {
          "average_speed_kph": 19.22836913476539,
          "distance": 26.143900000000002,
          "id": 1494936767,
          "start_date_formatted": "Apr 2018",
          "type": "Ride"
         },
         {
          "average_speed_kph": 16.675867034681385,
          "distance": 43.8861,
          "id": 1073325448,
          "start_date_formatted": "Jul 2017",
          "type": "Ride"
         },
         {
          "average_speed_kph": 16.816272650906036,
          "distance": 50.714800000000004,
          "id": 667134427,
          "start_date_formatted": "Aug 2016",
          "type": "Ride"
         },
         {
          "average_speed_kph": 23.343333733349336,
          "distance": 115.539,
          "id": 657891093,
          "start_date_formatted": "Jul 2016",
          "type": "Ride"
         },
         {
          "average_speed_kph": 21.442457698307933,
          "distance": 64.5434,
          "id": 656956785,
          "start_date_formatted": "Jul 2016",
          "type": "Ride"
         },
         {
          "average_speed_kph": 22.166086643465736,
          "distance": 97.1977,
          "id": 655830005,
          "start_date_formatted": "Jul 2016",
          "type": "Ride"
         },
         {
          "average_speed_kph": 21.291251650066002,
          "distance": 101.664,
          "id": 654796874,
          "start_date_formatted": "Jul 2016",
          "type": "Ride"
         },
         {
          "average_speed_kph": 21.269650786031445,
          "distance": 121.092,
          "id": 654026878,
          "start_date_formatted": "Jul 2016",
          "type": "Ride"
         },
         {
          "average_speed_kph": 17.34549381975279,
          "distance": 80.68010000000001,
          "id": 652494928,
          "start_date_formatted": "Jul 2016",
          "type": "Ride"
         },
         {
          "average_speed_kph": 20.340813632545302,
          "distance": 37.0168,
          "id": 645216024,
          "start_date_formatted": "Jul 2016",
          "type": "Ride"
         },
         {
          "average_speed_kph": 17.4894995799832,
          "distance": 62.528800000000004,
          "id": 644164143,
          "start_date_formatted": "Jul 2016",
          "type": "Ride"
         },
         {
          "average_speed_kph": 11.07764310572423,
          "distance": 16.9343,
          "id": 528753214,
          "start_date_formatted": "Mar 2016",
          "type": "Ride"
         },
         {
          "average_speed_kph": 15.426617064682588,
          "distance": 22.5325,
          "id": 509901190,
          "start_date_formatted": "Mar 2016",
          "type": "Ride"
         },
         {
          "average_speed_kph": 8.741149645985839,
          "distance": 23.6478,
          "id": 379208657,
          "start_date_formatted": "Aug 2015",
          "type": "Ride"
         },
         {
          "average_speed_kph": 15.937837513500538,
          "distance": 18.0748,
          "id": 315627067,
          "start_date_formatted": "May 2015",
          "type": "Ride"
         },
         {
          "average_speed_kph": 22.673706948277932,
          "distance": 19.9844,
          "id": 310121541,
          "start_date_formatted": "May 2015",
          "type": "Ride"
         },
         {
          "average_speed_kph": 19.933997359894395,
          "distance": 18.223200000000002,
          "id": 301274333,
          "start_date_formatted": "May 2015",
          "type": "Ride"
         },
         {
          "average_speed_kph": 20.6036241449658,
          "distance": 16.6992,
          "id": 301111462,
          "start_date_formatted": "May 2015",
          "type": "Ride"
         },
         {
          "average_speed_kph": 17.705508220328813,
          "distance": 15.0481,
          "id": 297676571,
          "start_date_formatted": "May 2015",
          "type": "Ride"
         },
         {
          "average_speed_kph": 23.656546261850472,
          "distance": 35.1293,
          "id": 293238627,
          "start_date_formatted": "Apr 2015",
          "type": "Ride"
         },
         {
          "average_speed_kph": 22.756510260410415,
          "distance": 52.303599999999996,
          "id": 153477386,
          "start_date_formatted": "Jun 2014",
          "type": "Ride"
         },
         {
          "average_speed_kph": 26.061442457698305,
          "distance": 49.3257,
          "id": 75889415,
          "start_date_formatted": "Aug 2013",
          "type": "Ride"
         },
         {
          "average_speed_kph": 25.90303612144486,
          "distance": 67.1394,
          "id": 75316763,
          "start_date_formatted": "Aug 2013",
          "type": "Ride"
         },
         {
          "average_speed_kph": 27.739109564382577,
          "distance": 59.5575,
          "id": 75090829,
          "start_date_formatted": "Aug 2013",
          "type": "Ride"
         },
         {
          "average_speed_kph": 24.606984279371172,
          "distance": 50.9542,
          "id": 74626892,
          "start_date_formatted": "Aug 2013",
          "type": "Ride"
         },
         {
          "average_speed_kph": 24.16056642265691,
          "distance": 108.548,
          "id": 73478411,
          "start_date_formatted": "Aug 2013",
          "type": "Ride"
         },
         {
          "average_speed_kph": 26.781471258850356,
          "distance": 61.1785,
          "id": 72857400,
          "start_date_formatted": "Aug 2013",
          "type": "Ride"
         },
         {
          "average_speed_kph": 26.464658586343454,
          "distance": 59.3085,
          "id": 72579431,
          "start_date_formatted": "Aug 2013",
          "type": "Ride"
         },
         {
          "average_speed_kph": 24.297371894875795,
          "distance": 104.096,
          "id": 72018730,
          "start_date_formatted": "Aug 2013",
          "type": "Ride"
         },
         {
          "average_speed_kph": 26.39265570622825,
          "distance": 55.532599999999995,
          "id": 71833963,
          "start_date_formatted": "Aug 2013",
          "type": "Ride"
         },
         {
          "average_speed_kph": 25.02820112804512,
          "distance": 18.8258,
          "id": 63313297,
          "start_date_formatted": "Jun 2013",
          "type": "Ride"
         },
         {
          "average_speed_kph": 23.847353894155766,
          "distance": 74.3828,
          "id": 63312774,
          "start_date_formatted": "Jun 2013",
          "type": "Ride"
         },
         {
          "average_speed_kph": 23.14532581303252,
          "distance": 30.1029,
          "id": 61979583,
          "start_date_formatted": "Jun 2013",
          "type": "Ride"
         },
         {
          "average_speed_kph": 25.697827913116527,
          "distance": 31.765,
          "id": 61040219,
          "start_date_formatted": "Jun 2013",
          "type": "Ride"
         },
         {
          "average_speed_kph": 21.478459138365537,
          "distance": 38.2866,
          "id": 56499507,
          "start_date_formatted": "May 2013",
          "type": "Ride"
         }
        ],
        "data-821ac0b35a67a89ac17457bfaa8ad682": [
         {
          "average_speed_mpk": 5.000300030003,
          "distance": 6.2,
          "id": 2202041286,
          "start_date_formatted": "Mar 2019",
          "type": "Run"
         },
         {
          "average_speed_mpk": 7.634448007329364,
          "distance": 6.6597,
          "id": 2199821385,
          "start_date_formatted": "Mar 2019",
          "type": "Run"
         },
         {
          "average_speed_mpk": 7.371074745687748,
          "distance": 5.151,
          "id": 2189067328,
          "start_date_formatted": "Mar 2019",
          "type": "Run"
         },
         {
          "average_speed_mpk": 7.8613207547169806,
          "distance": 5.257,
          "id": 2172868994,
          "start_date_formatted": "Feb 2019",
          "type": "Run"
         },
         {
          "average_speed_mpk": 4.857475954532206,
          "distance": 7,
          "id": 2075494711,
          "start_date_formatted": "Jan 2019",
          "type": "Run"
         },
         {
          "average_speed_mpk": 7.3613074204947,
          "distance": 5.5199,
          "id": 2060397406,
          "start_date_formatted": "Jan 2019",
          "type": "Run"
         },
         {
          "average_speed_mpk": 5.533200531208499,
          "distance": 10.6533,
          "id": 1873051986,
          "start_date_formatted": "Sep 2018",
          "type": "Run"
         },
         {
          "average_speed_mpk": 5.118550368550369,
          "distance": 5.3327,
          "id": 1869415210,
          "start_date_formatted": "Sep 2018",
          "type": "Run"
         },
         {
          "average_speed_mpk": 5.030485964382734,
          "distance": 5.3609,
          "id": 1848183751,
          "start_date_formatted": "Sep 2018",
          "type": "Run"
         },
         {
          "average_speed_mpk": 4.924940898345154,
          "distance": 6.5485,
          "id": 1832664190,
          "start_date_formatted": "Sep 2018",
          "type": "Run"
         },
         {
          "average_speed_mpk": 5.153370439084725,
          "distance": 7.1803,
          "id": 1819405951,
          "start_date_formatted": "Sep 2018",
          "type": "Run"
         },
         {
          "average_speed_mpk": 5.159752321981424,
          "distance": 5.595,
          "id": 1812167178,
          "start_date_formatted": "Sep 2018",
          "type": "Run"
         },
         {
          "average_speed_mpk": 4.991314764899671,
          "distance": 6.2947,
          "id": 1769961402,
          "start_date_formatted": "Aug 2018",
          "type": "Run"
         },
         {
          "average_speed_mpk": 5.369201030927835,
          "distance": 2.5019,
          "id": 1768039547,
          "start_date_formatted": "Aug 2018",
          "type": "Run"
         },
         {
          "average_speed_mpk": 5.027450980392157,
          "distance": 7.917,
          "id": 1758937255,
          "start_date_formatted": "Aug 2018",
          "type": "Run"
         },
         {
          "average_speed_mpk": 5.250787649653434,
          "distance": 6.4848,
          "id": 1754313991,
          "start_date_formatted": "Aug 2018",
          "type": "Run"
         },
         {
          "average_speed_mpk": 5.666780006800408,
          "distance": 4.2233,
          "id": 1722778792,
          "start_date_formatted": "Jul 2018",
          "type": "Run"
         },
         {
          "average_speed_mpk": 5.460681520314548,
          "distance": 8.158199999999999,
          "id": 1718082089,
          "start_date_formatted": "Jul 2018",
          "type": "Run"
         },
         {
          "average_speed_mpk": 5.196757093857188,
          "distance": 7.833699999999999,
          "id": 1702448290,
          "start_date_formatted": "Jul 2018",
          "type": "Run"
         },
         {
          "average_speed_mpk": 5.190283400809717,
          "distance": 6.0011,
          "id": 1678605231,
          "start_date_formatted": "Jul 2018",
          "type": "Run"
         },
         {
          "average_speed_mpk": 5.59261744966443,
          "distance": 4.2786,
          "id": 1656109943,
          "start_date_formatted": "Jun 2018",
          "type": "Run"
         },
         {
          "average_speed_mpk": 5.1028781383955915,
          "distance": 5.565,
          "id": 1615106319,
          "start_date_formatted": "Jun 2018",
          "type": "Run"
         },
         {
          "average_speed_mpk": 5.2244514106583075,
          "distance": 5.6789,
          "id": 1608680116,
          "start_date_formatted": "May 2018",
          "type": "Run"
         },
         {
          "average_speed_mpk": 5.221177944862156,
          "distance": 4.165,
          "id": 1602018981,
          "start_date_formatted": "May 2018",
          "type": "Run"
         },
         {
          "average_speed_mpk": 5.262393432270287,
          "distance": 5.1145,
          "id": 1600086877,
          "start_date_formatted": "May 2018",
          "type": "Run"
         },
         {
          "average_speed_mpk": 5.328005115089514,
          "distance": 6,
          "id": 1595253579,
          "start_date_formatted": "May 2018",
          "type": "Run"
         },
         {
          "average_speed_mpk": 5.770775623268698,
          "distance": 8.1867,
          "id": 1573271998,
          "start_date_formatted": "May 2018",
          "type": "Run"
         },
         {
          "average_speed_mpk": 5.302577155583838,
          "distance": 4.5854,
          "id": 1518378517,
          "start_date_formatted": "Apr 2018",
          "type": "Run"
         },
         {
          "average_speed_mpk": 5.178993163455563,
          "distance": 4.5342,
          "id": 1510885071,
          "start_date_formatted": "Apr 2018",
          "type": "Run"
         },
         {
          "average_speed_mpk": 5.175776397515528,
          "distance": 5.557300000000001,
          "id": 1485983415,
          "start_date_formatted": "Apr 2018",
          "type": "Run"
         },
         {
          "average_speed_mpk": 5.770775623268698,
          "distance": 5.9717,
          "id": 1481527978,
          "start_date_formatted": "Mar 2018",
          "type": "Run"
         },
         {
          "average_speed_mpk": 5.057966616084977,
          "distance": 4.0501,
          "id": 1478637305,
          "start_date_formatted": "Mar 2018",
          "type": "Run"
         },
         {
          "average_speed_mpk": 5.29415501905972,
          "distance": 5.109,
          "id": 1470467201,
          "start_date_formatted": "Mar 2018",
          "type": "Run"
         },
         {
          "average_speed_mpk": 5.628503883823033,
          "distance": 7.0409,
          "id": 1459406814,
          "start_date_formatted": "Mar 2018",
          "type": "Run"
         },
         {
          "average_speed_mpk": 6.799673602611179,
          "distance": 6.3735,
          "id": 1447706570,
          "start_date_formatted": "Mar 2018",
          "type": "Run"
         },
         {
          "average_speed_mpk": 5.099755201958385,
          "distance": 6.1541999999999994,
          "id": 1243691739,
          "start_date_formatted": "Oct 2017",
          "type": "Run"
         },
         {
          "average_speed_mpk": 5.124846248462485,
          "distance": 5.4138,
          "id": 1236411824,
          "start_date_formatted": "Oct 2017",
          "type": "Run"
         },
         {
          "average_speed_mpk": 5.050303030303031,
          "distance": 5.986800000000001,
          "id": 1231742829,
          "start_date_formatted": "Oct 2017",
          "type": "Run"
         },
         {
          "average_speed_mpk": 6.525450274079875,
          "distance": 8.797,
          "id": 1220350726,
          "start_date_formatted": "Oct 2017",
          "type": "Run"
         },
         {
          "average_speed_mpk": 5.40402075226978,
          "distance": 4.6016,
          "id": 1180785806,
          "start_date_formatted": "Sep 2017",
          "type": "Run"
         },
         {
          "average_speed_mpk": 5.30426479949077,
          "distance": 5.9577,
          "id": 1168340670,
          "start_date_formatted": "Sep 2017",
          "type": "Run"
         },
         {
          "average_speed_mpk": 5.419837398373984,
          "distance": 7.817399999999999,
          "id": 1166527379,
          "start_date_formatted": "Sep 2017",
          "type": "Run"
         },
         {
          "average_speed_mpk": 5.419837398373984,
          "distance": 7.1926000000000005,
          "id": 1161701515,
          "start_date_formatted": "Aug 2017",
          "type": "Run"
         },
         {
          "average_speed_mpk": 5.221177944862156,
          "distance": 7.9233,
          "id": 1158568544,
          "start_date_formatted": "Aug 2017",
          "type": "Run"
         },
         {
          "average_speed_mpk": 5.139068763490595,
          "distance": 6.2067,
          "id": 1155346588,
          "start_date_formatted": "Aug 2017",
          "type": "Run"
         },
         {
          "average_speed_mpk": 5.97133643855249,
          "distance": 6.0473,
          "id": 1151711545,
          "start_date_formatted": "Aug 2017",
          "type": "Run"
         },
         {
          "average_speed_mpk": 5.056432038834952,
          "distance": 5.7546,
          "id": 1148457766,
          "start_date_formatted": "Aug 2017",
          "type": "Run"
         },
         {
          "average_speed_mpk": 5.738980716253444,
          "distance": 5.7173,
          "id": 1141382702,
          "start_date_formatted": "Aug 2017",
          "type": "Run"
         },
         {
          "average_speed_mpk": 5.602016806722689,
          "distance": 6.0717,
          "id": 1125291234,
          "start_date_formatted": "Aug 2017",
          "type": "Run"
         },
         {
          "average_speed_mpk": 5.095077957811068,
          "distance": 6.220899999999999,
          "id": 1122020885,
          "start_date_formatted": "Aug 2017",
          "type": "Run"
         },
         {
          "average_speed_mpk": 5.059502125075896,
          "distance": 7.8012,
          "id": 1097956892,
          "start_date_formatted": "Jul 2017",
          "type": "Run"
         },
         {
          "average_speed_mpk": 5.723214285714286,
          "distance": 8.4419,
          "id": 1094471366,
          "start_date_formatted": "Jul 2017",
          "type": "Run"
         },
         {
          "average_speed_mpk": 5.796869565217391,
          "distance": 6.1832,
          "id": 1047510194,
          "start_date_formatted": "Jun 2017",
          "type": "Run"
         },
         {
          "average_speed_mpk": 4.444266666666667,
          "distance": 1.0575,
          "id": 1042731925,
          "start_date_formatted": "Jun 2017",
          "type": "Run"
         },
         {
          "average_speed_mpk": 5.222814164838609,
          "distance": 6.841600000000001,
          "id": 1042698985,
          "start_date_formatted": "Jun 2017",
          "type": "Run"
         },
         {
          "average_speed_mpk": 5.328005115089514,
          "distance": 6.2395,
          "id": 1041055453,
          "start_date_formatted": "Jun 2017",
          "type": "Run"
         },
         {
          "average_speed_mpk": 5.346807828039782,
          "distance": 6.373600000000001,
          "id": 1031510189,
          "start_date_formatted": "Jun 2017",
          "type": "Run"
         },
         {
          "average_speed_mpk": 5.766782006920415,
          "distance": 7.2009,
          "id": 1029928575,
          "start_date_formatted": "Jun 2017",
          "type": "Run"
         },
         {
          "average_speed_mpk": 5.430433365917237,
          "distance": 4.327100000000001,
          "id": 1022228974,
          "start_date_formatted": "Jun 2017",
          "type": "Run"
         },
         {
          "average_speed_mpk": 5.607671601615074,
          "distance": 4.1453999999999995,
          "id": 984934815,
          "start_date_formatted": "May 2017",
          "type": "Run"
         },
         {
          "average_speed_mpk": 5.328005115089514,
          "distance": 5.9243999999999994,
          "id": 944898454,
          "start_date_formatted": "Apr 2017",
          "type": "Run"
         },
         {
          "average_speed_mpk": 5.711446196024674,
          "distance": 3.1517,
          "id": 920925917,
          "start_date_formatted": "Mar 2017",
          "type": "Run"
         },
         {
          "average_speed_mpk": 6.007930785868782,
          "distance": 4.1197,
          "id": 817262248,
          "start_date_formatted": "Dec 2016",
          "type": "Run"
         },
         {
          "average_speed_mpk": 6.062568206620589,
          "distance": 7.0056,
          "id": 815054880,
          "start_date_formatted": "Dec 2016",
          "type": "Run"
         },
         {
          "average_speed_mpk": 6.02748643761302,
          "distance": 3.6607,
          "id": 747705664,
          "start_date_formatted": "Oct 2016",
          "type": "Run"
         },
         {
          "average_speed_mpk": 6.677083333333334,
          "distance": 4.9672,
          "id": 727921866,
          "start_date_formatted": "Sep 2016",
          "type": "Run"
         },
         {
          "average_speed_mpk": 5.478632478632479,
          "distance": 5.0047,
          "id": 720027140,
          "start_date_formatted": "Sep 2016",
          "type": "Run"
         },
         {
          "average_speed_mpk": 5.711446196024674,
          "distance": 3.7466,
          "id": 672812022,
          "start_date_formatted": "Aug 2016",
          "type": "Run"
         },
         {
          "average_speed_mpk": 5.762793914246196,
          "distance": 4.815,
          "id": 670638874,
          "start_date_formatted": "Aug 2016",
          "type": "Run"
         },
         {
          "average_speed_mpk": 5.632308212233863,
          "distance": 4.1044,
          "id": 665821624,
          "start_date_formatted": "Aug 2016",
          "type": "Run"
         },
         {
          "average_speed_mpk": 6.327258921791952,
          "distance": 4.2125,
          "id": 663726297,
          "start_date_formatted": "Aug 2016",
          "type": "Run"
         },
         {
          "average_speed_mpk": 5.903648600779313,
          "distance": 4.2115,
          "id": 637997865,
          "start_date_formatted": "Jul 2016",
          "type": "Run"
         },
         {
          "average_speed_mpk": 5.833391669583479,
          "distance": 5.6878,
          "id": 633701175,
          "start_date_formatted": "Jul 2016",
          "type": "Run"
         },
         {
          "average_speed_mpk": 5.299205087440382,
          "distance": 4.1068,
          "id": 625136477,
          "start_date_formatted": "Jun 2016",
          "type": "Run"
         },
         {
          "average_speed_mpk": 5.600134408602151,
          "distance": 5.3239,
          "id": 616459061,
          "start_date_formatted": "Jun 2016",
          "type": "Run"
         },
         {
          "average_speed_mpk": 5.794853963838666,
          "distance": 5.2493,
          "id": 610199424,
          "start_date_formatted": "Jun 2016",
          "type": "Run"
         },
         {
          "average_speed_mpk": 6.3128787878787875,
          "distance": 4.9531,
          "id": 606689778,
          "start_date_formatted": "Jun 2016",
          "type": "Run"
         },
         {
          "average_speed_mpk": 6.291430728576821,
          "distance": 5.225899999999999,
          "id": 605010697,
          "start_date_formatted": "Jun 2016",
          "type": "Run"
         },
         {
          "average_speed_mpk": 6.143015112421673,
          "distance": 6.1427,
          "id": 603913915,
          "start_date_formatted": "Jun 2016",
          "type": "Run"
         },
         {
          "average_speed_mpk": 5.817102966841186,
          "distance": 5.1362,
          "id": 601744832,
          "start_date_formatted": "Jun 2016",
          "type": "Run"
         },
         {
          "average_speed_mpk": 6.129459360058846,
          "distance": 8.448799999999999,
          "id": 600638542,
          "start_date_formatted": "Jun 2016",
          "type": "Run"
         },
         {
          "average_speed_mpk": 6.2326103216155575,
          "distance": 8.4285,
          "id": 594236121,
          "start_date_formatted": "May 2016",
          "type": "Run"
         },
         {
          "average_speed_mpk": 5.8703768932722795,
          "distance": 5.1952,
          "id": 592035069,
          "start_date_formatted": "May 2016",
          "type": "Run"
         },
         {
          "average_speed_mpk": 6.346534653465347,
          "distance": 5.3718,
          "id": 589943603,
          "start_date_formatted": "May 2016",
          "type": "Run"
         },
         {
          "average_speed_mpk": 5.930960854092526,
          "distance": 5.2078,
          "id": 588726729,
          "start_date_formatted": "May 2016",
          "type": "Run"
         },
         {
          "average_speed_mpk": 7.2713787085514845,
          "distance": 4.3303,
          "id": 580302351,
          "start_date_formatted": "May 2016",
          "type": "Run"
         },
         {
          "average_speed_mpk": 6.382995021064726,
          "distance": 6.949199999999999,
          "id": 572773992,
          "start_date_formatted": "May 2016",
          "type": "Run"
         },
         {
          "average_speed_mpk": 5.2,
          "distance": 5,
          "id": 571602110,
          "start_date_formatted": "May 2016",
          "type": "Run"
         },
         {
          "average_speed_mpk": 6.964479732553281,
          "distance": 12.309700000000001,
          "id": 573447998,
          "start_date_formatted": "May 2016",
          "type": "Run"
         },
         {
          "average_speed_mpk": 7.107036247334754,
          "distance": 4.387,
          "id": 564863202,
          "start_date_formatted": "May 2016",
          "type": "Run"
         },
         {
          "average_speed_mpk": 5.3935275080906155,
          "distance": 4.607399999999999,
          "id": 551367765,
          "start_date_formatted": "Apr 2016",
          "type": "Run"
         },
         {
          "average_speed_mpk": 5.28911456680419,
          "distance": 5.3826,
          "id": 542264278,
          "start_date_formatted": "Apr 2016",
          "type": "Run"
         },
         {
          "average_speed_mpk": 6.174879585031493,
          "distance": 5.054600000000001,
          "id": 540227487,
          "start_date_formatted": "Apr 2016",
          "type": "Run"
         },
         {
          "average_speed_mpk": 6.339292506656523,
          "distance": 5.26,
          "id": 535705837,
          "start_date_formatted": "Apr 2016",
          "type": "Run"
         },
         {
          "average_speed_mpk": 6.168023686158401,
          "distance": 5.1175,
          "id": 487959112,
          "start_date_formatted": "Feb 2016",
          "type": "Run"
         },
         {
          "average_speed_mpk": 6.020953757225434,
          "distance": 2.3418,
          "id": 483575529,
          "start_date_formatted": "Feb 2016",
          "type": "Run"
         },
         {
          "average_speed_mpk": 6.327258921791952,
          "distance": 3.7666,
          "id": 480500008,
          "start_date_formatted": "Jan 2016",
          "type": "Run"
         },
         {
          "average_speed_mpk": 6.492403583950136,
          "distance": 2.8388,
          "id": 478209755,
          "start_date_formatted": "Jan 2016",
          "type": "Run"
         },
         {
          "average_speed_mpk": 6.020953757225434,
          "distance": 4.0390999999999995,
          "id": 466584163,
          "start_date_formatted": "Jan 2016",
          "type": "Run"
         },
         {
          "average_speed_mpk": 5.546089850249585,
          "distance": 7.837899999999999,
          "id": 342029032,
          "start_date_formatted": "Jul 2015",
          "type": "Run"
         },
         {
          "average_speed_mpk": 5.893210749646394,
          "distance": 7.7927,
          "id": 337260755,
          "start_date_formatted": "Jul 2015",
          "type": "Run"
         },
         {
          "average_speed_mpk": 6.265413533834586,
          "distance": 4.788399999999999,
          "id": 336549318,
          "start_date_formatted": "Jun 2015",
          "type": "Run"
         },
         {
          "average_speed_mpk": 5.833391669583479,
          "distance": 3.7946,
          "id": 332385555,
          "start_date_formatted": "Jun 2015",
          "type": "Run"
         },
         {
          "average_speed_mpk": 5.398769031422092,
          "distance": 5.513,
          "id": 330395117,
          "start_date_formatted": "Jun 2015",
          "type": "Run"
         },
         {
          "average_speed_mpk": 7.199136069114471,
          "distance": 5.0796,
          "id": 337030804,
          "start_date_formatted": "Jun 2015",
          "type": "Run"
         },
         {
          "average_speed_mpk": 6.274849397590361,
          "distance": 6.178100000000001,
          "id": 330427930,
          "start_date_formatted": "Jun 2015",
          "type": "Run"
         },
         {
          "average_speed_mpk": 6.031849439015563,
          "distance": 6.083699999999999,
          "id": 326290110,
          "start_date_formatted": "Jun 2015",
          "type": "Run"
         },
         {
          "average_speed_mpk": 5.798886569241475,
          "distance": 5.5671,
          "id": 325710652,
          "start_date_formatted": "Jun 2015",
          "type": "Run"
         },
         {
          "average_speed_mpk": 5.607671601615074,
          "distance": 4.8355,
          "id": 325737250,
          "start_date_formatted": "Jun 2015",
          "type": "Run"
         },
         {
          "average_speed_mpk": 5.740957630037892,
          "distance": 6.8258,
          "id": 319860155,
          "start_date_formatted": "Jun 2015",
          "type": "Run"
         },
         {
          "average_speed_mpk": 5.334827144686299,
          "distance": 6.1389,
          "id": 317069693,
          "start_date_formatted": "Jun 2015",
          "type": "Run"
         },
         {
          "average_speed_mpk": 6.346534653465347,
          "distance": 10.2172,
          "id": 313886835,
          "start_date_formatted": "May 2015",
          "type": "Run"
         },
         {
          "average_speed_mpk": 5.638024357239513,
          "distance": 5.01,
          "id": 309158613,
          "start_date_formatted": "May 2015",
          "type": "Run"
         },
         {
          "average_speed_mpk": 6.610868702895677,
          "distance": 9.619399999999999,
          "id": 306812528,
          "start_date_formatted": "May 2015",
          "type": "Run"
         },
         {
          "average_speed_mpk": 6.637196336121067,
          "distance": 6.6388,
          "id": 304079340,
          "start_date_formatted": "May 2015",
          "type": "Run"
         },
         {
          "average_speed_mpk": 5.358842443729904,
          "distance": 7.0637,
          "id": 299555682,
          "start_date_formatted": "May 2015",
          "type": "Run"
         },
         {
          "average_speed_mpk": 5.426896776294367,
          "distance": 5.9479,
          "id": 298327429,
          "start_date_formatted": "May 2015",
          "type": "Run"
         },
         {
          "average_speed_mpk": 5.585120643431636,
          "distance": 8.8698,
          "id": 296571535,
          "start_date_formatted": "May 2015",
          "type": "Run"
         },
         {
          "average_speed_mpk": 5.299205087440382,
          "distance": 4.871899999999999,
          "id": 294515000,
          "start_date_formatted": "Apr 2015",
          "type": "Run"
         },
         {
          "average_speed_mpk": 4.8845252051582655,
          "distance": 5.497,
          "id": 291409727,
          "start_date_formatted": "Apr 2015",
          "type": "Run"
         },
         {
          "average_speed_mpk": 5.388296152602651,
          "distance": 6.1944,
          "id": 288669491,
          "start_date_formatted": "Apr 2015",
          "type": "Run"
         },
         {
          "average_speed_mpk": 5.309334182860784,
          "distance": 5.8785,
          "id": 276170382,
          "start_date_formatted": "Mar 2015",
          "type": "Run"
         },
         {
          "average_speed_mpk": 5.47503285151117,
          "distance": 5.7158999999999995,
          "id": 272577441,
          "start_date_formatted": "Mar 2015",
          "type": "Run"
         },
         {
          "average_speed_mpk": 5.264055590650663,
          "distance": 3.84,
          "id": 242976359,
          "start_date_formatted": "Jan 2015",
          "type": "Run"
         },
         {
          "average_speed_mpk": 4.857475954532206,
          "distance": 4.0248,
          "id": 233931335,
          "start_date_formatted": "Dec 2014",
          "type": "Run"
         },
         {
          "average_speed_mpk": 5.098195166717651,
          "distance": 3.9454000000000002,
          "id": 231114331,
          "start_date_formatted": "Dec 2014",
          "type": "Run"
         },
         {
          "average_speed_mpk": 6.8415435139573075,
          "distance": 10.9236,
          "id": 221967362,
          "start_date_formatted": "Nov 2014",
          "type": "Run"
         },
         {
          "average_speed_mpk": 6.484824902723736,
          "distance": 6.5333000000000006,
          "id": 220009577,
          "start_date_formatted": "Nov 2014",
          "type": "Run"
         },
         {
          "average_speed_mpk": 5.428664495114007,
          "distance": 8.7202,
          "id": 217550724,
          "start_date_formatted": "Nov 2014",
          "type": "Run"
         },
         {
          "average_speed_mpk": 5.322900031938678,
          "distance": 5.3953999999999995,
          "id": 214387348,
          "start_date_formatted": "Nov 2014",
          "type": "Run"
         },
         {
          "average_speed_mpk": 5.265718799368089,
          "distance": 5.6373,
          "id": 212426253,
          "start_date_formatted": "Oct 2014",
          "type": "Run"
         },
         {
          "average_speed_mpk": 5.437520391517129,
          "distance": 6.0808,
          "id": 211580974,
          "start_date_formatted": "Oct 2014",
          "type": "Run"
         },
         {
          "average_speed_mpk": 5.928850942725009,
          "distance": 7.1241,
          "id": 158212137,
          "start_date_formatted": "Jun 2014",
          "type": "Run"
         },
         {
          "average_speed_mpk": 5.62280701754386,
          "distance": 4.1494,
          "id": 154879009,
          "start_date_formatted": "Jun 2014",
          "type": "Run"
         },
         {
          "average_speed_mpk": 5.30426479949077,
          "distance": 5.5605,
          "id": 152050291,
          "start_date_formatted": "Jun 2014",
          "type": "Run"
         },
         {
          "average_speed_mpk": 5.0078125,
          "distance": 4.5693,
          "id": 142366419,
          "start_date_formatted": "May 2014",
          "type": "Run"
         },
         {
          "average_speed_mpk": 5.090409285277947,
          "distance": 6.1624,
          "id": 119230806,
          "start_date_formatted": "Mar 2014",
          "type": "Run"
         },
         {
          "average_speed_mpk": 5.334827144686299,
          "distance": 11.02,
          "id": 63662932,
          "start_date_formatted": "Jun 2013",
          "type": "Run"
         },
         {
          "average_speed_mpk": 5.156559405940594,
          "distance": 8.7426,
          "id": 62655429,
          "start_date_formatted": "Jun 2013",
          "type": "Run"
         },
         {
          "average_speed_mpk": 5.57764390896921,
          "distance": 10.495899999999999,
          "id": 62196957,
          "start_date_formatted": "Jun 2013",
          "type": "Run"
         },
         {
          "average_speed_mpk": 5.169354838709677,
          "distance": 7.6546,
          "id": 61312377,
          "start_date_formatted": "Jun 2013",
          "type": "Run"
         },
         {
          "average_speed_mpk": 5.2146433041301625,
          "distance": 7.065300000000001,
          "id": 60169031,
          "start_date_formatted": "Jun 2013",
          "type": "Run"
         },
         {
          "average_speed_mpk": 5.3433792882334075,
          "distance": 8.4716,
          "id": 508961092,
          "start_date_formatted": "Mar 2013",
          "type": "Run"
         }
        ]
       },
       "hconcat": [
        {
         "data": {
          "name": "data-821ac0b35a67a89ac17457bfaa8ad682"
         },
         "encoding": {
          "color": {
           "field": "type",
           "type": "nominal"
          },
          "href": {
           "field": "url",
           "type": "nominal"
          },
          "tooltip": [
           {
            "field": "start_date_formatted",
            "type": "nominal"
           },
           {
            "field": "distance",
            "type": "quantitative"
           },
           {
            "field": "average_speed_mpk",
            "type": "quantitative"
           },
           {
            "field": "url",
            "type": "nominal"
           }
          ],
          "x": {
           "field": "distance",
           "type": "quantitative"
          },
          "y": {
           "field": "average_speed_mpk",
           "type": "quantitative"
          }
         },
         "mark": "circle",
         "selection": {
          "selector003": {
           "bind": "scales",
           "encodings": [
            "x",
            "y"
           ],
           "mark": {
            "fill": "#333",
            "fillOpacity": 0.125,
            "stroke": "white"
           },
           "on": "[mousedown, window:mouseup] > window:mousemove!",
           "resolve": "global",
           "translate": "[mousedown, window:mouseup] > window:mousemove!",
           "type": "interval",
           "zoom": "wheel!"
          }
         },
         "title": "Runs",
         "transform": [
          {
           "as": "url",
           "calculate": "('https://www.strava.com/activities/' + datum.id)"
          }
         ]
        },
        {
         "data": {
          "name": "data-4ff22e083be02ec4ce99d76fb8562acd"
         },
         "encoding": {
          "color": {
           "field": "type",
           "type": "nominal"
          },
          "href": {
           "field": "url",
           "type": "nominal"
          },
          "tooltip": [
           {
            "field": "start_date_formatted",
            "type": "nominal"
           },
           {
            "field": "distance",
            "type": "quantitative"
           },
           {
            "field": "average_speed_kph",
            "type": "quantitative"
           },
           {
            "field": "url",
            "type": "nominal"
           }
          ],
          "x": {
           "field": "distance",
           "type": "quantitative"
          },
          "y": {
           "field": "average_speed_kph",
           "type": "quantitative"
          }
         },
         "mark": "circle",
         "selection": {
          "selector004": {
           "bind": "scales",
           "encodings": [
            "x",
            "y"
           ],
           "mark": {
            "fill": "#333",
            "fillOpacity": 0.125,
            "stroke": "white"
           },
           "on": "[mousedown, window:mouseup] > window:mousemove!",
           "resolve": "global",
           "translate": "[mousedown, window:mouseup] > window:mousemove!",
           "type": "interval",
           "zoom": "wheel!"
          }
         },
         "title": "Rides",
         "transform": [
          {
           "as": "url",
           "calculate": "('https://www.strava.com/activities/' + datum.id)"
          }
         ]
        }
       ],
       "title": "Activity Type by Average Speed and Distance (click circle to go to activity)"
      },
      "image/png": "[encoded data removed]",
      "text/plain": [
       "<VegaLite 2 object>\n",
       "\n",
       "If you see this message, it means the renderer has not been properly enabled\n",
       "for the frontend that you are using. For more information, see\n",
       "https://altair-viz.github.io/user_guide/troubleshooting.html\n"
      ]
     },
     "execution_count": 34,
     "metadata": {},
     "output_type": "execute_result"
    }
   ],
   "source": [
    "data_run = df.loc[df['type'] == 'Run',:]\n",
    "data_run = data_run[['id','start_date_formatted','type','distance','average_speed_mpk']]\n",
    "\n",
    "chart_run = alt.Chart(data_run).transform_calculate(\n",
    "    url='https://www.strava.com/activities/' + alt.datum.id\n",
    ").mark_circle().encode(\n",
    "    x='distance',\n",
    "    y='average_speed_mpk',\n",
    "    color='type',\n",
    "    href='url:N',\n",
    "    tooltip=['start_date_formatted','distance','average_speed_mpk','url:N']\n",
    ").interactive()\n",
    "\n",
    "chart_run.title = 'Runs'\n",
    "\n",
    "data_ride = df.loc[df['type'] == 'Ride',:]\n",
    "data_ride = data_ride[['id','start_date_formatted','type','distance','average_speed_kph']]\n",
    "\n",
    "chart_ride = alt.Chart(data_ride).transform_calculate(\n",
    "    url='https://www.strava.com/activities/' + alt.datum.id\n",
    ").mark_circle().encode(\n",
    "    x='distance',\n",
    "    y='average_speed_kph',\n",
    "    color='type',\n",
    "    href='url:N',\n",
    "    tooltip=['start_date_formatted','distance','average_speed_kph','url:N']\n",
    ").interactive()\n",
    "\n",
    "chart_ride.title = 'Rides'\n",
    "\n",
    "chart = alt.hconcat(chart_run, chart_ride)\n",
    "\n",
    "chart.title = 'Activity Type by Average Speed and Distance (click circle to go to activity)'\n",
    "\n",
    "chart"
   ]
  },
  {
   "cell_type": "code",
   "execution_count": 35,
   "metadata": {},
   "outputs": [
    {
     "name": "stderr",
     "output_type": "stream",
     "text": [
      "C:\\Users\\Kain\\Anaconda3\\lib\\site-packages\\pandas\\core\\indexing.py:362: SettingWithCopyWarning: \n",
      "A value is trying to be set on a copy of a slice from a DataFrame.\n",
      "Try using .loc[row_indexer,col_indexer] = value instead\n",
      "\n",
      "See the caveats in the documentation: http://pandas.pydata.org/pandas-docs/stable/indexing.html#indexing-view-versus-copy\n",
      "  self.obj[key] = _infer_fill_value(value)\n",
      "C:\\Users\\Kain\\Anaconda3\\lib\\site-packages\\pandas\\core\\indexing.py:543: SettingWithCopyWarning: \n",
      "A value is trying to be set on a copy of a slice from a DataFrame.\n",
      "Try using .loc[row_indexer,col_indexer] = value instead\n",
      "\n",
      "See the caveats in the documentation: http://pandas.pydata.org/pandas-docs/stable/indexing.html#indexing-view-versus-copy\n",
      "  self.obj[item] = s\n",
      "C:\\Users\\Kain\\Anaconda3\\lib\\site-packages\\altair\\utils\\core.py:284: FutureWarning: A future version of pandas will default to `skipna=True`. To silence this warning, pass `skipna=True|False` explicitly.\n",
      "  attrs['type'] = infer_vegalite_type(data[attrs['field']])\n"
     ]
    },
    {
     "data": {
      "application/vnd.vegalite.v2+json": {
       "$schema": "https://vega.github.io/schema/vega-lite/v2.6.0.json",
       "config": {
        "view": {
         "height": 300,
         "width": 400
        }
       },
       "data": {
        "name": "data-2f6a6edc7b628ff02746415b853682e4"
       },
       "datasets": {
        "data-2f6a6edc7b628ff02746415b853682e4": [
         {
          "distance": 6.2,
          "id": 2202041286,
          "month": "2019-03-01",
          "moving_time": 31,
          "start_date": "2019-03-09T16:30:06+00:00",
          "type": "Run"
         },
         {
          "distance": 6.6597,
          "id": 2199821385,
          "month": "2019-03-01",
          "moving_time": 50.85,
          "start_date": "2019-03-08T18:27:19+00:00",
          "type": "Run"
         },
         {
          "distance": 5.151,
          "id": 2189067328,
          "month": "2019-03-01",
          "moving_time": 37.96666666666667,
          "start_date": "2019-03-03T15:10:05+00:00",
          "type": "Run"
         },
         {
          "distance": 5.257,
          "id": 2172868994,
          "month": "2019-02-01",
          "moving_time": 41.333333333333336,
          "start_date": "2019-02-24T15:40:06+00:00",
          "type": "Run"
         },
         {
          "distance": 41.0807,
          "id": 2169790470,
          "month": "2019-02-01",
          "moving_time": 122,
          "start_date": "2019-02-23T13:14:19+00:00",
          "type": "Ride"
         },
         {
          "distance": 7,
          "id": 2075494711,
          "month": "2019-01-01",
          "moving_time": 34,
          "start_date": "2019-01-13T12:07:58+00:00",
          "type": "Run"
         },
         {
          "distance": 5.5199,
          "id": 2060397406,
          "month": "2019-01-01",
          "moving_time": 40.63333333333333,
          "start_date": "2019-01-05T21:44:57+00:00",
          "type": "Run"
         },
         {
          "distance": 30.3659,
          "id": 1902102990,
          "month": "2018-10-01",
          "moving_time": 89.71666666666667,
          "start_date": "2018-10-13T11:59:27+00:00",
          "type": "Ride"
         },
         {
          "distance": 10.6533,
          "id": 1873051986,
          "month": "2018-09-01",
          "moving_time": 58.95,
          "start_date": "2018-09-29T13:03:25+00:00",
          "type": "Run"
         },
         {
          "distance": 5.3327,
          "id": 1869415210,
          "month": "2018-09-01",
          "moving_time": 27.3,
          "start_date": "2018-09-27T17:12:11+00:00",
          "type": "Run"
         },
         {
          "distance": 5.3609,
          "id": 1848183751,
          "month": "2018-09-01",
          "moving_time": 26.966666666666665,
          "start_date": "2018-09-17T17:11:51+00:00",
          "type": "Run"
         },
         {
          "distance": 6.5485,
          "id": 1832664190,
          "month": "2018-09-01",
          "moving_time": 32.25,
          "start_date": "2018-09-10T16:52:28+00:00",
          "type": "Run"
         },
         {
          "distance": 7.1803,
          "id": 1819405951,
          "month": "2018-09-01",
          "moving_time": 37,
          "start_date": "2018-09-04T16:55:10+00:00",
          "type": "Run"
         },
         {
          "distance": 5.595,
          "id": 1812167178,
          "month": "2018-09-01",
          "moving_time": 28.866666666666667,
          "start_date": "2018-09-01T15:21:55+00:00",
          "type": "Run"
         },
         {
          "distance": 6.2947,
          "id": 1769961402,
          "month": "2018-08-01",
          "moving_time": 31.416666666666668,
          "start_date": "2018-08-13T18:47:44+00:00",
          "type": "Run"
         },
         {
          "distance": 2.5019,
          "id": 1768039547,
          "month": "2018-08-01",
          "moving_time": 13.433333333333334,
          "start_date": "2018-08-12T19:11:00+00:00",
          "type": "Run"
         },
         {
          "distance": 36.037699999999994,
          "id": 1765463698,
          "month": "2018-08-01",
          "moving_time": 103.41666666666667,
          "start_date": "2018-08-11T15:26:21+00:00",
          "type": "Ride"
         },
         {
          "distance": 7.917,
          "id": 1758937255,
          "month": "2018-08-01",
          "moving_time": 39.8,
          "start_date": "2018-08-08T17:45:04+00:00",
          "type": "Run"
         },
         {
          "distance": 6.4848,
          "id": 1754313991,
          "month": "2018-08-01",
          "moving_time": 34.05,
          "start_date": "2018-08-06T17:36:29+00:00",
          "type": "Run"
         },
         {
          "distance": 4.2233,
          "id": 1722778792,
          "month": "2018-07-01",
          "moving_time": 23.933333333333334,
          "start_date": "2018-07-23T17:34:32+00:00",
          "type": "Run"
         },
         {
          "distance": 8.158199999999999,
          "id": 1718082089,
          "month": "2018-07-01",
          "moving_time": 44.55,
          "start_date": "2018-07-21T16:26:17+00:00",
          "type": "Run"
         },
         {
          "distance": 7.833699999999999,
          "id": 1702448290,
          "month": "2018-07-01",
          "moving_time": 40.71666666666667,
          "start_date": "2018-07-14T16:44:56+00:00",
          "type": "Run"
         },
         {
          "distance": 6.0011,
          "id": 1678605231,
          "month": "2018-07-01",
          "moving_time": 31.15,
          "start_date": "2018-07-03T16:47:10+00:00",
          "type": "Run"
         },
         {
          "distance": 4.2786,
          "id": 1656109943,
          "month": "2018-06-01",
          "moving_time": 23.933333333333334,
          "start_date": "2018-06-23T08:07:30+00:00",
          "type": "Run"
         },
         {
          "distance": 5.565,
          "id": 1615106319,
          "month": "2018-06-01",
          "moving_time": 28.4,
          "start_date": "2018-06-03T16:29:02+00:00",
          "type": "Run"
         },
         {
          "distance": 5.6789,
          "id": 1608680116,
          "month": "2018-05-01",
          "moving_time": 29.666666666666668,
          "start_date": "2018-05-31T18:44:30+00:00",
          "type": "Run"
         },
         {
          "distance": 4.165,
          "id": 1602018981,
          "month": "2018-05-01",
          "moving_time": 21.75,
          "start_date": "2018-05-28T16:33:29+00:00",
          "type": "Run"
         },
         {
          "distance": 5.1145,
          "id": 1600086877,
          "month": "2018-05-01",
          "moving_time": 26.916666666666668,
          "start_date": "2018-05-27T16:46:37+00:00",
          "type": "Run"
         },
         {
          "distance": 6,
          "id": 1595253579,
          "month": "2018-05-01",
          "moving_time": 31.966666666666665,
          "start_date": "2018-05-25T15:42:25+00:00",
          "type": "Run"
         },
         {
          "distance": 8.1867,
          "id": 1573271998,
          "month": "2018-05-01",
          "moving_time": 47.25,
          "start_date": "2018-05-15T10:15:59+00:00",
          "type": "Run"
         },
         {
          "distance": 5.0622,
          "id": 1568513925,
          "month": "2018-05-01",
          "moving_time": 71.68333333333334,
          "start_date": "2018-05-13T02:16:44+00:00",
          "type": "Hike"
         },
         {
          "distance": 4.5854,
          "id": 1518378517,
          "month": "2018-04-01",
          "moving_time": 24.316666666666666,
          "start_date": "2018-04-19T16:06:29+00:00",
          "type": "Run"
         },
         {
          "distance": 4.5342,
          "id": 1510885071,
          "month": "2018-04-01",
          "moving_time": 23.483333333333334,
          "start_date": "2018-04-15T18:21:50+00:00",
          "type": "Run"
         },
         {
          "distance": 40.0125,
          "id": 1507489235,
          "month": "2018-04-01",
          "moving_time": 104.51666666666667,
          "start_date": "2018-04-14T08:52:59+00:00",
          "type": "Ride"
         },
         {
          "distance": 26.143900000000002,
          "id": 1494936767,
          "month": "2018-04-01",
          "moving_time": 81.58333333333333,
          "start_date": "2018-04-07T15:52:48+00:00",
          "type": "Ride"
         },
         {
          "distance": 5.557300000000001,
          "id": 1485983415,
          "month": "2018-04-01",
          "moving_time": 28.766666666666666,
          "start_date": "2018-04-02T18:18:27+00:00",
          "type": "Run"
         },
         {
          "distance": 5.9717,
          "id": 1481527978,
          "month": "2018-03-01",
          "moving_time": 34.46666666666667,
          "start_date": "2018-03-31T12:13:10+00:00",
          "type": "Run"
         },
         {
          "distance": 4.0501,
          "id": 1478637305,
          "month": "2018-03-01",
          "moving_time": 20.483333333333334,
          "start_date": "2018-03-29T18:45:47+00:00",
          "type": "Run"
         },
         {
          "distance": 5.109,
          "id": 1470467201,
          "month": "2018-03-01",
          "moving_time": 24.766666666666666,
          "start_date": "2018-03-25T09:13:10+00:00",
          "type": "Run"
         },
         {
          "distance": 7.0409,
          "id": 1459406814,
          "month": "2018-03-01",
          "moving_time": 39.63333333333333,
          "start_date": "2018-03-18T14:17:15+00:00",
          "type": "Run"
         },
         {
          "distance": 6.3735,
          "id": 1447706570,
          "month": "2018-03-01",
          "moving_time": 43.333333333333336,
          "start_date": "2018-03-11T13:46:50+00:00",
          "type": "Run"
         },
         {
          "distance": 6.348,
          "id": 1439152306,
          "month": "2018-03-01",
          "moving_time": 16.9,
          "start_date": "2018-03-06T13:32:13+00:00",
          "type": "AlpineSki"
         },
         {
          "distance": 6.1541999999999994,
          "id": 1243691739,
          "month": "2017-10-01",
          "moving_time": 31.383333333333333,
          "start_date": "2017-10-23T16:26:35+00:00",
          "type": "Run"
         },
         {
          "distance": 5.4138,
          "id": 1236411824,
          "month": "2017-10-01",
          "moving_time": 27.75,
          "start_date": "2017-10-18T17:31:20+00:00",
          "type": "Run"
         },
         {
          "distance": 5.986800000000001,
          "id": 1231742829,
          "month": "2017-10-01",
          "moving_time": 30.233333333333334,
          "start_date": "2017-10-15T14:57:01+00:00",
          "type": "Run"
         },
         {
          "distance": 8.797,
          "id": 1220350726,
          "month": "2017-10-01",
          "moving_time": 57.416666666666664,
          "start_date": "2017-10-08T08:36:55+00:00",
          "type": "Run"
         },
         {
          "distance": 4.6016,
          "id": 1180785806,
          "month": "2017-09-01",
          "moving_time": 24.866666666666667,
          "start_date": "2017-09-12T17:08:36+00:00",
          "type": "Run"
         },
         {
          "distance": 5.9577,
          "id": 1168340670,
          "month": "2017-09-01",
          "moving_time": 31.6,
          "start_date": "2017-09-04T18:11:15+00:00",
          "type": "Run"
         },
         {
          "distance": 7.817399999999999,
          "id": 1166527379,
          "month": "2017-09-01",
          "moving_time": 42.36666666666667,
          "start_date": "2017-09-03T15:06:54+00:00",
          "type": "Run"
         },
         {
          "distance": 7.1926000000000005,
          "id": 1161701515,
          "month": "2017-08-01",
          "moving_time": 38.983333333333334,
          "start_date": "2017-08-31T17:08:25+00:00",
          "type": "Run"
         },
         {
          "distance": 7.9233,
          "id": 1158568544,
          "month": "2017-08-01",
          "moving_time": 41.36666666666667,
          "start_date": "2017-08-29T18:03:47+00:00",
          "type": "Run"
         },
         {
          "distance": 6.2067,
          "id": 1155346588,
          "month": "2017-08-01",
          "moving_time": 31.9,
          "start_date": "2017-08-27T17:25:27+00:00",
          "type": "Run"
         },
         {
          "distance": 6.0473,
          "id": 1151711545,
          "month": "2017-08-01",
          "moving_time": 36.11666666666667,
          "start_date": "2017-08-25T17:36:48+00:00",
          "type": "Run"
         },
         {
          "distance": 5.7546,
          "id": 1148457766,
          "month": "2017-08-01",
          "moving_time": 29.1,
          "start_date": "2017-08-23T18:00:03+00:00",
          "type": "Run"
         },
         {
          "distance": 5.7173,
          "id": 1141382702,
          "month": "2017-08-01",
          "moving_time": 32.81666666666667,
          "start_date": "2017-08-19T14:32:09+00:00",
          "type": "Run"
         },
         {
          "distance": 6.0717,
          "id": 1125291234,
          "month": "2017-08-01",
          "moving_time": 34.016666666666666,
          "start_date": "2017-08-09T16:30:02+00:00",
          "type": "Run"
         },
         {
          "distance": 6.220899999999999,
          "id": 1122020885,
          "month": "2017-08-01",
          "moving_time": 31.7,
          "start_date": "2017-08-07T16:34:05+00:00",
          "type": "Run"
         },
         {
          "distance": 7.8012,
          "id": 1097956892,
          "month": "2017-07-01",
          "moving_time": 39.46666666666667,
          "start_date": "2017-07-23T15:23:17+00:00",
          "type": "Run"
         },
         {
          "distance": 8.4419,
          "id": 1094471366,
          "month": "2017-07-01",
          "moving_time": 48.31666666666667,
          "start_date": "2017-07-21T14:17:44+00:00",
          "type": "Run"
         },
         {
          "distance": 43.8861,
          "id": 1073325448,
          "month": "2017-07-01",
          "moving_time": 157.91666666666666,
          "start_date": "2017-07-08T06:47:40+00:00",
          "type": "Ride"
         },
         {
          "distance": 6.1832,
          "id": 1047510194,
          "month": "2017-06-01",
          "moving_time": 35.85,
          "start_date": "2017-06-21T16:13:24+00:00",
          "type": "Run"
         },
         {
          "distance": 1.0575,
          "id": 1042731925,
          "month": "2017-06-01",
          "moving_time": 4.7,
          "start_date": "2017-06-18T14:33:42+00:00",
          "type": "Run"
         },
         {
          "distance": 6.841600000000001,
          "id": 1042698985,
          "month": "2017-06-01",
          "moving_time": 35.733333333333334,
          "start_date": "2017-06-18T13:43:11+00:00",
          "type": "Run"
         },
         {
          "distance": 6.2395,
          "id": 1041055453,
          "month": "2017-06-01",
          "moving_time": 33.25,
          "start_date": "2017-06-17T15:03:13+00:00",
          "type": "Run"
         },
         {
          "distance": 6.373600000000001,
          "id": 1031510189,
          "month": "2017-06-01",
          "moving_time": 34.083333333333336,
          "start_date": "2017-06-11T12:54:37+00:00",
          "type": "Run"
         },
         {
          "distance": 7.2009,
          "id": 1029928575,
          "month": "2017-06-01",
          "moving_time": 41.53333333333333,
          "start_date": "2017-06-10T15:15:16+00:00",
          "type": "Run"
         },
         {
          "distance": 4.327100000000001,
          "id": 1022228974,
          "month": "2017-06-01",
          "moving_time": 23.5,
          "start_date": "2017-06-05T11:35:08+00:00",
          "type": "Run"
         },
         {
          "distance": 4.1453999999999995,
          "id": 984934815,
          "month": "2017-05-01",
          "moving_time": 23.25,
          "start_date": "2017-05-13T22:14:13+00:00",
          "type": "Run"
         },
         {
          "distance": 5.9243999999999994,
          "id": 944898454,
          "month": "2017-04-01",
          "moving_time": 31.566666666666666,
          "start_date": "2017-04-16T14:35:13+00:00",
          "type": "Run"
         },
         {
          "distance": 3.1517,
          "id": 920925917,
          "month": "2017-03-01",
          "moving_time": 18,
          "start_date": "2017-03-30T16:40:17+00:00",
          "type": "Run"
         },
         {
          "distance": 4.1197,
          "id": 817262248,
          "month": "2016-12-01",
          "moving_time": 24.75,
          "start_date": "2016-12-31T21:58:48+00:00",
          "type": "Run"
         },
         {
          "distance": 7.0056,
          "id": 815054880,
          "month": "2016-12-01",
          "moving_time": 42.46666666666667,
          "start_date": "2016-12-29T18:20:39+00:00",
          "type": "Run"
         },
         {
          "distance": 3.6607,
          "id": 747705664,
          "month": "2016-10-01",
          "moving_time": 22.066666666666666,
          "start_date": "2016-10-17T16:09:34+00:00",
          "type": "Run"
         },
         {
          "distance": 4.9672,
          "id": 727921866,
          "month": "2016-09-01",
          "moving_time": 33.166666666666664,
          "start_date": "2016-09-28T15:48:34+00:00",
          "type": "Run"
         },
         {
          "distance": 5.0047,
          "id": 720027140,
          "month": "2016-09-01",
          "moving_time": 27.416666666666668,
          "start_date": "2016-09-21T15:05:42+00:00",
          "type": "Run"
         },
         {
          "distance": 3.7466,
          "id": 672812022,
          "month": "2016-08-01",
          "moving_time": 21.4,
          "start_date": "2016-08-11T22:00:22+00:00",
          "type": "Run"
         },
         {
          "distance": 4.815,
          "id": 670638874,
          "month": "2016-08-01",
          "moving_time": 27.75,
          "start_date": "2016-08-09T23:06:48+00:00",
          "type": "Run"
         },
         {
          "distance": 50.714800000000004,
          "id": 667134427,
          "month": "2016-08-01",
          "moving_time": 180.96666666666667,
          "start_date": "2016-08-06T15:57:35+00:00",
          "type": "Ride"
         },
         {
          "distance": 4.1044,
          "id": 665821624,
          "month": "2016-08-01",
          "moving_time": 23.116666666666667,
          "start_date": "2016-08-05T22:19:55+00:00",
          "type": "Run"
         },
         {
          "distance": 4.2125,
          "id": 663726297,
          "month": "2016-08-01",
          "moving_time": 26.65,
          "start_date": "2016-08-03T23:46:31+00:00",
          "type": "Run"
         },
         {
          "distance": 115.539,
          "id": 657891093,
          "month": "2016-07-01",
          "moving_time": 297,
          "start_date": "2016-07-29T13:24:23+00:00",
          "type": "Ride"
         },
         {
          "distance": 64.5434,
          "id": 656956785,
          "month": "2016-07-01",
          "moving_time": 180.61666666666667,
          "start_date": "2016-07-28T12:47:21+00:00",
          "type": "Ride"
         },
         {
          "distance": 97.1977,
          "id": 655830005,
          "month": "2016-07-01",
          "moving_time": 263.1166666666667,
          "start_date": "2016-07-27T13:10:23+00:00",
          "type": "Ride"
         },
         {
          "distance": 101.664,
          "id": 654796874,
          "month": "2016-07-01",
          "moving_time": 286.5,
          "start_date": "2016-07-26T13:08:38+00:00",
          "type": "Ride"
         },
         {
          "distance": 121.092,
          "id": 654026878,
          "month": "2016-07-01",
          "moving_time": 341.5833333333333,
          "start_date": "2016-07-25T12:30:29+00:00",
          "type": "Ride"
         },
         {
          "distance": 80.68010000000001,
          "id": 652494928,
          "month": "2016-07-01",
          "moving_time": 279.0833333333333,
          "start_date": "2016-07-24T13:05:42+00:00",
          "type": "Ride"
         },
         {
          "distance": 37.0168,
          "id": 645216024,
          "month": "2016-07-01",
          "moving_time": 109.2,
          "start_date": "2016-07-17T20:17:36+00:00",
          "type": "Ride"
         },
         {
          "distance": 62.528800000000004,
          "id": 644164143,
          "month": "2016-07-01",
          "moving_time": 214.51666666666668,
          "start_date": "2016-07-16T21:08:42+00:00",
          "type": "Ride"
         },
         {
          "distance": 4.2115,
          "id": 637997865,
          "month": "2016-07-01",
          "moving_time": 24.866666666666667,
          "start_date": "2016-07-11T23:22:24+00:00",
          "type": "Run"
         },
         {
          "distance": 5.6878,
          "id": 633701175,
          "month": "2016-07-01",
          "moving_time": 33.18333333333333,
          "start_date": "2016-07-07T23:53:23+00:00",
          "type": "Run"
         },
         {
          "distance": 4.1068,
          "id": 625136477,
          "month": "2016-06-01",
          "moving_time": 21.766666666666666,
          "start_date": "2016-06-30T00:04:32+00:00",
          "type": "Run"
         },
         {
          "distance": 5.3239,
          "id": 616459061,
          "month": "2016-06-01",
          "moving_time": 29.816666666666666,
          "start_date": "2016-06-21T18:53:52+00:00",
          "type": "Run"
         },
         {
          "distance": 5.2493,
          "id": 610199424,
          "month": "2016-06-01",
          "moving_time": 30.416666666666668,
          "start_date": "2016-06-15T16:49:05+00:00",
          "type": "Run"
         },
         {
          "distance": 4.9531,
          "id": 606689778,
          "month": "2016-06-01",
          "moving_time": 31.266666666666666,
          "start_date": "2016-06-12T09:15:20+00:00",
          "type": "Run"
         },
         {
          "distance": 5.225899999999999,
          "id": 605010697,
          "month": "2016-06-01",
          "moving_time": 32.88333333333333,
          "start_date": "2016-06-10T16:42:25+00:00",
          "type": "Run"
         },
         {
          "distance": 6.1427,
          "id": 603913915,
          "month": "2016-06-01",
          "moving_time": 37.733333333333334,
          "start_date": "2016-06-09T16:12:10+00:00",
          "type": "Run"
         },
         {
          "distance": 5.1362,
          "id": 601744832,
          "month": "2016-06-01",
          "moving_time": 29.883333333333333,
          "start_date": "2016-06-07T17:07:01+00:00",
          "type": "Run"
         },
         {
          "distance": 8.448799999999999,
          "id": 600638542,
          "month": "2016-06-01",
          "moving_time": 51.78333333333333,
          "start_date": "2016-06-06T16:29:38+00:00",
          "type": "Run"
         },
         {
          "distance": 8.4285,
          "id": 594236121,
          "month": "2016-05-01",
          "moving_time": 52.53333333333333,
          "start_date": "2016-05-31T17:33:50+00:00",
          "type": "Run"
         },
         {
          "distance": 5.1952,
          "id": 592035069,
          "month": "2016-05-01",
          "moving_time": 30.5,
          "start_date": "2016-05-29T14:45:25+00:00",
          "type": "Run"
         },
         {
          "distance": 5.3718,
          "id": 589943603,
          "month": "2016-05-01",
          "moving_time": 34.1,
          "start_date": "2016-05-27T17:46:23+00:00",
          "type": "Run"
         },
         {
          "distance": 5.2078,
          "id": 588726729,
          "month": "2016-05-01",
          "moving_time": 30.883333333333333,
          "start_date": "2016-05-26T15:15:54+00:00",
          "type": "Run"
         },
         {
          "distance": 4.3303,
          "id": 580302351,
          "month": "2016-05-01",
          "moving_time": 31.483333333333334,
          "start_date": "2016-05-18T17:16:56+00:00",
          "type": "Run"
         },
         {
          "distance": 6.949199999999999,
          "id": 572773992,
          "month": "2016-05-01",
          "moving_time": 44.35,
          "start_date": "2016-05-11T16:54:19+00:00",
          "type": "Run"
         },
         {
          "distance": 5,
          "id": 571602110,
          "month": "2016-05-01",
          "moving_time": 26,
          "start_date": "2016-05-10T15:20:15+00:00",
          "type": "Run"
         },
         {
          "distance": 12.309700000000001,
          "id": 573447998,
          "month": "2016-05-01",
          "moving_time": 85.73333333333333,
          "start_date": "2016-05-10T06:02:08+00:00",
          "type": "Run"
         },
         {
          "distance": 4.387,
          "id": 564863202,
          "month": "2016-05-01",
          "moving_time": 31.183333333333334,
          "start_date": "2016-05-04T07:14:49+00:00",
          "type": "Run"
         },
         {
          "distance": 4.607399999999999,
          "id": 551367765,
          "month": "2016-04-01",
          "moving_time": 24.85,
          "start_date": "2016-04-20T15:33:28+00:00",
          "type": "Run"
         },
         {
          "distance": 5.3826,
          "id": 542264278,
          "month": "2016-04-01",
          "moving_time": 28.466666666666665,
          "start_date": "2016-04-11T14:32:21+00:00",
          "type": "Run"
         },
         {
          "distance": 5.054600000000001,
          "id": 540227487,
          "month": "2016-04-01",
          "moving_time": 31.216666666666665,
          "start_date": "2016-04-09T15:04:18+00:00",
          "type": "Run"
         },
         {
          "distance": 5.26,
          "id": 535705837,
          "month": "2016-04-01",
          "moving_time": 33.35,
          "start_date": "2016-04-04T16:39:41+00:00",
          "type": "Run"
         },
         {
          "distance": 9.464,
          "id": 530715233,
          "month": "2016-03-01",
          "moving_time": 76.66666666666667,
          "start_date": "2016-03-30T11:40:29+00:00",
          "type": "Hike"
         },
         {
          "distance": 16.9343,
          "id": 528753214,
          "month": "2016-03-01",
          "moving_time": 91.73333333333333,
          "start_date": "2016-03-28T07:20:17+00:00",
          "type": "Ride"
         },
         {
          "distance": 22.5325,
          "id": 509901190,
          "month": "2016-03-01",
          "moving_time": 87.63333333333334,
          "start_date": "2016-03-05T07:37:45+00:00",
          "type": "Ride"
         },
         {
          "distance": 5.1175,
          "id": 487959112,
          "month": "2016-02-01",
          "moving_time": 31.566666666666666,
          "start_date": "2016-02-07T11:59:22+00:00",
          "type": "Run"
         },
         {
          "distance": 2.3418,
          "id": 483575529,
          "month": "2016-02-01",
          "moving_time": 14.1,
          "start_date": "2016-02-01T16:50:50+00:00",
          "type": "Run"
         },
         {
          "distance": 3.7666,
          "id": 480500008,
          "month": "2016-01-01",
          "moving_time": 23.833333333333332,
          "start_date": "2016-01-28T16:14:12+00:00",
          "type": "Run"
         },
         {
          "distance": 2.8388,
          "id": 478209755,
          "month": "2016-01-01",
          "moving_time": 18.433333333333334,
          "start_date": "2016-01-25T15:34:54+00:00",
          "type": "Run"
         },
         {
          "distance": 4.0390999999999995,
          "id": 466584163,
          "month": "2016-01-01",
          "moving_time": 24.316666666666666,
          "start_date": "2016-01-09T16:12:44+00:00",
          "type": "Run"
         },
         {
          "distance": 23.6478,
          "id": 379208657,
          "month": "2015-08-01",
          "moving_time": 162.33333333333334,
          "start_date": "2015-08-28T07:33:35+00:00",
          "type": "Ride"
         },
         {
          "distance": 7.837899999999999,
          "id": 342029032,
          "month": "2015-07-01",
          "moving_time": 43.46666666666667,
          "start_date": "2015-07-08T23:59:27+00:00",
          "type": "Run"
         },
         {
          "distance": 7.7927,
          "id": 337260755,
          "month": "2015-07-01",
          "moving_time": 45.93333333333333,
          "start_date": "2015-07-01T23:41:52+00:00",
          "type": "Run"
         },
         {
          "distance": 4.788399999999999,
          "id": 336549318,
          "month": "2015-06-01",
          "moving_time": 30,
          "start_date": "2015-06-30T23:33:34+00:00",
          "type": "Run"
         },
         {
          "distance": 3.7946,
          "id": 332385555,
          "month": "2015-06-01",
          "moving_time": 22.133333333333333,
          "start_date": "2015-06-25T00:07:46+00:00",
          "type": "Run"
         },
         {
          "distance": 5.513,
          "id": 330395117,
          "month": "2015-06-01",
          "moving_time": 29.766666666666666,
          "start_date": "2015-06-22T00:01:35+00:00",
          "type": "Run"
         },
         {
          "distance": 5.0796,
          "id": 337030804,
          "month": "2015-06-01",
          "moving_time": 36.56666666666667,
          "start_date": "2015-06-20T14:41:10+00:00",
          "type": "Run"
         },
         {
          "distance": 6.178100000000001,
          "id": 330427930,
          "month": "2015-06-01",
          "moving_time": 38.766666666666666,
          "start_date": "2015-06-18T00:03:14+00:00",
          "type": "Run"
         },
         {
          "distance": 6.083699999999999,
          "id": 326290110,
          "month": "2015-06-01",
          "moving_time": 36.7,
          "start_date": "2015-06-15T23:22:16+00:00",
          "type": "Run"
         },
         {
          "distance": 5.5671,
          "id": 325710652,
          "month": "2015-06-01",
          "moving_time": 32.28333333333333,
          "start_date": "2015-06-15T00:21:39+00:00",
          "type": "Run"
         },
         {
          "distance": 4.8355,
          "id": 325737250,
          "month": "2015-06-01",
          "moving_time": 27.116666666666667,
          "start_date": "2015-06-13T00:20:07+00:00",
          "type": "Run"
         },
         {
          "distance": 6.8258,
          "id": 319860155,
          "month": "2015-06-01",
          "moving_time": 39.18333333333333,
          "start_date": "2015-06-06T21:16:25+00:00",
          "type": "Run"
         },
         {
          "distance": 6.1389,
          "id": 317069693,
          "month": "2015-06-01",
          "moving_time": 32.75,
          "start_date": "2015-06-02T23:17:49+00:00",
          "type": "Run"
         },
         {
          "distance": 18.0748,
          "id": 315627067,
          "month": "2015-05-01",
          "moving_time": 68.05,
          "start_date": "2015-05-31T15:14:58+00:00",
          "type": "Ride"
         },
         {
          "distance": 10.2172,
          "id": 313886835,
          "month": "2015-05-01",
          "moving_time": 64.85,
          "start_date": "2015-05-28T23:36:13+00:00",
          "type": "Run"
         },
         {
          "distance": 19.9844,
          "id": 310121541,
          "month": "2015-05-01",
          "moving_time": 52.88333333333333,
          "start_date": "2015-05-23T14:54:28+00:00",
          "type": "Ride"
         },
         {
          "distance": 5.01,
          "id": 309158613,
          "month": "2015-05-01",
          "moving_time": 28.25,
          "start_date": "2015-05-21T23:13:51+00:00",
          "type": "Run"
         },
         {
          "distance": 9.619399999999999,
          "id": 306812528,
          "month": "2015-05-01",
          "moving_time": 63.6,
          "start_date": "2015-05-17T17:14:27+00:00",
          "type": "Run"
         },
         {
          "distance": 6.6388,
          "id": 304079340,
          "month": "2015-05-01",
          "moving_time": 44.06666666666667,
          "start_date": "2015-05-13T23:37:33+00:00",
          "type": "Run"
         },
         {
          "distance": 18.223200000000002,
          "id": 301274333,
          "month": "2015-05-01",
          "moving_time": 54.85,
          "start_date": "2015-05-09T19:08:04+00:00",
          "type": "Ride"
         },
         {
          "distance": 16.6992,
          "id": 301111462,
          "month": "2015-05-01",
          "moving_time": 48.63333333333333,
          "start_date": "2015-05-09T15:02:57+00:00",
          "type": "Ride"
         },
         {
          "distance": 7.0637,
          "id": 299555682,
          "month": "2015-05-01",
          "moving_time": 37.85,
          "start_date": "2015-05-06T23:49:20+00:00",
          "type": "Run"
         },
         {
          "distance": 5.9479,
          "id": 298327429,
          "month": "2015-05-01",
          "moving_time": 32.28333333333333,
          "start_date": "2015-05-04T23:27:36+00:00",
          "type": "Run"
         },
         {
          "distance": 15.0481,
          "id": 297676571,
          "month": "2015-05-01",
          "moving_time": 51,
          "start_date": "2015-05-03T22:24:07+00:00",
          "type": "Ride"
         },
         {
          "distance": 8.8698,
          "id": 296571535,
          "month": "2015-05-01",
          "moving_time": 49.53333333333333,
          "start_date": "2015-05-02T12:04:40+00:00",
          "type": "Run"
         },
         {
          "distance": 4.871899999999999,
          "id": 294515000,
          "month": "2015-04-01",
          "moving_time": 25.816666666666666,
          "start_date": "2015-04-29T00:22:05+00:00",
          "type": "Run"
         },
         {
          "distance": 35.1293,
          "id": 293238627,
          "month": "2015-04-01",
          "moving_time": 89.1,
          "start_date": "2015-04-26T19:05:07+00:00",
          "type": "Ride"
         },
         {
          "distance": 5.497,
          "id": 291409727,
          "month": "2015-04-01",
          "moving_time": 26.85,
          "start_date": "2015-04-24T00:23:38+00:00",
          "type": "Run"
         },
         {
          "distance": 6.1944,
          "id": 288669491,
          "month": "2015-04-01",
          "moving_time": 33.38333333333333,
          "start_date": "2015-04-19T17:12:02+00:00",
          "type": "Run"
         },
         {
          "distance": 5.8785,
          "id": 276170382,
          "month": "2015-03-01",
          "moving_time": 31.216666666666665,
          "start_date": "2015-03-29T22:11:48+00:00",
          "type": "Run"
         },
         {
          "distance": 5.7158999999999995,
          "id": 272577441,
          "month": "2015-03-01",
          "moving_time": 31.3,
          "start_date": "2015-03-22T20:20:38+00:00",
          "type": "Run"
         },
         {
          "distance": 3.84,
          "id": 242976359,
          "month": "2015-01-01",
          "moving_time": 20.216666666666665,
          "start_date": "2015-01-18T21:47:10+00:00",
          "type": "Run"
         },
         {
          "distance": 4.0248,
          "id": 233931335,
          "month": "2014-12-01",
          "moving_time": 19.55,
          "start_date": "2014-12-28T20:39:46+00:00",
          "type": "Run"
         },
         {
          "distance": 3.9454000000000002,
          "id": 231114331,
          "month": "2014-12-01",
          "moving_time": 20.116666666666667,
          "start_date": "2014-12-20T15:18:16+00:00",
          "type": "Run"
         },
         {
          "distance": 10.9236,
          "id": 221967362,
          "month": "2014-11-01",
          "moving_time": 73.71666666666667,
          "start_date": "2014-11-22T14:55:16+00:00",
          "type": "Run"
         },
         {
          "distance": 6.5333000000000006,
          "id": 220009577,
          "month": "2014-11-01",
          "moving_time": 42.36666666666667,
          "start_date": "2014-11-16T19:21:21+00:00",
          "type": "Run"
         },
         {
          "distance": 8.7202,
          "id": 217550724,
          "month": "2014-11-01",
          "moving_time": 47.333333333333336,
          "start_date": "2014-11-09T22:20:07+00:00",
          "type": "Run"
         },
         {
          "distance": 5.3953999999999995,
          "id": 214387348,
          "month": "2014-11-01",
          "moving_time": 28.716666666666665,
          "start_date": "2014-11-01T21:09:47+00:00",
          "type": "Run"
         },
         {
          "distance": 5.6373,
          "id": 212426253,
          "month": "2014-10-01",
          "moving_time": 29.683333333333334,
          "start_date": "2014-10-27T18:34:08+00:00",
          "type": "Run"
         },
         {
          "distance": 6.0808,
          "id": 211580974,
          "month": "2014-10-01",
          "moving_time": 33.06666666666667,
          "start_date": "2014-10-25T19:39:58+00:00",
          "type": "Run"
         },
         {
          "distance": 7.1241,
          "id": 158212137,
          "month": "2014-06-01",
          "moving_time": 42.233333333333334,
          "start_date": "2014-06-25T23:41:17+00:00",
          "type": "Run"
         },
         {
          "distance": 4.1494,
          "id": 154879009,
          "month": "2014-06-01",
          "moving_time": 23.333333333333332,
          "start_date": "2014-06-17T23:30:20+00:00",
          "type": "Run"
         },
         {
          "distance": 52.303599999999996,
          "id": 153477386,
          "month": "2014-06-01",
          "moving_time": 137.9,
          "start_date": "2014-06-14T13:53:01+00:00",
          "type": "Ride"
         },
         {
          "distance": 5.5605,
          "id": 152050291,
          "month": "2014-06-01",
          "moving_time": 29.5,
          "start_date": "2014-06-11T00:02:10+00:00",
          "type": "Run"
         },
         {
          "distance": 4.5693,
          "id": 142366419,
          "month": "2014-05-01",
          "moving_time": 22.883333333333333,
          "start_date": "2014-05-17T23:11:26+00:00",
          "type": "Run"
         },
         {
          "distance": 6.1624,
          "id": 119230806,
          "month": "2014-03-01",
          "moving_time": 31.366666666666667,
          "start_date": "2014-03-09T21:10:31+00:00",
          "type": "Run"
         },
         {
          "distance": 49.3257,
          "id": 75889415,
          "month": "2013-08-01",
          "moving_time": 113.56666666666666,
          "start_date": "2013-08-19T09:49:55+00:00",
          "type": "Ride"
         },
         {
          "distance": 67.1394,
          "id": 75316763,
          "month": "2013-08-01",
          "moving_time": 155.51666666666668,
          "start_date": "2013-08-17T08:02:32+00:00",
          "type": "Ride"
         },
         {
          "distance": 59.5575,
          "id": 75090829,
          "month": "2013-08-01",
          "moving_time": 128.83333333333334,
          "start_date": "2013-08-16T09:23:16+00:00",
          "type": "Ride"
         },
         {
          "distance": 50.9542,
          "id": 74626892,
          "month": "2013-08-01",
          "moving_time": 124.25,
          "start_date": "2013-08-14T10:10:20+00:00",
          "type": "Ride"
         },
         {
          "distance": 108.548,
          "id": 73478411,
          "month": "2013-08-01",
          "moving_time": 269.56666666666666,
          "start_date": "2013-08-09T21:46:58+00:00",
          "type": "Ride"
         },
         {
          "distance": 61.1785,
          "id": 72857400,
          "month": "2013-08-01",
          "moving_time": 137.06666666666666,
          "start_date": "2013-08-07T09:38:29+00:00",
          "type": "Ride"
         },
         {
          "distance": 59.3085,
          "id": 72579431,
          "month": "2013-08-01",
          "moving_time": 134.46666666666667,
          "start_date": "2013-08-06T09:28:25+00:00",
          "type": "Ride"
         },
         {
          "distance": 104.096,
          "id": 72018730,
          "month": "2013-08-01",
          "moving_time": 257.05,
          "start_date": "2013-08-03T21:37:53+00:00",
          "type": "Ride"
         },
         {
          "distance": 55.532599999999995,
          "id": 71833963,
          "month": "2013-08-01",
          "moving_time": 126.25,
          "start_date": "2013-08-03T04:38:41+00:00",
          "type": "Ride"
         },
         {
          "distance": 11.02,
          "id": 63662932,
          "month": "2013-06-01",
          "moving_time": 58.8,
          "start_date": "2013-06-29T21:59:14+00:00",
          "type": "Run"
         },
         {
          "distance": 18.8258,
          "id": 63313297,
          "month": "2013-06-01",
          "moving_time": 45.13333333333333,
          "start_date": "2013-06-28T01:21:01+00:00",
          "type": "Ride"
         },
         {
          "distance": 74.3828,
          "id": 63312774,
          "month": "2013-06-01",
          "moving_time": 187.16666666666666,
          "start_date": "2013-06-27T21:19:08+00:00",
          "type": "Ride"
         },
         {
          "distance": 8.7426,
          "id": 62655429,
          "month": "2013-06-01",
          "moving_time": 45.083333333333336,
          "start_date": "2013-06-25T00:23:15+00:00",
          "type": "Run"
         },
         {
          "distance": 10.495899999999999,
          "id": 62196957,
          "month": "2013-06-01",
          "moving_time": 58.55,
          "start_date": "2013-06-22T23:39:05+00:00",
          "type": "Run"
         },
         {
          "distance": 30.1029,
          "id": 61979583,
          "month": "2013-06-01",
          "moving_time": 78.03333333333333,
          "start_date": "2013-06-21T20:30:27+00:00",
          "type": "Ride"
         },
         {
          "distance": 7.6546,
          "id": 61312377,
          "month": "2013-06-01",
          "moving_time": 39.56666666666667,
          "start_date": "2013-06-18T23:47:37+00:00",
          "type": "Run"
         },
         {
          "distance": 31.765,
          "id": 61040219,
          "month": "2013-06-01",
          "moving_time": 74.16666666666667,
          "start_date": "2013-06-17T22:01:43+00:00",
          "type": "Ride"
         },
         {
          "distance": 7.065300000000001,
          "id": 60169031,
          "month": "2013-06-01",
          "moving_time": 36.85,
          "start_date": "2013-06-13T20:22:17+00:00",
          "type": "Run"
         },
         {
          "distance": 38.2866,
          "id": 56499507,
          "month": "2013-05-01",
          "moving_time": 106.95,
          "start_date": "2013-05-26T19:08:43+00:00",
          "type": "Ride"
         },
         {
          "distance": 8.4716,
          "id": 508961092,
          "month": "2013-03-01",
          "moving_time": 45.266666666666666,
          "start_date": "2013-03-06T03:38:23+00:00",
          "type": "Run"
         }
        ]
       },
       "encoding": {
        "color": {
         "field": "type",
         "type": "nominal"
        },
        "tooltip": [
         {
          "field": "month",
          "type": "nominal"
         },
         {
          "field": "type",
          "type": "nominal"
         },
         {
          "aggregate": "count",
          "field": "id",
          "type": "quantitative"
         }
        ],
        "x": {
         "field": "month",
         "type": "nominal"
        },
        "y": {
         "aggregate": "count",
         "field": "id",
         "type": "quantitative"
        }
       },
       "mark": "bar",
       "selection": {
        "selector005": {
         "bind": "scales",
         "encodings": [
          "x",
          "y"
         ],
         "mark": {
          "fill": "#333",
          "fillOpacity": 0.125,
          "stroke": "white"
         },
         "on": "[mousedown, window:mouseup] > window:mousemove!",
         "resolve": "global",
         "translate": "[mousedown, window:mouseup] > window:mousemove!",
         "type": "interval",
         "zoom": "wheel!"
        }
       },
       "title": "Activities over Time"
      },
      "image/png": "[encoded data removed]",
      "text/plain": [
       "<VegaLite 2 object>\n",
       "\n",
       "If you see this message, it means the renderer has not been properly enabled\n",
       "for the frontend that you are using. For more information, see\n",
       "https://altair-viz.github.io/user_guide/troubleshooting.html\n"
      ]
     },
     "execution_count": 35,
     "metadata": {},
     "output_type": "execute_result"
    }
   ],
   "source": [
    "data = df[['id','type','start_date','distance','moving_time']]\n",
    "data.loc[:,'month'] = data.start_date.dt.strftime('%Y-%m-01')\n",
    "\n",
    "chart = alt.Chart(data).mark_bar().encode(\n",
    "    x='month',\n",
    "    y='count(id)',\n",
    "    color='type',\n",
    "    tooltip=['month','type','count(id)']\n",
    ").interactive()\n",
    "\n",
    "chart.title = 'Activities over Time'\n",
    "\n",
    "chart"
   ]
  },
  {
   "cell_type": "code",
   "execution_count": 36,
   "metadata": {},
   "outputs": [
    {
     "name": "stderr",
     "output_type": "stream",
     "text": [
      "C:\\Users\\Kain\\Anaconda3\\lib\\site-packages\\altair\\utils\\core.py:284: FutureWarning: A future version of pandas will default to `skipna=True`. To silence this warning, pass `skipna=True|False` explicitly.\n",
      "  attrs['type'] = infer_vegalite_type(data[attrs['field']])\n"
     ]
    },
    {
     "data": {
      "application/vnd.vegalite.v2+json": {
       "$schema": "https://vega.github.io/schema/vega-lite/v2.6.0.json",
       "config": {
        "view": {
         "height": 300,
         "width": 400
        }
       },
       "datasets": {
        "data-25229845250fd42a7db78b8e0e89769d": [
         {
          "distance": 6.2,
          "id": 2202041286,
          "moving_time": 31,
          "start_date_month": 3,
          "type": "Run"
         },
         {
          "distance": 6.6597,
          "id": 2199821385,
          "moving_time": 50.85,
          "start_date_month": 3,
          "type": "Run"
         },
         {
          "distance": 5.151,
          "id": 2189067328,
          "moving_time": 37.96666666666667,
          "start_date_month": 3,
          "type": "Run"
         },
         {
          "distance": 5.257,
          "id": 2172868994,
          "moving_time": 41.333333333333336,
          "start_date_month": 2,
          "type": "Run"
         },
         {
          "distance": 41.0807,
          "id": 2169790470,
          "moving_time": 122,
          "start_date_month": 2,
          "type": "Ride"
         },
         {
          "distance": 7,
          "id": 2075494711,
          "moving_time": 34,
          "start_date_month": 1,
          "type": "Run"
         },
         {
          "distance": 5.5199,
          "id": 2060397406,
          "moving_time": 40.63333333333333,
          "start_date_month": 1,
          "type": "Run"
         },
         {
          "distance": 30.3659,
          "id": 1902102990,
          "moving_time": 89.71666666666667,
          "start_date_month": 10,
          "type": "Ride"
         },
         {
          "distance": 10.6533,
          "id": 1873051986,
          "moving_time": 58.95,
          "start_date_month": 9,
          "type": "Run"
         },
         {
          "distance": 5.3327,
          "id": 1869415210,
          "moving_time": 27.3,
          "start_date_month": 9,
          "type": "Run"
         },
         {
          "distance": 5.3609,
          "id": 1848183751,
          "moving_time": 26.966666666666665,
          "start_date_month": 9,
          "type": "Run"
         },
         {
          "distance": 6.5485,
          "id": 1832664190,
          "moving_time": 32.25,
          "start_date_month": 9,
          "type": "Run"
         },
         {
          "distance": 7.1803,
          "id": 1819405951,
          "moving_time": 37,
          "start_date_month": 9,
          "type": "Run"
         },
         {
          "distance": 5.595,
          "id": 1812167178,
          "moving_time": 28.866666666666667,
          "start_date_month": 9,
          "type": "Run"
         },
         {
          "distance": 6.2947,
          "id": 1769961402,
          "moving_time": 31.416666666666668,
          "start_date_month": 8,
          "type": "Run"
         },
         {
          "distance": 2.5019,
          "id": 1768039547,
          "moving_time": 13.433333333333334,
          "start_date_month": 8,
          "type": "Run"
         },
         {
          "distance": 36.037699999999994,
          "id": 1765463698,
          "moving_time": 103.41666666666667,
          "start_date_month": 8,
          "type": "Ride"
         },
         {
          "distance": 7.917,
          "id": 1758937255,
          "moving_time": 39.8,
          "start_date_month": 8,
          "type": "Run"
         },
         {
          "distance": 6.4848,
          "id": 1754313991,
          "moving_time": 34.05,
          "start_date_month": 8,
          "type": "Run"
         },
         {
          "distance": 4.2233,
          "id": 1722778792,
          "moving_time": 23.933333333333334,
          "start_date_month": 7,
          "type": "Run"
         },
         {
          "distance": 8.158199999999999,
          "id": 1718082089,
          "moving_time": 44.55,
          "start_date_month": 7,
          "type": "Run"
         },
         {
          "distance": 7.833699999999999,
          "id": 1702448290,
          "moving_time": 40.71666666666667,
          "start_date_month": 7,
          "type": "Run"
         },
         {
          "distance": 6.0011,
          "id": 1678605231,
          "moving_time": 31.15,
          "start_date_month": 7,
          "type": "Run"
         },
         {
          "distance": 4.2786,
          "id": 1656109943,
          "moving_time": 23.933333333333334,
          "start_date_month": 6,
          "type": "Run"
         },
         {
          "distance": 5.565,
          "id": 1615106319,
          "moving_time": 28.4,
          "start_date_month": 6,
          "type": "Run"
         },
         {
          "distance": 5.6789,
          "id": 1608680116,
          "moving_time": 29.666666666666668,
          "start_date_month": 5,
          "type": "Run"
         },
         {
          "distance": 4.165,
          "id": 1602018981,
          "moving_time": 21.75,
          "start_date_month": 5,
          "type": "Run"
         },
         {
          "distance": 5.1145,
          "id": 1600086877,
          "moving_time": 26.916666666666668,
          "start_date_month": 5,
          "type": "Run"
         },
         {
          "distance": 6,
          "id": 1595253579,
          "moving_time": 31.966666666666665,
          "start_date_month": 5,
          "type": "Run"
         },
         {
          "distance": 8.1867,
          "id": 1573271998,
          "moving_time": 47.25,
          "start_date_month": 5,
          "type": "Run"
         },
         {
          "distance": 5.0622,
          "id": 1568513925,
          "moving_time": 71.68333333333334,
          "start_date_month": 5,
          "type": "Hike"
         },
         {
          "distance": 4.5854,
          "id": 1518378517,
          "moving_time": 24.316666666666666,
          "start_date_month": 4,
          "type": "Run"
         },
         {
          "distance": 4.5342,
          "id": 1510885071,
          "moving_time": 23.483333333333334,
          "start_date_month": 4,
          "type": "Run"
         },
         {
          "distance": 40.0125,
          "id": 1507489235,
          "moving_time": 104.51666666666667,
          "start_date_month": 4,
          "type": "Ride"
         },
         {
          "distance": 26.143900000000002,
          "id": 1494936767,
          "moving_time": 81.58333333333333,
          "start_date_month": 4,
          "type": "Ride"
         },
         {
          "distance": 5.557300000000001,
          "id": 1485983415,
          "moving_time": 28.766666666666666,
          "start_date_month": 4,
          "type": "Run"
         },
         {
          "distance": 5.9717,
          "id": 1481527978,
          "moving_time": 34.46666666666667,
          "start_date_month": 3,
          "type": "Run"
         },
         {
          "distance": 4.0501,
          "id": 1478637305,
          "moving_time": 20.483333333333334,
          "start_date_month": 3,
          "type": "Run"
         },
         {
          "distance": 5.109,
          "id": 1470467201,
          "moving_time": 24.766666666666666,
          "start_date_month": 3,
          "type": "Run"
         },
         {
          "distance": 7.0409,
          "id": 1459406814,
          "moving_time": 39.63333333333333,
          "start_date_month": 3,
          "type": "Run"
         },
         {
          "distance": 6.3735,
          "id": 1447706570,
          "moving_time": 43.333333333333336,
          "start_date_month": 3,
          "type": "Run"
         },
         {
          "distance": 6.348,
          "id": 1439152306,
          "moving_time": 16.9,
          "start_date_month": 3,
          "type": "AlpineSki"
         },
         {
          "distance": 6.1541999999999994,
          "id": 1243691739,
          "moving_time": 31.383333333333333,
          "start_date_month": 10,
          "type": "Run"
         },
         {
          "distance": 5.4138,
          "id": 1236411824,
          "moving_time": 27.75,
          "start_date_month": 10,
          "type": "Run"
         },
         {
          "distance": 5.986800000000001,
          "id": 1231742829,
          "moving_time": 30.233333333333334,
          "start_date_month": 10,
          "type": "Run"
         },
         {
          "distance": 8.797,
          "id": 1220350726,
          "moving_time": 57.416666666666664,
          "start_date_month": 10,
          "type": "Run"
         },
         {
          "distance": 4.6016,
          "id": 1180785806,
          "moving_time": 24.866666666666667,
          "start_date_month": 9,
          "type": "Run"
         },
         {
          "distance": 5.9577,
          "id": 1168340670,
          "moving_time": 31.6,
          "start_date_month": 9,
          "type": "Run"
         },
         {
          "distance": 7.817399999999999,
          "id": 1166527379,
          "moving_time": 42.36666666666667,
          "start_date_month": 9,
          "type": "Run"
         },
         {
          "distance": 7.1926000000000005,
          "id": 1161701515,
          "moving_time": 38.983333333333334,
          "start_date_month": 8,
          "type": "Run"
         },
         {
          "distance": 7.9233,
          "id": 1158568544,
          "moving_time": 41.36666666666667,
          "start_date_month": 8,
          "type": "Run"
         },
         {
          "distance": 6.2067,
          "id": 1155346588,
          "moving_time": 31.9,
          "start_date_month": 8,
          "type": "Run"
         },
         {
          "distance": 6.0473,
          "id": 1151711545,
          "moving_time": 36.11666666666667,
          "start_date_month": 8,
          "type": "Run"
         },
         {
          "distance": 5.7546,
          "id": 1148457766,
          "moving_time": 29.1,
          "start_date_month": 8,
          "type": "Run"
         },
         {
          "distance": 5.7173,
          "id": 1141382702,
          "moving_time": 32.81666666666667,
          "start_date_month": 8,
          "type": "Run"
         },
         {
          "distance": 6.0717,
          "id": 1125291234,
          "moving_time": 34.016666666666666,
          "start_date_month": 8,
          "type": "Run"
         },
         {
          "distance": 6.220899999999999,
          "id": 1122020885,
          "moving_time": 31.7,
          "start_date_month": 8,
          "type": "Run"
         },
         {
          "distance": 7.8012,
          "id": 1097956892,
          "moving_time": 39.46666666666667,
          "start_date_month": 7,
          "type": "Run"
         },
         {
          "distance": 8.4419,
          "id": 1094471366,
          "moving_time": 48.31666666666667,
          "start_date_month": 7,
          "type": "Run"
         },
         {
          "distance": 43.8861,
          "id": 1073325448,
          "moving_time": 157.91666666666666,
          "start_date_month": 7,
          "type": "Ride"
         },
         {
          "distance": 6.1832,
          "id": 1047510194,
          "moving_time": 35.85,
          "start_date_month": 6,
          "type": "Run"
         },
         {
          "distance": 1.0575,
          "id": 1042731925,
          "moving_time": 4.7,
          "start_date_month": 6,
          "type": "Run"
         },
         {
          "distance": 6.841600000000001,
          "id": 1042698985,
          "moving_time": 35.733333333333334,
          "start_date_month": 6,
          "type": "Run"
         },
         {
          "distance": 6.2395,
          "id": 1041055453,
          "moving_time": 33.25,
          "start_date_month": 6,
          "type": "Run"
         },
         {
          "distance": 6.373600000000001,
          "id": 1031510189,
          "moving_time": 34.083333333333336,
          "start_date_month": 6,
          "type": "Run"
         },
         {
          "distance": 7.2009,
          "id": 1029928575,
          "moving_time": 41.53333333333333,
          "start_date_month": 6,
          "type": "Run"
         },
         {
          "distance": 4.327100000000001,
          "id": 1022228974,
          "moving_time": 23.5,
          "start_date_month": 6,
          "type": "Run"
         },
         {
          "distance": 4.1453999999999995,
          "id": 984934815,
          "moving_time": 23.25,
          "start_date_month": 5,
          "type": "Run"
         },
         {
          "distance": 5.9243999999999994,
          "id": 944898454,
          "moving_time": 31.566666666666666,
          "start_date_month": 4,
          "type": "Run"
         },
         {
          "distance": 3.1517,
          "id": 920925917,
          "moving_time": 18,
          "start_date_month": 3,
          "type": "Run"
         },
         {
          "distance": 4.1197,
          "id": 817262248,
          "moving_time": 24.75,
          "start_date_month": 12,
          "type": "Run"
         },
         {
          "distance": 7.0056,
          "id": 815054880,
          "moving_time": 42.46666666666667,
          "start_date_month": 12,
          "type": "Run"
         },
         {
          "distance": 3.6607,
          "id": 747705664,
          "moving_time": 22.066666666666666,
          "start_date_month": 10,
          "type": "Run"
         },
         {
          "distance": 4.9672,
          "id": 727921866,
          "moving_time": 33.166666666666664,
          "start_date_month": 9,
          "type": "Run"
         },
         {
          "distance": 5.0047,
          "id": 720027140,
          "moving_time": 27.416666666666668,
          "start_date_month": 9,
          "type": "Run"
         },
         {
          "distance": 3.7466,
          "id": 672812022,
          "moving_time": 21.4,
          "start_date_month": 8,
          "type": "Run"
         },
         {
          "distance": 4.815,
          "id": 670638874,
          "moving_time": 27.75,
          "start_date_month": 8,
          "type": "Run"
         },
         {
          "distance": 50.714800000000004,
          "id": 667134427,
          "moving_time": 180.96666666666667,
          "start_date_month": 8,
          "type": "Ride"
         },
         {
          "distance": 4.1044,
          "id": 665821624,
          "moving_time": 23.116666666666667,
          "start_date_month": 8,
          "type": "Run"
         },
         {
          "distance": 4.2125,
          "id": 663726297,
          "moving_time": 26.65,
          "start_date_month": 8,
          "type": "Run"
         },
         {
          "distance": 115.539,
          "id": 657891093,
          "moving_time": 297,
          "start_date_month": 7,
          "type": "Ride"
         },
         {
          "distance": 64.5434,
          "id": 656956785,
          "moving_time": 180.61666666666667,
          "start_date_month": 7,
          "type": "Ride"
         },
         {
          "distance": 97.1977,
          "id": 655830005,
          "moving_time": 263.1166666666667,
          "start_date_month": 7,
          "type": "Ride"
         },
         {
          "distance": 101.664,
          "id": 654796874,
          "moving_time": 286.5,
          "start_date_month": 7,
          "type": "Ride"
         },
         {
          "distance": 121.092,
          "id": 654026878,
          "moving_time": 341.5833333333333,
          "start_date_month": 7,
          "type": "Ride"
         },
         {
          "distance": 80.68010000000001,
          "id": 652494928,
          "moving_time": 279.0833333333333,
          "start_date_month": 7,
          "type": "Ride"
         },
         {
          "distance": 37.0168,
          "id": 645216024,
          "moving_time": 109.2,
          "start_date_month": 7,
          "type": "Ride"
         },
         {
          "distance": 62.528800000000004,
          "id": 644164143,
          "moving_time": 214.51666666666668,
          "start_date_month": 7,
          "type": "Ride"
         },
         {
          "distance": 4.2115,
          "id": 637997865,
          "moving_time": 24.866666666666667,
          "start_date_month": 7,
          "type": "Run"
         },
         {
          "distance": 5.6878,
          "id": 633701175,
          "moving_time": 33.18333333333333,
          "start_date_month": 7,
          "type": "Run"
         },
         {
          "distance": 4.1068,
          "id": 625136477,
          "moving_time": 21.766666666666666,
          "start_date_month": 6,
          "type": "Run"
         },
         {
          "distance": 5.3239,
          "id": 616459061,
          "moving_time": 29.816666666666666,
          "start_date_month": 6,
          "type": "Run"
         },
         {
          "distance": 5.2493,
          "id": 610199424,
          "moving_time": 30.416666666666668,
          "start_date_month": 6,
          "type": "Run"
         },
         {
          "distance": 4.9531,
          "id": 606689778,
          "moving_time": 31.266666666666666,
          "start_date_month": 6,
          "type": "Run"
         },
         {
          "distance": 5.225899999999999,
          "id": 605010697,
          "moving_time": 32.88333333333333,
          "start_date_month": 6,
          "type": "Run"
         },
         {
          "distance": 6.1427,
          "id": 603913915,
          "moving_time": 37.733333333333334,
          "start_date_month": 6,
          "type": "Run"
         },
         {
          "distance": 5.1362,
          "id": 601744832,
          "moving_time": 29.883333333333333,
          "start_date_month": 6,
          "type": "Run"
         },
         {
          "distance": 8.448799999999999,
          "id": 600638542,
          "moving_time": 51.78333333333333,
          "start_date_month": 6,
          "type": "Run"
         },
         {
          "distance": 8.4285,
          "id": 594236121,
          "moving_time": 52.53333333333333,
          "start_date_month": 5,
          "type": "Run"
         },
         {
          "distance": 5.1952,
          "id": 592035069,
          "moving_time": 30.5,
          "start_date_month": 5,
          "type": "Run"
         },
         {
          "distance": 5.3718,
          "id": 589943603,
          "moving_time": 34.1,
          "start_date_month": 5,
          "type": "Run"
         },
         {
          "distance": 5.2078,
          "id": 588726729,
          "moving_time": 30.883333333333333,
          "start_date_month": 5,
          "type": "Run"
         },
         {
          "distance": 4.3303,
          "id": 580302351,
          "moving_time": 31.483333333333334,
          "start_date_month": 5,
          "type": "Run"
         },
         {
          "distance": 6.949199999999999,
          "id": 572773992,
          "moving_time": 44.35,
          "start_date_month": 5,
          "type": "Run"
         },
         {
          "distance": 5,
          "id": 571602110,
          "moving_time": 26,
          "start_date_month": 5,
          "type": "Run"
         },
         {
          "distance": 12.309700000000001,
          "id": 573447998,
          "moving_time": 85.73333333333333,
          "start_date_month": 5,
          "type": "Run"
         },
         {
          "distance": 4.387,
          "id": 564863202,
          "moving_time": 31.183333333333334,
          "start_date_month": 5,
          "type": "Run"
         },
         {
          "distance": 4.607399999999999,
          "id": 551367765,
          "moving_time": 24.85,
          "start_date_month": 4,
          "type": "Run"
         },
         {
          "distance": 5.3826,
          "id": 542264278,
          "moving_time": 28.466666666666665,
          "start_date_month": 4,
          "type": "Run"
         },
         {
          "distance": 5.054600000000001,
          "id": 540227487,
          "moving_time": 31.216666666666665,
          "start_date_month": 4,
          "type": "Run"
         },
         {
          "distance": 5.26,
          "id": 535705837,
          "moving_time": 33.35,
          "start_date_month": 4,
          "type": "Run"
         },
         {
          "distance": 9.464,
          "id": 530715233,
          "moving_time": 76.66666666666667,
          "start_date_month": 3,
          "type": "Hike"
         },
         {
          "distance": 16.9343,
          "id": 528753214,
          "moving_time": 91.73333333333333,
          "start_date_month": 3,
          "type": "Ride"
         },
         {
          "distance": 22.5325,
          "id": 509901190,
          "moving_time": 87.63333333333334,
          "start_date_month": 3,
          "type": "Ride"
         },
         {
          "distance": 5.1175,
          "id": 487959112,
          "moving_time": 31.566666666666666,
          "start_date_month": 2,
          "type": "Run"
         },
         {
          "distance": 2.3418,
          "id": 483575529,
          "moving_time": 14.1,
          "start_date_month": 2,
          "type": "Run"
         },
         {
          "distance": 3.7666,
          "id": 480500008,
          "moving_time": 23.833333333333332,
          "start_date_month": 1,
          "type": "Run"
         },
         {
          "distance": 2.8388,
          "id": 478209755,
          "moving_time": 18.433333333333334,
          "start_date_month": 1,
          "type": "Run"
         },
         {
          "distance": 4.0390999999999995,
          "id": 466584163,
          "moving_time": 24.316666666666666,
          "start_date_month": 1,
          "type": "Run"
         },
         {
          "distance": 23.6478,
          "id": 379208657,
          "moving_time": 162.33333333333334,
          "start_date_month": 8,
          "type": "Ride"
         },
         {
          "distance": 7.837899999999999,
          "id": 342029032,
          "moving_time": 43.46666666666667,
          "start_date_month": 7,
          "type": "Run"
         },
         {
          "distance": 7.7927,
          "id": 337260755,
          "moving_time": 45.93333333333333,
          "start_date_month": 7,
          "type": "Run"
         },
         {
          "distance": 4.788399999999999,
          "id": 336549318,
          "moving_time": 30,
          "start_date_month": 6,
          "type": "Run"
         },
         {
          "distance": 3.7946,
          "id": 332385555,
          "moving_time": 22.133333333333333,
          "start_date_month": 6,
          "type": "Run"
         },
         {
          "distance": 5.513,
          "id": 330395117,
          "moving_time": 29.766666666666666,
          "start_date_month": 6,
          "type": "Run"
         },
         {
          "distance": 5.0796,
          "id": 337030804,
          "moving_time": 36.56666666666667,
          "start_date_month": 6,
          "type": "Run"
         },
         {
          "distance": 6.178100000000001,
          "id": 330427930,
          "moving_time": 38.766666666666666,
          "start_date_month": 6,
          "type": "Run"
         },
         {
          "distance": 6.083699999999999,
          "id": 326290110,
          "moving_time": 36.7,
          "start_date_month": 6,
          "type": "Run"
         },
         {
          "distance": 5.5671,
          "id": 325710652,
          "moving_time": 32.28333333333333,
          "start_date_month": 6,
          "type": "Run"
         },
         {
          "distance": 4.8355,
          "id": 325737250,
          "moving_time": 27.116666666666667,
          "start_date_month": 6,
          "type": "Run"
         },
         {
          "distance": 6.8258,
          "id": 319860155,
          "moving_time": 39.18333333333333,
          "start_date_month": 6,
          "type": "Run"
         },
         {
          "distance": 6.1389,
          "id": 317069693,
          "moving_time": 32.75,
          "start_date_month": 6,
          "type": "Run"
         },
         {
          "distance": 18.0748,
          "id": 315627067,
          "moving_time": 68.05,
          "start_date_month": 5,
          "type": "Ride"
         },
         {
          "distance": 10.2172,
          "id": 313886835,
          "moving_time": 64.85,
          "start_date_month": 5,
          "type": "Run"
         },
         {
          "distance": 19.9844,
          "id": 310121541,
          "moving_time": 52.88333333333333,
          "start_date_month": 5,
          "type": "Ride"
         },
         {
          "distance": 5.01,
          "id": 309158613,
          "moving_time": 28.25,
          "start_date_month": 5,
          "type": "Run"
         },
         {
          "distance": 9.619399999999999,
          "id": 306812528,
          "moving_time": 63.6,
          "start_date_month": 5,
          "type": "Run"
         },
         {
          "distance": 6.6388,
          "id": 304079340,
          "moving_time": 44.06666666666667,
          "start_date_month": 5,
          "type": "Run"
         },
         {
          "distance": 18.223200000000002,
          "id": 301274333,
          "moving_time": 54.85,
          "start_date_month": 5,
          "type": "Ride"
         },
         {
          "distance": 16.6992,
          "id": 301111462,
          "moving_time": 48.63333333333333,
          "start_date_month": 5,
          "type": "Ride"
         },
         {
          "distance": 7.0637,
          "id": 299555682,
          "moving_time": 37.85,
          "start_date_month": 5,
          "type": "Run"
         },
         {
          "distance": 5.9479,
          "id": 298327429,
          "moving_time": 32.28333333333333,
          "start_date_month": 5,
          "type": "Run"
         },
         {
          "distance": 15.0481,
          "id": 297676571,
          "moving_time": 51,
          "start_date_month": 5,
          "type": "Ride"
         },
         {
          "distance": 8.8698,
          "id": 296571535,
          "moving_time": 49.53333333333333,
          "start_date_month": 5,
          "type": "Run"
         },
         {
          "distance": 4.871899999999999,
          "id": 294515000,
          "moving_time": 25.816666666666666,
          "start_date_month": 4,
          "type": "Run"
         },
         {
          "distance": 35.1293,
          "id": 293238627,
          "moving_time": 89.1,
          "start_date_month": 4,
          "type": "Ride"
         },
         {
          "distance": 5.497,
          "id": 291409727,
          "moving_time": 26.85,
          "start_date_month": 4,
          "type": "Run"
         },
         {
          "distance": 6.1944,
          "id": 288669491,
          "moving_time": 33.38333333333333,
          "start_date_month": 4,
          "type": "Run"
         },
         {
          "distance": 5.8785,
          "id": 276170382,
          "moving_time": 31.216666666666665,
          "start_date_month": 3,
          "type": "Run"
         },
         {
          "distance": 5.7158999999999995,
          "id": 272577441,
          "moving_time": 31.3,
          "start_date_month": 3,
          "type": "Run"
         },
         {
          "distance": 3.84,
          "id": 242976359,
          "moving_time": 20.216666666666665,
          "start_date_month": 1,
          "type": "Run"
         },
         {
          "distance": 4.0248,
          "id": 233931335,
          "moving_time": 19.55,
          "start_date_month": 12,
          "type": "Run"
         },
         {
          "distance": 3.9454000000000002,
          "id": 231114331,
          "moving_time": 20.116666666666667,
          "start_date_month": 12,
          "type": "Run"
         },
         {
          "distance": 10.9236,
          "id": 221967362,
          "moving_time": 73.71666666666667,
          "start_date_month": 11,
          "type": "Run"
         },
         {
          "distance": 6.5333000000000006,
          "id": 220009577,
          "moving_time": 42.36666666666667,
          "start_date_month": 11,
          "type": "Run"
         },
         {
          "distance": 8.7202,
          "id": 217550724,
          "moving_time": 47.333333333333336,
          "start_date_month": 11,
          "type": "Run"
         },
         {
          "distance": 5.3953999999999995,
          "id": 214387348,
          "moving_time": 28.716666666666665,
          "start_date_month": 11,
          "type": "Run"
         },
         {
          "distance": 5.6373,
          "id": 212426253,
          "moving_time": 29.683333333333334,
          "start_date_month": 10,
          "type": "Run"
         },
         {
          "distance": 6.0808,
          "id": 211580974,
          "moving_time": 33.06666666666667,
          "start_date_month": 10,
          "type": "Run"
         },
         {
          "distance": 7.1241,
          "id": 158212137,
          "moving_time": 42.233333333333334,
          "start_date_month": 6,
          "type": "Run"
         },
         {
          "distance": 4.1494,
          "id": 154879009,
          "moving_time": 23.333333333333332,
          "start_date_month": 6,
          "type": "Run"
         },
         {
          "distance": 52.303599999999996,
          "id": 153477386,
          "moving_time": 137.9,
          "start_date_month": 6,
          "type": "Ride"
         },
         {
          "distance": 5.5605,
          "id": 152050291,
          "moving_time": 29.5,
          "start_date_month": 6,
          "type": "Run"
         },
         {
          "distance": 4.5693,
          "id": 142366419,
          "moving_time": 22.883333333333333,
          "start_date_month": 5,
          "type": "Run"
         },
         {
          "distance": 6.1624,
          "id": 119230806,
          "moving_time": 31.366666666666667,
          "start_date_month": 3,
          "type": "Run"
         },
         {
          "distance": 49.3257,
          "id": 75889415,
          "moving_time": 113.56666666666666,
          "start_date_month": 8,
          "type": "Ride"
         },
         {
          "distance": 67.1394,
          "id": 75316763,
          "moving_time": 155.51666666666668,
          "start_date_month": 8,
          "type": "Ride"
         },
         {
          "distance": 59.5575,
          "id": 75090829,
          "moving_time": 128.83333333333334,
          "start_date_month": 8,
          "type": "Ride"
         },
         {
          "distance": 50.9542,
          "id": 74626892,
          "moving_time": 124.25,
          "start_date_month": 8,
          "type": "Ride"
         },
         {
          "distance": 108.548,
          "id": 73478411,
          "moving_time": 269.56666666666666,
          "start_date_month": 8,
          "type": "Ride"
         },
         {
          "distance": 61.1785,
          "id": 72857400,
          "moving_time": 137.06666666666666,
          "start_date_month": 8,
          "type": "Ride"
         },
         {
          "distance": 59.3085,
          "id": 72579431,
          "moving_time": 134.46666666666667,
          "start_date_month": 8,
          "type": "Ride"
         },
         {
          "distance": 104.096,
          "id": 72018730,
          "moving_time": 257.05,
          "start_date_month": 8,
          "type": "Ride"
         },
         {
          "distance": 55.532599999999995,
          "id": 71833963,
          "moving_time": 126.25,
          "start_date_month": 8,
          "type": "Ride"
         },
         {
          "distance": 11.02,
          "id": 63662932,
          "moving_time": 58.8,
          "start_date_month": 6,
          "type": "Run"
         },
         {
          "distance": 18.8258,
          "id": 63313297,
          "moving_time": 45.13333333333333,
          "start_date_month": 6,
          "type": "Ride"
         },
         {
          "distance": 74.3828,
          "id": 63312774,
          "moving_time": 187.16666666666666,
          "start_date_month": 6,
          "type": "Ride"
         },
         {
          "distance": 8.7426,
          "id": 62655429,
          "moving_time": 45.083333333333336,
          "start_date_month": 6,
          "type": "Run"
         },
         {
          "distance": 10.495899999999999,
          "id": 62196957,
          "moving_time": 58.55,
          "start_date_month": 6,
          "type": "Run"
         },
         {
          "distance": 30.1029,
          "id": 61979583,
          "moving_time": 78.03333333333333,
          "start_date_month": 6,
          "type": "Ride"
         },
         {
          "distance": 7.6546,
          "id": 61312377,
          "moving_time": 39.56666666666667,
          "start_date_month": 6,
          "type": "Run"
         },
         {
          "distance": 31.765,
          "id": 61040219,
          "moving_time": 74.16666666666667,
          "start_date_month": 6,
          "type": "Ride"
         },
         {
          "distance": 7.065300000000001,
          "id": 60169031,
          "moving_time": 36.85,
          "start_date_month": 6,
          "type": "Run"
         },
         {
          "distance": 38.2866,
          "id": 56499507,
          "moving_time": 106.95,
          "start_date_month": 5,
          "type": "Ride"
         },
         {
          "distance": 8.4716,
          "id": 508961092,
          "moving_time": 45.266666666666666,
          "start_date_month": 3,
          "type": "Run"
         }
        ]
       },
       "hconcat": [
        {
         "data": {
          "name": "data-25229845250fd42a7db78b8e0e89769d"
         },
         "encoding": {
          "color": {
           "field": "type",
           "type": "nominal"
          },
          "tooltip": [
           {
            "field": "start_date_month",
            "type": "quantitative"
           },
           {
            "field": "type",
            "type": "nominal"
           },
           {
            "aggregate": "count",
            "field": "id",
            "type": "quantitative"
           }
          ],
          "x": {
           "field": "start_date_month",
           "type": "quantitative"
          },
          "y": {
           "aggregate": "count",
           "field": "id",
           "type": "quantitative"
          }
         },
         "mark": "bar",
         "selection": {
          "selector006": {
           "bind": "scales",
           "encodings": [
            "x",
            "y"
           ],
           "mark": {
            "fill": "#333",
            "fillOpacity": 0.125,
            "stroke": "white"
           },
           "on": "[mousedown, window:mouseup] > window:mousemove!",
           "resolve": "global",
           "translate": "[mousedown, window:mouseup] > window:mousemove!",
           "type": "interval",
           "zoom": "wheel!"
          }
         },
         "title": "Number of Activities by Month"
        },
        {
         "data": {
          "name": "data-25229845250fd42a7db78b8e0e89769d"
         },
         "encoding": {
          "color": {
           "field": "type",
           "type": "nominal"
          },
          "tooltip": [
           {
            "field": "start_date_month",
            "type": "quantitative"
           },
           {
            "field": "type",
            "type": "nominal"
           },
           {
            "aggregate": "sum",
            "field": "moving_time",
            "type": "quantitative"
           }
          ],
          "x": {
           "field": "start_date_month",
           "type": "quantitative"
          },
          "y": {
           "aggregate": "sum",
           "field": "moving_time",
           "type": "quantitative"
          }
         },
         "mark": "bar",
         "selection": {
          "selector007": {
           "bind": "scales",
           "encodings": [
            "x",
            "y"
           ],
           "mark": {
            "fill": "#333",
            "fillOpacity": 0.125,
            "stroke": "white"
           },
           "on": "[mousedown, window:mouseup] > window:mousemove!",
           "resolve": "global",
           "translate": "[mousedown, window:mouseup] > window:mousemove!",
           "type": "interval",
           "zoom": "wheel!"
          }
         },
         "title": "Total Moving Time by Month"
        },
        {
         "data": {
          "name": "data-25229845250fd42a7db78b8e0e89769d"
         },
         "encoding": {
          "color": {
           "field": "type",
           "type": "nominal"
          },
          "tooltip": [
           {
            "field": "start_date_month",
            "type": "quantitative"
           },
           {
            "field": "type",
            "type": "nominal"
           },
           {
            "aggregate": "sum",
            "field": "distance",
            "type": "quantitative"
           }
          ],
          "x": {
           "field": "start_date_month",
           "type": "quantitative"
          },
          "y": {
           "aggregate": "sum",
           "field": "distance",
           "type": "quantitative"
          }
         },
         "mark": "bar",
         "selection": {
          "selector008": {
           "bind": "scales",
           "encodings": [
            "x",
            "y"
           ],
           "mark": {
            "fill": "#333",
            "fillOpacity": 0.125,
            "stroke": "white"
           },
           "on": "[mousedown, window:mouseup] > window:mousemove!",
           "resolve": "global",
           "translate": "[mousedown, window:mouseup] > window:mousemove!",
           "type": "interval",
           "zoom": "wheel!"
          }
         },
         "title": "Total Distance by Month"
        }
       ]
      },
      "image/png": "[encoded data removed]",
      "text/plain": [
       "<VegaLite 2 object>\n",
       "\n",
       "If you see this message, it means the renderer has not been properly enabled\n",
       "for the frontend that you are using. For more information, see\n",
       "https://altair-viz.github.io/user_guide/troubleshooting.html\n"
      ]
     },
     "execution_count": 36,
     "metadata": {},
     "output_type": "execute_result"
    }
   ],
   "source": [
    "data = df[['id','type','start_date_month','moving_time','distance']]\n",
    "\n",
    "chart_activities = alt.Chart(data).mark_bar().encode(\n",
    "    x='start_date_month',\n",
    "    y='count(id)',\n",
    "    color='type',\n",
    "    tooltip=['start_date_month','type','count(id)']\n",
    ").interactive()\n",
    "\n",
    "chart_time = alt.Chart(data).mark_bar().encode(\n",
    "    x='start_date_month',\n",
    "    y='sum(moving_time)',\n",
    "    color='type',\n",
    "    tooltip=['start_date_month','type','sum(moving_time)']\n",
    ").interactive()\n",
    "\n",
    "chart_distance = alt.Chart(data).mark_bar().encode(\n",
    "    x='start_date_month',\n",
    "    y='sum(distance)',\n",
    "    color='type',\n",
    "    tooltip=['start_date_month','type','sum(distance)']\n",
    ").interactive()\n",
    "\n",
    "chart_activities.title = 'Number of Activities by Month'\n",
    "chart_time.title = 'Total Moving Time by Month'\n",
    "chart_distance.title = 'Total Distance by Month'\n",
    "\n",
    "chart = alt.hconcat(chart_activities, chart_time, chart_distance)\n",
    "\n",
    "chart"
   ]
  },
  {
   "cell_type": "code",
   "execution_count": 37,
   "metadata": {},
   "outputs": [
    {
     "name": "stderr",
     "output_type": "stream",
     "text": [
      "C:\\Users\\Kain\\Anaconda3\\lib\\site-packages\\altair\\utils\\core.py:284: FutureWarning: A future version of pandas will default to `skipna=True`. To silence this warning, pass `skipna=True|False` explicitly.\n",
      "  attrs['type'] = infer_vegalite_type(data[attrs['field']])\n"
     ]
    },
    {
     "data": {
      "application/vnd.vegalite.v2+json": {
       "$schema": "https://vega.github.io/schema/vega-lite/v2.6.0.json",
       "config": {
        "view": {
         "height": 300,
         "width": 400
        }
       },
       "datasets": {
        "data-033ba5785b5f0533df43d963c7fb5c19": [
         {
          "distance": 6.2,
          "id": 2202041286,
          "moving_time": 31,
          "start_date_weekday": 5,
          "type": "Run"
         },
         {
          "distance": 6.6597,
          "id": 2199821385,
          "moving_time": 50.85,
          "start_date_weekday": 4,
          "type": "Run"
         },
         {
          "distance": 5.151,
          "id": 2189067328,
          "moving_time": 37.96666666666667,
          "start_date_weekday": 6,
          "type": "Run"
         },
         {
          "distance": 5.257,
          "id": 2172868994,
          "moving_time": 41.333333333333336,
          "start_date_weekday": 6,
          "type": "Run"
         },
         {
          "distance": 41.0807,
          "id": 2169790470,
          "moving_time": 122,
          "start_date_weekday": 5,
          "type": "Ride"
         },
         {
          "distance": 7,
          "id": 2075494711,
          "moving_time": 34,
          "start_date_weekday": 6,
          "type": "Run"
         },
         {
          "distance": 5.5199,
          "id": 2060397406,
          "moving_time": 40.63333333333333,
          "start_date_weekday": 5,
          "type": "Run"
         },
         {
          "distance": 30.3659,
          "id": 1902102990,
          "moving_time": 89.71666666666667,
          "start_date_weekday": 5,
          "type": "Ride"
         },
         {
          "distance": 10.6533,
          "id": 1873051986,
          "moving_time": 58.95,
          "start_date_weekday": 5,
          "type": "Run"
         },
         {
          "distance": 5.3327,
          "id": 1869415210,
          "moving_time": 27.3,
          "start_date_weekday": 3,
          "type": "Run"
         },
         {
          "distance": 5.3609,
          "id": 1848183751,
          "moving_time": 26.966666666666665,
          "start_date_weekday": 0,
          "type": "Run"
         },
         {
          "distance": 6.5485,
          "id": 1832664190,
          "moving_time": 32.25,
          "start_date_weekday": 0,
          "type": "Run"
         },
         {
          "distance": 7.1803,
          "id": 1819405951,
          "moving_time": 37,
          "start_date_weekday": 1,
          "type": "Run"
         },
         {
          "distance": 5.595,
          "id": 1812167178,
          "moving_time": 28.866666666666667,
          "start_date_weekday": 5,
          "type": "Run"
         },
         {
          "distance": 6.2947,
          "id": 1769961402,
          "moving_time": 31.416666666666668,
          "start_date_weekday": 0,
          "type": "Run"
         },
         {
          "distance": 2.5019,
          "id": 1768039547,
          "moving_time": 13.433333333333334,
          "start_date_weekday": 6,
          "type": "Run"
         },
         {
          "distance": 36.037699999999994,
          "id": 1765463698,
          "moving_time": 103.41666666666667,
          "start_date_weekday": 5,
          "type": "Ride"
         },
         {
          "distance": 7.917,
          "id": 1758937255,
          "moving_time": 39.8,
          "start_date_weekday": 2,
          "type": "Run"
         },
         {
          "distance": 6.4848,
          "id": 1754313991,
          "moving_time": 34.05,
          "start_date_weekday": 0,
          "type": "Run"
         },
         {
          "distance": 4.2233,
          "id": 1722778792,
          "moving_time": 23.933333333333334,
          "start_date_weekday": 0,
          "type": "Run"
         },
         {
          "distance": 8.158199999999999,
          "id": 1718082089,
          "moving_time": 44.55,
          "start_date_weekday": 5,
          "type": "Run"
         },
         {
          "distance": 7.833699999999999,
          "id": 1702448290,
          "moving_time": 40.71666666666667,
          "start_date_weekday": 5,
          "type": "Run"
         },
         {
          "distance": 6.0011,
          "id": 1678605231,
          "moving_time": 31.15,
          "start_date_weekday": 1,
          "type": "Run"
         },
         {
          "distance": 4.2786,
          "id": 1656109943,
          "moving_time": 23.933333333333334,
          "start_date_weekday": 5,
          "type": "Run"
         },
         {
          "distance": 5.565,
          "id": 1615106319,
          "moving_time": 28.4,
          "start_date_weekday": 6,
          "type": "Run"
         },
         {
          "distance": 5.6789,
          "id": 1608680116,
          "moving_time": 29.666666666666668,
          "start_date_weekday": 3,
          "type": "Run"
         },
         {
          "distance": 4.165,
          "id": 1602018981,
          "moving_time": 21.75,
          "start_date_weekday": 0,
          "type": "Run"
         },
         {
          "distance": 5.1145,
          "id": 1600086877,
          "moving_time": 26.916666666666668,
          "start_date_weekday": 6,
          "type": "Run"
         },
         {
          "distance": 6,
          "id": 1595253579,
          "moving_time": 31.966666666666665,
          "start_date_weekday": 4,
          "type": "Run"
         },
         {
          "distance": 8.1867,
          "id": 1573271998,
          "moving_time": 47.25,
          "start_date_weekday": 1,
          "type": "Run"
         },
         {
          "distance": 5.0622,
          "id": 1568513925,
          "moving_time": 71.68333333333334,
          "start_date_weekday": 6,
          "type": "Hike"
         },
         {
          "distance": 4.5854,
          "id": 1518378517,
          "moving_time": 24.316666666666666,
          "start_date_weekday": 3,
          "type": "Run"
         },
         {
          "distance": 4.5342,
          "id": 1510885071,
          "moving_time": 23.483333333333334,
          "start_date_weekday": 6,
          "type": "Run"
         },
         {
          "distance": 40.0125,
          "id": 1507489235,
          "moving_time": 104.51666666666667,
          "start_date_weekday": 5,
          "type": "Ride"
         },
         {
          "distance": 26.143900000000002,
          "id": 1494936767,
          "moving_time": 81.58333333333333,
          "start_date_weekday": 5,
          "type": "Ride"
         },
         {
          "distance": 5.557300000000001,
          "id": 1485983415,
          "moving_time": 28.766666666666666,
          "start_date_weekday": 0,
          "type": "Run"
         },
         {
          "distance": 5.9717,
          "id": 1481527978,
          "moving_time": 34.46666666666667,
          "start_date_weekday": 5,
          "type": "Run"
         },
         {
          "distance": 4.0501,
          "id": 1478637305,
          "moving_time": 20.483333333333334,
          "start_date_weekday": 3,
          "type": "Run"
         },
         {
          "distance": 5.109,
          "id": 1470467201,
          "moving_time": 24.766666666666666,
          "start_date_weekday": 6,
          "type": "Run"
         },
         {
          "distance": 7.0409,
          "id": 1459406814,
          "moving_time": 39.63333333333333,
          "start_date_weekday": 6,
          "type": "Run"
         },
         {
          "distance": 6.3735,
          "id": 1447706570,
          "moving_time": 43.333333333333336,
          "start_date_weekday": 6,
          "type": "Run"
         },
         {
          "distance": 6.348,
          "id": 1439152306,
          "moving_time": 16.9,
          "start_date_weekday": 1,
          "type": "AlpineSki"
         },
         {
          "distance": 6.1541999999999994,
          "id": 1243691739,
          "moving_time": 31.383333333333333,
          "start_date_weekday": 0,
          "type": "Run"
         },
         {
          "distance": 5.4138,
          "id": 1236411824,
          "moving_time": 27.75,
          "start_date_weekday": 2,
          "type": "Run"
         },
         {
          "distance": 5.986800000000001,
          "id": 1231742829,
          "moving_time": 30.233333333333334,
          "start_date_weekday": 6,
          "type": "Run"
         },
         {
          "distance": 8.797,
          "id": 1220350726,
          "moving_time": 57.416666666666664,
          "start_date_weekday": 6,
          "type": "Run"
         },
         {
          "distance": 4.6016,
          "id": 1180785806,
          "moving_time": 24.866666666666667,
          "start_date_weekday": 1,
          "type": "Run"
         },
         {
          "distance": 5.9577,
          "id": 1168340670,
          "moving_time": 31.6,
          "start_date_weekday": 0,
          "type": "Run"
         },
         {
          "distance": 7.817399999999999,
          "id": 1166527379,
          "moving_time": 42.36666666666667,
          "start_date_weekday": 6,
          "type": "Run"
         },
         {
          "distance": 7.1926000000000005,
          "id": 1161701515,
          "moving_time": 38.983333333333334,
          "start_date_weekday": 3,
          "type": "Run"
         },
         {
          "distance": 7.9233,
          "id": 1158568544,
          "moving_time": 41.36666666666667,
          "start_date_weekday": 1,
          "type": "Run"
         },
         {
          "distance": 6.2067,
          "id": 1155346588,
          "moving_time": 31.9,
          "start_date_weekday": 6,
          "type": "Run"
         },
         {
          "distance": 6.0473,
          "id": 1151711545,
          "moving_time": 36.11666666666667,
          "start_date_weekday": 4,
          "type": "Run"
         },
         {
          "distance": 5.7546,
          "id": 1148457766,
          "moving_time": 29.1,
          "start_date_weekday": 2,
          "type": "Run"
         },
         {
          "distance": 5.7173,
          "id": 1141382702,
          "moving_time": 32.81666666666667,
          "start_date_weekday": 5,
          "type": "Run"
         },
         {
          "distance": 6.0717,
          "id": 1125291234,
          "moving_time": 34.016666666666666,
          "start_date_weekday": 2,
          "type": "Run"
         },
         {
          "distance": 6.220899999999999,
          "id": 1122020885,
          "moving_time": 31.7,
          "start_date_weekday": 0,
          "type": "Run"
         },
         {
          "distance": 7.8012,
          "id": 1097956892,
          "moving_time": 39.46666666666667,
          "start_date_weekday": 6,
          "type": "Run"
         },
         {
          "distance": 8.4419,
          "id": 1094471366,
          "moving_time": 48.31666666666667,
          "start_date_weekday": 4,
          "type": "Run"
         },
         {
          "distance": 43.8861,
          "id": 1073325448,
          "moving_time": 157.91666666666666,
          "start_date_weekday": 5,
          "type": "Ride"
         },
         {
          "distance": 6.1832,
          "id": 1047510194,
          "moving_time": 35.85,
          "start_date_weekday": 2,
          "type": "Run"
         },
         {
          "distance": 1.0575,
          "id": 1042731925,
          "moving_time": 4.7,
          "start_date_weekday": 6,
          "type": "Run"
         },
         {
          "distance": 6.841600000000001,
          "id": 1042698985,
          "moving_time": 35.733333333333334,
          "start_date_weekday": 6,
          "type": "Run"
         },
         {
          "distance": 6.2395,
          "id": 1041055453,
          "moving_time": 33.25,
          "start_date_weekday": 5,
          "type": "Run"
         },
         {
          "distance": 6.373600000000001,
          "id": 1031510189,
          "moving_time": 34.083333333333336,
          "start_date_weekday": 6,
          "type": "Run"
         },
         {
          "distance": 7.2009,
          "id": 1029928575,
          "moving_time": 41.53333333333333,
          "start_date_weekday": 5,
          "type": "Run"
         },
         {
          "distance": 4.327100000000001,
          "id": 1022228974,
          "moving_time": 23.5,
          "start_date_weekday": 0,
          "type": "Run"
         },
         {
          "distance": 4.1453999999999995,
          "id": 984934815,
          "moving_time": 23.25,
          "start_date_weekday": 5,
          "type": "Run"
         },
         {
          "distance": 5.9243999999999994,
          "id": 944898454,
          "moving_time": 31.566666666666666,
          "start_date_weekday": 6,
          "type": "Run"
         },
         {
          "distance": 3.1517,
          "id": 920925917,
          "moving_time": 18,
          "start_date_weekday": 3,
          "type": "Run"
         },
         {
          "distance": 4.1197,
          "id": 817262248,
          "moving_time": 24.75,
          "start_date_weekday": 5,
          "type": "Run"
         },
         {
          "distance": 7.0056,
          "id": 815054880,
          "moving_time": 42.46666666666667,
          "start_date_weekday": 3,
          "type": "Run"
         },
         {
          "distance": 3.6607,
          "id": 747705664,
          "moving_time": 22.066666666666666,
          "start_date_weekday": 0,
          "type": "Run"
         },
         {
          "distance": 4.9672,
          "id": 727921866,
          "moving_time": 33.166666666666664,
          "start_date_weekday": 2,
          "type": "Run"
         },
         {
          "distance": 5.0047,
          "id": 720027140,
          "moving_time": 27.416666666666668,
          "start_date_weekday": 2,
          "type": "Run"
         },
         {
          "distance": 3.7466,
          "id": 672812022,
          "moving_time": 21.4,
          "start_date_weekday": 3,
          "type": "Run"
         },
         {
          "distance": 4.815,
          "id": 670638874,
          "moving_time": 27.75,
          "start_date_weekday": 1,
          "type": "Run"
         },
         {
          "distance": 50.714800000000004,
          "id": 667134427,
          "moving_time": 180.96666666666667,
          "start_date_weekday": 5,
          "type": "Ride"
         },
         {
          "distance": 4.1044,
          "id": 665821624,
          "moving_time": 23.116666666666667,
          "start_date_weekday": 4,
          "type": "Run"
         },
         {
          "distance": 4.2125,
          "id": 663726297,
          "moving_time": 26.65,
          "start_date_weekday": 2,
          "type": "Run"
         },
         {
          "distance": 115.539,
          "id": 657891093,
          "moving_time": 297,
          "start_date_weekday": 4,
          "type": "Ride"
         },
         {
          "distance": 64.5434,
          "id": 656956785,
          "moving_time": 180.61666666666667,
          "start_date_weekday": 3,
          "type": "Ride"
         },
         {
          "distance": 97.1977,
          "id": 655830005,
          "moving_time": 263.1166666666667,
          "start_date_weekday": 2,
          "type": "Ride"
         },
         {
          "distance": 101.664,
          "id": 654796874,
          "moving_time": 286.5,
          "start_date_weekday": 1,
          "type": "Ride"
         },
         {
          "distance": 121.092,
          "id": 654026878,
          "moving_time": 341.5833333333333,
          "start_date_weekday": 0,
          "type": "Ride"
         },
         {
          "distance": 80.68010000000001,
          "id": 652494928,
          "moving_time": 279.0833333333333,
          "start_date_weekday": 6,
          "type": "Ride"
         },
         {
          "distance": 37.0168,
          "id": 645216024,
          "moving_time": 109.2,
          "start_date_weekday": 6,
          "type": "Ride"
         },
         {
          "distance": 62.528800000000004,
          "id": 644164143,
          "moving_time": 214.51666666666668,
          "start_date_weekday": 5,
          "type": "Ride"
         },
         {
          "distance": 4.2115,
          "id": 637997865,
          "moving_time": 24.866666666666667,
          "start_date_weekday": 0,
          "type": "Run"
         },
         {
          "distance": 5.6878,
          "id": 633701175,
          "moving_time": 33.18333333333333,
          "start_date_weekday": 3,
          "type": "Run"
         },
         {
          "distance": 4.1068,
          "id": 625136477,
          "moving_time": 21.766666666666666,
          "start_date_weekday": 3,
          "type": "Run"
         },
         {
          "distance": 5.3239,
          "id": 616459061,
          "moving_time": 29.816666666666666,
          "start_date_weekday": 1,
          "type": "Run"
         },
         {
          "distance": 5.2493,
          "id": 610199424,
          "moving_time": 30.416666666666668,
          "start_date_weekday": 2,
          "type": "Run"
         },
         {
          "distance": 4.9531,
          "id": 606689778,
          "moving_time": 31.266666666666666,
          "start_date_weekday": 6,
          "type": "Run"
         },
         {
          "distance": 5.225899999999999,
          "id": 605010697,
          "moving_time": 32.88333333333333,
          "start_date_weekday": 4,
          "type": "Run"
         },
         {
          "distance": 6.1427,
          "id": 603913915,
          "moving_time": 37.733333333333334,
          "start_date_weekday": 3,
          "type": "Run"
         },
         {
          "distance": 5.1362,
          "id": 601744832,
          "moving_time": 29.883333333333333,
          "start_date_weekday": 1,
          "type": "Run"
         },
         {
          "distance": 8.448799999999999,
          "id": 600638542,
          "moving_time": 51.78333333333333,
          "start_date_weekday": 0,
          "type": "Run"
         },
         {
          "distance": 8.4285,
          "id": 594236121,
          "moving_time": 52.53333333333333,
          "start_date_weekday": 1,
          "type": "Run"
         },
         {
          "distance": 5.1952,
          "id": 592035069,
          "moving_time": 30.5,
          "start_date_weekday": 6,
          "type": "Run"
         },
         {
          "distance": 5.3718,
          "id": 589943603,
          "moving_time": 34.1,
          "start_date_weekday": 4,
          "type": "Run"
         },
         {
          "distance": 5.2078,
          "id": 588726729,
          "moving_time": 30.883333333333333,
          "start_date_weekday": 3,
          "type": "Run"
         },
         {
          "distance": 4.3303,
          "id": 580302351,
          "moving_time": 31.483333333333334,
          "start_date_weekday": 2,
          "type": "Run"
         },
         {
          "distance": 6.949199999999999,
          "id": 572773992,
          "moving_time": 44.35,
          "start_date_weekday": 2,
          "type": "Run"
         },
         {
          "distance": 5,
          "id": 571602110,
          "moving_time": 26,
          "start_date_weekday": 1,
          "type": "Run"
         },
         {
          "distance": 12.309700000000001,
          "id": 573447998,
          "moving_time": 85.73333333333333,
          "start_date_weekday": 1,
          "type": "Run"
         },
         {
          "distance": 4.387,
          "id": 564863202,
          "moving_time": 31.183333333333334,
          "start_date_weekday": 2,
          "type": "Run"
         },
         {
          "distance": 4.607399999999999,
          "id": 551367765,
          "moving_time": 24.85,
          "start_date_weekday": 2,
          "type": "Run"
         },
         {
          "distance": 5.3826,
          "id": 542264278,
          "moving_time": 28.466666666666665,
          "start_date_weekday": 0,
          "type": "Run"
         },
         {
          "distance": 5.054600000000001,
          "id": 540227487,
          "moving_time": 31.216666666666665,
          "start_date_weekday": 5,
          "type": "Run"
         },
         {
          "distance": 5.26,
          "id": 535705837,
          "moving_time": 33.35,
          "start_date_weekday": 0,
          "type": "Run"
         },
         {
          "distance": 9.464,
          "id": 530715233,
          "moving_time": 76.66666666666667,
          "start_date_weekday": 2,
          "type": "Hike"
         },
         {
          "distance": 16.9343,
          "id": 528753214,
          "moving_time": 91.73333333333333,
          "start_date_weekday": 0,
          "type": "Ride"
         },
         {
          "distance": 22.5325,
          "id": 509901190,
          "moving_time": 87.63333333333334,
          "start_date_weekday": 5,
          "type": "Ride"
         },
         {
          "distance": 5.1175,
          "id": 487959112,
          "moving_time": 31.566666666666666,
          "start_date_weekday": 6,
          "type": "Run"
         },
         {
          "distance": 2.3418,
          "id": 483575529,
          "moving_time": 14.1,
          "start_date_weekday": 0,
          "type": "Run"
         },
         {
          "distance": 3.7666,
          "id": 480500008,
          "moving_time": 23.833333333333332,
          "start_date_weekday": 3,
          "type": "Run"
         },
         {
          "distance": 2.8388,
          "id": 478209755,
          "moving_time": 18.433333333333334,
          "start_date_weekday": 0,
          "type": "Run"
         },
         {
          "distance": 4.0390999999999995,
          "id": 466584163,
          "moving_time": 24.316666666666666,
          "start_date_weekday": 5,
          "type": "Run"
         },
         {
          "distance": 23.6478,
          "id": 379208657,
          "moving_time": 162.33333333333334,
          "start_date_weekday": 4,
          "type": "Ride"
         },
         {
          "distance": 7.837899999999999,
          "id": 342029032,
          "moving_time": 43.46666666666667,
          "start_date_weekday": 2,
          "type": "Run"
         },
         {
          "distance": 7.7927,
          "id": 337260755,
          "moving_time": 45.93333333333333,
          "start_date_weekday": 2,
          "type": "Run"
         },
         {
          "distance": 4.788399999999999,
          "id": 336549318,
          "moving_time": 30,
          "start_date_weekday": 1,
          "type": "Run"
         },
         {
          "distance": 3.7946,
          "id": 332385555,
          "moving_time": 22.133333333333333,
          "start_date_weekday": 3,
          "type": "Run"
         },
         {
          "distance": 5.513,
          "id": 330395117,
          "moving_time": 29.766666666666666,
          "start_date_weekday": 0,
          "type": "Run"
         },
         {
          "distance": 5.0796,
          "id": 337030804,
          "moving_time": 36.56666666666667,
          "start_date_weekday": 5,
          "type": "Run"
         },
         {
          "distance": 6.178100000000001,
          "id": 330427930,
          "moving_time": 38.766666666666666,
          "start_date_weekday": 3,
          "type": "Run"
         },
         {
          "distance": 6.083699999999999,
          "id": 326290110,
          "moving_time": 36.7,
          "start_date_weekday": 0,
          "type": "Run"
         },
         {
          "distance": 5.5671,
          "id": 325710652,
          "moving_time": 32.28333333333333,
          "start_date_weekday": 0,
          "type": "Run"
         },
         {
          "distance": 4.8355,
          "id": 325737250,
          "moving_time": 27.116666666666667,
          "start_date_weekday": 5,
          "type": "Run"
         },
         {
          "distance": 6.8258,
          "id": 319860155,
          "moving_time": 39.18333333333333,
          "start_date_weekday": 5,
          "type": "Run"
         },
         {
          "distance": 6.1389,
          "id": 317069693,
          "moving_time": 32.75,
          "start_date_weekday": 1,
          "type": "Run"
         },
         {
          "distance": 18.0748,
          "id": 315627067,
          "moving_time": 68.05,
          "start_date_weekday": 6,
          "type": "Ride"
         },
         {
          "distance": 10.2172,
          "id": 313886835,
          "moving_time": 64.85,
          "start_date_weekday": 3,
          "type": "Run"
         },
         {
          "distance": 19.9844,
          "id": 310121541,
          "moving_time": 52.88333333333333,
          "start_date_weekday": 5,
          "type": "Ride"
         },
         {
          "distance": 5.01,
          "id": 309158613,
          "moving_time": 28.25,
          "start_date_weekday": 3,
          "type": "Run"
         },
         {
          "distance": 9.619399999999999,
          "id": 306812528,
          "moving_time": 63.6,
          "start_date_weekday": 6,
          "type": "Run"
         },
         {
          "distance": 6.6388,
          "id": 304079340,
          "moving_time": 44.06666666666667,
          "start_date_weekday": 2,
          "type": "Run"
         },
         {
          "distance": 18.223200000000002,
          "id": 301274333,
          "moving_time": 54.85,
          "start_date_weekday": 5,
          "type": "Ride"
         },
         {
          "distance": 16.6992,
          "id": 301111462,
          "moving_time": 48.63333333333333,
          "start_date_weekday": 5,
          "type": "Ride"
         },
         {
          "distance": 7.0637,
          "id": 299555682,
          "moving_time": 37.85,
          "start_date_weekday": 2,
          "type": "Run"
         },
         {
          "distance": 5.9479,
          "id": 298327429,
          "moving_time": 32.28333333333333,
          "start_date_weekday": 0,
          "type": "Run"
         },
         {
          "distance": 15.0481,
          "id": 297676571,
          "moving_time": 51,
          "start_date_weekday": 6,
          "type": "Ride"
         },
         {
          "distance": 8.8698,
          "id": 296571535,
          "moving_time": 49.53333333333333,
          "start_date_weekday": 5,
          "type": "Run"
         },
         {
          "distance": 4.871899999999999,
          "id": 294515000,
          "moving_time": 25.816666666666666,
          "start_date_weekday": 2,
          "type": "Run"
         },
         {
          "distance": 35.1293,
          "id": 293238627,
          "moving_time": 89.1,
          "start_date_weekday": 6,
          "type": "Ride"
         },
         {
          "distance": 5.497,
          "id": 291409727,
          "moving_time": 26.85,
          "start_date_weekday": 4,
          "type": "Run"
         },
         {
          "distance": 6.1944,
          "id": 288669491,
          "moving_time": 33.38333333333333,
          "start_date_weekday": 6,
          "type": "Run"
         },
         {
          "distance": 5.8785,
          "id": 276170382,
          "moving_time": 31.216666666666665,
          "start_date_weekday": 6,
          "type": "Run"
         },
         {
          "distance": 5.7158999999999995,
          "id": 272577441,
          "moving_time": 31.3,
          "start_date_weekday": 6,
          "type": "Run"
         },
         {
          "distance": 3.84,
          "id": 242976359,
          "moving_time": 20.216666666666665,
          "start_date_weekday": 6,
          "type": "Run"
         },
         {
          "distance": 4.0248,
          "id": 233931335,
          "moving_time": 19.55,
          "start_date_weekday": 6,
          "type": "Run"
         },
         {
          "distance": 3.9454000000000002,
          "id": 231114331,
          "moving_time": 20.116666666666667,
          "start_date_weekday": 5,
          "type": "Run"
         },
         {
          "distance": 10.9236,
          "id": 221967362,
          "moving_time": 73.71666666666667,
          "start_date_weekday": 5,
          "type": "Run"
         },
         {
          "distance": 6.5333000000000006,
          "id": 220009577,
          "moving_time": 42.36666666666667,
          "start_date_weekday": 6,
          "type": "Run"
         },
         {
          "distance": 8.7202,
          "id": 217550724,
          "moving_time": 47.333333333333336,
          "start_date_weekday": 6,
          "type": "Run"
         },
         {
          "distance": 5.3953999999999995,
          "id": 214387348,
          "moving_time": 28.716666666666665,
          "start_date_weekday": 5,
          "type": "Run"
         },
         {
          "distance": 5.6373,
          "id": 212426253,
          "moving_time": 29.683333333333334,
          "start_date_weekday": 0,
          "type": "Run"
         },
         {
          "distance": 6.0808,
          "id": 211580974,
          "moving_time": 33.06666666666667,
          "start_date_weekday": 5,
          "type": "Run"
         },
         {
          "distance": 7.1241,
          "id": 158212137,
          "moving_time": 42.233333333333334,
          "start_date_weekday": 2,
          "type": "Run"
         },
         {
          "distance": 4.1494,
          "id": 154879009,
          "moving_time": 23.333333333333332,
          "start_date_weekday": 1,
          "type": "Run"
         },
         {
          "distance": 52.303599999999996,
          "id": 153477386,
          "moving_time": 137.9,
          "start_date_weekday": 5,
          "type": "Ride"
         },
         {
          "distance": 5.5605,
          "id": 152050291,
          "moving_time": 29.5,
          "start_date_weekday": 2,
          "type": "Run"
         },
         {
          "distance": 4.5693,
          "id": 142366419,
          "moving_time": 22.883333333333333,
          "start_date_weekday": 5,
          "type": "Run"
         },
         {
          "distance": 6.1624,
          "id": 119230806,
          "moving_time": 31.366666666666667,
          "start_date_weekday": 6,
          "type": "Run"
         },
         {
          "distance": 49.3257,
          "id": 75889415,
          "moving_time": 113.56666666666666,
          "start_date_weekday": 0,
          "type": "Ride"
         },
         {
          "distance": 67.1394,
          "id": 75316763,
          "moving_time": 155.51666666666668,
          "start_date_weekday": 5,
          "type": "Ride"
         },
         {
          "distance": 59.5575,
          "id": 75090829,
          "moving_time": 128.83333333333334,
          "start_date_weekday": 4,
          "type": "Ride"
         },
         {
          "distance": 50.9542,
          "id": 74626892,
          "moving_time": 124.25,
          "start_date_weekday": 2,
          "type": "Ride"
         },
         {
          "distance": 108.548,
          "id": 73478411,
          "moving_time": 269.56666666666666,
          "start_date_weekday": 4,
          "type": "Ride"
         },
         {
          "distance": 61.1785,
          "id": 72857400,
          "moving_time": 137.06666666666666,
          "start_date_weekday": 2,
          "type": "Ride"
         },
         {
          "distance": 59.3085,
          "id": 72579431,
          "moving_time": 134.46666666666667,
          "start_date_weekday": 1,
          "type": "Ride"
         },
         {
          "distance": 104.096,
          "id": 72018730,
          "moving_time": 257.05,
          "start_date_weekday": 5,
          "type": "Ride"
         },
         {
          "distance": 55.532599999999995,
          "id": 71833963,
          "moving_time": 126.25,
          "start_date_weekday": 5,
          "type": "Ride"
         },
         {
          "distance": 11.02,
          "id": 63662932,
          "moving_time": 58.8,
          "start_date_weekday": 5,
          "type": "Run"
         },
         {
          "distance": 18.8258,
          "id": 63313297,
          "moving_time": 45.13333333333333,
          "start_date_weekday": 4,
          "type": "Ride"
         },
         {
          "distance": 74.3828,
          "id": 63312774,
          "moving_time": 187.16666666666666,
          "start_date_weekday": 3,
          "type": "Ride"
         },
         {
          "distance": 8.7426,
          "id": 62655429,
          "moving_time": 45.083333333333336,
          "start_date_weekday": 1,
          "type": "Run"
         },
         {
          "distance": 10.495899999999999,
          "id": 62196957,
          "moving_time": 58.55,
          "start_date_weekday": 5,
          "type": "Run"
         },
         {
          "distance": 30.1029,
          "id": 61979583,
          "moving_time": 78.03333333333333,
          "start_date_weekday": 4,
          "type": "Ride"
         },
         {
          "distance": 7.6546,
          "id": 61312377,
          "moving_time": 39.56666666666667,
          "start_date_weekday": 1,
          "type": "Run"
         },
         {
          "distance": 31.765,
          "id": 61040219,
          "moving_time": 74.16666666666667,
          "start_date_weekday": 0,
          "type": "Ride"
         },
         {
          "distance": 7.065300000000001,
          "id": 60169031,
          "moving_time": 36.85,
          "start_date_weekday": 3,
          "type": "Run"
         },
         {
          "distance": 38.2866,
          "id": 56499507,
          "moving_time": 106.95,
          "start_date_weekday": 6,
          "type": "Ride"
         },
         {
          "distance": 8.4716,
          "id": 508961092,
          "moving_time": 45.266666666666666,
          "start_date_weekday": 2,
          "type": "Run"
         }
        ]
       },
       "hconcat": [
        {
         "data": {
          "name": "data-033ba5785b5f0533df43d963c7fb5c19"
         },
         "encoding": {
          "color": {
           "field": "type",
           "type": "nominal"
          },
          "tooltip": [
           {
            "field": "start_date_weekday",
            "type": "quantitative"
           },
           {
            "field": "type",
            "type": "nominal"
           },
           {
            "aggregate": "count",
            "field": "id",
            "type": "quantitative"
           }
          ],
          "x": {
           "field": "start_date_weekday",
           "type": "quantitative"
          },
          "y": {
           "aggregate": "count",
           "field": "id",
           "type": "quantitative"
          }
         },
         "mark": "bar",
         "selection": {
          "selector009": {
           "bind": "scales",
           "encodings": [
            "x",
            "y"
           ],
           "mark": {
            "fill": "#333",
            "fillOpacity": 0.125,
            "stroke": "white"
           },
           "on": "[mousedown, window:mouseup] > window:mousemove!",
           "resolve": "global",
           "translate": "[mousedown, window:mouseup] > window:mousemove!",
           "type": "interval",
           "zoom": "wheel!"
          }
         },
         "title": "Number of Activities by Weekday"
        },
        {
         "data": {
          "name": "data-033ba5785b5f0533df43d963c7fb5c19"
         },
         "encoding": {
          "color": {
           "field": "type",
           "type": "nominal"
          },
          "tooltip": [
           {
            "field": "start_date_weekday",
            "type": "quantitative"
           },
           {
            "field": "type",
            "type": "nominal"
           },
           {
            "aggregate": "sum",
            "field": "moving_time",
            "type": "quantitative"
           }
          ],
          "x": {
           "field": "start_date_weekday",
           "type": "quantitative"
          },
          "y": {
           "aggregate": "sum",
           "field": "moving_time",
           "type": "quantitative"
          }
         },
         "mark": "bar",
         "selection": {
          "selector010": {
           "bind": "scales",
           "encodings": [
            "x",
            "y"
           ],
           "mark": {
            "fill": "#333",
            "fillOpacity": 0.125,
            "stroke": "white"
           },
           "on": "[mousedown, window:mouseup] > window:mousemove!",
           "resolve": "global",
           "translate": "[mousedown, window:mouseup] > window:mousemove!",
           "type": "interval",
           "zoom": "wheel!"
          }
         },
         "title": "Total Moving Time by Weekday"
        },
        {
         "data": {
          "name": "data-033ba5785b5f0533df43d963c7fb5c19"
         },
         "encoding": {
          "color": {
           "field": "type",
           "type": "nominal"
          },
          "tooltip": [
           {
            "field": "start_date_weekday",
            "type": "quantitative"
           },
           {
            "field": "type",
            "type": "nominal"
           },
           {
            "aggregate": "sum",
            "field": "distance",
            "type": "quantitative"
           }
          ],
          "x": {
           "field": "start_date_weekday",
           "type": "quantitative"
          },
          "y": {
           "aggregate": "sum",
           "field": "distance",
           "type": "quantitative"
          }
         },
         "mark": "bar",
         "selection": {
          "selector011": {
           "bind": "scales",
           "encodings": [
            "x",
            "y"
           ],
           "mark": {
            "fill": "#333",
            "fillOpacity": 0.125,
            "stroke": "white"
           },
           "on": "[mousedown, window:mouseup] > window:mousemove!",
           "resolve": "global",
           "translate": "[mousedown, window:mouseup] > window:mousemove!",
           "type": "interval",
           "zoom": "wheel!"
          }
         },
         "title": "Total Distance by Weekday"
        }
       ]
      },
      "image/png": "[encoded data removed]",
      "text/plain": [
       "<VegaLite 2 object>\n",
       "\n",
       "If you see this message, it means the renderer has not been properly enabled\n",
       "for the frontend that you are using. For more information, see\n",
       "https://altair-viz.github.io/user_guide/troubleshooting.html\n"
      ]
     },
     "execution_count": 37,
     "metadata": {},
     "output_type": "execute_result"
    }
   ],
   "source": [
    "data = df[['id','type','start_date_weekday','moving_time','distance']]\n",
    "\n",
    "chart_activities = alt.Chart(data).mark_bar().encode(\n",
    "    x='start_date_weekday',\n",
    "    y='count(id)',\n",
    "    color='type',\n",
    "    tooltip=['start_date_weekday','type','count(id)']\n",
    ").interactive()\n",
    "\n",
    "chart_time = alt.Chart(data).mark_bar().encode(\n",
    "    x='start_date_weekday',\n",
    "    y='sum(moving_time)',\n",
    "    color='type',\n",
    "    tooltip=['start_date_weekday','type','sum(moving_time)']\n",
    ").interactive()\n",
    "\n",
    "chart_distance = alt.Chart(data).mark_bar().encode(\n",
    "    x='start_date_weekday',\n",
    "    y='sum(distance)',\n",
    "    color='type',\n",
    "    tooltip=['start_date_weekday','type','sum(distance)']\n",
    ").interactive()\n",
    "\n",
    "chart_activities.title = 'Number of Activities by Weekday'\n",
    "chart_time.title = 'Total Moving Time by Weekday'\n",
    "chart_distance.title = 'Total Distance by Weekday'\n",
    "\n",
    "chart = alt.hconcat(chart_activities, chart_time, chart_distance)\n",
    "\n",
    "chart"
   ]
  },
  {
   "cell_type": "markdown",
   "metadata": {},
   "source": [
    "# Geographic Data\n",
    "\n",
    "Strava provides here a summarized version of each activity. As well the route map is summarized as a simple list of latitue and longitude coordinates, and encoded using [Google's Polyline Algorithm](https://developers.google.com/maps/documentation/utilities/polylinealgorithm).\n",
    "\n",
    "Handy enough, there is a [polyline library in Python](https://github.com/hicsail/polyline) which we can use to decode this. Get it with `pip install polyline`"
   ]
  },
  {
   "cell_type": "code",
   "execution_count": 38,
   "metadata": {},
   "outputs": [],
   "source": [
    "import polyline"
   ]
  },
  {
   "cell_type": "code",
   "execution_count": 39,
   "metadata": {},
   "outputs": [],
   "source": [
    "coo = polyline.decode(records[1]['map']['summary_polyline'])"
   ]
  },
  {
   "cell_type": "code",
   "execution_count": 40,
   "metadata": {},
   "outputs": [
    {
     "data": {
      "text/plain": [
       "[(52.16709, 4.46285),\n",
       " (52.16708, 4.46348),\n",
       " (52.16741, 4.46286),\n",
       " (52.16721, 4.46335),\n",
       " (52.16712, 4.46244),\n",
       " (52.16723, 4.46331),\n",
       " (52.16732, 4.4628),\n",
       " (52.16703, 4.4627),\n",
       " (52.16711, 4.4632),\n",
       " (52.16729, 4.46285)]"
      ]
     },
     "execution_count": 40,
     "metadata": {},
     "output_type": "execute_result"
    }
   ],
   "source": [
    "coo[:10]"
   ]
  },
  {
   "cell_type": "markdown",
   "metadata": {},
   "source": [
    "Now we can apply basic plotting techniques to represent the coordinates geographically, to get something that looks similar to https://www.strava.com/heatmap. **Just an FYI, viewing personal heatmaps in Strava is a paid feature(!)**  \n",
    "\n",
    "A simple way to do this in Python is start with a basic Matplotlib canvas.  \n",
    "\n",
    "Since the activies are so far unfiliterd, and I know I have recorded activies in various parts of the world, let's apply some basic filtering to get valid activity coordinates from general geographic locations of interest (using rounding of coordincates).\n",
    "\n",
    "I'm not going to show too many details here, and adding backgrounds to maps is complicated. However, this can be personally very interesting to see which neighborhoods or routes you favor over others by just glancing this over."
   ]
  },
  {
   "cell_type": "markdown",
   "metadata": {},
   "source": [
    "## Matplotlib"
   ]
  },
  {
   "cell_type": "code",
   "execution_count": 41,
   "metadata": {},
   "outputs": [],
   "source": [
    "import matplotlib.pyplot as plt\n",
    "import seaborn as sns\n",
    "%matplotlib inline"
   ]
  },
  {
   "cell_type": "markdown",
   "metadata": {},
   "source": [
    "### Des Moines, IA USA"
   ]
  },
  {
   "cell_type": "code",
   "execution_count": 42,
   "metadata": {},
   "outputs": [],
   "source": [
    "coo_list = [polyline.decode(x['map']['summary_polyline']) for x in records\n",
    "            if x['timezone'] == '(GMT-06:00) America/Chicago'\n",
    "            and x['start_latlng'] is not None\n",
    "            and x['start_latlng'][0] <= 41.6 and round(x['start_latlng'][0],1) >= 41.2 and round(x['start_latlng'][1]) == -94]"
   ]
  },
  {
   "cell_type": "code",
   "execution_count": 43,
   "metadata": {},
   "outputs": [
    {
     "name": "stdout",
     "output_type": "stream",
     "text": [
      "Activities: 56\n"
     ]
    }
   ],
   "source": [
    "print('Activities:', len(coo_list))"
   ]
  },
  {
   "cell_type": "code",
   "execution_count": 44,
   "metadata": {},
   "outputs": [
    {
     "data": {
      "text/plain": [
       "[(41.56645, -93.76034),\n",
       " (41.56754, -93.75875),\n",
       " (41.56758, -93.75443),\n",
       " (41.5681, -93.75286),\n",
       " (41.5688, -93.75212),\n",
       " (41.56851, -93.75168),\n",
       " (41.56985, -93.75027),\n",
       " (41.56975, -93.7491),\n",
       " (41.5708, -93.74901),\n",
       " (41.57216, -93.75091),\n",
       " (41.57268, -93.75614),\n",
       " (41.57027, -93.75634),\n",
       " (41.5704, -93.75972),\n",
       " (41.56903, -93.75985),\n",
       " (41.56763, -93.75855),\n",
       " (41.56671, -93.76006),\n",
       " (41.56015, -93.76562),\n",
       " (41.55941, -93.76774)]"
      ]
     },
     "execution_count": 44,
     "metadata": {},
     "output_type": "execute_result"
    }
   ],
   "source": [
    "coo_list[0]"
   ]
  },
  {
   "cell_type": "code",
   "execution_count": 45,
   "metadata": {},
   "outputs": [
    {
     "data": {
      "image/png": "[encoded data removed]",
      "text/plain": [
       "<Figure size 864x864 with 1 Axes>"
      ]
     },
     "metadata": {
      "needs_background": "light"
     },
     "output_type": "display_data"
    }
   ],
   "source": [
    "fig = plt.figure(figsize=(12,12))\n",
    "fig.suptitle('Strava Activity in Des Moines, Iowa')\n",
    "ax = plt.Axes(fig, [0., 0., 1., 1.], )\n",
    "ax.set_aspect('equal')\n",
    "ax.set_axis_off()\n",
    "fig.add_axes(ax)\n",
    "\n",
    "for coo in coo_list:\n",
    "    lat,lon = map(list, zip(*coo))\n",
    "    plt.plot(lon, lat, lw=0.5, alpha=.9)"
   ]
  },
  {
   "cell_type": "markdown",
   "metadata": {},
   "source": [
    "## Altair\n",
    "\n",
    "## (Vega Lite / D3)\n",
    "\n",
    "To do the same thing in Altair, we need to get the data into a format required by d3, preferably the compressed geo file format `topojson`.  \n",
    "\n",
    "The steps taken are then the following:\n",
    "1. Transform data in Python using\n",
    "    - decode the polylines into list of longitute latitude\n",
    "    - convert list of longitute latitude to list of `Shapely` Points\n",
    "    - convert list of points into `Shapely` LineStrings\n",
    "    - convert `Pandas` DataFrame with LineStrings and metadata to `GeoPandas` DataFrame\n",
    "2. Export as `GeoJson`\n",
    "3. Convert `GeoJSON` to `TopoJSON` using `geo2topo`\n",
    "```shell\n",
    "geo2topo -q 1e6 line=geojson.json > topojson.json\n",
    "```\n",
    "4. Import topojson into `Altair` and plot\n",
    "\n",
    "Requirements:\n",
    "- GeoPandas and dependencies http://geopandas.org/install.html\n",
    "- TopoJSON Server https://github.com/topojson/topojson-server#installing\n",
    "\n",
    "Caveats:\n",
    "- at time of writing we cannot add hover tooltips in Altair because Vega Lite does not yet support interactive geoshapes (follow the issue here https://github.com/altair-viz/altair/issues/679)\n",
    "\n",
    "Background Reading:\n",
    "- for more on how D3 uses TopoJSON read Mike Bostock's [Command Line Cartography](https://medium.com/@mbostock/command-line-cartography-part-1-897aa8f8ca2c) (formerly [Let's Make a Map](https://bost.ocks.org/mike/map/))"
   ]
  },
  {
   "cell_type": "code",
   "execution_count": 46,
   "metadata": {},
   "outputs": [],
   "source": [
    "from geopandas import GeoDataFrame\n",
    "from shapely.geometry import Point, LineString\n",
    "\n",
    "def decode_map(x):\n",
    "    if not x['summary_polyline'] == None:\n",
    "        return polyline.decode(x['summary_polyline'])"
   ]
  },
  {
   "cell_type": "markdown",
   "metadata": {},
   "source": [
    "### Des Moines, IA USA"
   ]
  },
  {
   "cell_type": "code",
   "execution_count": 47,
   "metadata": {},
   "outputs": [],
   "source": [
    "df_tmp = df.loc[df.timezone == '(GMT-06:00) America/Chicago',:]\n",
    "df_tmp = df_tmp.loc[df.start_latlng.apply(lambda x: round(x[0],1) <= 41.6  and round(x[0],1) >= 41.2 and round(x[1]) == -94 if not x == None else False),:]"
   ]
  },
  {
   "cell_type": "code",
   "execution_count": 48,
   "metadata": {},
   "outputs": [],
   "source": [
    "df_tmp.loc[:,'map_decoded'] = df_tmp.loc[:,'map'].apply(decode_map)\n",
    "\n",
    "df_tmp.loc[:,'geometry_list'] = df_tmp.loc[:,'map_decoded'].apply(lambda d: [Point(y,x) for x,y in d] if not d == None else pd.np.nan)\n",
    "\n",
    "df_map = df_tmp.loc[df_tmp.geometry_list.isnull() == False,:]\n",
    "\n",
    "df_map.loc[:,'geo_line'] = df_map.loc[:,'geometry_list'].apply(LineString)\n",
    "\n",
    "gdf = GeoDataFrame(df_map[['id','start_date_formatted','type','geo_line']], geometry='geo_line')"
   ]
  },
  {
   "cell_type": "code",
   "execution_count": 49,
   "metadata": {},
   "outputs": [
    {
     "data": {
      "text/html": [
       "<div>\n",
       "<style scoped>\n",
       "    .dataframe tbody tr th:only-of-type {\n",
       "        vertical-align: middle;\n",
       "    }\n",
       "\n",
       "    .dataframe tbody tr th {\n",
       "        vertical-align: top;\n",
       "    }\n",
       "\n",
       "    .dataframe thead th {\n",
       "        text-align: right;\n",
       "    }\n",
       "</style>\n",
       "<table border=\"1\" class=\"dataframe\">\n",
       "  <thead>\n",
       "    <tr style=\"text-align: right;\">\n",
       "      <th></th>\n",
       "      <th>id</th>\n",
       "      <th>start_date_formatted</th>\n",
       "      <th>type</th>\n",
       "      <th>geo_line</th>\n",
       "    </tr>\n",
       "  </thead>\n",
       "  <tbody>\n",
       "    <tr>\n",
       "      <th>6</th>\n",
       "      <td>2060397406</td>\n",
       "      <td>Jan 2019</td>\n",
       "      <td>Run</td>\n",
       "      <td>LINESTRING (-93.76034 41.56645, -93.7587500000...</td>\n",
       "    </tr>\n",
       "    <tr>\n",
       "      <th>67</th>\n",
       "      <td>984934815</td>\n",
       "      <td>May 2017</td>\n",
       "      <td>Run</td>\n",
       "      <td>LINESTRING (-93.76942 41.55954, -93.7675299999...</td>\n",
       "    </tr>\n",
       "    <tr>\n",
       "      <th>70</th>\n",
       "      <td>817262248</td>\n",
       "      <td>Dec 2016</td>\n",
       "      <td>Run</td>\n",
       "      <td>LINESTRING (-93.76782 41.55941, -93.7664099999...</td>\n",
       "    </tr>\n",
       "    <tr>\n",
       "      <th>71</th>\n",
       "      <td>815054880</td>\n",
       "      <td>Dec 2016</td>\n",
       "      <td>Run</td>\n",
       "      <td>LINESTRING (-93.77070000000001 41.56226, -93.7...</td>\n",
       "    </tr>\n",
       "    <tr>\n",
       "      <th>75</th>\n",
       "      <td>672812022</td>\n",
       "      <td>Aug 2016</td>\n",
       "      <td>Run</td>\n",
       "      <td>LINESTRING (-93.76779000000001 41.5594, -93.76...</td>\n",
       "    </tr>\n",
       "  </tbody>\n",
       "</table>\n",
       "</div>"
      ],
      "text/plain": [
       "            id start_date_formatted type  \\\n",
       "6   2060397406             Jan 2019  Run   \n",
       "67   984934815             May 2017  Run   \n",
       "70   817262248             Dec 2016  Run   \n",
       "71   815054880             Dec 2016  Run   \n",
       "75   672812022             Aug 2016  Run   \n",
       "\n",
       "                                             geo_line  \n",
       "6   LINESTRING (-93.76034 41.56645, -93.7587500000...  \n",
       "67  LINESTRING (-93.76942 41.55954, -93.7675299999...  \n",
       "70  LINESTRING (-93.76782 41.55941, -93.7664099999...  \n",
       "71  LINESTRING (-93.77070000000001 41.56226, -93.7...  \n",
       "75  LINESTRING (-93.76779000000001 41.5594, -93.76...  "
      ]
     },
     "execution_count": 49,
     "metadata": {},
     "output_type": "execute_result"
    }
   ],
   "source": [
    "gdf.head()"
   ]
  },
  {
   "cell_type": "code",
   "execution_count": 51,
   "metadata": {},
   "outputs": [],
   "source": [
    "gdf.to_file('public_data/geojson.json', driver=\"GeoJSON\")"
   ]
  },
  {
   "cell_type": "markdown",
   "metadata": {},
   "source": [
    "#### now run below command to generate topojson file\n",
    "\n",
    "```shell\n",
    "geo2topo -q 1e6 line=geojson.json > topojson.json\n",
    "```"
   ]
  },
  {
   "cell_type": "code",
   "execution_count": 2,
   "metadata": {},
   "outputs": [],
   "source": [
    "data = alt.topo_feature('https://knanne.github.io/notebooks/jupyter/public_data/topojson.json', 'line')"
   ]
  },
  {
   "cell_type": "code",
   "execution_count": 3,
   "metadata": {},
   "outputs": [
    {
     "data": {
      "text/plain": [
       "UrlData({\n",
       "  format: TopoDataFormat({\n",
       "    feature: 'line',\n",
       "    type: 'topojson'\n",
       "  }),\n",
       "  url: 'https://knanne.github.io/notebooks/jupyter/public_data/topojson.json'\n",
       "})"
      ]
     },
     "execution_count": 3,
     "metadata": {},
     "output_type": "execute_result"
    }
   ],
   "source": [
    "data"
   ]
  },
  {
   "cell_type": "code",
   "execution_count": 5,
   "metadata": {},
   "outputs": [
    {
     "data": {
      "application/vnd.vegalite.v2+json": {
       "$schema": "https://vega.github.io/schema/vega-lite/v2.6.0.json",
       "config": {
        "view": {
         "height": 300,
         "width": 400
        }
       },
       "data": {
        "format": {
         "feature": "line",
         "type": "topojson"
        },
        "url": "https://knanne.github.io/notebooks/jupyter/public_data/topojson.json"
       },
       "height": 700,
       "mark": {
        "filled": false,
        "opacity": 0.9,
        "strokeWidth": 0.7,
        "type": "geoshape"
       },
       "title": "Strava Activity in Des Moines, Iowa",
       "width": 900
      },
      "image/png": "[encoded data removed]",
      "text/plain": [
       "<VegaLite 2 object>\n",
       "\n",
       "If you see this message, it means the renderer has not been properly enabled\n",
       "for the frontend that you are using. For more information, see\n",
       "https://altair-viz.github.io/user_guide/troubleshooting.html\n"
      ]
     },
     "execution_count": 5,
     "metadata": {},
     "output_type": "execute_result"
    }
   ],
   "source": [
    "chart = alt.Chart(data).mark_geoshape(\n",
    "    strokeWidth=.7,\n",
    "    opacity=.9,\n",
    "    filled=False\n",
    ").properties(\n",
    "    title='Strava Activity in Des Moines, Iowa',\n",
    "    width=900,\n",
    "    height=700\n",
    ")\n",
    "\n",
    "chart"
   ]
  }
 ],
 "metadata": {
  "kernelspec": {
   "display_name": "Python 3",
   "language": "python",
   "name": "python3"
  },
  "language_info": {
   "codemirror_mode": {
    "name": "ipython",
    "version": 3
   },
   "file_extension": ".py",
   "mimetype": "text/x-python",
   "name": "python",
   "nbconvert_exporter": "python",
   "pygments_lexer": "ipython3",
   "version": "3.6.8"
  }
 },
 "nbformat": 4,
 "nbformat_minor": 2
}
