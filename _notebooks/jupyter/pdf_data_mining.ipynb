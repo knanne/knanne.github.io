{
 "cells": [
  {
   "cell_type": "markdown",
   "metadata": {},
   "source": [
    "# Sample PDF"
   ]
  },
  {
   "cell_type": "code",
   "execution_count": 16,
   "metadata": {},
   "outputs": [],
   "source": [
    "file = 'sample.pdf'"
   ]
  },
  {
   "cell_type": "markdown",
   "metadata": {},
   "source": [
    "# PDF to Text using pdfminer\n",
    "\n",
    "#### Source of Funtion Below\n",
    "\n",
    "https://stackoverflow.com/a/26495057/5356898"
   ]
  },
  {
   "cell_type": "code",
   "execution_count": 13,
   "metadata": {},
   "outputs": [],
   "source": [
    "from pdfminer.pdfinterp import PDFResourceManager, PDFPageInterpreter\n",
    "from pdfminer.converter import TextConverter\n",
    "from pdfminer.layout import LAParams\n",
    "from pdfminer.pdfpage import PDFPage\n",
    "from io import StringIO\n",
    "\n",
    "def convert_pdf_to_txt(file):\n",
    "    rsrcmgr = PDFResourceManager()\n",
    "    retstr = StringIO()\n",
    "    codec = 'utf-8'\n",
    "    laparams = LAParams()\n",
    "    device = TextConverter(rsrcmgr, retstr, codec=codec, laparams=laparams)\n",
    "    fp = open(file, 'rb')\n",
    "    interpreter = PDFPageInterpreter(rsrcmgr, device)\n",
    "    password = \"\"\n",
    "    maxpages = 0\n",
    "    caching = True\n",
    "    pagenos=set()\n",
    "\n",
    "    for page in PDFPage.get_pages(fp, pagenos, maxpages=maxpages, password=password, caching=caching, check_extractable=True):\n",
    "        interpreter.process_page(page)\n",
    "\n",
    "    text = retstr.getvalue()\n",
    "    \n",
    "    text = text.replace('  ',' ').replace('  ',' ')\n",
    "\n",
    "    fp.close()\n",
    "    device.close()\n",
    "    retstr.close()\n",
    "    return text"
   ]
  },
  {
   "cell_type": "code",
   "execution_count": 17,
   "metadata": {},
   "outputs": [],
   "source": [
    "pdf = convert_pdf_to_txt(file)"
   ]
  },
  {
   "cell_type": "code",
   "execution_count": 18,
   "metadata": {},
   "outputs": [
    {
     "data": {
      "text/plain": [
       "'\\x0c\\x0cPython for Data Analysis\\n\\nWes McKinney\\n\\nBeijing • Cambridge • Farnham • Köln • Sebastopol • Tokyo\\n\\n\\x0cPython for Data Analysis\\nby Wes McKinney\\n\\nCopyright © 2013 Wes McKinney. All rights reserved.\\nPrinted in the United States of America.\\n\\nPublished by O’Reilly Media, Inc., 1005 Gravenstein Highway North, Sebastopol, CA 95472.\\n\\nO’Reilly books may be purchased for educational, business, or sales promotional use. Online editions\\nare also available for most titles (http://my.safaribooksonline.com). For more information, contact our\\ncorporate/institutional sales department: 800-998-9938 or corporate@oreilly.com.\\n\\nEditors: Julie Steele and Meghan Blanchette\\nProduction Editor: Melanie Yarbrough\\nCopyeditor: Teresa Exley\\nProofreader: BIM Publishing Services\\n\\nIndexer: BIM Publishing Services\\nCover Designer: Karen Montgomery\\nInterior Designer: David Futato\\nIllustrator: Rebecca Demarest\\n\\nOctober 2012:\\nFirst Edition. \\nRevision History for the First Edition:\\n\\n2012-10-05\\n\\nFirst release\\n\\nSee http://oreilly.com/catalog/errata.csp?isbn=9781449319793 for release details.\\n\\nNutshell Handbook, the Nutshell Handbook logo, and the O’Reilly logo are registered trademarks of\\nO’Reilly Media, Inc. Python for Data Analysis, the cover image of a golden-tailed tree shrew, and related\\ntrade dress are trademarks of O’Reilly Media, Inc.\\n\\nMany of the designations used by manufacturers and sellers to distinguish their products are claimed as\\ntrademarks. Where those designations appear in this book, and O’Reilly Media, Inc., was aware of a\\ntrademark claim, the designations have been printed in caps or initial caps.\\n\\nWhile every precaution has been taken in the preparation of this book, the publisher and author assume\\nno responsibility for errors or omissions, or for damages resulting from the use of the information con-\\ntained herein.\\n\\nISBN: 978-1-449-31979-3\\n\\n[LSI]\\n\\n1349356084\\n\\n\\x0cTable of Contents\\n\\nPreface . . . . . . . . . . . . . . . . . . . . . . . . . . . . . . . . . . . . . . . . . . . . . . . . . . . . . . . . . . . . . . . . . . . . . xi\\n\\nEssential Python Libraries\\n\\nNumPy\\npandas\\nmatplotlib\\nIPython\\nSciPy\\n\\nInstallation and Setup\\n\\nWhat Is This Book About?\\nWhy Python for Data Analysis?\\n\\nPython as Glue\\nSolving the “Two-Language” Problem\\nWhy Not Python?\\n\\n1. Preliminaries . . . . . . . . . . . . . . . . . . . . . . . . . . . . . . . . . . . . . . . . . . . . . . . . . . . . . . . . . . . 1\\n1\\n2\\n2\\n2\\n3\\n3\\n4\\n4\\n5\\n5\\n6\\n6\\n7\\n9\\n10\\n11\\n11\\n12\\n12\\n13\\n13\\n13\\n13\\n14\\n\\nWindows\\nApple OS X\\nGNU/Linux\\nPython 2 and Pyth'"
      ]
     },
     "execution_count": 18,
     "metadata": {},
     "output_type": "execute_result"
    }
   ],
   "source": [
    "pdf[:2500]"
   ]
  },
  {
   "cell_type": "markdown",
   "metadata": {},
   "source": [
    "# PDF Metadata using pdfminer"
   ]
  },
  {
   "cell_type": "code",
   "execution_count": 19,
   "metadata": {},
   "outputs": [],
   "source": [
    "from pdfminer.pdfparser import PDFParser\n",
    "from pdfminer.pdfdocument import PDFDocument\n",
    "from pdfminer.pdftypes import resolve1"
   ]
  },
  {
   "cell_type": "code",
   "execution_count": 20,
   "metadata": {},
   "outputs": [],
   "source": [
    "fp = open('sample.pdf', 'rb')\n",
    "parser = PDFParser(fp)\n",
    "doc = PDFDocument(parser)"
   ]
  },
  {
   "cell_type": "code",
   "execution_count": 35,
   "metadata": {},
   "outputs": [
    {
     "data": {
      "text/plain": [
       "{'Author': b'Wes McKinney',\n",
       " 'CreationDate': b\"D:20140408222039Z00'00'\",\n",
       " 'Creator': b'XSL Formatter V4.3 R1 (4,3,2008,0424) for Linux',\n",
       " 'ModDate': b\"D:20140408222039Z00'00'\",\n",
       " 'Producer': b'Mac OS X 10.9.2 Quartz PDFContext',\n",
       " 'Title': b'Python for Data Analysis'}"
      ]
     },
     "execution_count": 35,
     "metadata": {},
     "output_type": "execute_result"
    }
   ],
   "source": [
    "{k:v.resolve() for k,v in doc.info[0].items()}"
   ]
  },
  {
   "cell_type": "code",
   "execution_count": 36,
   "metadata": {},
   "outputs": [
    {
     "data": {
      "text/plain": [
       "{'Outlines': <PDFObjRef:2>, 'Pages': <PDFObjRef:5678>, 'Type': /'Catalog'}"
      ]
     },
     "execution_count": 36,
     "metadata": {},
     "output_type": "execute_result"
    }
   ],
   "source": [
    "doc.catalog"
   ]
  },
  {
   "cell_type": "code",
   "execution_count": 47,
   "metadata": {},
   "outputs": [
    {
     "data": {
      "text/plain": [
       "{'Count': 470,\n",
       " 'Kids': [<PDFObjRef:5670>,\n",
       "  <PDFObjRef:5671>,\n",
       "  <PDFObjRef:5672>,\n",
       "  <PDFObjRef:5673>,\n",
       "  <PDFObjRef:5674>,\n",
       "  <PDFObjRef:5675>,\n",
       "  <PDFObjRef:5676>,\n",
       "  <PDFObjRef:5677>],\n",
       " 'MediaBox': [0, 0, 612, 792],\n",
       " 'Type': /'Pages'}"
      ]
     },
     "execution_count": 47,
     "metadata": {},
     "output_type": "execute_result"
    }
   ],
   "source": [
    "doc.catalog['Pages'].resolve()"
   ]
  },
  {
   "cell_type": "markdown",
   "metadata": {},
   "source": [
    "**Resolve Metadata to XML if exists**"
   ]
  },
  {
   "cell_type": "code",
   "execution_count": 38,
   "metadata": {},
   "outputs": [],
   "source": [
    "catalog_metadata = doc.catalog['Metadata']\n",
    "resolved_xml = catalog_metadata.resolve()\n",
    "soup = BeautifulSoup(resolved_xml.get_data(), 'lxml')"
   ]
  },
  {
   "cell_type": "code",
   "execution_count": null,
   "metadata": {},
   "outputs": [],
   "source": [
    "print(soup.prettify(formatter=None))"
   ]
  }
 ],
 "metadata": {
  "kernelspec": {
   "display_name": "Python 3",
   "language": "python",
   "name": "python3"
  },
  "language_info": {
   "codemirror_mode": {
    "name": "ipython",
    "version": 3
   },
   "file_extension": ".py",
   "mimetype": "text/x-python",
   "name": "python",
   "nbconvert_exporter": "python",
   "pygments_lexer": "ipython3",
   "version": "3.4.5"
  }
 },
 "nbformat": 4,
 "nbformat_minor": 2
}
