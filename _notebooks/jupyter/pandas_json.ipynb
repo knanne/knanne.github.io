{
 "cells": [
  {
   "cell_type": "markdown",
   "metadata": {},
   "source": [
    "# Pandas JSON"
   ]
  },
  {
   "cell_type": "code",
   "execution_count": 1,
   "metadata": {
    "collapsed": true
   },
   "outputs": [],
   "source": [
    "import pandas as pd\n",
    "import numpy as np\n",
    "import json"
   ]
  },
  {
   "cell_type": "markdown",
   "metadata": {},
   "source": [
    "## Read JSON File"
   ]
  },
  {
   "cell_type": "code",
   "execution_count": null,
   "metadata": {
    "collapsed": false
   },
   "outputs": [],
   "source": [
    "with open('file.json') as f:\n",
    "    d = json.loads(f.read())"
   ]
  },
  {
   "cell_type": "markdown",
   "metadata": {},
   "source": [
    "## DataFrame From Dictionary"
   ]
  },
  {
   "cell_type": "code",
   "execution_count": 2,
   "metadata": {
    "collapsed": false
   },
   "outputs": [],
   "source": [
    "# dummy json data\n",
    "d = {}\n",
    "for i in range(2):\n",
    "    for j,k in enumerate(np.random.rand(2)):\n",
    "        d[(i,j)] = {'data1':k, 'data2':np.square(k), 'data3':np.sqrt(k), 'data4':np.log(k)}"
   ]
  },
  {
   "cell_type": "code",
   "execution_count": 3,
   "metadata": {
    "collapsed": false
   },
   "outputs": [
    {
     "data": {
      "text/plain": [
       "{(0, 0): {'data1': 0.36763612809007506,\n",
       "  'data2': 0.13515632267706207,\n",
       "  'data3': 0.60633004881011388,\n",
       "  'data4': -1.0006616123448944},\n",
       " (0, 1): {'data1': 0.1425640998745108,\n",
       "  'data2': 0.02032452257302949,\n",
       "  'data3': 0.37757661457578484,\n",
       "  'data4': -1.9479635567329971},\n",
       " (1, 0): {'data1': 0.67871583725104201,\n",
       "  'data2': 0.46065518773538294,\n",
       "  'data3': 0.82384211912904892,\n",
       "  'data4': -0.38755274085918401},\n",
       " (1, 1): {'data1': 0.37571703918967791,\n",
       "  'data2': 0.14116329353745796,\n",
       "  'data3': 0.61295761614460575,\n",
       "  'data4': -0.97891897425076624}}"
      ]
     },
     "execution_count": 3,
     "metadata": {},
     "output_type": "execute_result"
    }
   ],
   "source": [
    "d"
   ]
  },
  {
   "cell_type": "code",
   "execution_count": 4,
   "metadata": {
    "collapsed": true
   },
   "outputs": [],
   "source": [
    "# create DataFrame from dictionary where keys are DataFrame multiindex\n",
    "df = pd.DataFrame.from_dict(d, orient='index')"
   ]
  },
  {
   "cell_type": "code",
   "execution_count": 5,
   "metadata": {
    "collapsed": true
   },
   "outputs": [],
   "source": [
    "# rename multiindex\n",
    "df.index.names = ['category1', 'category2']"
   ]
  },
  {
   "cell_type": "code",
   "execution_count": 6,
   "metadata": {
    "collapsed": false
   },
   "outputs": [
    {
     "data": {
      "text/html": [
       "<div>\n",
       "<style>\n",
       "    .dataframe thead tr:only-child th {\n",
       "        text-align: right;\n",
       "    }\n",
       "\n",
       "    .dataframe thead th {\n",
       "        text-align: left;\n",
       "    }\n",
       "\n",
       "    .dataframe tbody tr th {\n",
       "        vertical-align: top;\n",
       "    }\n",
       "</style>\n",
       "<table border=\"1\" class=\"dataframe\">\n",
       "  <thead>\n",
       "    <tr style=\"text-align: right;\">\n",
       "      <th></th>\n",
       "      <th></th>\n",
       "      <th>data3</th>\n",
       "      <th>data1</th>\n",
       "      <th>data2</th>\n",
       "      <th>data4</th>\n",
       "    </tr>\n",
       "    <tr>\n",
       "      <th>category1</th>\n",
       "      <th>category2</th>\n",
       "      <th></th>\n",
       "      <th></th>\n",
       "      <th></th>\n",
       "      <th></th>\n",
       "    </tr>\n",
       "  </thead>\n",
       "  <tbody>\n",
       "    <tr>\n",
       "      <th rowspan=\"2\" valign=\"top\">0</th>\n",
       "      <th>0</th>\n",
       "      <td>0.606330</td>\n",
       "      <td>0.367636</td>\n",
       "      <td>0.135156</td>\n",
       "      <td>-1.000662</td>\n",
       "    </tr>\n",
       "    <tr>\n",
       "      <th>1</th>\n",
       "      <td>0.377577</td>\n",
       "      <td>0.142564</td>\n",
       "      <td>0.020325</td>\n",
       "      <td>-1.947964</td>\n",
       "    </tr>\n",
       "    <tr>\n",
       "      <th rowspan=\"2\" valign=\"top\">1</th>\n",
       "      <th>0</th>\n",
       "      <td>0.823842</td>\n",
       "      <td>0.678716</td>\n",
       "      <td>0.460655</td>\n",
       "      <td>-0.387553</td>\n",
       "    </tr>\n",
       "    <tr>\n",
       "      <th>1</th>\n",
       "      <td>0.612958</td>\n",
       "      <td>0.375717</td>\n",
       "      <td>0.141163</td>\n",
       "      <td>-0.978919</td>\n",
       "    </tr>\n",
       "  </tbody>\n",
       "</table>\n",
       "</div>"
      ],
      "text/plain": [
       "                        data3     data1     data2     data4\n",
       "category1 category2                                        \n",
       "0         0          0.606330  0.367636  0.135156 -1.000662\n",
       "          1          0.377577  0.142564  0.020325 -1.947964\n",
       "1         0          0.823842  0.678716  0.460655 -0.387553\n",
       "          1          0.612958  0.375717  0.141163 -0.978919"
      ]
     },
     "execution_count": 6,
     "metadata": {},
     "output_type": "execute_result"
    }
   ],
   "source": [
    "df"
   ]
  },
  {
   "cell_type": "markdown",
   "metadata": {},
   "source": [
    "## Dictionary From DataFrame"
   ]
  },
  {
   "cell_type": "code",
   "execution_count": 7,
   "metadata": {
    "collapsed": false
   },
   "outputs": [
    {
     "data": {
      "text/plain": [
       "{'data1': {(0, 0): 0.36763612809007506,\n",
       "  (0, 1): 0.1425640998745108,\n",
       "  (1, 0): 0.67871583725104201,\n",
       "  (1, 1): 0.37571703918967791},\n",
       " 'data2': {(0, 0): 0.13515632267706207,\n",
       "  (0, 1): 0.02032452257302949,\n",
       "  (1, 0): 0.46065518773538294,\n",
       "  (1, 1): 0.14116329353745796},\n",
       " 'data3': {(0, 0): 0.60633004881011388,\n",
       "  (0, 1): 0.37757661457578484,\n",
       "  (1, 0): 0.82384211912904892,\n",
       "  (1, 1): 0.61295761614460575},\n",
       " 'data4': {(0, 0): -1.0006616123448944,\n",
       "  (0, 1): -1.9479635567329971,\n",
       "  (1, 0): -0.38755274085918401,\n",
       "  (1, 1): -0.97891897425076624}}"
      ]
     },
     "execution_count": 7,
     "metadata": {},
     "output_type": "execute_result"
    }
   ],
   "source": [
    "df.to_dict()"
   ]
  },
  {
   "cell_type": "markdown",
   "metadata": {},
   "source": [
    "To get back to original format we had, first transpose.  "
   ]
  },
  {
   "cell_type": "code",
   "execution_count": 8,
   "metadata": {
    "collapsed": false
   },
   "outputs": [
    {
     "data": {
      "text/plain": [
       "{(0, 0): {'data1': 0.36763612809007506,\n",
       "  'data2': 0.13515632267706207,\n",
       "  'data3': 0.60633004881011388,\n",
       "  'data4': -1.0006616123448944},\n",
       " (0, 1): {'data1': 0.1425640998745108,\n",
       "  'data2': 0.02032452257302949,\n",
       "  'data3': 0.37757661457578484,\n",
       "  'data4': -1.9479635567329971},\n",
       " (1, 0): {'data1': 0.67871583725104201,\n",
       "  'data2': 0.46065518773538294,\n",
       "  'data3': 0.82384211912904892,\n",
       "  'data4': -0.38755274085918401},\n",
       " (1, 1): {'data1': 0.37571703918967791,\n",
       "  'data2': 0.14116329353745796,\n",
       "  'data3': 0.61295761614460575,\n",
       "  'data4': -0.97891897425076624}}"
      ]
     },
     "execution_count": 8,
     "metadata": {},
     "output_type": "execute_result"
    }
   ],
   "source": [
    "df.T.to_dict()"
   ]
  }
 ],
 "metadata": {
  "kernelspec": {
   "display_name": "Python 3",
   "language": "python",
   "name": "python3"
  },
  "language_info": {
   "codemirror_mode": {
    "name": "ipython",
    "version": 3
   },
   "file_extension": ".py",
   "mimetype": "text/x-python",
   "name": "python",
   "nbconvert_exporter": "python",
   "pygments_lexer": "ipython3",
   "version": "3.4.5"
  }
 },
 "nbformat": 4,
 "nbformat_minor": 2
}
