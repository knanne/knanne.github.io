{
 "cells": [
  {
   "cell_type": "markdown",
   "metadata": {},
   "source": [
    "# Introduction\n",
    "\n",
    "As I commute daily with the train, I thought a simple data project would be to visualize my travel history. This can be used as a template or inspiration for others.  \n",
    "\n",
    "NS is the train company in the netherlands. You can download your data by going to https://www.ns.nl/mijnns#/reishistorie and selecting `Periode > CSV > Download`.  \n",
    "\n",
    "We will visualize the trajectories in this data quickly in Tabelau. To map the trips geographically we use the methodology outline by Tableau here https://onlinehelp.tableau.com/current/pro/desktop/en-us/maps_howto_origin_destination.htm  \n",
    "\n",
    "To get the data in this format, follow this notebook.  \n",
    "\n",
    "Lastly, to make things simple, I am not going to try and visualize the specific routes I took. However, I have found a usable geographic dataset ([shape file](https://en.wikipedia.org/wiki/Shapefile)) of Netherlands train routes ([from here](http://geoplaza.vu.nl/data/dataset/railway-stations-railway-tracks)), and therefor we will plot this next to my trajectories simply for reference. For more on how to import spatial files into Tableau [see here](https://onlinehelp.tableau.com/current/pro/desktop/en-us/maps_shapefiles.htm).  "
   ]
  },
  {
   "cell_type": "markdown",
   "metadata": {},
   "source": [
    "# Dependencies"
   ]
  },
  {
   "cell_type": "code",
   "execution_count": 1,
   "metadata": {},
   "outputs": [],
   "source": [
    "import pandas as pd"
   ]
  },
  {
   "cell_type": "markdown",
   "metadata": {},
   "source": [
    "## Import NS Dataset"
   ]
  },
  {
   "cell_type": "code",
   "execution_count": 2,
   "metadata": {},
   "outputs": [],
   "source": [
    "df = pd.read_csv('data/reistransacties-a21a7c18-b5e2-4f67-8a68-1c76c3ebdda8-1555156489-25d6adc3-1680-49a1-bea7-4f7d15eedf35.csv')"
   ]
  },
  {
   "cell_type": "code",
   "execution_count": 3,
   "metadata": {},
   "outputs": [
    {
     "data": {
      "text/html": [
       "<div>\n",
       "<style scoped>\n",
       "    .dataframe tbody tr th:only-of-type {\n",
       "        vertical-align: middle;\n",
       "    }\n",
       "\n",
       "    .dataframe tbody tr th {\n",
       "        vertical-align: top;\n",
       "    }\n",
       "\n",
       "    .dataframe thead th {\n",
       "        text-align: right;\n",
       "    }\n",
       "</style>\n",
       "<table border=\"1\" class=\"dataframe\">\n",
       "  <thead>\n",
       "    <tr style=\"text-align: right;\">\n",
       "      <th></th>\n",
       "      <th>Datum</th>\n",
       "      <th>Check in</th>\n",
       "      <th>Vertrek</th>\n",
       "      <th>Check uit</th>\n",
       "      <th>Bestemming</th>\n",
       "      <th>Af</th>\n",
       "      <th>Bij</th>\n",
       "      <th>Transactie</th>\n",
       "      <th>Kl</th>\n",
       "      <th>Product</th>\n",
       "      <th>Prive/ Zakelijk</th>\n",
       "      <th>Opmerking</th>\n",
       "    </tr>\n",
       "  </thead>\n",
       "  <tbody>\n",
       "    <tr>\n",
       "      <th>0</th>\n",
       "      <td>15-01-2019</td>\n",
       "      <td>17:47</td>\n",
       "      <td>Amsterdam Sloterdijk</td>\n",
       "      <td>18:29</td>\n",
       "      <td>Leiden Centraal</td>\n",
       "      <td>€0,00</td>\n",
       "      <td>€0,00</td>\n",
       "      <td>Reis</td>\n",
       "      <td>2.0</td>\n",
       "      <td>Traject Vrij (maand)</td>\n",
       "      <td>zakelijk</td>\n",
       "      <td>NaN</td>\n",
       "    </tr>\n",
       "    <tr>\n",
       "      <th>1</th>\n",
       "      <td>16-01-2019</td>\n",
       "      <td>07:58</td>\n",
       "      <td>Leiden Centraal</td>\n",
       "      <td>08:36</td>\n",
       "      <td>Amsterdam Sloterdijk</td>\n",
       "      <td>€0,00</td>\n",
       "      <td>€0,00</td>\n",
       "      <td>Reis</td>\n",
       "      <td>2.0</td>\n",
       "      <td>Traject Vrij (maand)</td>\n",
       "      <td>zakelijk</td>\n",
       "      <td>NaN</td>\n",
       "    </tr>\n",
       "    <tr>\n",
       "      <th>2</th>\n",
       "      <td>16-01-2019</td>\n",
       "      <td>18:09</td>\n",
       "      <td>Amsterdam Sloterdijk</td>\n",
       "      <td>18:43</td>\n",
       "      <td>Leiden Centraal</td>\n",
       "      <td>€0,00</td>\n",
       "      <td>€0,00</td>\n",
       "      <td>Reis</td>\n",
       "      <td>2.0</td>\n",
       "      <td>Traject Vrij (maand)</td>\n",
       "      <td>zakelijk</td>\n",
       "      <td>NaN</td>\n",
       "    </tr>\n",
       "    <tr>\n",
       "      <th>3</th>\n",
       "      <td>17-01-2019</td>\n",
       "      <td>08:25</td>\n",
       "      <td>Leiden Centraal</td>\n",
       "      <td>08:27</td>\n",
       "      <td>Leiden Centraal</td>\n",
       "      <td>€0,00</td>\n",
       "      <td>€0,00</td>\n",
       "      <td>Reis</td>\n",
       "      <td>2.0</td>\n",
       "      <td>Traject Vrij (maand)</td>\n",
       "      <td>zakelijk</td>\n",
       "      <td>NaN</td>\n",
       "    </tr>\n",
       "    <tr>\n",
       "      <th>4</th>\n",
       "      <td>17-01-2019</td>\n",
       "      <td>08:30</td>\n",
       "      <td>Leiden Centraal</td>\n",
       "      <td>09:14</td>\n",
       "      <td>Amsterdam Sloterdijk</td>\n",
       "      <td>€0,00</td>\n",
       "      <td>€0,00</td>\n",
       "      <td>Reis</td>\n",
       "      <td>2.0</td>\n",
       "      <td>Traject Vrij (maand)</td>\n",
       "      <td>zakelijk</td>\n",
       "      <td>NaN</td>\n",
       "    </tr>\n",
       "  </tbody>\n",
       "</table>\n",
       "</div>"
      ],
      "text/plain": [
       "        Datum Check in               Vertrek Check uit            Bestemming  \\\n",
       "0  15-01-2019    17:47  Amsterdam Sloterdijk     18:29       Leiden Centraal   \n",
       "1  16-01-2019    07:58       Leiden Centraal     08:36  Amsterdam Sloterdijk   \n",
       "2  16-01-2019    18:09  Amsterdam Sloterdijk     18:43       Leiden Centraal   \n",
       "3  17-01-2019    08:25       Leiden Centraal     08:27       Leiden Centraal   \n",
       "4  17-01-2019    08:30       Leiden Centraal     09:14  Amsterdam Sloterdijk   \n",
       "\n",
       "      Af    Bij Transactie   Kl               Product Prive/ Zakelijk  \\\n",
       "0  €0,00  €0,00       Reis  2.0  Traject Vrij (maand)        zakelijk   \n",
       "1  €0,00  €0,00       Reis  2.0  Traject Vrij (maand)        zakelijk   \n",
       "2  €0,00  €0,00       Reis  2.0  Traject Vrij (maand)        zakelijk   \n",
       "3  €0,00  €0,00       Reis  2.0  Traject Vrij (maand)        zakelijk   \n",
       "4  €0,00  €0,00       Reis  2.0  Traject Vrij (maand)        zakelijk   \n",
       "\n",
       "   Opmerking  \n",
       "0        NaN  \n",
       "1        NaN  \n",
       "2        NaN  \n",
       "3        NaN  \n",
       "4        NaN  "
      ]
     },
     "execution_count": 3,
     "metadata": {},
     "output_type": "execute_result"
    }
   ],
   "source": [
    "df.head()"
   ]
  },
  {
   "cell_type": "markdown",
   "metadata": {},
   "source": [
    "## Create Unique Path ID for each Trip"
   ]
  },
  {
   "cell_type": "code",
   "execution_count": 4,
   "metadata": {},
   "outputs": [],
   "source": [
    "df.loc[:,'path_id'] = df.Vertrek+'-'+df.Bestemming"
   ]
  },
  {
   "cell_type": "markdown",
   "metadata": {},
   "source": [
    "## Split Dataset in Two, one for each Location in Path"
   ]
  },
  {
   "cell_type": "code",
   "execution_count": 5,
   "metadata": {},
   "outputs": [],
   "source": [
    "df1 = df.copy()\n",
    "\n",
    "df1 = df1[df1.Transactie == 'Reis'][['Datum','Check in','Vertrek','Check uit','path_id']]\n",
    "\n",
    "df1 = df1.rename(columns={'Vertrek':'Location'})\n",
    "\n",
    "df1.loc[:,'path_order'] = 1"
   ]
  },
  {
   "cell_type": "code",
   "execution_count": 6,
   "metadata": {},
   "outputs": [
    {
     "data": {
      "text/html": [
       "<div>\n",
       "<style scoped>\n",
       "    .dataframe tbody tr th:only-of-type {\n",
       "        vertical-align: middle;\n",
       "    }\n",
       "\n",
       "    .dataframe tbody tr th {\n",
       "        vertical-align: top;\n",
       "    }\n",
       "\n",
       "    .dataframe thead th {\n",
       "        text-align: right;\n",
       "    }\n",
       "</style>\n",
       "<table border=\"1\" class=\"dataframe\">\n",
       "  <thead>\n",
       "    <tr style=\"text-align: right;\">\n",
       "      <th></th>\n",
       "      <th>Datum</th>\n",
       "      <th>Check in</th>\n",
       "      <th>Location</th>\n",
       "      <th>Check uit</th>\n",
       "      <th>path_id</th>\n",
       "      <th>path_order</th>\n",
       "    </tr>\n",
       "  </thead>\n",
       "  <tbody>\n",
       "    <tr>\n",
       "      <th>0</th>\n",
       "      <td>15-01-2019</td>\n",
       "      <td>17:47</td>\n",
       "      <td>Amsterdam Sloterdijk</td>\n",
       "      <td>18:29</td>\n",
       "      <td>Amsterdam Sloterdijk-Leiden Centraal</td>\n",
       "      <td>1</td>\n",
       "    </tr>\n",
       "    <tr>\n",
       "      <th>1</th>\n",
       "      <td>16-01-2019</td>\n",
       "      <td>07:58</td>\n",
       "      <td>Leiden Centraal</td>\n",
       "      <td>08:36</td>\n",
       "      <td>Leiden Centraal-Amsterdam Sloterdijk</td>\n",
       "      <td>1</td>\n",
       "    </tr>\n",
       "    <tr>\n",
       "      <th>2</th>\n",
       "      <td>16-01-2019</td>\n",
       "      <td>18:09</td>\n",
       "      <td>Amsterdam Sloterdijk</td>\n",
       "      <td>18:43</td>\n",
       "      <td>Amsterdam Sloterdijk-Leiden Centraal</td>\n",
       "      <td>1</td>\n",
       "    </tr>\n",
       "    <tr>\n",
       "      <th>3</th>\n",
       "      <td>17-01-2019</td>\n",
       "      <td>08:25</td>\n",
       "      <td>Leiden Centraal</td>\n",
       "      <td>08:27</td>\n",
       "      <td>Leiden Centraal-Leiden Centraal</td>\n",
       "      <td>1</td>\n",
       "    </tr>\n",
       "    <tr>\n",
       "      <th>4</th>\n",
       "      <td>17-01-2019</td>\n",
       "      <td>08:30</td>\n",
       "      <td>Leiden Centraal</td>\n",
       "      <td>09:14</td>\n",
       "      <td>Leiden Centraal-Amsterdam Sloterdijk</td>\n",
       "      <td>1</td>\n",
       "    </tr>\n",
       "  </tbody>\n",
       "</table>\n",
       "</div>"
      ],
      "text/plain": [
       "        Datum Check in              Location Check uit  \\\n",
       "0  15-01-2019    17:47  Amsterdam Sloterdijk     18:29   \n",
       "1  16-01-2019    07:58       Leiden Centraal     08:36   \n",
       "2  16-01-2019    18:09  Amsterdam Sloterdijk     18:43   \n",
       "3  17-01-2019    08:25       Leiden Centraal     08:27   \n",
       "4  17-01-2019    08:30       Leiden Centraal     09:14   \n",
       "\n",
       "                                path_id  path_order  \n",
       "0  Amsterdam Sloterdijk-Leiden Centraal           1  \n",
       "1  Leiden Centraal-Amsterdam Sloterdijk           1  \n",
       "2  Amsterdam Sloterdijk-Leiden Centraal           1  \n",
       "3       Leiden Centraal-Leiden Centraal           1  \n",
       "4  Leiden Centraal-Amsterdam Sloterdijk           1  "
      ]
     },
     "execution_count": 6,
     "metadata": {},
     "output_type": "execute_result"
    }
   ],
   "source": [
    "df1.head()"
   ]
  },
  {
   "cell_type": "code",
   "execution_count": 7,
   "metadata": {},
   "outputs": [],
   "source": [
    "df2 = df.copy()\n",
    "\n",
    "df2 = df2[df2.Transactie == 'Reis'][['Datum','Check in','Bestemming','Check uit','path_id']]\n",
    "\n",
    "df2 = df2.rename(columns={'Bestemming':'Location'})\n",
    "\n",
    "df2.loc[:,'path_order'] = 2"
   ]
  },
  {
   "cell_type": "code",
   "execution_count": 8,
   "metadata": {},
   "outputs": [
    {
     "data": {
      "text/html": [
       "<div>\n",
       "<style scoped>\n",
       "    .dataframe tbody tr th:only-of-type {\n",
       "        vertical-align: middle;\n",
       "    }\n",
       "\n",
       "    .dataframe tbody tr th {\n",
       "        vertical-align: top;\n",
       "    }\n",
       "\n",
       "    .dataframe thead th {\n",
       "        text-align: right;\n",
       "    }\n",
       "</style>\n",
       "<table border=\"1\" class=\"dataframe\">\n",
       "  <thead>\n",
       "    <tr style=\"text-align: right;\">\n",
       "      <th></th>\n",
       "      <th>Datum</th>\n",
       "      <th>Check in</th>\n",
       "      <th>Location</th>\n",
       "      <th>Check uit</th>\n",
       "      <th>path_id</th>\n",
       "      <th>path_order</th>\n",
       "    </tr>\n",
       "  </thead>\n",
       "  <tbody>\n",
       "    <tr>\n",
       "      <th>0</th>\n",
       "      <td>15-01-2019</td>\n",
       "      <td>17:47</td>\n",
       "      <td>Leiden Centraal</td>\n",
       "      <td>18:29</td>\n",
       "      <td>Amsterdam Sloterdijk-Leiden Centraal</td>\n",
       "      <td>2</td>\n",
       "    </tr>\n",
       "    <tr>\n",
       "      <th>1</th>\n",
       "      <td>16-01-2019</td>\n",
       "      <td>07:58</td>\n",
       "      <td>Amsterdam Sloterdijk</td>\n",
       "      <td>08:36</td>\n",
       "      <td>Leiden Centraal-Amsterdam Sloterdijk</td>\n",
       "      <td>2</td>\n",
       "    </tr>\n",
       "    <tr>\n",
       "      <th>2</th>\n",
       "      <td>16-01-2019</td>\n",
       "      <td>18:09</td>\n",
       "      <td>Leiden Centraal</td>\n",
       "      <td>18:43</td>\n",
       "      <td>Amsterdam Sloterdijk-Leiden Centraal</td>\n",
       "      <td>2</td>\n",
       "    </tr>\n",
       "    <tr>\n",
       "      <th>3</th>\n",
       "      <td>17-01-2019</td>\n",
       "      <td>08:25</td>\n",
       "      <td>Leiden Centraal</td>\n",
       "      <td>08:27</td>\n",
       "      <td>Leiden Centraal-Leiden Centraal</td>\n",
       "      <td>2</td>\n",
       "    </tr>\n",
       "    <tr>\n",
       "      <th>4</th>\n",
       "      <td>17-01-2019</td>\n",
       "      <td>08:30</td>\n",
       "      <td>Amsterdam Sloterdijk</td>\n",
       "      <td>09:14</td>\n",
       "      <td>Leiden Centraal-Amsterdam Sloterdijk</td>\n",
       "      <td>2</td>\n",
       "    </tr>\n",
       "  </tbody>\n",
       "</table>\n",
       "</div>"
      ],
      "text/plain": [
       "        Datum Check in              Location Check uit  \\\n",
       "0  15-01-2019    17:47       Leiden Centraal     18:29   \n",
       "1  16-01-2019    07:58  Amsterdam Sloterdijk     08:36   \n",
       "2  16-01-2019    18:09       Leiden Centraal     18:43   \n",
       "3  17-01-2019    08:25       Leiden Centraal     08:27   \n",
       "4  17-01-2019    08:30  Amsterdam Sloterdijk     09:14   \n",
       "\n",
       "                                path_id  path_order  \n",
       "0  Amsterdam Sloterdijk-Leiden Centraal           2  \n",
       "1  Leiden Centraal-Amsterdam Sloterdijk           2  \n",
       "2  Amsterdam Sloterdijk-Leiden Centraal           2  \n",
       "3       Leiden Centraal-Leiden Centraal           2  \n",
       "4  Leiden Centraal-Amsterdam Sloterdijk           2  "
      ]
     },
     "execution_count": 8,
     "metadata": {},
     "output_type": "execute_result"
    }
   ],
   "source": [
    "df2.head()"
   ]
  },
  {
   "cell_type": "markdown",
   "metadata": {},
   "source": [
    "## Create Coordinates of Station Locations"
   ]
  },
  {
   "cell_type": "code",
   "execution_count": 9,
   "metadata": {},
   "outputs": [
    {
     "data": {
      "text/plain": [
       "['Leiden Centraal',\n",
       " 'Amsterdam Sloterdijk',\n",
       " 'Eindhoven',\n",
       " 'Den Haag Centraal',\n",
       " 'Amsterdam Zuid',\n",
       " 'Castricum',\n",
       " 'Amsterdam Centraal',\n",
       " 'Schiphol Airport']"
      ]
     },
     "execution_count": 9,
     "metadata": {},
     "output_type": "execute_result"
    }
   ],
   "source": [
    "list(df.Bestemming.replace(' ',pd.np.nan).dropna().unique())"
   ]
  },
  {
   "cell_type": "code",
   "execution_count": 10,
   "metadata": {},
   "outputs": [],
   "source": [
    "# create this list in Excel"
   ]
  },
  {
   "cell_type": "markdown",
   "metadata": {},
   "source": [
    "## Import Station Coordinates"
   ]
  },
  {
   "cell_type": "code",
   "execution_count": 11,
   "metadata": {},
   "outputs": [],
   "source": [
    "df_coordinates = pd.read_excel('data/NS_Master.xlsx', sheet_name='Coordinates')"
   ]
  },
  {
   "cell_type": "code",
   "execution_count": 12,
   "metadata": {},
   "outputs": [
    {
     "data": {
      "text/html": [
       "<div>\n",
       "<style scoped>\n",
       "    .dataframe tbody tr th:only-of-type {\n",
       "        vertical-align: middle;\n",
       "    }\n",
       "\n",
       "    .dataframe tbody tr th {\n",
       "        vertical-align: top;\n",
       "    }\n",
       "\n",
       "    .dataframe thead th {\n",
       "        text-align: right;\n",
       "    }\n",
       "</style>\n",
       "<table border=\"1\" class=\"dataframe\">\n",
       "  <thead>\n",
       "    <tr style=\"text-align: right;\">\n",
       "      <th></th>\n",
       "      <th>Location</th>\n",
       "      <th>Latitude</th>\n",
       "      <th>Longitude</th>\n",
       "    </tr>\n",
       "  </thead>\n",
       "  <tbody>\n",
       "    <tr>\n",
       "      <th>0</th>\n",
       "      <td>Castricum</td>\n",
       "      <td>52.545611</td>\n",
       "      <td>4.659252</td>\n",
       "    </tr>\n",
       "    <tr>\n",
       "      <th>1</th>\n",
       "      <td>Beverwijk</td>\n",
       "      <td>52.478269</td>\n",
       "      <td>4.655210</td>\n",
       "    </tr>\n",
       "    <tr>\n",
       "      <th>2</th>\n",
       "      <td>Amsterdam Centraal</td>\n",
       "      <td>52.379128</td>\n",
       "      <td>4.900272</td>\n",
       "    </tr>\n",
       "    <tr>\n",
       "      <th>3</th>\n",
       "      <td>Amsterdam Zuid</td>\n",
       "      <td>52.339015</td>\n",
       "      <td>4.874336</td>\n",
       "    </tr>\n",
       "    <tr>\n",
       "      <th>4</th>\n",
       "      <td>Groningen</td>\n",
       "      <td>53.211030</td>\n",
       "      <td>6.564066</td>\n",
       "    </tr>\n",
       "    <tr>\n",
       "      <th>5</th>\n",
       "      <td>Duivendrecht</td>\n",
       "      <td>52.323604</td>\n",
       "      <td>4.936506</td>\n",
       "    </tr>\n",
       "    <tr>\n",
       "      <th>6</th>\n",
       "      <td>Leiden Centraal</td>\n",
       "      <td>52.166404</td>\n",
       "      <td>4.482089</td>\n",
       "    </tr>\n",
       "    <tr>\n",
       "      <th>7</th>\n",
       "      <td>Rotterdam Centraal</td>\n",
       "      <td>51.923955</td>\n",
       "      <td>4.470000</td>\n",
       "    </tr>\n",
       "    <tr>\n",
       "      <th>8</th>\n",
       "      <td>Diemen Zuid</td>\n",
       "      <td>52.330255</td>\n",
       "      <td>4.954847</td>\n",
       "    </tr>\n",
       "    <tr>\n",
       "      <th>9</th>\n",
       "      <td>Delft</td>\n",
       "      <td>52.007545</td>\n",
       "      <td>4.356530</td>\n",
       "    </tr>\n",
       "    <tr>\n",
       "      <th>10</th>\n",
       "      <td>Rotterdam Blaak</td>\n",
       "      <td>51.919852</td>\n",
       "      <td>4.489156</td>\n",
       "    </tr>\n",
       "    <tr>\n",
       "      <th>11</th>\n",
       "      <td>Amsterdam Sloterdijk</td>\n",
       "      <td>52.386785</td>\n",
       "      <td>4.846802</td>\n",
       "    </tr>\n",
       "    <tr>\n",
       "      <th>12</th>\n",
       "      <td>Den Haag Centraal</td>\n",
       "      <td>52.081261</td>\n",
       "      <td>4.323975</td>\n",
       "    </tr>\n",
       "    <tr>\n",
       "      <th>13</th>\n",
       "      <td>Amsterdam Lelylaan</td>\n",
       "      <td>52.357870</td>\n",
       "      <td>4.834040</td>\n",
       "    </tr>\n",
       "    <tr>\n",
       "      <th>14</th>\n",
       "      <td>Den Haag HS</td>\n",
       "      <td>52.070164</td>\n",
       "      <td>4.322235</td>\n",
       "    </tr>\n",
       "    <tr>\n",
       "      <th>15</th>\n",
       "      <td>Eindhoven</td>\n",
       "      <td>51.443391</td>\n",
       "      <td>5.479171</td>\n",
       "    </tr>\n",
       "  </tbody>\n",
       "</table>\n",
       "</div>"
      ],
      "text/plain": [
       "                Location   Latitude  Longitude\n",
       "0              Castricum  52.545611   4.659252\n",
       "1              Beverwijk  52.478269   4.655210\n",
       "2     Amsterdam Centraal  52.379128   4.900272\n",
       "3         Amsterdam Zuid  52.339015   4.874336\n",
       "4              Groningen  53.211030   6.564066\n",
       "5           Duivendrecht  52.323604   4.936506\n",
       "6        Leiden Centraal  52.166404   4.482089\n",
       "7     Rotterdam Centraal  51.923955   4.470000\n",
       "8            Diemen Zuid  52.330255   4.954847\n",
       "9                  Delft  52.007545   4.356530\n",
       "10       Rotterdam Blaak  51.919852   4.489156\n",
       "11  Amsterdam Sloterdijk  52.386785   4.846802\n",
       "12     Den Haag Centraal  52.081261   4.323975\n",
       "13    Amsterdam Lelylaan  52.357870   4.834040\n",
       "14           Den Haag HS  52.070164   4.322235\n",
       "15             Eindhoven  51.443391   5.479171"
      ]
     },
     "execution_count": 12,
     "metadata": {},
     "output_type": "execute_result"
    }
   ],
   "source": [
    "# here I print all coordinates i have already collected for your reference\n",
    "df_coordinates"
   ]
  },
  {
   "cell_type": "markdown",
   "metadata": {},
   "source": [
    "## JOIN Coordinates and UNION"
   ]
  },
  {
   "cell_type": "code",
   "execution_count": 13,
   "metadata": {},
   "outputs": [],
   "source": [
    "df1 = pd.merge(left=df1, right=df_coordinates, how='left', on='Location')"
   ]
  },
  {
   "cell_type": "code",
   "execution_count": 14,
   "metadata": {},
   "outputs": [],
   "source": [
    "df2 = pd.merge(left=df2, right=df_coordinates, how='left', on='Location')"
   ]
  },
  {
   "cell_type": "code",
   "execution_count": 15,
   "metadata": {},
   "outputs": [],
   "source": [
    "df_out = pd.concat([df1,df2], axis=0)"
   ]
  },
  {
   "cell_type": "code",
   "execution_count": 16,
   "metadata": {},
   "outputs": [
    {
     "data": {
      "text/html": [
       "<div>\n",
       "<style scoped>\n",
       "    .dataframe tbody tr th:only-of-type {\n",
       "        vertical-align: middle;\n",
       "    }\n",
       "\n",
       "    .dataframe tbody tr th {\n",
       "        vertical-align: top;\n",
       "    }\n",
       "\n",
       "    .dataframe thead th {\n",
       "        text-align: right;\n",
       "    }\n",
       "</style>\n",
       "<table border=\"1\" class=\"dataframe\">\n",
       "  <thead>\n",
       "    <tr style=\"text-align: right;\">\n",
       "      <th></th>\n",
       "      <th>Datum</th>\n",
       "      <th>Check in</th>\n",
       "      <th>Location</th>\n",
       "      <th>Check uit</th>\n",
       "      <th>path_id</th>\n",
       "      <th>path_order</th>\n",
       "      <th>Latitude</th>\n",
       "      <th>Longitude</th>\n",
       "    </tr>\n",
       "  </thead>\n",
       "  <tbody>\n",
       "    <tr>\n",
       "      <th>0</th>\n",
       "      <td>15-01-2019</td>\n",
       "      <td>17:47</td>\n",
       "      <td>Amsterdam Sloterdijk</td>\n",
       "      <td>18:29</td>\n",
       "      <td>Amsterdam Sloterdijk-Leiden Centraal</td>\n",
       "      <td>1</td>\n",
       "      <td>52.386785</td>\n",
       "      <td>4.846802</td>\n",
       "    </tr>\n",
       "    <tr>\n",
       "      <th>1</th>\n",
       "      <td>16-01-2019</td>\n",
       "      <td>07:58</td>\n",
       "      <td>Leiden Centraal</td>\n",
       "      <td>08:36</td>\n",
       "      <td>Leiden Centraal-Amsterdam Sloterdijk</td>\n",
       "      <td>1</td>\n",
       "      <td>52.166404</td>\n",
       "      <td>4.482089</td>\n",
       "    </tr>\n",
       "    <tr>\n",
       "      <th>2</th>\n",
       "      <td>16-01-2019</td>\n",
       "      <td>18:09</td>\n",
       "      <td>Amsterdam Sloterdijk</td>\n",
       "      <td>18:43</td>\n",
       "      <td>Amsterdam Sloterdijk-Leiden Centraal</td>\n",
       "      <td>1</td>\n",
       "      <td>52.386785</td>\n",
       "      <td>4.846802</td>\n",
       "    </tr>\n",
       "    <tr>\n",
       "      <th>3</th>\n",
       "      <td>17-01-2019</td>\n",
       "      <td>08:25</td>\n",
       "      <td>Leiden Centraal</td>\n",
       "      <td>08:27</td>\n",
       "      <td>Leiden Centraal-Leiden Centraal</td>\n",
       "      <td>1</td>\n",
       "      <td>52.166404</td>\n",
       "      <td>4.482089</td>\n",
       "    </tr>\n",
       "    <tr>\n",
       "      <th>4</th>\n",
       "      <td>17-01-2019</td>\n",
       "      <td>08:30</td>\n",
       "      <td>Leiden Centraal</td>\n",
       "      <td>09:14</td>\n",
       "      <td>Leiden Centraal-Amsterdam Sloterdijk</td>\n",
       "      <td>1</td>\n",
       "      <td>52.166404</td>\n",
       "      <td>4.482089</td>\n",
       "    </tr>\n",
       "  </tbody>\n",
       "</table>\n",
       "</div>"
      ],
      "text/plain": [
       "        Datum Check in              Location Check uit  \\\n",
       "0  15-01-2019    17:47  Amsterdam Sloterdijk     18:29   \n",
       "1  16-01-2019    07:58       Leiden Centraal     08:36   \n",
       "2  16-01-2019    18:09  Amsterdam Sloterdijk     18:43   \n",
       "3  17-01-2019    08:25       Leiden Centraal     08:27   \n",
       "4  17-01-2019    08:30       Leiden Centraal     09:14   \n",
       "\n",
       "                                path_id  path_order   Latitude  Longitude  \n",
       "0  Amsterdam Sloterdijk-Leiden Centraal           1  52.386785   4.846802  \n",
       "1  Leiden Centraal-Amsterdam Sloterdijk           1  52.166404   4.482089  \n",
       "2  Amsterdam Sloterdijk-Leiden Centraal           1  52.386785   4.846802  \n",
       "3       Leiden Centraal-Leiden Centraal           1  52.166404   4.482089  \n",
       "4  Leiden Centraal-Amsterdam Sloterdijk           1  52.166404   4.482089  "
      ]
     },
     "execution_count": 16,
     "metadata": {},
     "output_type": "execute_result"
    }
   ],
   "source": [
    "df_out.head()"
   ]
  },
  {
   "cell_type": "markdown",
   "metadata": {},
   "source": [
    "## Export"
   ]
  },
  {
   "cell_type": "code",
   "execution_count": 17,
   "metadata": {},
   "outputs": [],
   "source": [
    "df_out.to_csv(\"data/ns_tableau.csv\", sep=',')"
   ]
  },
  {
   "cell_type": "markdown",
   "metadata": {},
   "source": [
    "# Tableau Dashboard"
   ]
  },
  {
   "cell_type": "code",
   "execution_count": 1,
   "metadata": {},
   "outputs": [
    {
     "data": {
      "text/html": [
       "<div class=\"d-flex justify-content-center\">\n",
       "    <div class='tableauPlaceholder' id='viz1556362972158' style='position: relative'><noscript><a href='#'><img alt=' ' src='https:&#47;&#47;public.tableau.com&#47;static&#47;images&#47;NS&#47;NSVisualizeMijnReisHistorie&#47;NSReisHistorieDashboard&#47;1_rss.png' style='border: none' /></a></noscript><object class='tableauViz'  style='display:none;'><param name='host_url' value='https%3A%2F%2Fpublic.tableau.com%2F' /> <param name='embed_code_version' value='3' /> <param name='site_root' value='' /><param name='name' value='NSVisualizeMijnReisHistorie&#47;NSReisHistorieDashboard' /><param name='tabs' value='no' /><param name='toolbar' value='yes' /><param name='static_image' value='https:&#47;&#47;public.tableau.com&#47;static&#47;images&#47;NS&#47;NSVisualizeMijnReisHistorie&#47;NSReisHistorieDashboard&#47;1.png' /> <param name='animate_transition' value='yes' /><param name='display_static_image' value='yes' /><param name='display_spinner' value='yes' /><param name='display_overlay' value='yes' /><param name='display_count' value='yes' /><param name='filter' value='publish=yes' /></object></div>                <script type='text/javascript'>                    var divElement = document.getElementById('viz1556362972158');                    var vizElement = divElement.getElementsByTagName('object')[0];                    if ( divElement.offsetWidth > 800 ) { vizElement.style.width='100%';vizElement.style.height=(divElement.offsetWidth*0.75)+'px';} else if ( divElement.offsetWidth > 500 ) { vizElement.style.width='100%';vizElement.style.height=(divElement.offsetWidth*0.75)+'px';} else { vizElement.style.width='100%';vizElement.style.height='2027px';}                     var scriptElement = document.createElement('script');                    scriptElement.src = 'https://public.tableau.com/javascripts/api/viz_v1.js';                    vizElement.parentNode.insertBefore(scriptElement, vizElement);                </script>\n",
       "</div>"
      ],
      "text/plain": [
       "<IPython.core.display.HTML object>"
      ]
     },
     "metadata": {},
     "output_type": "display_data"
    }
   ],
   "source": [
    "%%html\n",
    "<div class=\"d-flex justify-content-center\">\n",
    "    <div class='tableauPlaceholder' id='viz1556362972158' style='position: relative'><noscript><a href='#'><img alt=' ' src='https:&#47;&#47;public.tableau.com&#47;static&#47;images&#47;NS&#47;NSVisualizeMijnReisHistorie&#47;NSReisHistorieDashboard&#47;1_rss.png' style='border: none' /></a></noscript><object class='tableauViz'  style='display:none;'><param name='host_url' value='https%3A%2F%2Fpublic.tableau.com%2F' /> <param name='embed_code_version' value='3' /> <param name='site_root' value='' /><param name='name' value='NSVisualizeMijnReisHistorie&#47;NSReisHistorieDashboard' /><param name='tabs' value='no' /><param name='toolbar' value='yes' /><param name='static_image' value='https:&#47;&#47;public.tableau.com&#47;static&#47;images&#47;NS&#47;NSVisualizeMijnReisHistorie&#47;NSReisHistorieDashboard&#47;1.png' /> <param name='animate_transition' value='yes' /><param name='display_static_image' value='yes' /><param name='display_spinner' value='yes' /><param name='display_overlay' value='yes' /><param name='display_count' value='yes' /><param name='filter' value='publish=yes' /></object></div>                <script type='text/javascript'>                    var divElement = document.getElementById('viz1556362972158');                    var vizElement = divElement.getElementsByTagName('object')[0];                    if ( divElement.offsetWidth > 800 ) { vizElement.style.width='100%';vizElement.style.height=(divElement.offsetWidth*0.75)+'px';} else if ( divElement.offsetWidth > 500 ) { vizElement.style.width='100%';vizElement.style.height=(divElement.offsetWidth*0.75)+'px';} else { vizElement.style.width='100%';vizElement.style.height='2027px';}                     var scriptElement = document.createElement('script');                    scriptElement.src = 'https://public.tableau.com/javascripts/api/viz_v1.js';                    vizElement.parentNode.insertBefore(scriptElement, vizElement);                </script>\n",
    "</div>"
   ]
  }
 ],
 "metadata": {
  "kernelspec": {
   "display_name": "Python 3",
   "language": "python",
   "name": "python3"
  },
  "language_info": {
   "codemirror_mode": {
    "name": "ipython",
    "version": 3
   },
   "file_extension": ".py",
   "mimetype": "text/x-python",
   "name": "python",
   "nbconvert_exporter": "python",
   "pygments_lexer": "ipython3",
   "version": "3.6.8"
  }
 },
 "nbformat": 4,
 "nbformat_minor": 2
}
